{
  "cells": [
    {
      "cell_type": "code",
      "execution_count": 21,
      "metadata": {
        "collapsed": false
      },
      "outputs": [],
      "source": [
        "%matplotlib inline"
      ]
    },
    {
      "cell_type": "markdown",
      "metadata": {},
      "source": [
        "\n",
        "`Learn the Basics <intro.html>`_ ||\n",
        "**Quickstart** || \n",
        "`Tensors <tensorqs_tutorial.html>`_ || \n",
        "`Datasets & DataLoaders <data_tutorial.html>`_ ||\n",
        "`Transforms <transforms_tutorial.html>`_ ||\n",
        "`Build Model <buildmodel_tutorial.html>`_ ||\n",
        "`Autograd <autogradqs_tutorial.html>`_ ||\n",
        "`Optimization <optimization_tutorial.html>`_ ||\n",
        "`Save & Load Model <saveloadrun_tutorial.html>`_\n",
        "\n",
        "Quickstart\n",
        "===================\n",
        "This section runs through the API for common tasks in machine learning. Refer to the links in each section to dive deeper.\n",
        "\n",
        "Working with data\n",
        "-----------------\n",
        "PyTorch has two `primitives to work with data <https://pytorch.org/docs/stable/data.html>`_: \n",
        "``torch.utils.data.DataLoader`` and ``torch.utils.data.Dataset``.\n",
        "``Dataset`` stores the samples and their corresponding labels, and ``DataLoader`` wraps an iterable around\n",
        "the ``Dataset``.\n",
        "\n",
        "\n"
      ]
    },
    {
      "cell_type": "code",
      "execution_count": 22,
      "metadata": {
        "collapsed": false
      },
      "outputs": [],
      "source": [
        "import torch\n",
        "from torch import nn\n",
        "from torch.utils.data import DataLoader\n",
        "from torchvision import datasets\n",
        "from torchvision.transforms import ToTensor, Lambda, Compose\n",
        "import matplotlib.pyplot as plt"
      ]
    },
    {
      "cell_type": "markdown",
      "metadata": {},
      "source": [
        "PyTorch offers domain-specific libraries such as `TorchText <https://pytorch.org/text/stable/index.html>`_, \n",
        "`TorchVision <https://pytorch.org/vision/stable/index.html>`_, and `TorchAudio <https://pytorch.org/audio/stable/index.html>`_, \n",
        "all of which include datasets. For this tutorial, we  will be using a TorchVision dataset.\n",
        "\n",
        "The ``torchvision.datasets`` module contains ``Dataset`` objects for many real-world vision data like \n",
        "CIFAR, COCO (`full list here <https://pytorch.org/vision/stable/datasets.html>`_). In this tutorial, we\n",
        "use the FashionMNIST dataset. Every TorchVision ``Dataset`` includes two arguments: ``transform`` and\n",
        "``target_transform`` to modify the samples and labels respectively.\n",
        "\n"
      ]
    },
    {
      "cell_type": "code",
      "execution_count": 23,
      "metadata": {
        "collapsed": false
      },
      "outputs": [],
      "source": [
        "# Download training data from open datasets.\n",
        "training_data = datasets.FashionMNIST(\n",
        "    root=\"data\",\n",
        "    train=True,\n",
        "    download=True,\n",
        "    transform=ToTensor(),\n",
        ")\n",
        "\n",
        "# Download test data from open datasets.\n",
        "test_data = datasets.FashionMNIST(\n",
        "    root=\"data\",\n",
        "    train=False,\n",
        "    download=True,\n",
        "    transform=ToTensor(),\n",
        ")"
      ]
    },
    {
      "cell_type": "markdown",
      "metadata": {},
      "source": [
        "We pass the ``Dataset`` as an argument to ``DataLoader``. This wraps an iterable over our dataset, and supports\n",
        "automatic batching, sampling, shuffling and multiprocess data loading. Here we define a batch size of 64, i.e. each element \n",
        "in the dataloader iterable will return a batch of 64 features and labels.\n",
        "\n"
      ]
    },
    {
      "cell_type": "code",
      "execution_count": 24,
      "metadata": {
        "collapsed": false
      },
      "outputs": [
        {
          "output_type": "stream",
          "name": "stdout",
          "text": [
            "Shape of X [N, C, H, W]:  torch.Size([64, 1, 28, 28])\nShape of y:  torch.Size([64]) torch.int64\n"
          ]
        }
      ],
      "source": [
        "batch_size = 64\n",
        "\n",
        "# Create data loaders.\n",
        "train_dataloader = DataLoader(training_data, batch_size=batch_size)\n",
        "test_dataloader = DataLoader(test_data, batch_size=batch_size)\n",
        "\n",
        "for X, y in test_dataloader:\n",
        "    print(\"Shape of X [N, C, H, W]: \", X.shape)\n",
        "    print(\"Shape of y: \", y.shape, y.dtype)\n",
        "    break"
      ]
    },
    {
      "cell_type": "markdown",
      "metadata": {},
      "source": [
        "Read more about `loading data in PyTorch <data_tutorial.html>`_.\n",
        "\n",
        "\n"
      ]
    },
    {
      "cell_type": "markdown",
      "metadata": {},
      "source": [
        "--------------\n",
        "\n",
        "\n"
      ]
    },
    {
      "cell_type": "markdown",
      "metadata": {},
      "source": [
        "Creating Models\n",
        "------------------\n",
        "To define a neural network in PyTorch, we create a class that inherits \n",
        "from `nn.Module <https://pytorch.org/docs/stable/generated/torch.nn.Module.html>`_. We define the layers of the network\n",
        "in the ``__init__`` function and specify how data will pass through the network in the ``forward`` function. To accelerate \n",
        "operations in the neural network, we move it to the GPU if available.\n",
        "\n"
      ]
    },
    {
      "cell_type": "code",
      "execution_count": 25,
      "metadata": {
        "collapsed": false
      },
      "outputs": [
        {
          "output_type": "stream",
          "name": "stdout",
          "text": [
            "Using cpu device\nNeuralNetwork(\n  (flatten): Flatten(start_dim=1, end_dim=-1)\n  (linear_relu_stack): Sequential(\n    (0): Linear(in_features=784, out_features=512, bias=True)\n    (1): ReLU()\n    (2): Linear(in_features=512, out_features=512, bias=True)\n    (3): ReLU()\n    (4): Linear(in_features=512, out_features=10, bias=True)\n    (5): ReLU()\n  )\n)\n"
          ]
        }
      ],
      "source": [
        "# Get cpu or gpu device for training.\n",
        "device = \"cuda\" if torch.cuda.is_available() else \"cpu\"\n",
        "print(\"Using {} device\".format(device))\n",
        "\n",
        "# Define model\n",
        "class NeuralNetwork(nn.Module):\n",
        "    def __init__(self):\n",
        "        super(NeuralNetwork, self).__init__()\n",
        "        self.flatten = nn.Flatten()\n",
        "        self.linear_relu_stack = nn.Sequential(\n",
        "            nn.Linear(28*28, 512),\n",
        "            nn.ReLU(),\n",
        "            nn.Linear(512, 512),\n",
        "            nn.ReLU(),\n",
        "            nn.Linear(512, 10),\n",
        "            nn.ReLU()\n",
        "        )\n",
        "\n",
        "    def forward(self, x):\n",
        "        x = self.flatten(x)\n",
        "        logits = self.linear_relu_stack(x)\n",
        "        return logits\n",
        "\n",
        "model = NeuralNetwork().to(device)\n",
        "print(model)"
      ]
    },
    {
      "cell_type": "markdown",
      "metadata": {},
      "source": [
        "Read more about `building neural networks in PyTorch <buildmodel_tutorial.html>`_.\n",
        "\n",
        "\n"
      ]
    },
    {
      "cell_type": "markdown",
      "metadata": {},
      "source": [
        "--------------\n",
        "\n",
        "\n"
      ]
    },
    {
      "cell_type": "markdown",
      "metadata": {},
      "source": [
        "Optimizing the Model Parameters\n",
        "----------------------------------------\n",
        "To train a model, we need a `loss function <https://pytorch.org/docs/stable/nn.html#loss-functions>`_\n",
        "and an `optimizer <https://pytorch.org/docs/stable/optim.html>`_. \n",
        "\n"
      ]
    },
    {
      "cell_type": "code",
      "execution_count": 26,
      "metadata": {
        "collapsed": false
      },
      "outputs": [],
      "source": [
        "loss_fn = nn.CrossEntropyLoss()\n",
        "optimizer = torch.optim.SGD(model.parameters(), lr=1e-3)"
      ]
    },
    {
      "cell_type": "markdown",
      "metadata": {},
      "source": [
        "In a single training loop, the model makes predictions on the training dataset (fed to it in batches), and \n",
        "backpropagates the prediction error to adjust the model's parameters. \n",
        "\n"
      ]
    },
    {
      "cell_type": "code",
      "execution_count": 27,
      "metadata": {
        "collapsed": false
      },
      "outputs": [],
      "source": [
        "def train(dataloader, model, loss_fn, optimizer):\n",
        "    size = len(dataloader.dataset)\n",
        "    for batch, (X, y) in enumerate(dataloader):\n",
        "        X, y = X.to(device), y.to(device)\n",
        "        \n",
        "        # Compute prediction error\n",
        "        pred = model(X)\n",
        "        loss = loss_fn(pred, y)\n",
        "        \n",
        "        # Backpropagation\n",
        "        optimizer.zero_grad()\n",
        "        loss.backward()\n",
        "        optimizer.step()\n",
        "\n",
        "        if batch % 100 == 0:\n",
        "            loss, current = loss.item(), batch * len(X)\n",
        "            print(f\"loss: {loss:>7f}  [{current:>5d}/{size:>5d}]\")"
      ]
    },
    {
      "cell_type": "markdown",
      "metadata": {},
      "source": [
        "We also check the model's performance against the test dataset to ensure it is learning.\n",
        "\n"
      ]
    },
    {
      "cell_type": "code",
      "execution_count": 28,
      "metadata": {
        "collapsed": false
      },
      "outputs": [],
      "source": [
        "def test(dataloader, model, loss_fn):\n",
        "    size = len(dataloader.dataset)\n",
        "    num_batches = len(dataloader)\n",
        "    model.eval()\n",
        "    test_loss, correct = 0, 0\n",
        "    with torch.no_grad():\n",
        "        for X, y in dataloader:\n",
        "            X, y = X.to(device), y.to(device)\n",
        "            pred = model(X)\n",
        "            test_loss += loss_fn(pred, y).item()\n",
        "            correct += (pred.argmax(1) == y).type(torch.float).sum().item()\n",
        "    test_loss /= num_batches\n",
        "    correct /= size\n",
        "    print(f\"Test Error: \\n Accuracy: {(100*correct):>0.1f}%, Avg loss: {test_loss:>8f} \\n\")"
      ]
    },
    {
      "cell_type": "markdown",
      "metadata": {},
      "source": [
        "The training process is conducted over several iterations (*epochs*). During each epoch, the model learns \n",
        "parameters to make better predictions. We print the model's accuracy and loss at each epoch; we'd like to see the\n",
        "accuracy increase and the loss decrease with every epoch.\n",
        "\n"
      ]
    },
    {
      "cell_type": "code",
      "execution_count": 29,
      "metadata": {
        "collapsed": false
      },
      "outputs": [
        {
          "output_type": "stream",
          "name": "stdout",
          "text": [
            "Epoch 1\n",
            "-------------------------------\n",
            "loss: 2.297491  [    0/60000]\n",
            "loss: 2.288337  [ 6400/60000]\n",
            "loss: 2.274491  [12800/60000]\n",
            "loss: 2.271051  [19200/60000]\n",
            "loss: 2.260170  [25600/60000]\n",
            "loss: 2.246183  [32000/60000]\n",
            "loss: 2.262744  [38400/60000]\n",
            "loss: 2.241873  [44800/60000]\n",
            "loss: 2.232882  [51200/60000]\n",
            "loss: 2.211608  [57600/60000]\n",
            "Test Error: \n",
            " Accuracy: 42.1%, Avg loss: 2.215117 \n",
            "\n",
            "Epoch 2\n",
            "-------------------------------\n",
            "loss: 2.216174  [    0/60000]\n",
            "loss: 2.197947  [ 6400/60000]\n",
            "loss: 2.165267  [12800/60000]\n",
            "loss: 2.182807  [19200/60000]\n",
            "loss: 2.158374  [25600/60000]\n",
            "loss: 2.133003  [32000/60000]\n",
            "loss: 2.173534  [38400/60000]\n",
            "loss: 2.137769  [44800/60000]\n",
            "loss: 2.133766  [51200/60000]\n",
            "loss: 2.076406  [57600/60000]\n",
            "Test Error: \n",
            " Accuracy: 40.3%, Avg loss: 2.096509 \n",
            "\n",
            "Epoch 3\n",
            "-------------------------------\n",
            "loss: 2.106196  [    0/60000]\n",
            "loss: 2.064567  [ 6400/60000]\n",
            "loss: 2.003188  [12800/60000]\n",
            "loss: 2.047114  [19200/60000]\n",
            "loss: 2.000456  [25600/60000]\n",
            "loss: 1.972348  [32000/60000]\n",
            "loss: 2.037167  [38400/60000]\n",
            "loss: 1.992442  [44800/60000]\n",
            "loss: 1.997618  [51200/60000]\n",
            "loss: 1.889484  [57600/60000]\n",
            "Test Error: \n",
            " Accuracy: 43.0%, Avg loss: 1.936360 \n",
            "\n",
            "Epoch 4\n",
            "-------------------------------\n",
            "loss: 1.961473  [    0/60000]\n",
            "loss: 1.888382  [ 6400/60000]\n",
            "loss: 1.805119  [12800/60000]\n",
            "loss: 1.874035  [19200/60000]\n",
            "loss: 1.823952  [25600/60000]\n",
            "loss: 1.815099  [32000/60000]\n",
            "loss: 1.883692  [38400/60000]\n",
            "loss: 1.857993  [44800/60000]\n",
            "loss: 1.855077  [51200/60000]\n",
            "loss: 1.712418  [57600/60000]\n",
            "Test Error: \n",
            " Accuracy: 45.0%, Avg loss: 1.784271 \n",
            "\n",
            "Epoch 5\n",
            "-------------------------------\n",
            "loss: 1.819656  [    0/60000]\n",
            "loss: 1.728306  [ 6400/60000]\n",
            "loss: 1.633076  [12800/60000]\n",
            "loss: 1.719828  [19200/60000]\n",
            "loss: 1.647872  [25600/60000]\n",
            "loss: 1.675145  [32000/60000]\n",
            "loss: 1.722816  [38400/60000]\n",
            "loss: 1.717666  [44800/60000]\n",
            "loss: 1.679344  [51200/60000]\n",
            "loss: 1.568396  [57600/60000]\n",
            "Test Error: \n",
            " Accuracy: 49.5%, Avg loss: 1.619613 \n",
            "\n",
            "Epoch 6\n",
            "-------------------------------\n",
            "loss: 1.633163  [    0/60000]\n",
            "loss: 1.529968  [ 6400/60000]\n",
            "loss: 1.469891  [12800/60000]\n",
            "loss: 1.611966  [19200/60000]\n",
            "loss: 1.443273  [25600/60000]\n",
            "loss: 1.553484  [32000/60000]\n",
            "loss: 1.602494  [38400/60000]\n",
            "loss: 1.622081  [44800/60000]\n",
            "loss: 1.557262  [51200/60000]\n",
            "loss: 1.472761  [57600/60000]\n",
            "Test Error: \n",
            " Accuracy: 53.5%, Avg loss: 1.513920 \n",
            "\n",
            "Epoch 7\n",
            "-------------------------------\n",
            "loss: 1.509711  [    0/60000]\n",
            "loss: 1.411389  [ 6400/60000]\n",
            "loss: 1.359424  [12800/60000]\n",
            "loss: 1.531298  [19200/60000]\n",
            "loss: 1.336944  [25600/60000]\n",
            "loss: 1.468677  [32000/60000]\n",
            "loss: 1.522078  [38400/60000]\n",
            "loss: 1.557536  [44800/60000]\n",
            "loss: 1.471255  [51200/60000]\n",
            "loss: 1.404446  [57600/60000]\n",
            "Test Error: \n",
            " Accuracy: 55.0%, Avg loss: 1.438149 \n",
            "\n",
            "Epoch 8\n",
            "-------------------------------\n",
            "loss: 1.418817  [    0/60000]\n",
            "loss: 1.331733  [ 6400/60000]\n",
            "loss: 1.277086  [12800/60000]\n",
            "loss: 1.471559  [19200/60000]\n",
            "loss: 1.263862  [25600/60000]\n",
            "loss: 1.398815  [32000/60000]\n",
            "loss: 1.459638  [38400/60000]\n",
            "loss: 1.504092  [44800/60000]\n",
            "loss: 1.400921  [51200/60000]\n",
            "loss: 1.351223  [57600/60000]\n",
            "Test Error: \n",
            " Accuracy: 56.2%, Avg loss: 1.376274 \n",
            "\n",
            "Epoch 9\n",
            "-------------------------------\n",
            "loss: 1.343717  [    0/60000]\n",
            "loss: 1.268856  [ 6400/60000]\n",
            "loss: 1.208488  [12800/60000]\n",
            "loss: 1.422621  [19200/60000]\n",
            "loss: 1.206688  [25600/60000]\n",
            "loss: 1.338706  [32000/60000]\n",
            "loss: 1.408434  [38400/60000]\n",
            "loss: 1.457512  [44800/60000]\n",
            "loss: 1.340428  [51200/60000]\n",
            "loss: 1.308697  [57600/60000]\n",
            "Test Error: \n",
            " Accuracy: 57.2%, Avg loss: 1.323157 \n",
            "\n",
            "Epoch 10\n",
            "-------------------------------\n",
            "loss: 1.279344  [    0/60000]\n",
            "loss: 1.215623  [ 6400/60000]\n",
            "loss: 1.149662  [12800/60000]\n",
            "loss: 1.381156  [19200/60000]\n",
            "loss: 1.160602  [25600/60000]\n",
            "loss: 1.288519  [32000/60000]\n",
            "loss: 1.365692  [38400/60000]\n",
            "loss: 1.414289  [44800/60000]\n",
            "loss: 1.289273  [51200/60000]\n",
            "loss: 1.274530  [57600/60000]\n",
            "Test Error: \n",
            " Accuracy: 58.3%, Avg loss: 1.277744 \n",
            "\n",
            "Epoch 11\n",
            "-------------------------------\n",
            "loss: 1.223998  [    0/60000]\n",
            "loss: 1.169701  [ 6400/60000]\n",
            "loss: 1.098812  [12800/60000]\n",
            "loss: 1.345931  [19200/60000]\n",
            "loss: 1.123072  [25600/60000]\n",
            "loss: 1.248289  [32000/60000]\n",
            "loss: 1.330297  [38400/60000]\n",
            "loss: 1.378596  [44800/60000]\n",
            "loss: 1.246225  [51200/60000]\n",
            "loss: 1.246061  [57600/60000]\n",
            "Test Error: \n",
            " Accuracy: 59.2%, Avg loss: 1.239158 \n",
            "\n",
            "Epoch 12\n",
            "-------------------------------\n",
            "loss: 1.177409  [    0/60000]\n",
            "loss: 1.129684  [ 6400/60000]\n",
            "loss: 1.054734  [12800/60000]\n",
            "loss: 1.315896  [19200/60000]\n",
            "loss: 1.092325  [25600/60000]\n",
            "loss: 1.216782  [32000/60000]\n",
            "loss: 1.301026  [38400/60000]\n",
            "loss: 1.349611  [44800/60000]\n",
            "loss: 1.210365  [51200/60000]\n",
            "loss: 1.222736  [57600/60000]\n",
            "Test Error: \n",
            " Accuracy: 60.1%, Avg loss: 1.206835 \n",
            "\n",
            "Epoch 13\n",
            "-------------------------------\n",
            "loss: 1.137359  [    0/60000]\n",
            "loss: 1.094748  [ 6400/60000]\n",
            "loss: 1.016777  [12800/60000]\n",
            "loss: 1.290208  [19200/60000]\n",
            "loss: 1.066560  [25600/60000]\n",
            "loss: 1.191196  [32000/60000]\n",
            "loss: 1.275635  [38400/60000]\n",
            "loss: 1.326083  [44800/60000]\n",
            "loss: 1.180311  [51200/60000]\n",
            "loss: 1.202010  [57600/60000]\n",
            "Test Error: \n",
            " Accuracy: 60.7%, Avg loss: 1.179169 \n",
            "\n",
            "Epoch 14\n",
            "-------------------------------\n",
            "loss: 1.101089  [    0/60000]\n",
            "loss: 1.064192  [ 6400/60000]\n",
            "loss: 0.983894  [12800/60000]\n",
            "loss: 1.267355  [19200/60000]\n",
            "loss: 1.044267  [25600/60000]\n",
            "loss: 1.169434  [32000/60000]\n",
            "loss: 1.253077  [38400/60000]\n",
            "loss: 1.307379  [44800/60000]\n",
            "loss: 1.154514  [51200/60000]\n",
            "loss: 1.183257  [57600/60000]\n",
            "Test Error: \n",
            " Accuracy: 61.3%, Avg loss: 1.155131 \n",
            "\n",
            "Epoch 15\n",
            "-------------------------------\n",
            "loss: 1.067990  [    0/60000]\n",
            "loss: 1.036986  [ 6400/60000]\n",
            "loss: 0.954856  [12800/60000]\n",
            "loss: 1.247714  [19200/60000]\n",
            "loss: 1.024847  [25600/60000]\n",
            "loss: 1.151895  [32000/60000]\n",
            "loss: 1.233033  [38400/60000]\n",
            "loss: 1.292891  [44800/60000]\n",
            "loss: 1.132606  [51200/60000]\n",
            "loss: 1.166097  [57600/60000]\n",
            "Test Error: \n",
            " Accuracy: 62.1%, Avg loss: 1.133900 \n",
            "\n",
            "Epoch 16\n",
            "-------------------------------\n",
            "loss: 1.038127  [    0/60000]\n",
            "loss: 1.013005  [ 6400/60000]\n",
            "loss: 0.929047  [12800/60000]\n",
            "loss: 1.230345  [19200/60000]\n",
            "loss: 1.007786  [25600/60000]\n",
            "loss: 1.137056  [32000/60000]\n",
            "loss: 1.214543  [38400/60000]\n",
            "loss: 1.281703  [44800/60000]\n",
            "loss: 1.113538  [51200/60000]\n",
            "loss: 1.150234  [57600/60000]\n",
            "Test Error: \n",
            " Accuracy: 62.6%, Avg loss: 1.114980 \n",
            "\n",
            "Epoch 17\n",
            "-------------------------------\n",
            "loss: 1.011139  [    0/60000]\n",
            "loss: 0.991131  [ 6400/60000]\n",
            "loss: 0.906103  [12800/60000]\n",
            "loss: 1.215143  [19200/60000]\n",
            "loss: 0.993351  [25600/60000]\n",
            "loss: 1.124267  [32000/60000]\n",
            "loss: 1.197523  [38400/60000]\n",
            "loss: 1.272675  [44800/60000]\n",
            "loss: 1.097281  [51200/60000]\n",
            "loss: 1.135431  [57600/60000]\n",
            "Test Error: \n",
            " Accuracy: 63.1%, Avg loss: 1.097998 \n",
            "\n",
            "Epoch 18\n",
            "-------------------------------\n",
            "loss: 0.986404  [    0/60000]\n",
            "loss: 0.971446  [ 6400/60000]\n",
            "loss: 0.885400  [12800/60000]\n",
            "loss: 1.201442  [19200/60000]\n",
            "loss: 0.980803  [25600/60000]\n",
            "loss: 1.113382  [32000/60000]\n",
            "loss: 1.181584  [38400/60000]\n",
            "loss: 1.265300  [44800/60000]\n",
            "loss: 1.083219  [51200/60000]\n",
            "loss: 1.121786  [57600/60000]\n",
            "Test Error: \n",
            " Accuracy: 63.5%, Avg loss: 1.082681 \n",
            "\n",
            "Epoch 19\n",
            "-------------------------------\n",
            "loss: 0.963934  [    0/60000]\n",
            "loss: 0.953497  [ 6400/60000]\n",
            "loss: 0.866688  [12800/60000]\n",
            "loss: 1.188870  [19200/60000]\n",
            "loss: 0.969449  [25600/60000]\n",
            "loss: 1.104123  [32000/60000]\n",
            "loss: 1.166349  [38400/60000]\n",
            "loss: 1.259355  [44800/60000]\n",
            "loss: 1.071026  [51200/60000]\n",
            "loss: 1.109453  [57600/60000]\n",
            "Test Error: \n",
            " Accuracy: 63.9%, Avg loss: 1.068809 \n",
            "\n",
            "Epoch 20\n",
            "-------------------------------\n",
            "loss: 0.943668  [    0/60000]\n",
            "loss: 0.937217  [ 6400/60000]\n",
            "loss: 0.849607  [12800/60000]\n",
            "loss: 1.177368  [19200/60000]\n",
            "loss: 0.959652  [25600/60000]\n",
            "loss: 1.096126  [32000/60000]\n",
            "loss: 1.152100  [38400/60000]\n",
            "loss: 1.252418  [44800/60000]\n",
            "loss: 1.060598  [51200/60000]\n",
            "loss: 1.097619  [57600/60000]\n",
            "Test Error: \n",
            " Accuracy: 64.2%, Avg loss: 1.056210 \n",
            "\n",
            "Done!\n"
          ]
        }
      ],
      "source": [
        "epochs = 20\n",
        "for t in range(epochs):\n",
        "    print(f\"Epoch {t+1}\\n-------------------------------\")\n",
        "    train(train_dataloader, model, loss_fn, optimizer)\n",
        "    test(test_dataloader, model, loss_fn)\n",
        "print(\"Done!\")"
      ]
    },
    {
      "cell_type": "markdown",
      "metadata": {},
      "source": [
        "Read more about `Training your model <optimization_tutorial.html>`_.\n",
        "\n",
        "\n"
      ]
    },
    {
      "cell_type": "markdown",
      "metadata": {},
      "source": [
        "--------------\n",
        "\n",
        "\n"
      ]
    },
    {
      "cell_type": "markdown",
      "metadata": {},
      "source": [
        "Saving Models\n",
        "-------------\n",
        "A common way to save a model is to serialize the internal state dictionary (containing the model parameters).\n",
        "\n"
      ]
    },
    {
      "cell_type": "code",
      "execution_count": 30,
      "metadata": {
        "collapsed": false
      },
      "outputs": [
        {
          "output_type": "stream",
          "name": "stdout",
          "text": [
            "Saved PyTorch Model State to model.pth\n"
          ]
        }
      ],
      "source": [
        "torch.save(model.state_dict(), \"model.pth\")\n",
        "print(\"Saved PyTorch Model State to model.pth\")"
      ]
    },
    {
      "cell_type": "markdown",
      "metadata": {},
      "source": [
        "Loading Models\n",
        "----------------------------\n",
        "\n",
        "The process for loading a model includes re-creating the model structure and loading\n",
        "the state dictionary into it. \n",
        "\n"
      ]
    },
    {
      "cell_type": "code",
      "execution_count": 31,
      "metadata": {
        "collapsed": false
      },
      "outputs": [
        {
          "output_type": "execute_result",
          "data": {
            "text/plain": [
              "<All keys matched successfully>"
            ]
          },
          "metadata": {},
          "execution_count": 31
        }
      ],
      "source": [
        "model = NeuralNetwork()\n",
        "model.load_state_dict(torch.load(\"model.pth\"))"
      ]
    },
    {
      "cell_type": "markdown",
      "metadata": {},
      "source": [
        "This model can now be used to make predictions.\n",
        "\n"
      ]
    },
    {
      "cell_type": "code",
      "execution_count": 32,
      "metadata": {
        "collapsed": false
      },
      "outputs": [
        {
          "output_type": "stream",
          "name": "stdout",
          "text": [
            "Predicted: \"Ankle boot\", Actual: \"Ankle boot\"\n"
          ]
        }
      ],
      "source": [
        "classes = [\n",
        "    \"T-shirt/top\",\n",
        "    \"Trouser\",\n",
        "    \"Pullover\",\n",
        "    \"Dress\",\n",
        "    \"Coat\",\n",
        "    \"Sandal\",\n",
        "    \"Shirt\",\n",
        "    \"Sneaker\",\n",
        "    \"Bag\",\n",
        "    \"Ankle boot\",\n",
        "]\n",
        "\n",
        "model.eval()\n",
        "x, y = test_data[0][0], test_data[0][1]\n",
        "with torch.no_grad():\n",
        "    pred = model(x)\n",
        "    predicted, actual = classes[pred[0].argmax(0)], classes[y]\n",
        "    print(f'Predicted: \"{predicted}\", Actual: \"{actual}\"')"
      ]
    },
    {
      "cell_type": "markdown",
      "metadata": {},
      "source": [
        "Read more about `Saving & Loading your model <saveloadrun_tutorial.html>`_.\n",
        "\n",
        "\n"
      ]
    },
    {
      "cell_type": "code",
      "execution_count": null,
      "metadata": {},
      "outputs": [],
      "source": []
    }
  ],
  "metadata": {
    "kernelspec": {
      "name": "python3",
      "display_name": "Python 3.8.10 64-bit ('AutoGluon': conda)"
    },
    "language_info": {
      "codemirror_mode": {
        "name": "ipython",
        "version": 3
      },
      "file_extension": ".py",
      "mimetype": "text/x-python",
      "name": "python",
      "nbconvert_exporter": "python",
      "pygments_lexer": "ipython3",
      "version": "3.8.10"
    },
    "interpreter": {
      "hash": "58217fe61dee900240bd4dd377e902ebdf1d2fda5a50143d5c5e32a5cbd9983d"
    }
  },
  "nbformat": 4,
  "nbformat_minor": 0
}