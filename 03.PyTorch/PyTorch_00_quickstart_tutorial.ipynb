{
  "cells": [
    {
      "cell_type": "code",
      "execution_count": 2,
      "metadata": {
        "collapsed": false
      },
      "outputs": [],
      "source": [
        "%matplotlib inline"
      ]
    },
    {
      "cell_type": "markdown",
      "metadata": {},
      "source": [
        "\n",
        "`Learn the Basics <intro.html>`_ ||\n",
        "**Quickstart** || \n",
        "`Tensors <tensorqs_tutorial.html>`_ || \n",
        "`Datasets & DataLoaders <data_tutorial.html>`_ ||\n",
        "`Transforms <transforms_tutorial.html>`_ ||\n",
        "`Build Model <buildmodel_tutorial.html>`_ ||\n",
        "`Autograd <autogradqs_tutorial.html>`_ ||\n",
        "`Optimization <optimization_tutorial.html>`_ ||\n",
        "`Save & Load Model <saveloadrun_tutorial.html>`_\n",
        "\n",
        "Quickstart\n",
        "===================\n",
        "This section runs through the API for common tasks in machine learning. Refer to the links in each section to dive deeper.\n",
        "\n",
        "Working with data\n",
        "-----------------\n",
        "PyTorch has two `primitives to work with data <https://pytorch.org/docs/stable/data.html>`_: \n",
        "``torch.utils.data.DataLoader`` and ``torch.utils.data.Dataset``.\n",
        "``Dataset`` stores the samples and their corresponding labels, and ``DataLoader`` wraps an iterable around\n",
        "the ``Dataset``.\n",
        "\n",
        "\n"
      ]
    },
    {
      "cell_type": "code",
      "execution_count": 3,
      "metadata": {
        "collapsed": false
      },
      "outputs": [],
      "source": [
        "import torch\n",
        "from torch import nn\n",
        "from torch.utils.data import DataLoader\n",
        "from torchvision import datasets\n",
        "from torchvision.transforms import ToTensor, Lambda, Compose\n",
        "import matplotlib.pyplot as plt"
      ]
    },
    {
      "cell_type": "markdown",
      "metadata": {},
      "source": [
        "PyTorch offers domain-specific libraries such as `TorchText <https://pytorch.org/text/stable/index.html>`_, \n",
        "`TorchVision <https://pytorch.org/vision/stable/index.html>`_, and `TorchAudio <https://pytorch.org/audio/stable/index.html>`_, \n",
        "all of which include datasets. For this tutorial, we  will be using a TorchVision dataset.\n",
        "\n",
        "The ``torchvision.datasets`` module contains ``Dataset`` objects for many real-world vision data like \n",
        "CIFAR, COCO (`full list here <https://pytorch.org/vision/stable/datasets.html>`_). In this tutorial, we\n",
        "use the FashionMNIST dataset. Every TorchVision ``Dataset`` includes two arguments: ``transform`` and\n",
        "``target_transform`` to modify the samples and labels respectively.\n",
        "\n"
      ]
    },
    {
      "cell_type": "code",
      "execution_count": 4,
      "metadata": {
        "collapsed": false
      },
      "outputs": [],
      "source": [
        "# Download training data from open datasets.\n",
        "training_data = datasets.FashionMNIST(\n",
        "    root=\"data\",\n",
        "    train=True,\n",
        "    download=True,\n",
        "    transform=ToTensor(),\n",
        ")\n",
        "\n",
        "# Download test data from open datasets.\n",
        "test_data = datasets.FashionMNIST(\n",
        "    root=\"data\",\n",
        "    train=False,\n",
        "    download=True,\n",
        "    transform=ToTensor(),\n",
        ")"
      ]
    },
    {
      "cell_type": "markdown",
      "metadata": {},
      "source": [
        "We pass the ``Dataset`` as an argument to ``DataLoader``. This wraps an iterable over our dataset, and supports\n",
        "automatic batching, sampling, shuffling and multiprocess data loading. Here we define a batch size of 64, i.e. each element \n",
        "in the dataloader iterable will return a batch of 64 features and labels.\n",
        "\n"
      ]
    },
    {
      "cell_type": "code",
      "execution_count": 5,
      "metadata": {
        "collapsed": false
      },
      "outputs": [
        {
          "name": "stdout",
          "output_type": "stream",
          "text": [
            "Shape of X [N, C, H, W]:  torch.Size([64, 1, 28, 28])\n",
            "Shape of y:  torch.Size([64]) torch.int64\n"
          ]
        }
      ],
      "source": [
        "batch_size = 64\n",
        "\n",
        "# Create data loaders.\n",
        "train_dataloader = DataLoader(training_data, batch_size=batch_size)\n",
        "test_dataloader = DataLoader(test_data, batch_size=batch_size)\n",
        "\n",
        "for X, y in test_dataloader:\n",
        "    print(\"Shape of X [N, C, H, W]: \", X.shape)\n",
        "    print(\"Shape of y: \", y.shape, y.dtype)\n",
        "    break"
      ]
    },
    {
      "cell_type": "markdown",
      "metadata": {},
      "source": [
        "Read more about `loading data in PyTorch <data_tutorial.html>`_.\n",
        "\n",
        "\n"
      ]
    },
    {
      "cell_type": "markdown",
      "metadata": {},
      "source": [
        "--------------\n",
        "\n",
        "\n"
      ]
    },
    {
      "cell_type": "markdown",
      "metadata": {},
      "source": [
        "Creating Models\n",
        "------------------\n",
        "To define a neural network in PyTorch, we create a class that inherits \n",
        "from `nn.Module <https://pytorch.org/docs/stable/generated/torch.nn.Module.html>`_. We define the layers of the network\n",
        "in the ``__init__`` function and specify how data will pass through the network in the ``forward`` function. To accelerate \n",
        "operations in the neural network, we move it to the GPU if available.\n",
        "\n"
      ]
    },
    {
      "cell_type": "code",
      "execution_count": 7,
      "metadata": {
        "collapsed": false
      },
      "outputs": [
        {
          "name": "stdout",
          "output_type": "stream",
          "text": [
            "Using cpu device\n",
            "NeuralNetwork(\n",
            "  (flatten): Flatten(start_dim=1, end_dim=-1)\n",
            "  (linear_relu_stack): Sequential(\n",
            "    (0): Linear(in_features=784, out_features=512, bias=True)\n",
            "    (1): ReLU()\n",
            "    (2): Linear(in_features=512, out_features=512, bias=True)\n",
            "    (3): ReLU()\n",
            "    (4): Linear(in_features=512, out_features=10, bias=True)\n",
            "    (5): ReLU()\n",
            "  )\n",
            ")\n"
          ]
        }
      ],
      "source": [
        "# Get cpu or gpu device for training.\n",
        "device = \"cuda\" if torch.cuda.is_available() else \"cpu\"\n",
        "print(\"Using {} device\".format(device))\n",
        "\n",
        "# Define model\n",
        "class NeuralNetwork(nn.Module):\n",
        "    def __init__(self):\n",
        "        super(NeuralNetwork, self).__init__()\n",
        "        self.flatten = nn.Flatten()\n",
        "        self.linear_relu_stack = nn.Sequential(\n",
        "            nn.Linear(28*28, 512),\n",
        "            nn.ReLU(),\n",
        "            nn.Linear(512, 512),\n",
        "            nn.ReLU(),\n",
        "            nn.Linear(512, 10),\n",
        "            nn.ReLU()\n",
        "        )\n",
        "\n",
        "    def forward(self, x):\n",
        "        x = self.flatten(x)\n",
        "        logits = self.linear_relu_stack(x)\n",
        "        return logits\n",
        "\n",
        "model = NeuralNetwork().to(device)\n",
        "print(model)"
      ]
    },
    {
      "cell_type": "markdown",
      "metadata": {},
      "source": [
        "Read more about `building neural networks in PyTorch <buildmodel_tutorial.html>`_.\n",
        "\n",
        "\n"
      ]
    },
    {
      "cell_type": "markdown",
      "metadata": {},
      "source": [
        "--------------\n",
        "\n",
        "\n"
      ]
    },
    {
      "cell_type": "markdown",
      "metadata": {},
      "source": [
        "Optimizing the Model Parameters\n",
        "----------------------------------------\n",
        "To train a model, we need a `loss function <https://pytorch.org/docs/stable/nn.html#loss-functions>`_\n",
        "and an `optimizer <https://pytorch.org/docs/stable/optim.html>`_. \n",
        "\n"
      ]
    },
    {
      "cell_type": "code",
      "execution_count": 8,
      "metadata": {
        "collapsed": false
      },
      "outputs": [],
      "source": [
        "loss_fn = nn.CrossEntropyLoss()\n",
        "optimizer = torch.optim.SGD(model.parameters(), lr=1e-3)"
      ]
    },
    {
      "cell_type": "markdown",
      "metadata": {},
      "source": [
        "In a single training loop, the model makes predictions on the training dataset (fed to it in batches), and \n",
        "backpropagates the prediction error to adjust the model's parameters. \n",
        "\n"
      ]
    },
    {
      "cell_type": "code",
      "execution_count": 9,
      "metadata": {
        "collapsed": false
      },
      "outputs": [],
      "source": [
        "def train(dataloader, model, loss_fn, optimizer):\n",
        "    size = len(dataloader.dataset)\n",
        "    for batch, (X, y) in enumerate(dataloader):\n",
        "        X, y = X.to(device), y.to(device)\n",
        "        \n",
        "        # Compute prediction error\n",
        "        pred = model(X)\n",
        "        loss = loss_fn(pred, y)\n",
        "        \n",
        "        # Backpropagation\n",
        "        optimizer.zero_grad()\n",
        "        loss.backward()\n",
        "        optimizer.step()\n",
        "\n",
        "        if batch % 100 == 0:\n",
        "            loss, current = loss.item(), batch * len(X)\n",
        "            print(f\"loss: {loss:>7f}  [{current:>5d}/{size:>5d}]\")"
      ]
    },
    {
      "cell_type": "markdown",
      "metadata": {},
      "source": [
        "We also check the model's performance against the test dataset to ensure it is learning.\n",
        "\n"
      ]
    },
    {
      "cell_type": "code",
      "execution_count": 10,
      "metadata": {
        "collapsed": false
      },
      "outputs": [],
      "source": [
        "def test(dataloader, model, loss_fn):\n",
        "    size = len(dataloader.dataset)\n",
        "    num_batches = len(dataloader)\n",
        "    model.eval()\n",
        "    test_loss, correct = 0, 0\n",
        "    with torch.no_grad():\n",
        "        for X, y in dataloader:\n",
        "            X, y = X.to(device), y.to(device)\n",
        "            pred = model(X)\n",
        "            test_loss += loss_fn(pred, y).item()\n",
        "            correct += (pred.argmax(1) == y).type(torch.float).sum().item()\n",
        "    test_loss /= num_batches\n",
        "    correct /= size\n",
        "    print(f\"Test Error: \\n Accuracy: {(100*correct):>0.1f}%, Avg loss: {test_loss:>8f} \\n\")"
      ]
    },
    {
      "cell_type": "markdown",
      "metadata": {},
      "source": [
        "The training process is conducted over several iterations (*epochs*). During each epoch, the model learns \n",
        "parameters to make better predictions. We print the model's accuracy and loss at each epoch; we'd like to see the\n",
        "accuracy increase and the loss decrease with every epoch.\n",
        "\n"
      ]
    },
    {
      "cell_type": "code",
      "execution_count": 11,
      "metadata": {
        "collapsed": false
      },
      "outputs": [
        {
          "name": "stdout",
          "output_type": "stream",
          "text": [
            "Epoch 1\n",
            "-------------------------------\n",
            "loss: 2.303934  [    0/60000]\n",
            "loss: 2.296119  [ 6400/60000]\n",
            "loss: 2.282091  [12800/60000]\n",
            "loss: 2.286049  [19200/60000]\n",
            "loss: 2.272480  [25600/60000]\n",
            "loss: 2.256094  [32000/60000]\n",
            "loss: 2.250302  [38400/60000]\n",
            "loss: 2.230666  [44800/60000]\n",
            "loss: 2.231267  [51200/60000]\n",
            "loss: 2.244231  [57600/60000]\n",
            "Test Error: \n",
            " Accuracy: 50.1%, Avg loss: 2.223617 \n",
            "\n",
            "Epoch 2\n",
            "-------------------------------\n",
            "loss: 2.208786  [    0/60000]\n",
            "loss: 2.205403  [ 6400/60000]\n",
            "loss: 2.180981  [12800/60000]\n",
            "loss: 2.220574  [19200/60000]\n",
            "loss: 2.168600  [25600/60000]\n",
            "loss: 2.147191  [32000/60000]\n",
            "loss: 2.148641  [38400/60000]\n",
            "loss: 2.097916  [44800/60000]\n",
            "loss: 2.107689  [51200/60000]\n",
            "loss: 2.122206  [57600/60000]\n",
            "Test Error: \n",
            " Accuracy: 51.1%, Avg loss: 2.090250 \n",
            "\n",
            "Epoch 3\n",
            "-------------------------------\n",
            "loss: 2.068896  [    0/60000]\n",
            "loss: 2.059823  [ 6400/60000]\n",
            "loss: 2.008128  [12800/60000]\n",
            "loss: 2.090353  [19200/60000]\n",
            "loss: 1.986236  [25600/60000]\n",
            "loss: 1.913380  [32000/60000]\n",
            "loss: 1.989128  [38400/60000]\n",
            "loss: 1.880751  [44800/60000]\n",
            "loss: 1.909423  [51200/60000]\n",
            "loss: 1.918225  [57600/60000]\n",
            "Test Error: \n",
            " Accuracy: 53.0%, Avg loss: 1.886571 \n",
            "\n",
            "Epoch 4\n",
            "-------------------------------\n",
            "loss: 1.867572  [    0/60000]\n",
            "loss: 1.847106  [ 6400/60000]\n",
            "loss: 1.774779  [12800/60000]\n",
            "loss: 1.910379  [19200/60000]\n",
            "loss: 1.756203  [25600/60000]\n",
            "loss: 1.656072  [32000/60000]\n",
            "loss: 1.785315  [38400/60000]\n",
            "loss: 1.650745  [44800/60000]\n",
            "loss: 1.697841  [51200/60000]\n",
            "loss: 1.702467  [57600/60000]\n",
            "Test Error: \n",
            " Accuracy: 55.1%, Avg loss: 1.685033 \n",
            "\n",
            "Epoch 5\n",
            "-------------------------------\n",
            "loss: 1.665978  [    0/60000]\n",
            "loss: 1.647269  [ 6400/60000]\n",
            "loss: 1.574613  [12800/60000]\n",
            "loss: 1.743873  [19200/60000]\n",
            "loss: 1.563388  [25600/60000]\n",
            "loss: 1.461988  [32000/60000]\n",
            "loss: 1.606456  [38400/60000]\n",
            "loss: 1.486891  [44800/60000]\n",
            "loss: 1.532349  [51200/60000]\n",
            "loss: 1.537929  [57600/60000]\n",
            "Test Error: \n",
            " Accuracy: 56.0%, Avg loss: 1.532649 \n",
            "\n",
            "Epoch 6\n",
            "-------------------------------\n",
            "loss: 1.508898  [    0/60000]\n",
            "loss: 1.501073  [ 6400/60000]\n",
            "loss: 1.430741  [12800/60000]\n",
            "loss: 1.619629  [19200/60000]\n",
            "loss: 1.420788  [25600/60000]\n",
            "loss: 1.328773  [32000/60000]\n",
            "loss: 1.478377  [38400/60000]\n",
            "loss: 1.380031  [44800/60000]\n",
            "loss: 1.417665  [51200/60000]\n",
            "loss: 1.427959  [57600/60000]\n",
            "Test Error: \n",
            " Accuracy: 56.7%, Avg loss: 1.424546 \n",
            "\n",
            "Epoch 7\n",
            "-------------------------------\n",
            "loss: 1.396144  [    0/60000]\n",
            "loss: 1.399829  [ 6400/60000]\n",
            "loss: 1.327745  [12800/60000]\n",
            "loss: 1.531387  [19200/60000]\n",
            "loss: 1.322494  [25600/60000]\n",
            "loss: 1.236166  [32000/60000]\n",
            "loss: 1.390175  [38400/60000]\n",
            "loss: 1.308695  [44800/60000]\n",
            "loss: 1.336431  [51200/60000]\n",
            "loss: 1.353900  [57600/60000]\n",
            "Test Error: \n",
            " Accuracy: 57.6%, Avg loss: 1.347044 \n",
            "\n",
            "Epoch 8\n",
            "-------------------------------\n",
            "loss: 1.313892  [    0/60000]\n",
            "loss: 1.328235  [ 6400/60000]\n",
            "loss: 1.251907  [12800/60000]\n",
            "loss: 1.468175  [19200/60000]\n",
            "loss: 1.255423  [25600/60000]\n",
            "loss: 1.169859  [32000/60000]\n",
            "loss: 1.328909  [38400/60000]\n",
            "loss: 1.257610  [44800/60000]\n",
            "loss: 1.277456  [51200/60000]\n",
            "loss: 1.305113  [57600/60000]\n",
            "Test Error: \n",
            " Accuracy: 58.8%, Avg loss: 1.291253 \n",
            "\n",
            "Epoch 9\n",
            "-------------------------------\n",
            "loss: 1.251616  [    0/60000]\n",
            "loss: 1.277001  [ 6400/60000]\n",
            "loss: 1.193852  [12800/60000]\n",
            "loss: 1.422118  [19200/60000]\n",
            "loss: 1.208206  [25600/60000]\n",
            "loss: 1.119997  [32000/60000]\n",
            "loss: 1.284318  [38400/60000]\n",
            "loss: 1.220114  [44800/60000]\n",
            "loss: 1.231740  [51200/60000]\n",
            "loss: 1.270471  [57600/60000]\n",
            "Test Error: \n",
            " Accuracy: 59.9%, Avg loss: 1.249036 \n",
            "\n",
            "Epoch 10\n",
            "-------------------------------\n",
            "loss: 1.201916  [    0/60000]\n",
            "loss: 1.239082  [ 6400/60000]\n",
            "loss: 1.147003  [12800/60000]\n",
            "loss: 1.386431  [19200/60000]\n",
            "loss: 1.172404  [25600/60000]\n",
            "loss: 1.081056  [32000/60000]\n",
            "loss: 1.249428  [38400/60000]\n",
            "loss: 1.188852  [44800/60000]\n",
            "loss: 1.193994  [51200/60000]\n",
            "loss: 1.244957  [57600/60000]\n",
            "Test Error: \n",
            " Accuracy: 60.8%, Avg loss: 1.215097 \n",
            "\n",
            "Epoch 11\n",
            "-------------------------------\n",
            "loss: 1.159789  [    0/60000]\n",
            "loss: 1.207220  [ 6400/60000]\n",
            "loss: 1.107539  [12800/60000]\n",
            "loss: 1.356407  [19200/60000]\n",
            "loss: 1.143900  [25600/60000]\n",
            "loss: 1.049708  [32000/60000]\n",
            "loss: 1.220463  [38400/60000]\n",
            "loss: 1.162923  [44800/60000]\n",
            "loss: 1.161366  [51200/60000]\n",
            "loss: 1.224340  [57600/60000]\n",
            "Test Error: \n",
            " Accuracy: 61.8%, Avg loss: 1.186576 \n",
            "\n",
            "Epoch 12\n",
            "-------------------------------\n",
            "loss: 1.122510  [    0/60000]\n",
            "loss: 1.179881  [ 6400/60000]\n",
            "loss: 1.073206  [12800/60000]\n",
            "loss: 1.330795  [19200/60000]\n",
            "loss: 1.119622  [25600/60000]\n",
            "loss: 1.023720  [32000/60000]\n",
            "loss: 1.195441  [38400/60000]\n",
            "loss: 1.141227  [44800/60000]\n",
            "loss: 1.132673  [51200/60000]\n",
            "loss: 1.207368  [57600/60000]\n",
            "Test Error: \n",
            " Accuracy: 62.8%, Avg loss: 1.161963 \n",
            "\n",
            "Epoch 13\n",
            "-------------------------------\n",
            "loss: 1.089039  [    0/60000]\n",
            "loss: 1.156215  [ 6400/60000]\n",
            "loss: 1.043219  [12800/60000]\n",
            "loss: 1.308929  [19200/60000]\n",
            "loss: 1.098588  [25600/60000]\n",
            "loss: 1.002034  [32000/60000]\n",
            "loss: 1.173907  [38400/60000]\n",
            "loss: 1.122766  [44800/60000]\n",
            "loss: 1.106920  [51200/60000]\n",
            "loss: 1.192944  [57600/60000]\n",
            "Test Error: \n",
            " Accuracy: 63.7%, Avg loss: 1.140493 \n",
            "\n",
            "Epoch 14\n",
            "-------------------------------\n",
            "loss: 1.058765  [    0/60000]\n",
            "loss: 1.134800  [ 6400/60000]\n",
            "loss: 1.016548  [12800/60000]\n",
            "loss: 1.289509  [19200/60000]\n",
            "loss: 1.079777  [25600/60000]\n",
            "loss: 0.983358  [32000/60000]\n",
            "loss: 1.155602  [38400/60000]\n",
            "loss: 1.107246  [44800/60000]\n",
            "loss: 1.084123  [51200/60000]\n",
            "loss: 1.180613  [57600/60000]\n",
            "Test Error: \n",
            " Accuracy: 64.4%, Avg loss: 1.121477 \n",
            "\n",
            "Epoch 15\n",
            "-------------------------------\n",
            "loss: 1.031916  [    0/60000]\n",
            "loss: 1.114988  [ 6400/60000]\n",
            "loss: 0.992886  [12800/60000]\n",
            "loss: 1.272421  [19200/60000]\n",
            "loss: 1.062978  [25600/60000]\n",
            "loss: 0.967301  [32000/60000]\n",
            "loss: 1.139269  [38400/60000]\n",
            "loss: 1.094190  [44800/60000]\n",
            "loss: 1.063918  [51200/60000]\n",
            "loss: 1.169420  [57600/60000]\n",
            "Test Error: \n",
            " Accuracy: 65.1%, Avg loss: 1.104408 \n",
            "\n",
            "Epoch 16\n",
            "-------------------------------\n",
            "loss: 1.007975  [    0/60000]\n",
            "loss: 1.096375  [ 6400/60000]\n",
            "loss: 0.971904  [12800/60000]\n",
            "loss: 1.256914  [19200/60000]\n",
            "loss: 1.047879  [25600/60000]\n",
            "loss: 0.952391  [32000/60000]\n",
            "loss: 1.124767  [38400/60000]\n",
            "loss: 1.083204  [44800/60000]\n",
            "loss: 1.045639  [51200/60000]\n",
            "loss: 1.159553  [57600/60000]\n",
            "Test Error: \n",
            " Accuracy: 65.8%, Avg loss: 1.088931 \n",
            "\n",
            "Epoch 17\n",
            "-------------------------------\n",
            "loss: 0.986543  [    0/60000]\n",
            "loss: 1.078882  [ 6400/60000]\n",
            "loss: 0.953139  [12800/60000]\n",
            "loss: 1.242970  [19200/60000]\n",
            "loss: 1.034288  [25600/60000]\n",
            "loss: 0.939157  [32000/60000]\n",
            "loss: 1.111484  [38400/60000]\n",
            "loss: 1.073767  [44800/60000]\n",
            "loss: 1.029402  [51200/60000]\n",
            "loss: 1.150555  [57600/60000]\n",
            "Test Error: \n",
            " Accuracy: 66.2%, Avg loss: 1.074810 \n",
            "\n",
            "Epoch 18\n",
            "-------------------------------\n",
            "loss: 0.967378  [    0/60000]\n",
            "loss: 1.062600  [ 6400/60000]\n",
            "loss: 0.936467  [12800/60000]\n",
            "loss: 1.230114  [19200/60000]\n",
            "loss: 1.021730  [25600/60000]\n",
            "loss: 0.927444  [32000/60000]\n",
            "loss: 1.099496  [38400/60000]\n",
            "loss: 1.065731  [44800/60000]\n",
            "loss: 1.014897  [51200/60000]\n",
            "loss: 1.142251  [57600/60000]\n",
            "Test Error: \n",
            " Accuracy: 66.6%, Avg loss: 1.061907 \n",
            "\n",
            "Epoch 19\n",
            "-------------------------------\n",
            "loss: 0.950159  [    0/60000]\n",
            "loss: 1.047577  [ 6400/60000]\n",
            "loss: 0.921608  [12800/60000]\n",
            "loss: 1.218200  [19200/60000]\n",
            "loss: 1.010100  [25600/60000]\n",
            "loss: 0.917139  [32000/60000]\n",
            "loss: 1.088347  [38400/60000]\n",
            "loss: 1.059169  [44800/60000]\n",
            "loss: 1.002189  [51200/60000]\n",
            "loss: 1.134540  [57600/60000]\n",
            "Test Error: \n",
            " Accuracy: 67.0%, Avg loss: 1.050062 \n",
            "\n",
            "Epoch 20\n",
            "-------------------------------\n",
            "loss: 0.934334  [    0/60000]\n",
            "loss: 1.033594  [ 6400/60000]\n",
            "loss: 0.908217  [12800/60000]\n",
            "loss: 1.207033  [19200/60000]\n",
            "loss: 0.999234  [25600/60000]\n",
            "loss: 0.907802  [32000/60000]\n",
            "loss: 1.078621  [38400/60000]\n",
            "loss: 1.053423  [44800/60000]\n",
            "loss: 0.989146  [51200/60000]\n",
            "loss: 1.026111  [57600/60000]\n",
            "Test Error: \n",
            " Accuracy: 67.5%, Avg loss: 0.954161 \n",
            "\n",
            "Done!\n"
          ]
        }
      ],
      "source": [
        "epochs = 20\n",
        "for t in range(epochs):\n",
        "    print(f\"Epoch {t+1}\\n-------------------------------\")\n",
        "    train(train_dataloader, model, loss_fn, optimizer)\n",
        "    test(test_dataloader, model, loss_fn)\n",
        "print(\"Done!\")"
      ]
    },
    {
      "cell_type": "markdown",
      "metadata": {},
      "source": [
        "Read more about `Training your model <optimization_tutorial.html>`_.\n",
        "\n",
        "\n"
      ]
    },
    {
      "cell_type": "markdown",
      "metadata": {},
      "source": [
        "--------------\n",
        "\n",
        "\n"
      ]
    },
    {
      "cell_type": "markdown",
      "metadata": {},
      "source": [
        "Saving Models\n",
        "-------------\n",
        "A common way to save a model is to serialize the internal state dictionary (containing the model parameters).\n",
        "\n"
      ]
    },
    {
      "cell_type": "code",
      "execution_count": 12,
      "metadata": {
        "collapsed": false
      },
      "outputs": [
        {
          "name": "stdout",
          "output_type": "stream",
          "text": [
            "Saved PyTorch Model State to model.pth\n"
          ]
        }
      ],
      "source": [
        "torch.save(model.state_dict(), \"model.pth\")\n",
        "print(\"Saved PyTorch Model State to model.pth\")"
      ]
    },
    {
      "cell_type": "markdown",
      "metadata": {},
      "source": [
        "Loading Models\n",
        "----------------------------\n",
        "\n",
        "The process for loading a model includes re-creating the model structure and loading\n",
        "the state dictionary into it. \n",
        "\n"
      ]
    },
    {
      "cell_type": "code",
      "execution_count": 13,
      "metadata": {
        "collapsed": false
      },
      "outputs": [
        {
          "data": {
            "text/plain": [
              "<All keys matched successfully>"
            ]
          },
          "execution_count": 13,
          "metadata": {},
          "output_type": "execute_result"
        }
      ],
      "source": [
        "model = NeuralNetwork()\n",
        "model.load_state_dict(torch.load(\"model.pth\"))"
      ]
    },
    {
      "cell_type": "markdown",
      "metadata": {},
      "source": [
        "This model can now be used to make predictions.\n",
        "\n"
      ]
    },
    {
      "cell_type": "code",
      "execution_count": 14,
      "metadata": {
        "collapsed": false
      },
      "outputs": [
        {
          "name": "stdout",
          "output_type": "stream",
          "text": [
            "Predicted: \"Ankle boot\", Actual: \"Ankle boot\"\n"
          ]
        }
      ],
      "source": [
        "classes = [\n",
        "    \"T-shirt/top\",\n",
        "    \"Trouser\",\n",
        "    \"Pullover\",\n",
        "    \"Dress\",\n",
        "    \"Coat\",\n",
        "    \"Sandal\",\n",
        "    \"Shirt\",\n",
        "    \"Sneaker\",\n",
        "    \"Bag\",\n",
        "    \"Ankle boot\",\n",
        "]\n",
        "\n",
        "model.eval()\n",
        "x, y = test_data[0][0], test_data[0][1]\n",
        "with torch.no_grad():\n",
        "    pred = model(x)\n",
        "    predicted, actual = classes[pred[0].argmax(0)], classes[y]\n",
        "    print(f'Predicted: \"{predicted}\", Actual: \"{actual}\"')"
      ]
    },
    {
      "cell_type": "markdown",
      "metadata": {},
      "source": [
        "Read more about `Saving & Loading your model <saveloadrun_tutorial.html>`_.\n",
        "\n",
        "\n"
      ]
    },
    {
      "cell_type": "code",
      "execution_count": null,
      "metadata": {},
      "outputs": [],
      "source": []
    }
  ],
  "metadata": {
    "interpreter": {
      "hash": "b342434c31e7709bf64339585bc242b550cab0e6891680607eb7c46d73c26b88"
    },
    "kernelspec": {
      "display_name": "Python 3.8.12 64-bit ('py38dl': conda)",
      "name": "python3"
    },
    "language_info": {
      "codemirror_mode": {
        "name": "ipython",
        "version": 3
      },
      "file_extension": ".py",
      "mimetype": "text/x-python",
      "name": "python",
      "nbconvert_exporter": "python",
      "pygments_lexer": "ipython3",
      "version": "3.8.12"
    }
  },
  "nbformat": 4,
  "nbformat_minor": 0
}
