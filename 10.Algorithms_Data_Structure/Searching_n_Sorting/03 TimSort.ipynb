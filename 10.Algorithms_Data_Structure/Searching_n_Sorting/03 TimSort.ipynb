{
 "cells": [
  {
   "cell_type": "markdown",
   "metadata": {},
   "source": [
    "# TimSort -- Insertion sort and Merge Sort\n",
    "\n",
    "TimSort is a sorting algorithm based on Insertion Sort and Merge Sort.\n",
    "\n",
    "- A stable sorting algorithm works in O(n Log n) time\n",
    "\n",
    "- Used in Java’s Arrays.sort() as well as Python’s sorted() and sort().\n",
    "\n",
    "- First sort small pieces using Insertion Sort, then merges the pieces using merge of merge sort.\n"
   ]
  },
  {
   "cell_type": "markdown",
   "metadata": {},
   "source": [
    "## Quick Review: Insertion sort\n",
    "\n",
    "Insertion sort is a simple sorting algorithm that works the way we sort playing cards in our hands.\n",
    "\n",
    "**Algorithm**\n",
    "// Sort an arr[] of size n\n",
    "insertionSort(arr, n)\n",
    "Loop from i = 1 to n-1.\n",
    "    Pick element arr[i] and insert it into sorted sequence arr[0…i-1]\n",
    "\n",
    "**Example**:\n",
    "\n",
    "<img src=https://media.geeksforgeeks.org/wp-content/uploads/insertionsort.png style=\"width:300px\" />"
   ]
  },
  {
   "cell_type": "code",
   "execution_count": null,
   "metadata": {},
   "outputs": [],
   "source": [
    "# Python program for implementation of Insertion Sort \n",
    "# Function to do insertion sort \n",
    "def insertionSort(arr): \n",
    "    # Traverse through 1 to len(arr) \n",
    "    for i in range(1, len(arr)): \n",
    "        key = arr[i] \n",
    "        # Move elements of arr[0..i-1], that are \n",
    "        # greater than key, to one position ahead \n",
    "        # of their current position \n",
    "        j = i-1\n",
    "        while j >= 0 and key < arr[j] : \n",
    "                arr[j + 1] = arr[j] \n",
    "                j -= 1\n",
    "        arr[j + 1] = key \n",
    "    return arr\n",
    "\n",
    "# Driver code to test above \n",
    "arr = [12, 11, 13, 5, 6] \n",
    "print(f\"Original array: {arr}\") \n",
    "arr = insertionSort(arr) \n",
    "print(f\"Sorted array  : {arr}\") "
   ]
  },
  {
   "cell_type": "markdown",
   "metadata": {},
   "source": [
    "### Summary: \n",
    "- Time Complexity: $O(n^2)$\n",
    "- Auxiliary Space: $O(1)$\n",
    "- Boundary Cases: Insertion sort takes maximum time to sort if elements are sorted in reverse order. And it takes minimum time (Order of n) when elements are already sorted.\n",
    "- Algorithmic Paradigm: Incremental Approach\n",
    "- Sorting In Place: Yes\n",
    "- Stable: Yes\n",
    "- Online: Yes\n",
    "- Uses: Insertion sort is used when number of elements is small. It can also be useful when input array is almost sorted, only few elements are misplaced in complete big array."
   ]
  },
  {
   "cell_type": "markdown",
   "metadata": {},
   "source": [
    "## TimSort \n",
    "\n",
    "We divide the Array into blocks known as Run. We sort those runs using insertion sort one by one and then merge those runs using combine function used in merge sort. \n",
    "\n",
    "If the size of Array is less than run, then Array get sorted just by using **Insertion Sort**. The size of `run` may vary from `32` to `64` depending upon the size of the array. \n",
    "\n",
    "Note that merge function performs well when sizes subarrays are powers of `2`. The idea is based on the fact that **insertion sort performs well for small arrays**."
   ]
  },
  {
   "cell_type": "code",
   "execution_count": null,
   "metadata": {},
   "outputs": [],
   "source": [
    "# Python3 program to perform TimSort.  \n",
    "RUN = 32 \n",
    "    \n",
    "# This function sorts array from left index to  \n",
    "# to right index which is of size atmost RUN  \n",
    "def insertionSort(arr, left, right):  \n",
    "    for i in range(left + 1, right+1):  \n",
    "        key = arr[i]  \n",
    "        j = i - 1 \n",
    "        while j >= left and arr[j] > key :  \n",
    "            arr[j+1] = arr[j]  \n",
    "            j -= 1\n",
    "        arr[j+1] = key  \n",
    "    return arr \n",
    "    \n",
    "# merge function merges the sorted runs  \n",
    "def merge(arr, l, m, r): \n",
    "    # original array is broken in two parts  \n",
    "    # left and right array  \n",
    "    len1, len2 =  m - l + 1, r - m  \n",
    "    left, right = [], []  \n",
    "    for i in range(0, len1):  \n",
    "        left.append(arr[l + i])  \n",
    "    for i in range(0, len2):  \n",
    "        right.append(arr[m + 1 + i])  \n",
    "    \n",
    "    i, j, k = 0, 0, l \n",
    "    # after comparing, we merge those two array  \n",
    "    # in larger sub array  \n",
    "    while i < len1 and j < len2:  \n",
    "       \n",
    "        if left[i] <= right[j]:  \n",
    "            arr[k] = left[i]  \n",
    "            i += 1 \n",
    "        else: \n",
    "            arr[k] = right[j]  \n",
    "            j += 1 \n",
    "        k += 1\n",
    "       \n",
    "    # copy remaining elements of left, if any  \n",
    "    while i < len1:  \n",
    "        arr[k] = left[i]  \n",
    "        k += 1 \n",
    "        i += 1\n",
    "    # copy remaining element of right, if any  \n",
    "    while j < len2:  \n",
    "        arr[k] = right[j]  \n",
    "        k += 1\n",
    "        j += 1\n",
    "    return arr\n",
    "\n",
    "\n",
    "# iterative Timsort function to sort the  \n",
    "# array[0...n-1] (similar to merge sort)  \n",
    "\n",
    "def timSort(arr):  \n",
    "    n = len(arr)  \n",
    "    # Sort individual subarrays of size RUN  \n",
    "    for i in range(0, n, RUN):  \n",
    "        arr = insertionSort(arr, i, min((i+RUN-1), (n-1)))  \n",
    "    # start merging from size RUN (or 32). It will merge  \n",
    "    # to form size 64, then 128, 256 and so on ....  \n",
    "    size = RUN \n",
    "    while size < n:  \n",
    "        # pick starting point of left sub array. We  \n",
    "        # are going to merge arr[left..left+size-1]  \n",
    "        # and arr[left+size, left+2*size-1]  \n",
    "        # After every merge, we increase left by 2*size  \n",
    "        for left in range(0, n, 2*size):  \n",
    "            # find ending point of left sub array  \n",
    "            # mid+1 is starting point of right sub array  \n",
    "            mid = left + size - 1 \n",
    "            right = min((left + 2*size - 1), (n-1))  \n",
    "            # merge sub array arr[left.....mid] &  \n",
    "            # arr[mid+1....right]  \n",
    "            arr = merge(arr, left, mid, right)  \n",
    "        size = 2*size \n",
    "    return arr\n",
    " \n",
    "# Driver program to test above function  \n",
    "if __name__ == \"__main__\": \n",
    "    arr = [5, 21, 7, 23, 19, 109, 78, 67, 21, 35, 0, -2]  \n",
    "    print(f\"Given Array is : {arr}\")  \n",
    "    timSort(arr)  \n",
    "    print(f\"Sorted Array is: {arr}\")  \n",
    " "
   ]
  },
  {
   "cell_type": "code",
   "execution_count": null,
   "metadata": {},
   "outputs": [],
   "source": [
    "import random\n",
    "\n",
    "arr = random.sample(range(-255, 255), 128)\n",
    "print(f\"Given Array is :\\n {arr}\")  \n",
    "\n",
    "arr_timsort = timSort(arr)  \n",
    "print(f\"Sorted Array is:\\n {arr_timsort}\")  "
   ]
  },
  {
   "cell_type": "code",
   "execution_count": null,
   "metadata": {},
   "outputs": [],
   "source": [
    "import matplotlib\n",
    "import matplotlib.pyplot as plt\n",
    "\n",
    "x = range(128)\n",
    "arr = random.sample(range(-255, 255), 128)\n",
    "\n",
    "plt.figure(figsize = (15, 7))\n",
    "plt.subplot(211)\n",
    "plt.stem(x, arr, use_line_collection=True )\n",
    "\n",
    "arr_timsort = timSort(arr)  \n",
    "plt.subplot(212)\n",
    "plt.stem(x, arr_timsort, use_line_collection=True)"
   ]
  }
 ],
 "metadata": {
  "kernelspec": {
   "display_name": "Python 3",
   "language": "python",
   "name": "python3"
  },
  "language_info": {
   "codemirror_mode": {
    "name": "ipython",
    "version": 3
   },
   "file_extension": ".py",
   "mimetype": "text/x-python",
   "name": "python",
   "nbconvert_exporter": "python",
   "pygments_lexer": "ipython3"
  },
  "varInspector": {
   "cols": {
    "lenName": 16,
    "lenType": 16,
    "lenVar": 40
   },
   "kernels_config": {
    "python": {
     "delete_cmd_postfix": "",
     "delete_cmd_prefix": "del ",
     "library": "var_list.py",
     "varRefreshCmd": "print(var_dic_list())"
    },
    "r": {
     "delete_cmd_postfix": ") ",
     "delete_cmd_prefix": "rm(",
     "library": "var_list.r",
     "varRefreshCmd": "cat(var_dic_list()) "
    }
   },
   "types_to_exclude": [
    "module",
    "function",
    "builtin_function_or_method",
    "instance",
    "_Feature"
   ],
   "window_display": false
  }
 },
 "nbformat": 4,
 "nbformat_minor": 4
}
