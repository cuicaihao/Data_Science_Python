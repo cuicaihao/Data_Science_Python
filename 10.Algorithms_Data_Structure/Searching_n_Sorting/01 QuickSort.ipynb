{
 "cells": [
  {
   "cell_type": "markdown",
   "metadata": {},
   "source": [
    "# QuickSort\n",
    "\n",
    "https://www.geeksforgeeks.org/quick-sort/?ref=lbp\n",
    "\n",
    "Like Merge Sort, QuickSort is a Divide and Conquer algorithm. It picks an element as pivot and partitions the given array around the picked pivot. There are many different versions of quickSort that pick pivot in different ways.\n",
    "\n",
    "1. Always pick first element as pivot.\n",
    "2. Always pick last element as pivot (implemented below)\n",
    "3. Pick a random element as pivot.\n",
    "4. Pick median as pivot.\n",
    "\n",
    "The key process in quickSort is partition(). Target of partitions is, given an array and an element x of array as pivot, put x at its correct position in sorted array and put all smaller elements (smaller than x) before x, and put all greater elements (greater than x) after x. All this should be done in linear time.\n",
    "\n",
    "```bash\n",
    "/* low  --> Starting index,  high  --> Ending index */\n",
    "quickSort(arr[], low, high)\n",
    "{\n",
    "    if (low < high)\n",
    "    {\n",
    "        /* pi is partitioning index, arr[pi] is now\n",
    "           at right place */\n",
    "        pi = partition(arr, low, high);\n",
    "\n",
    "        quickSort(arr, low, pi - 1);  // Before pi\n",
    "        quickSort(arr, pi + 1, high); // After pi\n",
    "    }\n",
    "}\n",
    "```\n"
   ]
  },
  {
   "cell_type": "markdown",
   "metadata": {},
   "source": [
    "## Partition Algorithm\n",
    "There can be many ways to do partition, following pseudo code adopts the method given in CLRS book. The logic is simple, we start from the leftmost element and keep track of index of smaller (or equal to) elements as i. While traversing, if we find a smaller element, we swap current element with arr[i]. Otherwise we ignore current element.\n",
    "\n",
    "```bash\n",
    "/* low  --> Starting index,  high  --> Ending index */\n",
    "quickSort(arr[], low, high)\n",
    "{\n",
    "    if (low < high)\n",
    "    {\n",
    "        /* pi is partitioning index, arr[pi] is now\n",
    "           at right place */\n",
    "        pi = partition(arr, low, high);\n",
    "\n",
    "        quickSort(arr, low, pi - 1);  // Before pi\n",
    "        quickSort(arr, pi + 1, high); // After pi\n",
    "    }\n",
    "}\n",
    "```\n",
    "\n",
    "**Pseudo code for partition()**\n",
    "\n",
    "```bash\n",
    "\n",
    "/* This function takes last element as pivot, places\n",
    "   the pivot element at its correct position in sorted\n",
    "    array, and places all smaller (smaller than pivot)\n",
    "   to left of pivot and all greater elements to right\n",
    "   of pivot */\n",
    "partition (arr[], low, high)\n",
    "{\n",
    "    // pivot (Element to be placed at right position)\n",
    "    pivot = arr[high];  \n",
    " \n",
    "    i = (low - 1)  // Index of smaller element\n",
    "\n",
    "    for (j = low; j <= high- 1; j++)\n",
    "    {\n",
    "        // If current element is smaller than the pivot\n",
    "        if (arr[j] < pivot)\n",
    "        {\n",
    "            i++;    // increment index of smaller element\n",
    "            swap arr[i] and arr[j]\n",
    "        }\n",
    "    }\n",
    "    swap arr[i + 1] and arr[high])\n",
    "    return (i + 1)\n",
    "}\n",
    "```\n"
   ]
  },
  {
   "cell_type": "markdown",
   "metadata": {},
   "source": [
    "<img src = https://www.geeksforgeeks.org/wp-content/uploads/gq/2014/01/QuickSort2.png alt=\"demo of quick sort\" style = \"width:700px\"/>"
   ]
  },
  {
   "cell_type": "markdown",
   "metadata": {},
   "source": [
    "**Illustration of partition() :**\n",
    "```python\n",
    "arr[] = {10, 80, 30, 90, 40, 50, 70}\n",
    "Indexes:  0   1   2   3   4   5   6 \n",
    "\n",
    "low = 0, high =  6, pivot = arr[h] = 70\n",
    "Initialize index of smaller element, i = -1\n",
    "\n",
    "Traverse elements from j = low to high-1\n",
    "j = 0 : Since arr[j] <= pivot, do i++ and swap(arr[i], arr[j])\n",
    "i = 0 \n",
    "arr[] = {10, 80, 30, 90, 40, 50, 70} // No change as i and j \n",
    "                                     // are same\n",
    "\n",
    "j = 1 : Since arr[j] > pivot, do nothing\n",
    "// No change in i and arr[]\n",
    "\n",
    "j = 2 : Since arr[j] <= pivot, do i++ and swap(arr[i], arr[j])\n",
    "i = 1\n",
    "arr[] = {10, 30, 80, 90, 40, 50, 70} // We swap 80 and 30 \n",
    "\n",
    "j = 3 : Since arr[j] > pivot, do nothing\n",
    "// No change in i and arr[]\n",
    "\n",
    "j = 4 : Since arr[j] <= pivot, do i++ and swap(arr[i], arr[j])\n",
    "i = 2\n",
    "arr[] = {10, 30, 40, 90, 80, 50, 70} // 80 and 40 Swapped\n",
    "j = 5 : Since arr[j] <= pivot, do i++ and swap arr[i] with arr[j] \n",
    "i = 3 \n",
    "arr[] = {10, 30, 40, 50, 80, 90, 70} // 90 and 50 Swapped \n",
    "\n",
    "\n",
    "We come out of loop because j is now equal to high-1.\n",
    "Finally we place pivot at correct position by swapping\n",
    "arr[i+1] and arr[high] (or pivot) \n",
    "arr[] = {10, 30, 40, 50, 70, 90, 80} // 80 and 70 Swapped \n",
    "\n",
    "Now 70 is at its correct place. All elements smaller than\n",
    "70 are before it and all elements greater than 70 are after\n",
    "it.\n",
    "\n",
    "```\n"
   ]
  },
  {
   "cell_type": "code",
   "execution_count": null,
   "metadata": {
    "tags": []
   },
   "outputs": [],
   "source": [
    "# Python program for implementation of Quicksort Sort \n",
    "\n",
    "# This function takes last element as pivot, places \n",
    "# the pivot element at its correct position in sorted \n",
    "# array, and places all smaller (smaller than pivot) \n",
    "# to left of pivot and all greater elements to right \n",
    "# of pivot \n",
    "def partition(arr,low,high): \n",
    "    i = ( low-1 )         # index of smaller element \n",
    "    pivot = arr[high]     # pivot \n",
    "  \n",
    "    for j in range(low , high): \n",
    "  \n",
    "        # If current element is smaller than the pivot \n",
    "        if   arr[j] < pivot: \n",
    "          \n",
    "            # increment index of smaller element \n",
    "            i = i+1 \n",
    "            arr[i],arr[j] = arr[j],arr[i] \n",
    "  \n",
    "    arr[i+1],arr[high] = arr[high],arr[i+1] \n",
    "    return ( i+1 ) "
   ]
  },
  {
   "cell_type": "code",
   "execution_count": null,
   "metadata": {},
   "outputs": [],
   "source": [
    "# The main function that implements QuickSort \n",
    "# arr[] --> Array to be sorted, \n",
    "# low  --> Starting index, \n",
    "# high  --> Ending index \n",
    "  \n",
    "# Function to do Quick sort \n",
    "def quickSort(arr,low,high): \n",
    "    if low < high: \n",
    "  \n",
    "        # pi is partitioning index, arr[p] is now \n",
    "        # at right place \n",
    "        pi = partition(arr,low,high) \n",
    "  \n",
    "        # Separately sort elements before \n",
    "        # partition and after partition \n",
    "        quickSort(arr, low, pi-1) \n",
    "        quickSort(arr, pi+1, high) \n",
    " "
   ]
  },
  {
   "cell_type": "code",
   "execution_count": null,
   "metadata": {
    "tags": []
   },
   "outputs": [],
   "source": [
    " # Driver code to test above \n",
    "arr = [10, 7, 8, 9, 1, 5] \n",
    "n = len(arr) \n",
    "quickSort(arr,0,n-1) \n",
    "print(f\"Sorted array is: {arr}\")\n",
    "  "
   ]
  },
  {
   "cell_type": "markdown",
   "metadata": {},
   "source": [
    "Analysis of QuickSort\n",
    "Time taken by QuickSort in general can be written as following.\n",
    "\n",
    "$T(n) = T(k) + T(n-k-1) + \\theta(n)$\n",
    "\n",
    "The first two terms are for two recursive calls, the last term is for the partition process. k is the number of elements which are smaller than pivot.\n",
    "The time taken by QuickSort depends upon the input array and partition strategy. Following are three cases.\n",
    "\n",
    "**Worst Case**: \n",
    "The worst case occurs when the partition process always picks greatest or smallest element as pivot. If we consider above partition strategy where last element is always picked as pivot, the worst case would occur when the array is already sorted in increasing or decreasing order. Following is recurrence for worst case.\n",
    "\n",
    "$T(n) = T(0) + T(n-1) + \\theta(n)$\n",
    "\n",
    "which is equivalent to  \n",
    "\n",
    "$T(n) = T(n-1) + \\theta(n)$\n",
    "\n",
    "The solution of above recurrence is $\\theta(n2)$."
   ]
  },
  {
   "cell_type": "markdown",
   "metadata": {},
   "source": [
    "**Best Case**: \n",
    "The best case occurs when the partition process always picks the middle element as pivot. Following is recurrence for best case.\n",
    "\n",
    "$T(n) = 2T(n/2) + \\theta(n)$\n",
    "\n",
    "The solution of above recurrence is $\\theta(nLogn)$. It can be solved using case 2 of Master Theorem."
   ]
  },
  {
   "cell_type": "markdown",
   "metadata": {},
   "source": [
    "**Average Case**:\n",
    "\n",
    "To do average case analysis, we need to consider all possible permutation of array and calculate time taken by every permutation which doesn’t look easy.\n",
    "We can get an idea of average case by considering the case when partition puts $O(n/9)$ elements in one set and $O(9n/10)$ elements in other set. Following is recurrence for this case.\n",
    "\n",
    "$T(n) = T(n/9) + T(9n/10) + \\theta(n)$\n",
    "\n",
    "Solution of above recurrence is also O(nLogn)\n",
    "\n",
    "Although the worst case time complexity of QuickSort is O(n2) which is more than many other sorting algorithms like Merge Sort and Heap Sort, QuickSort is faster in practice, because its inner loop can be efficiently implemented on most architectures, and in most real-world data. QuickSort can be implemented in different ways by changing the choice of pivot, so that the worst case rarely occurs for a given type of data. However, merge sort is generally considered better when data is huge and stored in external storage.\n",
    "\n",
    "- Is QuickSort stable?\n",
    "\n",
    "The default implementation is not stable. However any sorting algorithm can be made stable by considering indexes as comparison parameter.\n",
    "\n",
    "- Is QuickSort In-place?\n",
    "\n",
    "As per the broad definition of in-place algorithm it qualifies as an in-place sorting algorithm as it uses extra space only for storing recursive function calls but not for manipulating the input."
   ]
  },
  {
   "cell_type": "markdown",
   "metadata": {},
   "source": [
    "## What is 3-way QuickSort?\n",
    "\n",
    "In simple QuickSort algorithm, we select an element as pivot, partition the array around pivot and recur for subarrays on the left and right of pivot.\n",
    "\n",
    "Consider an array which has many redundant elements. \n",
    "For example, {1, 4, 2, 4, 2, 4, 1, 2, 4, 1, 2, 2, 2, 2, 4, 1, 4, 4, 4}. If 4 is picked as pivot in Simple QuickSort, we fix only one 4 and recursively process remaining occurrences. \n",
    "\n",
    "In 3 Way QuickSort, an array $arr[l..r]$ is divided in 3 parts:\n",
    "- a) $arr[l..i]$ elements less than pivot.\n",
    "- b) $arr[i+1..j-1]$ elements equal to pivot.\n",
    "- c) $arr[j..r]$ elements greater than pivot.\n"
   ]
  },
  {
   "cell_type": "markdown",
   "metadata": {},
   "source": [
    "**Why Quick Sort is preferred over MergeSort for sorting Arrays**\n",
    "\n",
    "Quick Sort in its general form is an in-place sort (i.e. it doesn’t require any extra storage) whereas merge sort requires O(N) extra storage, N denoting the array size which may be quite expensive. Allocating and de-allocating the extra space used for merge sort increases the running time of the algorithm. Comparing average complexity we find that both type of sorts have O(NlogN) average complexity but the constants differ. For arrays, merge sort loses due to the use of extra O(N) storage space.\n",
    "\n",
    "\n",
    "Most practical implementations of Quick Sort use randomized version. The randomized version has expected time complexity of O(nLogn). The worst case is possible in randomized version also, but worst case doesn’t occur for a particular pattern (like sorted array) and randomized Quick Sort works well in practice.\n",
    "\n",
    "Quick Sort is also a cache friendly sorting algorithm as it has good locality of reference when used for arrays.\n",
    "\n",
    "Quick Sort is also tail recursive, therefore tail call optimizations is done.\n",
    "\n",
    "**Why MergeSort is preferred over QuickSort for Linked Lists?**\n",
    "\n",
    "In case of linked lists the case is different mainly due to difference in memory allocation of arrays and linked lists. Unlike arrays, linked list nodes may not be adjacent in memory. Unlike array, in linked list, we can insert items in the middle in O(1) extra space and O(1) time. Therefore merge operation of merge sort can be implemented without extra space for linked lists.\n",
    "\n",
    "In arrays, we can do random access as elements are continuous in memory. Let us say we have an integer (4-byte) array A and let the address of $A[0]$ be x then to access $A[i]$, we can directly access the memory at (x + i*4). Unlike arrays, we can not do random access in linked list. Quick Sort requires a lot of this kind of access. In linked list to access i’th index, we have to travel each and every node from the head to i’th node as we don’t have continuous block of memory. Therefore, the overhead increases for quick sort. Merge sort accesses data sequentially and the need of random access is low.\n"
   ]
  }
 ],
 "metadata": {
  "kernelspec": {
   "display_name": "Python 3",
   "language": "python",
   "name": "python3"
  },
  "language_info": {
   "codemirror_mode": {
    "name": "ipython",
    "version": 3
   },
   "file_extension": ".py",
   "mimetype": "text/x-python",
   "name": "python",
   "nbconvert_exporter": "python",
   "pygments_lexer": "ipython3"
  },
  "varInspector": {
   "cols": {
    "lenName": 16,
    "lenType": 16,
    "lenVar": 40
   },
   "kernels_config": {
    "python": {
     "delete_cmd_postfix": "",
     "delete_cmd_prefix": "del ",
     "library": "var_list.py",
     "varRefreshCmd": "print(var_dic_list())"
    },
    "r": {
     "delete_cmd_postfix": ") ",
     "delete_cmd_prefix": "rm(",
     "library": "var_list.r",
     "varRefreshCmd": "cat(var_dic_list()) "
    }
   },
   "types_to_exclude": [
    "module",
    "function",
    "builtin_function_or_method",
    "instance",
    "_Feature"
   ],
   "window_display": false
  }
 },
 "nbformat": 4,
 "nbformat_minor": 2
}
