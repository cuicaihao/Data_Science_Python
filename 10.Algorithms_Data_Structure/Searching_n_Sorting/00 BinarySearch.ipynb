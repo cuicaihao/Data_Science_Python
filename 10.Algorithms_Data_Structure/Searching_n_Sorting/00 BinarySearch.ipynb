{
 "cells": [
  {
   "cell_type": "markdown",
   "metadata": {},
   "source": [
    "# Binary-Search\n",
    "\n",
    "https://www.geeksforgeeks.org/binary-search/\n",
    "\n",
    "Given a sorted array `arr[]` of n elements, write a function to search a given element x in `arr[]`.\n",
    "\n",
    "A simple approach is to do linear search.The time complexity of above algorithm is O(n). Another approach to perform the same task is using Binary Search.\n",
    "\n",
    "Binary Search: Search a sorted array by repeatedly dividing the search interval in half. Begin with an interval covering the whole array. If the value of the search key is less than the item in the middle of the interval, narrow the interval to the lower half. Otherwise narrow it to the upper half. Repeatedly check until the value is found or the interval is empty.\n",
    "\n",
    "We basically ignore half of the elements just after one comparison.\n",
    "\n",
    "- Compare x with the middle element.\n",
    "- If x matches with middle element, we return the mid index.\n",
    "- Else If x is greater than the mid element, then x can only lie in right half subarray after the mid element. - So we recur for right half.\n",
    "- Else (x is smaller) recur for the left half."
   ]
  },
  {
   "cell_type": "markdown",
   "metadata": {},
   "source": [
    "### Iterative implementation of Binary Search"
   ]
  },
  {
   "cell_type": "code",
   "execution_count": null,
   "metadata": {},
   "outputs": [],
   "source": [
    "# Python3 Program for recursive binary search. \n",
    "# Returns index of x in arr if present, else -1\n",
    "#  \n",
    "def binarySearch (arr, l, r, x):\n",
    "    # check base case\n",
    "    if r >= l:\n",
    "        mid = l + (r-l)//2\n",
    "        # if element is presetn at the middele itself\n",
    "        if x == arr[mid]:\n",
    "            return mid\n",
    "        elif x < arr[mid]:\n",
    "            return binarySearch(arr, l, mid-1, x)\n",
    "        else:\n",
    "            return binarySearch(arr, mid+1, r, x)\n",
    "    else:\n",
    "        return -1"
   ]
  },
  {
   "cell_type": "code",
   "execution_count": null,
   "metadata": {},
   "outputs": [],
   "source": [
    "def binarySearch (arr, l, r, x):\n",
    "    # check base case\n",
    "    while l<=r:\n",
    "        mid = l + (r-l)//2\n",
    "        # if element is presetn at the middele itself\n",
    "        if x == arr[mid]:\n",
    "            return mid\n",
    "        elif x < arr[mid]:\n",
    "             r = mid - 1\n",
    "        else:\n",
    "             l = mid + 1\n",
    "    return -1"
   ]
  },
  {
   "cell_type": "code",
   "execution_count": null,
   "metadata": {},
   "outputs": [],
   "source": [
    "%%time\n",
    "arr = [ 2, 3, 4, 10, 40 ] \n",
    "x = 10\n",
    "  \n",
    "# Function call \n",
    "result = binarySearch(arr, 0, len(arr)-1, x) \n",
    "  \n",
    "if result != -1: \n",
    "    print (f\"Element is present at index {result}\") \n",
    "else: \n",
    "    print (\"Element is not present in array\") \n"
   ]
  },
  {
   "cell_type": "markdown",
   "metadata": {},
   "source": [
    "**Time Complexity**:\n",
    "\n",
    "The time complexity of Binary Search can be written as\n",
    "\n",
    "$T(n) = T(n/2) + c $\n",
    "\n",
    "The above recurrence can be solved either using Recurrence Tree method or Master method. It falls in case II of Master Method and solution of the recurrence is $\\theta(Logn)$.\n",
    "\n",
    "Auxiliary Space: \n",
    "O(1) in case of iterative implementation. \n",
    "In case of recursive implementation, O(Logn) recursion call stack space."
   ]
  }
 ],
 "metadata": {
  "kernelspec": {
   "display_name": "Python 3",
   "language": "python",
   "name": "python3"
  },
  "language_info": {
   "codemirror_mode": {
    "name": "ipython",
    "version": 3
   },
   "file_extension": ".py",
   "mimetype": "text/x-python",
   "name": "python",
   "nbconvert_exporter": "python",
   "pygments_lexer": "ipython3"
  },
  "varInspector": {
   "cols": {
    "lenName": 16,
    "lenType": 16,
    "lenVar": 40
   },
   "kernels_config": {
    "python": {
     "delete_cmd_postfix": "",
     "delete_cmd_prefix": "del ",
     "library": "var_list.py",
     "varRefreshCmd": "print(var_dic_list())"
    },
    "r": {
     "delete_cmd_postfix": ") ",
     "delete_cmd_prefix": "rm(",
     "library": "var_list.r",
     "varRefreshCmd": "cat(var_dic_list()) "
    }
   },
   "types_to_exclude": [
    "module",
    "function",
    "builtin_function_or_method",
    "instance",
    "_Feature"
   ],
   "window_display": false
  }
 },
 "nbformat": 4,
 "nbformat_minor": 2
}
