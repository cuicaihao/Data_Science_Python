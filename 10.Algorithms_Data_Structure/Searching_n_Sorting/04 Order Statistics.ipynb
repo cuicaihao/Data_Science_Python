{
 "cells": [
  {
   "cell_type": "markdown",
   "metadata": {},
   "source": [
    "# K’th Smallest/Largest Element in Unsorted Array | Set 1"
   ]
  },
  {
   "cell_type": "markdown",
   "metadata": {},
   "source": [
    "Given an array and a number k where k is smaller than size of array, we need to find the k’th smallest element in the given array. It is given that ll array elements are distinct.\n",
    "\n",
    "**Example**:\n",
    "```bash\n",
    "Input: arr[] = {7, 10, 4, 3, 20, 15}\n",
    "k = 3\n",
    "Output: 7\n",
    "\n",
    "Input: arr[] = {7, 10, 4, 3, 20, 15}\n",
    "k = 4\n",
    "Output: 10\n",
    "```\n",
    "\n"
   ]
  },
  {
   "cell_type": "markdown",
   "metadata": {},
   "source": [
    "## k-largest(or k-smallest) elements in an array | added Min Heap method\n",
    "\n",
    "**Question**: \n",
    "Write an efficient program for printing k largest elements in an array. Elements in array can be in any order.\n",
    "\n",
    "For example, if given array is `[1, 23, 12, 9, 30, 2, 50]` and you are asked for the largest 3 elements i.e., `k = 3` then your program should print 50, 30 and 23.\n",
    "\n",
    "### Method 1 (Use Bubble k times)\n",
    "Thanks to Shailendra for suggesting this approach.\n",
    "\n",
    "1. Modify Bubble Sort to run the outer loop at most k times.\n",
    "2. Print the last k elements of the array obtained in step 1.\n",
    "\n",
    "Time Complexity: O(nk)\n",
    "\n",
    "Like Bubble sort, other sorting algorithms like Selection Sort can also be modified to get the k largest elements.\n",
    "\n",
    "\n",
    "####  Bubble Sort\n",
    "Bubble Sort is the simplest sorting algorithm that works by repeatedly swapping the adjacent elements if they are in wrong order."
   ]
  },
  {
   "cell_type": "code",
   "execution_count": null,
   "metadata": {},
   "outputs": [],
   "source": [
    "def bubbleSort(arr): \n",
    "    n = len(arr) \n",
    "    # Traverse through all array elements \n",
    "    for i in range(n): \n",
    "        # Last i elements are already in place \n",
    "        for j in range(0, n-i-1): \n",
    "\n",
    "        # traverse the array from 0 to n-i-1 \n",
    "        # Swap if the element found is greater \n",
    "        # than the next element \n",
    "            if arr[j] > arr[j+1] : \n",
    "                arr[j], arr[j+1] = arr[j+1], arr[j] \n",
    "    return arr\n",
    "    \n",
    "\n",
    "# Driver code to test above \n",
    "arr = [64, 34, 25, 12, 22, 11, 90] \n",
    "print(f\"Original array is: {arr}\") \n",
    "bubbleSort(arr) \n",
    "print(f\"Sorted array is  : {arr}\") \n"
   ]
  },
  {
   "cell_type": "markdown",
   "metadata": {},
   "source": [
    "**Optimized Implementation**:\n",
    "The above function always runs $O(n^2)$ time even if the array is sorted. It can be optimized by stopping the algorithm if inner loop didn’t cause any swap."
   ]
  },
  {
   "cell_type": "code",
   "execution_count": null,
   "metadata": {},
   "outputs": [],
   "source": [
    "def bubbleSort(arr): \n",
    "    n = len(arr) \n",
    "    # Traverse through all array elements \n",
    "    for i in range(n): \n",
    "        swapped = False\n",
    "        # Last i elements are already in place \n",
    "        for j in range(0, n-i-1): \n",
    "\n",
    "        # traverse the array from 0 to n-i-1 \n",
    "        # Swap if the element found is greater \n",
    "        # than the next element \n",
    "            if arr[j] > arr[j+1] : \n",
    "                arr[j], arr[j+1] = arr[j+1], arr[j] \n",
    "                swapped = True    \n",
    "        if not swapped:\n",
    "            break\n",
    "    return arr\n",
    "    \n",
    "# Driver code to test above \n",
    "# arr = [64, 34, 25, 12, 22, 11, 90] \n",
    "arr = [x for x in range(10)]\n",
    "print(f\"Original array is: {arr}\") \n",
    "bubbleSort(arr) \n",
    "print(f\"Sorted array is  : {arr}\") "
   ]
  },
  {
   "cell_type": "markdown",
   "metadata": {},
   "source": [
    "- **Worst and Average Case Time Complexity**: $O(n^2)$. Worst case occurs when array is reverse sorted.\n",
    "- **Best Case Time Complexity**: $O(n)$. Best case occurs when array is already sorted.\n",
    "- **Auxiliary Space**: $O(1)$\n",
    "- **Boundary Cases**: Bubble sort takes minimum time (Order of n) when elements are already sorted.\n",
    "- **Sorting In Place**: Yes\n",
    "- **Stable**: Yes\n",
    "\n",
    "\n",
    "Due to its simplicity, bubble sort is often used to introduce the concept of a sorting algorithm.\n",
    "In computer graphics it is popular for its capability to detect a very small error (like swap of just two elements) in almost-sorted arrays and fix it with just linear complexity (2n). \n",
    "\n",
    "For example, it is used in a polygon filling algorithm, where bounding lines are sorted by their x coordinate at a specific scan line (a line parallel to x axis) and with incrementing y their order changes (two elements are swapped) only at intersections of two lines"
   ]
  },
  {
   "cell_type": "markdown",
   "metadata": {},
   "source": [
    "### Method 2 (Use temporary array)\n",
    "\n",
    "K largest elements from `arr[0..n-1]`\n",
    "\n",
    "1. Store the first k elements in a temporary array `temp[0..k-1]`.\n",
    "2. Find the smallest element in `temp[]`, let the smallest element be `min`.\n",
    "3. For each element x in `arr[k]` to `arr[n-1]`. $O(n-k)$.\n",
    "    If x is greater than the min then remove min from `temp[]` and insert `x`.\n",
    "4. Then, determine the new min from `temp[]`. $O(k)$.\n",
    "5. Print final `k` elements of `temp[]`.\n",
    "\n",
    "Time Complexity: $O((n-k)*k)$. If we want the output sorted then $O((n-k)*k + klogk)$"
   ]
  },
  {
   "cell_type": "markdown",
   "metadata": {},
   "source": [
    "### Method 3 (Use Sorting)\n",
    "\n",
    "1. Sort the elements in descending order in $O(n\\log n)$.\n",
    "2. Print the first k numbers of the sorted array $O(k)$.\n",
    "\n",
    "Following is the implementation of above.\n",
    "\n",
    "Time complexity: $O(n\\log n)$"
   ]
  },
  {
   "cell_type": "code",
   "execution_count": null,
   "metadata": {},
   "outputs": [],
   "source": [
    "''' Python3 code for k largest elements in an array'''\n",
    "def kLargest(arr, k): \n",
    "    # Sort the given array arr in reverse  \n",
    "    # order. \n",
    "    arr_sorted = sorted(arr, reverse = True)  # TimSort\n",
    "    # Print the first kth largest elements \n",
    "    # for i in range(k): \n",
    "    #    print (arr[i], end =\" \") \n",
    "    return arr_sorted[k-1]\n",
    "\n",
    "# Driver code to test above \n",
    "arr = [64, 34, 25, 12, 22, 11, 90]  \n",
    "k = 1\n",
    "topk = kLargest(arr, k) \n",
    "\n",
    "print(f\"Original array is: {arr}\") \n",
    "print(f\"The {k}'s largest element is: {topk}\") \n",
    "          "
   ]
  },
  {
   "cell_type": "markdown",
   "metadata": {},
   "source": [
    "### Method 4 (QuickSelect)\n",
    "\n",
    "This is an optimization over method 1 if QuickSort is used as a sorting algorithm in first step. \n",
    "\n",
    "In QuickSort, we pick a pivot element, then move the pivot element to its correct position and partition the array around it. The idea is, not to do complete quicksort, but stop at the point where pivot itself is k’th smallest element. \n",
    "\n",
    "Also, not to recur for both left and right sides of pivot, but recur for one of them according to the position of pivot. The worst case time complexity of this method is $O(n^2)$, but it works in $O(n)$ on average."
   ]
  },
  {
   "cell_type": "code",
   "execution_count": null,
   "metadata": {},
   "outputs": [],
   "source": [
    "# This function returns k'th smallest element  \n",
    "# in arr[l..r] using QuickSort based method.  \n",
    "# ASSUMPTION: ALL ELEMENTS IN ARR[] ARE DISTINCT \n",
    "import sys \n",
    "\n",
    "def kthSmallest(arr, l, r, k): \n",
    "    # If k is smaller than number of  \n",
    "    # elements in array \n",
    "    if (k > 0 and k <= r - l + 1): \n",
    "        # Partition the array around last  \n",
    "        # element and get position of pivot \n",
    "        # element in sorted array \n",
    "        pos = partition(arr, l, r) \n",
    "        # If position is same as k \n",
    "        if (pos - l == k - 1): \n",
    "            return arr[pos] \n",
    "        if (pos - l > k - 1): # If position is more,  \n",
    "                              # recur for left subarray \n",
    "            return kthSmallest(arr, l, pos - 1, k) \n",
    "        # Else recur for right subarray \n",
    "        return kthSmallest(arr, pos + 1, r, k - pos + l - 1) \n",
    "    # If k is more than number of \n",
    "    # elements in array \n",
    "    return sys.maxsize \n",
    "  \n",
    "# Standard partition process of QuickSort().  \n",
    "# It considers the last element as pivot and \n",
    "# moves all smaller element to left of it \n",
    "# and greater elements to right \n",
    "def partition(arr, l, r): \n",
    "    x = arr[r] \n",
    "    i = l \n",
    "    for j in range(l, r): \n",
    "        if (arr[j] <= x): \n",
    "            arr[i], arr[j] = arr[j], arr[i] \n",
    "            i += 1\n",
    "    arr[i], arr[r] = arr[r], arr[i] \n",
    "    return i \n",
    "  \n",
    "# Driver Code \n",
    "if __name__ == \"__main__\":\n",
    "    arr = [12, 3, 5, 7, 4, 19, 26] \n",
    "    n = len(arr) \n",
    "    k = 1\n",
    "    print(f\"Original array is: {arr}\") \n",
    "    print(f\"{k}'th smallest element is:{kthSmallest(arr, 0, n - 1, k)}\") \n",
    "\n",
    "    # This code is contributed by ita_c "
   ]
  },
  {
   "cell_type": "markdown",
   "metadata": {},
   "source": [
    "### Randomized QuickSelect\n",
    "\n",
    "The idea is to randomly pick a pivot element. To implement randomized partition, we use a random function, rand() to generate index between l and r, swap the element at randomly generated index with the last element, and finally call the standard partition process which uses last element as pivot."
   ]
  },
  {
   "cell_type": "code",
   "execution_count": null,
   "metadata": {},
   "outputs": [],
   "source": [
    "# Python3 implementation of randomized  \n",
    "# quickSelect  \n",
    "import random \n",
    "# This function returns k'th smallest  \n",
    "# element in arr[l..r] using QuickSort \n",
    "# based method. ASSUMPTION: ELEMENTS \n",
    "# IN ARR[] ARE DISTINCT  \n",
    "\n",
    "def kthSmallest(arr, l, r, k): \n",
    "    # If k is smaller than number of \n",
    "    # elements in array  \n",
    "    if (k > 0 and k <= r - l + 1): \n",
    "        # Partition the array around a random  \n",
    "        # element and get position of pivot  \n",
    "        # element in sorted array  \n",
    "        pos = randomPartition(arr, l, r)  \n",
    "  \n",
    "        # If position is same as k  \n",
    "        if (pos - l == k - 1):  \n",
    "            return arr[pos]  \n",
    "        if (pos - l > k - 1): # If position is more,  \n",
    "                            # recur for left subarray  \n",
    "            return kthSmallest(arr, l, pos - 1, k)  \n",
    "  \n",
    "        # Else recur for right subarray  \n",
    "        return kthSmallest(arr, pos + 1, r,  \n",
    "                           k - pos + l - 1) \n",
    "  \n",
    "    # If k is more than the number of  \n",
    "    # elements in the array  \n",
    "    return 999999999999\n",
    " \n",
    "# Standard partition process of QuickSort().  \n",
    "# It considers the last element as pivot and \n",
    "# moves all smaller element to left of it and  \n",
    "# greater elements to right. This function \n",
    "# is used by randomPartition()  \n",
    "def partition(arr, l, r): \n",
    "    x = arr[r] \n",
    "    i = l \n",
    "    for j in range(l, r): \n",
    "        if (arr[j] <= x): \n",
    "            arr[i], arr[j] = arr[j], arr[i] \n",
    "            i += 1\n",
    "    arr[i], arr[r] = arr[r], arr[i] \n",
    "    return i \n",
    "\n",
    "# Picks a random pivot element between l and r  \n",
    "# and partitions arr[l..r] around the randomly \n",
    "# picked element using partition()  \n",
    "def randomPartition(arr, l, r): \n",
    "    n = r - l + 1\n",
    "    pivot = int(random.random() % n)  \n",
    "    arr[l + pivot], arr[r] = arr[l + pivot], arr[r] # move to the right\n",
    "    return partition(arr, l, r) # call standard partition function.\n",
    "  \n",
    "# Driver Code \n",
    "if __name__ == '__main__': \n",
    "    arr = [12, 3, 5, 7, 4, 19, 26]  \n",
    "    n = len(arr) \n",
    "    k = 3\n",
    "    print(f\"Original array is: {arr}\") \n",
    "    print(f\"{k}'th smallest element is:{kthSmallest(arr, 0, n - 1, k)}\") "
   ]
  },
  {
   "cell_type": "markdown",
   "metadata": {},
   "source": [
    "The worst case time complexity of the above solution is still $O(n^2)$. In worst case, the randomized function may always pick a corner element. The expected time complexity of above randomized QuickSelect is $O(n)$."
   ]
  },
  {
   "cell_type": "markdown",
   "metadata": {},
   "source": [
    "### Method  (Use Max Heap)\n",
    "1. Build a Max Heap tree in O(n)\n",
    "2. Use Extract Max k times to get k maximum elements from the Max Heap O(klogn)\n",
    "\n",
    "Time complexity: O(n + klogn)\n",
    "\n",
    "### Method  (Use Oder Statistics)\n",
    "### Method  (Use Min Heap)"
   ]
  }
 ],
 "metadata": {
  "kernelspec": {
   "display_name": "Python 3",
   "language": "python",
   "name": "python3"
  },
  "language_info": {
   "codemirror_mode": {
    "name": "ipython",
    "version": 3
   },
   "file_extension": ".py",
   "mimetype": "text/x-python",
   "name": "python",
   "nbconvert_exporter": "python",
   "pygments_lexer": "ipython3"
  },
  "varInspector": {
   "cols": {
    "lenName": 16,
    "lenType": 16,
    "lenVar": 40
   },
   "kernels_config": {
    "python": {
     "delete_cmd_postfix": "",
     "delete_cmd_prefix": "del ",
     "library": "var_list.py",
     "varRefreshCmd": "print(var_dic_list())"
    },
    "r": {
     "delete_cmd_postfix": ") ",
     "delete_cmd_prefix": "rm(",
     "library": "var_list.r",
     "varRefreshCmd": "cat(var_dic_list()) "
    }
   },
   "types_to_exclude": [
    "module",
    "function",
    "builtin_function_or_method",
    "instance",
    "_Feature"
   ],
   "window_display": false
  }
 },
 "nbformat": 4,
 "nbformat_minor": 4
}
