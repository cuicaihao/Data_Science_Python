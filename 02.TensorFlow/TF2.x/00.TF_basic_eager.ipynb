{
 "cells": [
  {
   "cell_type": "markdown",
   "metadata": {
    "id": "CCQY7jpBfMur"
   },
   "source": [
    "##### Copyright 2018 The TensorFlow Authors."
   ]
  },
  {
   "cell_type": "code",
   "execution_count": 1,
   "metadata": {
    "cellView": "form",
    "execution": {
     "iopub.execute_input": "2020-10-07T01:23:06.148197Z",
     "iopub.status.busy": "2020-10-07T01:23:06.147087Z",
     "iopub.status.idle": "2020-10-07T01:23:06.149981Z",
     "shell.execute_reply": "2020-10-07T01:23:06.149472Z"
    },
    "id": "z6X9omPnfO_h"
   },
   "outputs": [],
   "source": [
    "#@title Licensed under the Apache License, Version 2.0 (the \"License\");\n",
    "# you may not use this file except in compliance with the License.\n",
    "# You may obtain a copy of the License at\n",
    "#\n",
    "# https://www.apache.org/licenses/LICENSE-2.0\n",
    "#\n",
    "# Unless required by applicable law or agreed to in writing, software\n",
    "# distributed under the License is distributed on an \"AS IS\" BASIS,\n",
    "# WITHOUT WARRANTIES OR CONDITIONS OF ANY KIND, either express or implied.\n",
    "# See the License for the specific language governing permissions and\n",
    "# limitations under the License."
   ]
  },
  {
   "cell_type": "markdown",
   "metadata": {
    "id": "2QQJJyDzqGRb"
   },
   "source": [
    "# Eager execution\n"
   ]
  },
  {
   "cell_type": "markdown",
   "metadata": {
    "id": "B1xdylywqUSX"
   },
   "source": [
    "<table class=\"tfo-notebook-buttons\" align=\"left\">\n",
    "  <td>\n",
    "    <a target=\"_blank\" href=\"https://www.tensorflow.org/guide/eager\"><img src=\"https://www.tensorflow.org/images/tf_logo_32px.png\" />View on TensorFlow.org</a>\n",
    "  </td>\n",
    "  <td>\n",
    "    <a target=\"_blank\" href=\"https://colab.research.google.com/github/tensorflow/docs/blob/master/site/en/guide/eager.ipynb\"><img src=\"https://www.tensorflow.org/images/colab_logo_32px.png\" />Run in Google Colab</a>\n",
    "  </td>\n",
    "  <td>\n",
    "    <a target=\"_blank\" href=\"https://github.com/tensorflow/docs/blob/master/site/en/guide/eager.ipynb\"><img src=\"https://www.tensorflow.org/images/GitHub-Mark-32px.png\" />View source on GitHub</a>\n",
    "  </td>\n",
    "  <td>\n",
    "    <a href=\"https://storage.googleapis.com/tensorflow_docs/docs/site/en/guide/eager.ipynb\"><img src=\"https://www.tensorflow.org/images/download_logo_32px.png\" />Download notebook</a>\n",
    "  </td>\n",
    "</table>"
   ]
  },
  {
   "cell_type": "markdown",
   "metadata": {
    "id": "EGjDcGxIqEfX"
   },
   "source": [
    "TensorFlow's eager execution is an imperative programming environment that\n",
    "evaluates operations immediately, without building graphs: operations return\n",
    "concrete values instead of constructing a computational graph to run later. This\n",
    "makes it easy to get started with TensorFlow and debug models, and it\n",
    "reduces boilerplate as well. To follow along with this guide, run the code\n",
    "samples below in an interactive `python` interpreter.\n",
    "\n",
    "Eager execution is a flexible machine learning platform for research and\n",
    "experimentation, providing:\n",
    "\n",
    "* *An intuitive interface*—Structure your code naturally and use Python data\n",
    "  structures. Quickly iterate on small models and small data.\n",
    "* *Easier debugging*—Call ops directly to inspect running models and test\n",
    "  changes. Use standard Python debugging tools for immediate error reporting.\n",
    "* *Natural control flow*—Use Python control flow instead of graph control\n",
    "  flow, simplifying the specification of dynamic models.\n",
    "\n",
    "Eager execution supports most TensorFlow operations and GPU acceleration.\n",
    "\n",
    "Note: Some models may experience increased overhead with eager execution\n",
    "enabled. Performance improvements are ongoing, but please\n",
    "[file a bug](https://github.com/tensorflow/tensorflow/issues) if you find a\n",
    "problem and share your benchmarks."
   ]
  },
  {
   "cell_type": "markdown",
   "metadata": {
    "id": "RBAeIwOMrYk8"
   },
   "source": [
    "## Setup and basic usage"
   ]
  },
  {
   "cell_type": "code",
   "execution_count": 2,
   "metadata": {
    "execution": {
     "iopub.execute_input": "2020-10-07T01:23:06.155338Z",
     "iopub.status.busy": "2020-10-07T01:23:06.154114Z",
     "iopub.status.idle": "2020-10-07T01:23:12.157836Z",
     "shell.execute_reply": "2020-10-07T01:23:12.157260Z"
    },
    "id": "ByNsp4VqqEfa"
   },
   "outputs": [],
   "source": [
    "import os\n",
    "\n",
    "import tensorflow as tf\n",
    "\n",
    "import cProfile"
   ]
  },
  {
   "cell_type": "markdown",
   "metadata": {
    "id": "48P3-8q4qEfe"
   },
   "source": [
    "In Tensorflow 2.0, eager execution is enabled by default."
   ]
  },
  {
   "cell_type": "code",
   "execution_count": 3,
   "metadata": {
    "execution": {
     "iopub.execute_input": "2020-10-07T01:23:12.167845Z",
     "iopub.status.busy": "2020-10-07T01:23:12.167050Z",
     "iopub.status.idle": "2020-10-07T01:23:12.172396Z",
     "shell.execute_reply": "2020-10-07T01:23:12.172822Z"
    },
    "id": "7aFsD8csqEff"
   },
   "outputs": [
    {
     "output_type": "execute_result",
     "data": {
      "text/plain": [
       "True"
      ]
     },
     "metadata": {},
     "execution_count": 3
    }
   ],
   "source": [
    "tf.executing_eagerly()"
   ]
  },
  {
   "cell_type": "markdown",
   "metadata": {
    "id": "x_G1zZT5qEfh"
   },
   "source": [
    "Now you can run TensorFlow operations and the results will return immediately:"
   ]
  },
  {
   "cell_type": "code",
   "execution_count": 4,
   "metadata": {
    "execution": {
     "iopub.execute_input": "2020-10-07T01:23:13.586112Z",
     "iopub.status.busy": "2020-10-07T01:23:13.585272Z",
     "iopub.status.idle": "2020-10-07T01:23:14.120568Z",
     "shell.execute_reply": "2020-10-07T01:23:14.119997Z"
    },
    "id": "9gsI54pbqEfj"
   },
   "outputs": [
    {
     "output_type": "stream",
     "name": "stdout",
     "text": [
      "hello, [[4.]]\n"
     ]
    }
   ],
   "source": [
    "x = [[2.]]\n",
    "m = tf.matmul(x, x)\n",
    "print(\"hello, {}\".format(m))"
   ]
  },
  {
   "cell_type": "markdown",
   "metadata": {
    "id": "ajFn6qsdqEfl"
   },
   "source": [
    "Enabling eager execution changes how TensorFlow operations behave—now they\n",
    "immediately evaluate and return their values to Python. `tf.Tensor` objects\n",
    "reference concrete values instead of symbolic handles to nodes in a computational\n",
    "graph. Since there isn't a computational graph to build and run later in a\n",
    "session, it's easy to inspect results using `print()` or a debugger. Evaluating,\n",
    "printing, and checking tensor values does not break the flow for computing\n",
    "gradients.\n",
    "\n",
    "Eager execution works nicely with [NumPy](http://www.numpy.org/). NumPy\n",
    "operations accept `tf.Tensor` arguments. The TensorFlow\n",
    "`tf.math` operations convert\n",
    "Python objects and NumPy arrays to `tf.Tensor` objects. The\n",
    "`tf.Tensor.numpy` method returns the object's value as a NumPy `ndarray`."
   ]
  },
  {
   "cell_type": "code",
   "execution_count": 5,
   "metadata": {
    "execution": {
     "iopub.execute_input": "2020-10-07T01:23:14.125113Z",
     "iopub.status.busy": "2020-10-07T01:23:14.124505Z",
     "iopub.status.idle": "2020-10-07T01:23:14.126755Z",
     "shell.execute_reply": "2020-10-07T01:23:14.127173Z"
    },
    "id": "sTO0_5TYqz1n"
   },
   "outputs": [
    {
     "output_type": "stream",
     "name": "stdout",
     "text": [
      "tf.Tensor(\n[[1 2]\n [3 4]], shape=(2, 2), dtype=int32)\n"
     ]
    }
   ],
   "source": [
    "a = tf.constant([[1, 2],\n",
    "                 [3, 4]])\n",
    "print(a)"
   ]
  },
  {
   "cell_type": "code",
   "execution_count": 6,
   "metadata": {
    "execution": {
     "iopub.execute_input": "2020-10-07T01:23:14.130924Z",
     "iopub.status.busy": "2020-10-07T01:23:14.130169Z",
     "iopub.status.idle": "2020-10-07T01:23:14.133388Z",
     "shell.execute_reply": "2020-10-07T01:23:14.132794Z"
    },
    "id": "Dp14YT8Gq4r1"
   },
   "outputs": [
    {
     "output_type": "stream",
     "name": "stdout",
     "text": [
      "tf.Tensor(\n[[2 3]\n [4 5]], shape=(2, 2), dtype=int32)\n"
     ]
    }
   ],
   "source": [
    "# Broadcasting support\n",
    "b = tf.add(a, 1)\n",
    "print(b)"
   ]
  },
  {
   "cell_type": "code",
   "execution_count": 7,
   "metadata": {
    "execution": {
     "iopub.execute_input": "2020-10-07T01:23:14.136841Z",
     "iopub.status.busy": "2020-10-07T01:23:14.136162Z",
     "iopub.status.idle": "2020-10-07T01:23:14.139165Z",
     "shell.execute_reply": "2020-10-07T01:23:14.138666Z"
    },
    "id": "69p3waMfq8cQ"
   },
   "outputs": [
    {
     "output_type": "stream",
     "name": "stdout",
     "text": [
      "tf.Tensor(\n[[ 2  6]\n [12 20]], shape=(2, 2), dtype=int32)\n"
     ]
    }
   ],
   "source": [
    "# Operator overloading is supported\n",
    "print(a * b)"
   ]
  },
  {
   "cell_type": "code",
   "execution_count": 8,
   "metadata": {
    "execution": {
     "iopub.execute_input": "2020-10-07T01:23:14.143158Z",
     "iopub.status.busy": "2020-10-07T01:23:14.142530Z",
     "iopub.status.idle": "2020-10-07T01:23:14.144677Z",
     "shell.execute_reply": "2020-10-07T01:23:14.145074Z"
    },
    "id": "Ui025t1qqEfm"
   },
   "outputs": [
    {
     "output_type": "stream",
     "name": "stdout",
     "text": [
      "[[ 2  6]\n [12 20]]\n"
     ]
    }
   ],
   "source": [
    "# Use NumPy values\n",
    "import numpy as np\n",
    "\n",
    "c = np.multiply(a, b)\n",
    "print(c)"
   ]
  },
  {
   "cell_type": "code",
   "execution_count": 9,
   "metadata": {
    "execution": {
     "iopub.execute_input": "2020-10-07T01:23:14.148710Z",
     "iopub.status.busy": "2020-10-07T01:23:14.148094Z",
     "iopub.status.idle": "2020-10-07T01:23:14.150758Z",
     "shell.execute_reply": "2020-10-07T01:23:14.150216Z"
    },
    "id": "Tq_aFRzWrCua"
   },
   "outputs": [
    {
     "output_type": "stream",
     "name": "stdout",
     "text": [
      "[[1 2]\n [3 4]]\n"
     ]
    }
   ],
   "source": [
    "# Obtain numpy value from a tensor:\n",
    "print(a.numpy())\n",
    "# => [[1 2]\n",
    "#     [3 4]]"
   ]
  },
  {
   "cell_type": "markdown",
   "metadata": {
    "id": "H08f9ss9qEft"
   },
   "source": [
    "## Dynamic control flow\n",
    "\n",
    "A major benefit of eager execution is that all the functionality of the host\n",
    "language is available while your model is executing. So, for example,\n",
    "it is easy to write [fizzbuzz](https://en.wikipedia.org/wiki/Fizz_buzz):"
   ]
  },
  {
   "cell_type": "code",
   "execution_count": 10,
   "metadata": {
    "execution": {
     "iopub.execute_input": "2020-10-07T01:23:14.156660Z",
     "iopub.status.busy": "2020-10-07T01:23:14.155971Z",
     "iopub.status.idle": "2020-10-07T01:23:14.158287Z",
     "shell.execute_reply": "2020-10-07T01:23:14.157759Z"
    },
    "id": "0fudRMeUqEfu"
   },
   "outputs": [],
   "source": [
    "def fizzbuzz(max_num):\n",
    "  counter = tf.constant(0)\n",
    "  max_num = tf.convert_to_tensor(max_num)\n",
    "  for num in range(1, max_num.numpy()+1):\n",
    "    num = tf.constant(num)\n",
    "    if int(num % 3) == 0 and int(num % 5) == 0:\n",
    "      print('FizzBuzz')\n",
    "    elif int(num % 3) == 0:\n",
    "      print('Fizz')\n",
    "    elif int(num % 5) == 0:\n",
    "      print('Buzz')\n",
    "    else:\n",
    "      print(num.numpy())\n",
    "    counter += 1"
   ]
  },
  {
   "cell_type": "code",
   "execution_count": 11,
   "metadata": {
    "execution": {
     "iopub.execute_input": "2020-10-07T01:23:14.162107Z",
     "iopub.status.busy": "2020-10-07T01:23:14.161336Z",
     "iopub.status.idle": "2020-10-07T01:23:14.168278Z",
     "shell.execute_reply": "2020-10-07T01:23:14.167763Z"
    },
    "id": "P2cKknQWrJLB"
   },
   "outputs": [
    {
     "output_type": "stream",
     "name": "stdout",
     "text": [
      "1\n2\nFizz\n4\nBuzz\nFizz\n7\n8\nFizz\nBuzz\n11\nFizz\n13\n14\nFizzBuzz\n"
     ]
    }
   ],
   "source": [
    "fizzbuzz(15)"
   ]
  },
  {
   "cell_type": "markdown",
   "metadata": {
    "id": "7kA-aC3BqEfy"
   },
   "source": [
    "This has conditionals that depend on tensor values and it prints these values\n",
    "at runtime."
   ]
  },
  {
   "cell_type": "markdown",
   "metadata": {
    "id": "8huKpuuAwICq"
   },
   "source": [
    "## Eager training"
   ]
  },
  {
   "cell_type": "markdown",
   "metadata": {
    "id": "mp2lCCZYrxHd"
   },
   "source": [
    "### Computing gradients\n",
    "\n",
    "[Automatic differentiation](https://en.wikipedia.org/wiki/Automatic_differentiation)\n",
    "is useful for implementing machine learning algorithms such as\n",
    "[backpropagation](https://en.wikipedia.org/wiki/Backpropagation) for training\n",
    "neural networks. During eager execution, use `tf.GradientTape` to trace\n",
    "operations for computing gradients later.\n",
    "\n",
    "You can use `tf.GradientTape` to train and/or compute gradients in eager. It is especially useful for complicated training loops.  \n",
    "\n",
    "Since different operations can occur during each call, all\n",
    "forward-pass operations get recorded to a \"tape\". To compute the gradient, play\n",
    "the tape backwards and then discard. A particular `tf.GradientTape` can only\n",
    "compute one gradient; subsequent calls throw a runtime error."
   ]
  },
  {
   "cell_type": "code",
   "execution_count": 12,
   "metadata": {
    "execution": {
     "iopub.execute_input": "2020-10-07T01:23:14.172822Z",
     "iopub.status.busy": "2020-10-07T01:23:14.172146Z",
     "iopub.status.idle": "2020-10-07T01:23:14.192887Z",
     "shell.execute_reply": "2020-10-07T01:23:14.192367Z"
    },
    "id": "7g1yWiSXqEf-"
   },
   "outputs": [
    {
     "output_type": "stream",
     "name": "stdout",
     "text": [
      "tf.Tensor([[2.]], shape=(1, 1), dtype=float32)\n"
     ]
    }
   ],
   "source": [
    "w = tf.Variable([[1.0]])\n",
    "with tf.GradientTape() as tape:\n",
    "  loss = w * w\n",
    "\n",
    "grad = tape.gradient(loss, w)\n",
    "print(grad)  # => tf.Tensor([[ 2.]], shape=(1, 1), dtype=float32)"
   ]
  },
  {
   "cell_type": "markdown",
   "metadata": {
    "id": "vkHs32GqweYS"
   },
   "source": [
    "### Train a model\n",
    "\n",
    "The following example creates a multi-layer model that classifies the standard\n",
    "MNIST handwritten digits. It demonstrates the optimizer and layer APIs to build\n",
    "trainable graphs in an eager execution environment."
   ]
  },
  {
   "cell_type": "code",
   "execution_count": 13,
   "metadata": {
    "execution": {
     "iopub.execute_input": "2020-10-07T01:23:14.198916Z",
     "iopub.status.busy": "2020-10-07T01:23:14.197272Z",
     "iopub.status.idle": "2020-10-07T01:23:15.696662Z",
     "shell.execute_reply": "2020-10-07T01:23:15.697069Z"
    },
    "id": "38kymXZowhhz"
   },
   "outputs": [],
   "source": [
    "# Fetch and format the mnist data\n",
    "(mnist_images, mnist_labels), _ = tf.keras.datasets.mnist.load_data()\n",
    "\n",
    "dataset = tf.data.Dataset.from_tensor_slices(\n",
    "  (tf.cast(mnist_images[...,tf.newaxis]/255, tf.float32),\n",
    "   tf.cast(mnist_labels,tf.int64)))\n",
    "dataset = dataset.shuffle(1000).batch(32)"
   ]
  },
  {
   "cell_type": "code",
   "execution_count": 14,
   "metadata": {
    "execution": {
     "iopub.execute_input": "2020-10-07T01:23:15.702914Z",
     "iopub.status.busy": "2020-10-07T01:23:15.701635Z",
     "iopub.status.idle": "2020-10-07T01:23:15.753980Z",
     "shell.execute_reply": "2020-10-07T01:23:15.754509Z"
    },
    "id": "rl1K8rOowmwT"
   },
   "outputs": [],
   "source": [
    "# Build the model\n",
    "mnist_model = tf.keras.Sequential([\n",
    "  tf.keras.layers.Conv2D(16,[3,3], activation='relu',\n",
    "                         input_shape=(None, None, 1)),\n",
    "  tf.keras.layers.Conv2D(16,[3,3], activation='relu'),\n",
    "  tf.keras.layers.GlobalAveragePooling2D(),\n",
    "  tf.keras.layers.Dense(10)\n",
    "])"
   ]
  },
  {
   "cell_type": "markdown",
   "metadata": {
    "id": "fvyk-HgGwxwl"
   },
   "source": [
    "Even without training, call the model and inspect the output in eager execution:"
   ]
  },
  {
   "cell_type": "code",
   "execution_count": 15,
   "metadata": {
    "execution": {
     "iopub.execute_input": "2020-10-07T01:23:15.759476Z",
     "iopub.status.busy": "2020-10-07T01:23:15.758855Z",
     "iopub.status.idle": "2020-10-07T01:23:17.255589Z",
     "shell.execute_reply": "2020-10-07T01:23:17.256161Z"
    },
    "id": "BsxystjBwxLS"
   },
   "outputs": [
    {
     "output_type": "stream",
     "name": "stdout",
     "text": [
      "Logits:  [[ 0.04126144  0.00204953  0.02204747  0.0086771  -0.03284835  0.02500622\n  -0.05772804 -0.04777013 -0.04862056 -0.01431195]]\n"
     ]
    }
   ],
   "source": [
    "for images,labels in dataset.take(1):\n",
    "  print(\"Logits: \", mnist_model(images[0:1]).numpy())"
   ]
  },
  {
   "cell_type": "markdown",
   "metadata": {
    "id": "Y3PGa8G7qEgB"
   },
   "source": [
    "While keras models have a builtin training loop (using the `fit` method), sometimes you need more customization. Here's an example, of a training loop implemented with eager:"
   ]
  },
  {
   "cell_type": "code",
   "execution_count": 16,
   "metadata": {
    "execution": {
     "iopub.execute_input": "2020-10-07T01:23:17.262302Z",
     "iopub.status.busy": "2020-10-07T01:23:17.261510Z",
     "iopub.status.idle": "2020-10-07T01:23:17.264100Z",
     "shell.execute_reply": "2020-10-07T01:23:17.263511Z"
    },
    "id": "bzRhM7JDnaEG"
   },
   "outputs": [],
   "source": [
    "optimizer = tf.keras.optimizers.Adam()\n",
    "loss_object = tf.keras.losses.SparseCategoricalCrossentropy(from_logits=True)\n",
    "\n",
    "loss_history = []"
   ]
  },
  {
   "cell_type": "markdown",
   "metadata": {
    "id": "tXaupYXRI2YM"
   },
   "source": [
    "Note: Use the assert functions in `tf.debugging` to check if a condition holds up. This works in eager and graph execution."
   ]
  },
  {
   "cell_type": "code",
   "execution_count": 17,
   "metadata": {
    "execution": {
     "iopub.execute_input": "2020-10-07T01:23:17.270146Z",
     "iopub.status.busy": "2020-10-07T01:23:17.269474Z",
     "iopub.status.idle": "2020-10-07T01:23:17.271432Z",
     "shell.execute_reply": "2020-10-07T01:23:17.271863Z"
    },
    "id": "DDHrigtiCIA4"
   },
   "outputs": [],
   "source": [
    "def train_step(images, labels):\n",
    "  with tf.GradientTape() as tape:\n",
    "    logits = mnist_model(images, training=True)\n",
    "    \n",
    "    # Add asserts to check the shape of the output.\n",
    "    tf.debugging.assert_equal(logits.shape, (32, 10))\n",
    "    \n",
    "    loss_value = loss_object(labels, logits)\n",
    "\n",
    "  loss_history.append(loss_value.numpy().mean())\n",
    "  grads = tape.gradient(loss_value, mnist_model.trainable_variables)\n",
    "  optimizer.apply_gradients(zip(grads, mnist_model.trainable_variables))"
   ]
  },
  {
   "cell_type": "code",
   "execution_count": 18,
   "metadata": {
    "execution": {
     "iopub.execute_input": "2020-10-07T01:23:17.276418Z",
     "iopub.status.busy": "2020-10-07T01:23:17.275772Z",
     "iopub.status.idle": "2020-10-07T01:23:17.277667Z",
     "shell.execute_reply": "2020-10-07T01:23:17.278123Z"
    },
    "id": "0m1xAXrmqEgJ"
   },
   "outputs": [],
   "source": [
    "def train(epochs):\n",
    "  for epoch in range(epochs):\n",
    "    for (batch, (images, labels)) in enumerate(dataset):\n",
    "      train_step(images, labels)\n",
    "    print ('Epoch {} finished'.format(epoch))"
   ]
  },
  {
   "cell_type": "code",
   "execution_count": 19,
   "metadata": {
    "execution": {
     "iopub.execute_input": "2020-10-07T01:23:17.282529Z",
     "iopub.status.busy": "2020-10-07T01:23:17.281850Z",
     "iopub.status.idle": "2020-10-07T01:24:00.800625Z",
     "shell.execute_reply": "2020-10-07T01:24:00.800121Z"
    },
    "id": "C5dGz0p_nf4W"
   },
   "outputs": [
    {
     "output_type": "stream",
     "name": "stdout",
     "text": [
      "Epoch 0 finished\n",
      "Epoch 1 finished\n",
      "Epoch 2 finished\n"
     ]
    }
   ],
   "source": [
    "train(epochs = 3)"
   ]
  },
  {
   "cell_type": "code",
   "execution_count": 20,
   "metadata": {
    "execution": {
     "iopub.execute_input": "2020-10-07T01:24:00.805297Z",
     "iopub.status.busy": "2020-10-07T01:24:00.804584Z",
     "iopub.status.idle": "2020-10-07T01:24:01.097381Z",
     "shell.execute_reply": "2020-10-07T01:24:01.097846Z"
    },
    "id": "5vG5ql_2vYB5"
   },
   "outputs": [
    {
     "output_type": "execute_result",
     "data": {
      "text/plain": [
       "Text(0, 0.5, 'Loss [entropy]')"
      ]
     },
     "metadata": {},
     "execution_count": 20
    },
    {
     "output_type": "display_data",
     "data": {
      "text/plain": "<Figure size 432x288 with 1 Axes>",
      "image/svg+xml": "<?xml version=\"1.0\" encoding=\"utf-8\" standalone=\"no\"?>\n<!DOCTYPE svg PUBLIC \"-//W3C//DTD SVG 1.1//EN\"\n  \"http://www.w3.org/Graphics/SVG/1.1/DTD/svg11.dtd\">\n<!-- Created with matplotlib (https://matplotlib.org/) -->\n<svg height=\"263.66695pt\" version=\"1.1\" viewBox=\"0 0 385.78125 263.66695\" width=\"385.78125pt\" xmlns=\"http://www.w3.org/2000/svg\" xmlns:xlink=\"http://www.w3.org/1999/xlink\">\n <metadata>\n  <rdf:RDF xmlns:cc=\"http://creativecommons.org/ns#\" xmlns:dc=\"http://purl.org/dc/elements/1.1/\" xmlns:rdf=\"http://www.w3.org/1999/02/22-rdf-syntax-ns#\">\n   <cc:Work>\n    <dc:type rdf:resource=\"http://purl.org/dc/dcmitype/StillImage\"/>\n    <dc:date>2020-12-13T10:07:51.165052</dc:date>\n    <dc:format>image/svg+xml</dc:format>\n    <dc:creator>\n     <cc:Agent>\n      <dc:title>Matplotlib v3.3.3, https://matplotlib.org/</dc:title>\n     </cc:Agent>\n    </dc:creator>\n   </cc:Work>\n  </rdf:RDF>\n </metadata>\n <defs>\n  <style type=\"text/css\">*{stroke-linecap:butt;stroke-linejoin:round;}</style>\n </defs>\n <g id=\"figure_1\">\n  <g id=\"patch_1\">\n   <path d=\"M 0 263.66695 \nL 385.78125 263.66695 \nL 385.78125 0 \nL 0 0 \nz\n\" style=\"fill:none;\"/>\n  </g>\n  <g id=\"axes_1\">\n   <g id=\"patch_2\">\n    <path d=\"M 43.78125 226.1107 \nL 378.58125 226.1107 \nL 378.58125 8.6707 \nL 43.78125 8.6707 \nz\n\" style=\"fill:#ffffff;\"/>\n   </g>\n   <g id=\"matplotlib.axis_1\">\n    <g id=\"xtick_1\">\n     <g id=\"line2d_1\">\n      <defs>\n       <path d=\"M 0 0 \nL 0 3.5 \n\" id=\"md7e0f1e693\" style=\"stroke:#000000;stroke-width:0.8;\"/>\n      </defs>\n      <g>\n       <use style=\"stroke:#000000;stroke-width:0.8;\" x=\"58.999432\" xlink:href=\"#md7e0f1e693\" y=\"226.1107\"/>\n      </g>\n     </g>\n     <g id=\"text_1\">\n      <!-- 0 -->\n      <g transform=\"translate(55.818182 240.709137)scale(0.1 -0.1)\">\n       <defs>\n        <path d=\"M 31.78125 66.40625 \nQ 24.171875 66.40625 20.328125 58.90625 \nQ 16.5 51.421875 16.5 36.375 \nQ 16.5 21.390625 20.328125 13.890625 \nQ 24.171875 6.390625 31.78125 6.390625 \nQ 39.453125 6.390625 43.28125 13.890625 \nQ 47.125 21.390625 47.125 36.375 \nQ 47.125 51.421875 43.28125 58.90625 \nQ 39.453125 66.40625 31.78125 66.40625 \nz\nM 31.78125 74.21875 \nQ 44.046875 74.21875 50.515625 64.515625 \nQ 56.984375 54.828125 56.984375 36.375 \nQ 56.984375 17.96875 50.515625 8.265625 \nQ 44.046875 -1.421875 31.78125 -1.421875 \nQ 19.53125 -1.421875 13.0625 8.265625 \nQ 6.59375 17.96875 6.59375 36.375 \nQ 6.59375 54.828125 13.0625 64.515625 \nQ 19.53125 74.21875 31.78125 74.21875 \nz\n\" id=\"DejaVuSans-48\"/>\n       </defs>\n       <use xlink:href=\"#DejaVuSans-48\"/>\n      </g>\n     </g>\n    </g>\n    <g id=\"xtick_2\">\n     <g id=\"line2d_2\">\n      <g>\n       <use style=\"stroke:#000000;stroke-width:0.8;\" x=\"113.118144\" xlink:href=\"#md7e0f1e693\" y=\"226.1107\"/>\n      </g>\n     </g>\n     <g id=\"text_2\">\n      <!-- 1000 -->\n      <g transform=\"translate(100.393144 240.709137)scale(0.1 -0.1)\">\n       <defs>\n        <path d=\"M 12.40625 8.296875 \nL 28.515625 8.296875 \nL 28.515625 63.921875 \nL 10.984375 60.40625 \nL 10.984375 69.390625 \nL 28.421875 72.90625 \nL 38.28125 72.90625 \nL 38.28125 8.296875 \nL 54.390625 8.296875 \nL 54.390625 0 \nL 12.40625 0 \nz\n\" id=\"DejaVuSans-49\"/>\n       </defs>\n       <use xlink:href=\"#DejaVuSans-49\"/>\n       <use x=\"63.623047\" xlink:href=\"#DejaVuSans-48\"/>\n       <use x=\"127.246094\" xlink:href=\"#DejaVuSans-48\"/>\n       <use x=\"190.869141\" xlink:href=\"#DejaVuSans-48\"/>\n      </g>\n     </g>\n    </g>\n    <g id=\"xtick_3\">\n     <g id=\"line2d_3\">\n      <g>\n       <use style=\"stroke:#000000;stroke-width:0.8;\" x=\"167.236856\" xlink:href=\"#md7e0f1e693\" y=\"226.1107\"/>\n      </g>\n     </g>\n     <g id=\"text_3\">\n      <!-- 2000 -->\n      <g transform=\"translate(154.511856 240.709137)scale(0.1 -0.1)\">\n       <defs>\n        <path d=\"M 19.1875 8.296875 \nL 53.609375 8.296875 \nL 53.609375 0 \nL 7.328125 0 \nL 7.328125 8.296875 \nQ 12.9375 14.109375 22.625 23.890625 \nQ 32.328125 33.6875 34.8125 36.53125 \nQ 39.546875 41.84375 41.421875 45.53125 \nQ 43.3125 49.21875 43.3125 52.78125 \nQ 43.3125 58.59375 39.234375 62.25 \nQ 35.15625 65.921875 28.609375 65.921875 \nQ 23.96875 65.921875 18.8125 64.3125 \nQ 13.671875 62.703125 7.8125 59.421875 \nL 7.8125 69.390625 \nQ 13.765625 71.78125 18.9375 73 \nQ 24.125 74.21875 28.421875 74.21875 \nQ 39.75 74.21875 46.484375 68.546875 \nQ 53.21875 62.890625 53.21875 53.421875 \nQ 53.21875 48.921875 51.53125 44.890625 \nQ 49.859375 40.875 45.40625 35.40625 \nQ 44.1875 33.984375 37.640625 27.21875 \nQ 31.109375 20.453125 19.1875 8.296875 \nz\n\" id=\"DejaVuSans-50\"/>\n       </defs>\n       <use xlink:href=\"#DejaVuSans-50\"/>\n       <use x=\"63.623047\" xlink:href=\"#DejaVuSans-48\"/>\n       <use x=\"127.246094\" xlink:href=\"#DejaVuSans-48\"/>\n       <use x=\"190.869141\" xlink:href=\"#DejaVuSans-48\"/>\n      </g>\n     </g>\n    </g>\n    <g id=\"xtick_4\">\n     <g id=\"line2d_4\">\n      <g>\n       <use style=\"stroke:#000000;stroke-width:0.8;\" x=\"221.355568\" xlink:href=\"#md7e0f1e693\" y=\"226.1107\"/>\n      </g>\n     </g>\n     <g id=\"text_4\">\n      <!-- 3000 -->\n      <g transform=\"translate(208.630568 240.709137)scale(0.1 -0.1)\">\n       <defs>\n        <path d=\"M 40.578125 39.3125 \nQ 47.65625 37.796875 51.625 33 \nQ 55.609375 28.21875 55.609375 21.1875 \nQ 55.609375 10.40625 48.1875 4.484375 \nQ 40.765625 -1.421875 27.09375 -1.421875 \nQ 22.515625 -1.421875 17.65625 -0.515625 \nQ 12.796875 0.390625 7.625 2.203125 \nL 7.625 11.71875 \nQ 11.71875 9.328125 16.59375 8.109375 \nQ 21.484375 6.890625 26.8125 6.890625 \nQ 36.078125 6.890625 40.9375 10.546875 \nQ 45.796875 14.203125 45.796875 21.1875 \nQ 45.796875 27.640625 41.28125 31.265625 \nQ 36.765625 34.90625 28.71875 34.90625 \nL 20.21875 34.90625 \nL 20.21875 43.015625 \nL 29.109375 43.015625 \nQ 36.375 43.015625 40.234375 45.921875 \nQ 44.09375 48.828125 44.09375 54.296875 \nQ 44.09375 59.90625 40.109375 62.90625 \nQ 36.140625 65.921875 28.71875 65.921875 \nQ 24.65625 65.921875 20.015625 65.03125 \nQ 15.375 64.15625 9.8125 62.3125 \nL 9.8125 71.09375 \nQ 15.4375 72.65625 20.34375 73.4375 \nQ 25.25 74.21875 29.59375 74.21875 \nQ 40.828125 74.21875 47.359375 69.109375 \nQ 53.90625 64.015625 53.90625 55.328125 \nQ 53.90625 49.265625 50.4375 45.09375 \nQ 46.96875 40.921875 40.578125 39.3125 \nz\n\" id=\"DejaVuSans-51\"/>\n       </defs>\n       <use xlink:href=\"#DejaVuSans-51\"/>\n       <use x=\"63.623047\" xlink:href=\"#DejaVuSans-48\"/>\n       <use x=\"127.246094\" xlink:href=\"#DejaVuSans-48\"/>\n       <use x=\"190.869141\" xlink:href=\"#DejaVuSans-48\"/>\n      </g>\n     </g>\n    </g>\n    <g id=\"xtick_5\">\n     <g id=\"line2d_5\">\n      <g>\n       <use style=\"stroke:#000000;stroke-width:0.8;\" x=\"275.47428\" xlink:href=\"#md7e0f1e693\" y=\"226.1107\"/>\n      </g>\n     </g>\n     <g id=\"text_5\">\n      <!-- 4000 -->\n      <g transform=\"translate(262.74928 240.709137)scale(0.1 -0.1)\">\n       <defs>\n        <path d=\"M 37.796875 64.3125 \nL 12.890625 25.390625 \nL 37.796875 25.390625 \nz\nM 35.203125 72.90625 \nL 47.609375 72.90625 \nL 47.609375 25.390625 \nL 58.015625 25.390625 \nL 58.015625 17.1875 \nL 47.609375 17.1875 \nL 47.609375 0 \nL 37.796875 0 \nL 37.796875 17.1875 \nL 4.890625 17.1875 \nL 4.890625 26.703125 \nz\n\" id=\"DejaVuSans-52\"/>\n       </defs>\n       <use xlink:href=\"#DejaVuSans-52\"/>\n       <use x=\"63.623047\" xlink:href=\"#DejaVuSans-48\"/>\n       <use x=\"127.246094\" xlink:href=\"#DejaVuSans-48\"/>\n       <use x=\"190.869141\" xlink:href=\"#DejaVuSans-48\"/>\n      </g>\n     </g>\n    </g>\n    <g id=\"xtick_6\">\n     <g id=\"line2d_6\">\n      <g>\n       <use style=\"stroke:#000000;stroke-width:0.8;\" x=\"329.592992\" xlink:href=\"#md7e0f1e693\" y=\"226.1107\"/>\n      </g>\n     </g>\n     <g id=\"text_6\">\n      <!-- 5000 -->\n      <g transform=\"translate(316.867992 240.709137)scale(0.1 -0.1)\">\n       <defs>\n        <path d=\"M 10.796875 72.90625 \nL 49.515625 72.90625 \nL 49.515625 64.59375 \nL 19.828125 64.59375 \nL 19.828125 46.734375 \nQ 21.96875 47.46875 24.109375 47.828125 \nQ 26.265625 48.1875 28.421875 48.1875 \nQ 40.625 48.1875 47.75 41.5 \nQ 54.890625 34.8125 54.890625 23.390625 \nQ 54.890625 11.625 47.5625 5.09375 \nQ 40.234375 -1.421875 26.90625 -1.421875 \nQ 22.3125 -1.421875 17.546875 -0.640625 \nQ 12.796875 0.140625 7.71875 1.703125 \nL 7.71875 11.625 \nQ 12.109375 9.234375 16.796875 8.0625 \nQ 21.484375 6.890625 26.703125 6.890625 \nQ 35.15625 6.890625 40.078125 11.328125 \nQ 45.015625 15.765625 45.015625 23.390625 \nQ 45.015625 31 40.078125 35.4375 \nQ 35.15625 39.890625 26.703125 39.890625 \nQ 22.75 39.890625 18.8125 39.015625 \nQ 14.890625 38.140625 10.796875 36.28125 \nz\n\" id=\"DejaVuSans-53\"/>\n       </defs>\n       <use xlink:href=\"#DejaVuSans-53\"/>\n       <use x=\"63.623047\" xlink:href=\"#DejaVuSans-48\"/>\n       <use x=\"127.246094\" xlink:href=\"#DejaVuSans-48\"/>\n       <use x=\"190.869141\" xlink:href=\"#DejaVuSans-48\"/>\n      </g>\n     </g>\n    </g>\n    <g id=\"text_7\">\n     <!-- Batch # -->\n     <g transform=\"translate(191.029687 254.387262)scale(0.1 -0.1)\">\n      <defs>\n       <path d=\"M 19.671875 34.8125 \nL 19.671875 8.109375 \nL 35.5 8.109375 \nQ 43.453125 8.109375 47.28125 11.40625 \nQ 51.125 14.703125 51.125 21.484375 \nQ 51.125 28.328125 47.28125 31.5625 \nQ 43.453125 34.8125 35.5 34.8125 \nz\nM 19.671875 64.796875 \nL 19.671875 42.828125 \nL 34.28125 42.828125 \nQ 41.5 42.828125 45.03125 45.53125 \nQ 48.578125 48.25 48.578125 53.8125 \nQ 48.578125 59.328125 45.03125 62.0625 \nQ 41.5 64.796875 34.28125 64.796875 \nz\nM 9.8125 72.90625 \nL 35.015625 72.90625 \nQ 46.296875 72.90625 52.390625 68.21875 \nQ 58.5 63.53125 58.5 54.890625 \nQ 58.5 48.1875 55.375 44.234375 \nQ 52.25 40.28125 46.1875 39.3125 \nQ 53.46875 37.75 57.5 32.78125 \nQ 61.53125 27.828125 61.53125 20.40625 \nQ 61.53125 10.640625 54.890625 5.3125 \nQ 48.25 0 35.984375 0 \nL 9.8125 0 \nz\n\" id=\"DejaVuSans-66\"/>\n       <path d=\"M 34.28125 27.484375 \nQ 23.390625 27.484375 19.1875 25 \nQ 14.984375 22.515625 14.984375 16.5 \nQ 14.984375 11.71875 18.140625 8.90625 \nQ 21.296875 6.109375 26.703125 6.109375 \nQ 34.1875 6.109375 38.703125 11.40625 \nQ 43.21875 16.703125 43.21875 25.484375 \nL 43.21875 27.484375 \nz\nM 52.203125 31.203125 \nL 52.203125 0 \nL 43.21875 0 \nL 43.21875 8.296875 \nQ 40.140625 3.328125 35.546875 0.953125 \nQ 30.953125 -1.421875 24.3125 -1.421875 \nQ 15.921875 -1.421875 10.953125 3.296875 \nQ 6 8.015625 6 15.921875 \nQ 6 25.140625 12.171875 29.828125 \nQ 18.359375 34.515625 30.609375 34.515625 \nL 43.21875 34.515625 \nL 43.21875 35.40625 \nQ 43.21875 41.609375 39.140625 45 \nQ 35.0625 48.390625 27.6875 48.390625 \nQ 23 48.390625 18.546875 47.265625 \nQ 14.109375 46.140625 10.015625 43.890625 \nL 10.015625 52.203125 \nQ 14.9375 54.109375 19.578125 55.046875 \nQ 24.21875 56 28.609375 56 \nQ 40.484375 56 46.34375 49.84375 \nQ 52.203125 43.703125 52.203125 31.203125 \nz\n\" id=\"DejaVuSans-97\"/>\n       <path d=\"M 18.3125 70.21875 \nL 18.3125 54.6875 \nL 36.8125 54.6875 \nL 36.8125 47.703125 \nL 18.3125 47.703125 \nL 18.3125 18.015625 \nQ 18.3125 11.328125 20.140625 9.421875 \nQ 21.96875 7.515625 27.59375 7.515625 \nL 36.8125 7.515625 \nL 36.8125 0 \nL 27.59375 0 \nQ 17.1875 0 13.234375 3.875 \nQ 9.28125 7.765625 9.28125 18.015625 \nL 9.28125 47.703125 \nL 2.6875 47.703125 \nL 2.6875 54.6875 \nL 9.28125 54.6875 \nL 9.28125 70.21875 \nz\n\" id=\"DejaVuSans-116\"/>\n       <path d=\"M 48.78125 52.59375 \nL 48.78125 44.1875 \nQ 44.96875 46.296875 41.140625 47.34375 \nQ 37.3125 48.390625 33.40625 48.390625 \nQ 24.65625 48.390625 19.8125 42.84375 \nQ 14.984375 37.3125 14.984375 27.296875 \nQ 14.984375 17.28125 19.8125 11.734375 \nQ 24.65625 6.203125 33.40625 6.203125 \nQ 37.3125 6.203125 41.140625 7.25 \nQ 44.96875 8.296875 48.78125 10.40625 \nL 48.78125 2.09375 \nQ 45.015625 0.34375 40.984375 -0.53125 \nQ 36.96875 -1.421875 32.421875 -1.421875 \nQ 20.0625 -1.421875 12.78125 6.34375 \nQ 5.515625 14.109375 5.515625 27.296875 \nQ 5.515625 40.671875 12.859375 48.328125 \nQ 20.21875 56 33.015625 56 \nQ 37.15625 56 41.109375 55.140625 \nQ 45.0625 54.296875 48.78125 52.59375 \nz\n\" id=\"DejaVuSans-99\"/>\n       <path d=\"M 54.890625 33.015625 \nL 54.890625 0 \nL 45.90625 0 \nL 45.90625 32.71875 \nQ 45.90625 40.484375 42.875 44.328125 \nQ 39.84375 48.1875 33.796875 48.1875 \nQ 26.515625 48.1875 22.3125 43.546875 \nQ 18.109375 38.921875 18.109375 30.90625 \nL 18.109375 0 \nL 9.078125 0 \nL 9.078125 75.984375 \nL 18.109375 75.984375 \nL 18.109375 46.1875 \nQ 21.34375 51.125 25.703125 53.5625 \nQ 30.078125 56 35.796875 56 \nQ 45.21875 56 50.046875 50.171875 \nQ 54.890625 44.34375 54.890625 33.015625 \nz\n\" id=\"DejaVuSans-104\"/>\n       <path id=\"DejaVuSans-32\"/>\n       <path d=\"M 51.125 44 \nL 36.921875 44 \nL 32.8125 27.6875 \nL 47.125 27.6875 \nz\nM 43.796875 71.78125 \nL 38.71875 51.515625 \nL 52.984375 51.515625 \nL 58.109375 71.78125 \nL 65.921875 71.78125 \nL 60.890625 51.515625 \nL 76.125 51.515625 \nL 76.125 44 \nL 58.984375 44 \nL 54.984375 27.6875 \nL 70.515625 27.6875 \nL 70.515625 20.21875 \nL 53.078125 20.21875 \nL 48 0 \nL 40.1875 0 \nL 45.21875 20.21875 \nL 30.90625 20.21875 \nL 25.875 0 \nL 18.015625 0 \nL 23.09375 20.21875 \nL 7.71875 20.21875 \nL 7.71875 27.6875 \nL 24.90625 27.6875 \nL 29 44 \nL 13.28125 44 \nL 13.28125 51.515625 \nL 30.90625 51.515625 \nL 35.890625 71.78125 \nz\n\" id=\"DejaVuSans-35\"/>\n      </defs>\n      <use xlink:href=\"#DejaVuSans-66\"/>\n      <use x=\"68.603516\" xlink:href=\"#DejaVuSans-97\"/>\n      <use x=\"129.882812\" xlink:href=\"#DejaVuSans-116\"/>\n      <use x=\"169.091797\" xlink:href=\"#DejaVuSans-99\"/>\n      <use x=\"224.072266\" xlink:href=\"#DejaVuSans-104\"/>\n      <use x=\"287.451172\" xlink:href=\"#DejaVuSans-32\"/>\n      <use x=\"319.238281\" xlink:href=\"#DejaVuSans-35\"/>\n     </g>\n    </g>\n   </g>\n   <g id=\"matplotlib.axis_2\">\n    <g id=\"ytick_1\">\n     <g id=\"line2d_7\">\n      <defs>\n       <path d=\"M 0 0 \nL -3.5 0 \n\" id=\"m61256823cf\" style=\"stroke:#000000;stroke-width:0.8;\"/>\n      </defs>\n      <g>\n       <use style=\"stroke:#000000;stroke-width:0.8;\" x=\"43.78125\" xlink:href=\"#m61256823cf\" y=\"218.007121\"/>\n      </g>\n     </g>\n     <g id=\"text_8\">\n      <!-- 0.8 -->\n      <g transform=\"translate(20.878125 221.80634)scale(0.1 -0.1)\">\n       <defs>\n        <path d=\"M 10.6875 12.40625 \nL 21 12.40625 \nL 21 0 \nL 10.6875 0 \nz\n\" id=\"DejaVuSans-46\"/>\n        <path d=\"M 31.78125 34.625 \nQ 24.75 34.625 20.71875 30.859375 \nQ 16.703125 27.09375 16.703125 20.515625 \nQ 16.703125 13.921875 20.71875 10.15625 \nQ 24.75 6.390625 31.78125 6.390625 \nQ 38.8125 6.390625 42.859375 10.171875 \nQ 46.921875 13.96875 46.921875 20.515625 \nQ 46.921875 27.09375 42.890625 30.859375 \nQ 38.875 34.625 31.78125 34.625 \nz\nM 21.921875 38.8125 \nQ 15.578125 40.375 12.03125 44.71875 \nQ 8.5 49.078125 8.5 55.328125 \nQ 8.5 64.0625 14.71875 69.140625 \nQ 20.953125 74.21875 31.78125 74.21875 \nQ 42.671875 74.21875 48.875 69.140625 \nQ 55.078125 64.0625 55.078125 55.328125 \nQ 55.078125 49.078125 51.53125 44.71875 \nQ 48 40.375 41.703125 38.8125 \nQ 48.828125 37.15625 52.796875 32.3125 \nQ 56.78125 27.484375 56.78125 20.515625 \nQ 56.78125 9.90625 50.3125 4.234375 \nQ 43.84375 -1.421875 31.78125 -1.421875 \nQ 19.734375 -1.421875 13.25 4.234375 \nQ 6.78125 9.90625 6.78125 20.515625 \nQ 6.78125 27.484375 10.78125 32.3125 \nQ 14.796875 37.15625 21.921875 38.8125 \nz\nM 18.3125 54.390625 \nQ 18.3125 48.734375 21.84375 45.5625 \nQ 25.390625 42.390625 31.78125 42.390625 \nQ 38.140625 42.390625 41.71875 45.5625 \nQ 45.3125 48.734375 45.3125 54.390625 \nQ 45.3125 60.0625 41.71875 63.234375 \nQ 38.140625 66.40625 31.78125 66.40625 \nQ 25.390625 66.40625 21.84375 63.234375 \nQ 18.3125 60.0625 18.3125 54.390625 \nz\n\" id=\"DejaVuSans-56\"/>\n       </defs>\n       <use xlink:href=\"#DejaVuSans-48\"/>\n       <use x=\"63.623047\" xlink:href=\"#DejaVuSans-46\"/>\n       <use x=\"95.410156\" xlink:href=\"#DejaVuSans-56\"/>\n      </g>\n     </g>\n    </g>\n    <g id=\"ytick_2\">\n     <g id=\"line2d_8\">\n      <g>\n       <use style=\"stroke:#000000;stroke-width:0.8;\" x=\"43.78125\" xlink:href=\"#m61256823cf\" y=\"192.131133\"/>\n      </g>\n     </g>\n     <g id=\"text_9\">\n      <!-- 1.0 -->\n      <g transform=\"translate(20.878125 195.930352)scale(0.1 -0.1)\">\n       <use xlink:href=\"#DejaVuSans-49\"/>\n       <use x=\"63.623047\" xlink:href=\"#DejaVuSans-46\"/>\n       <use x=\"95.410156\" xlink:href=\"#DejaVuSans-48\"/>\n      </g>\n     </g>\n    </g>\n    <g id=\"ytick_3\">\n     <g id=\"line2d_9\">\n      <g>\n       <use style=\"stroke:#000000;stroke-width:0.8;\" x=\"43.78125\" xlink:href=\"#m61256823cf\" y=\"166.255145\"/>\n      </g>\n     </g>\n     <g id=\"text_10\">\n      <!-- 1.2 -->\n      <g transform=\"translate(20.878125 170.054364)scale(0.1 -0.1)\">\n       <use xlink:href=\"#DejaVuSans-49\"/>\n       <use x=\"63.623047\" xlink:href=\"#DejaVuSans-46\"/>\n       <use x=\"95.410156\" xlink:href=\"#DejaVuSans-50\"/>\n      </g>\n     </g>\n    </g>\n    <g id=\"ytick_4\">\n     <g id=\"line2d_10\">\n      <g>\n       <use style=\"stroke:#000000;stroke-width:0.8;\" x=\"43.78125\" xlink:href=\"#m61256823cf\" y=\"140.379158\"/>\n      </g>\n     </g>\n     <g id=\"text_11\">\n      <!-- 1.4 -->\n      <g transform=\"translate(20.878125 144.178376)scale(0.1 -0.1)\">\n       <use xlink:href=\"#DejaVuSans-49\"/>\n       <use x=\"63.623047\" xlink:href=\"#DejaVuSans-46\"/>\n       <use x=\"95.410156\" xlink:href=\"#DejaVuSans-52\"/>\n      </g>\n     </g>\n    </g>\n    <g id=\"ytick_5\">\n     <g id=\"line2d_11\">\n      <g>\n       <use style=\"stroke:#000000;stroke-width:0.8;\" x=\"43.78125\" xlink:href=\"#m61256823cf\" y=\"114.50317\"/>\n      </g>\n     </g>\n     <g id=\"text_12\">\n      <!-- 1.6 -->\n      <g transform=\"translate(20.878125 118.302389)scale(0.1 -0.1)\">\n       <defs>\n        <path d=\"M 33.015625 40.375 \nQ 26.375 40.375 22.484375 35.828125 \nQ 18.609375 31.296875 18.609375 23.390625 \nQ 18.609375 15.53125 22.484375 10.953125 \nQ 26.375 6.390625 33.015625 6.390625 \nQ 39.65625 6.390625 43.53125 10.953125 \nQ 47.40625 15.53125 47.40625 23.390625 \nQ 47.40625 31.296875 43.53125 35.828125 \nQ 39.65625 40.375 33.015625 40.375 \nz\nM 52.59375 71.296875 \nL 52.59375 62.3125 \nQ 48.875 64.0625 45.09375 64.984375 \nQ 41.3125 65.921875 37.59375 65.921875 \nQ 27.828125 65.921875 22.671875 59.328125 \nQ 17.53125 52.734375 16.796875 39.40625 \nQ 19.671875 43.65625 24.015625 45.921875 \nQ 28.375 48.1875 33.59375 48.1875 \nQ 44.578125 48.1875 50.953125 41.515625 \nQ 57.328125 34.859375 57.328125 23.390625 \nQ 57.328125 12.15625 50.6875 5.359375 \nQ 44.046875 -1.421875 33.015625 -1.421875 \nQ 20.359375 -1.421875 13.671875 8.265625 \nQ 6.984375 17.96875 6.984375 36.375 \nQ 6.984375 53.65625 15.1875 63.9375 \nQ 23.390625 74.21875 37.203125 74.21875 \nQ 40.921875 74.21875 44.703125 73.484375 \nQ 48.484375 72.75 52.59375 71.296875 \nz\n\" id=\"DejaVuSans-54\"/>\n       </defs>\n       <use xlink:href=\"#DejaVuSans-49\"/>\n       <use x=\"63.623047\" xlink:href=\"#DejaVuSans-46\"/>\n       <use x=\"95.410156\" xlink:href=\"#DejaVuSans-54\"/>\n      </g>\n     </g>\n    </g>\n    <g id=\"ytick_6\">\n     <g id=\"line2d_12\">\n      <g>\n       <use style=\"stroke:#000000;stroke-width:0.8;\" x=\"43.78125\" xlink:href=\"#m61256823cf\" y=\"88.627182\"/>\n      </g>\n     </g>\n     <g id=\"text_13\">\n      <!-- 1.8 -->\n      <g transform=\"translate(20.878125 92.426401)scale(0.1 -0.1)\">\n       <use xlink:href=\"#DejaVuSans-49\"/>\n       <use x=\"63.623047\" xlink:href=\"#DejaVuSans-46\"/>\n       <use x=\"95.410156\" xlink:href=\"#DejaVuSans-56\"/>\n      </g>\n     </g>\n    </g>\n    <g id=\"ytick_7\">\n     <g id=\"line2d_13\">\n      <g>\n       <use style=\"stroke:#000000;stroke-width:0.8;\" x=\"43.78125\" xlink:href=\"#m61256823cf\" y=\"62.751194\"/>\n      </g>\n     </g>\n     <g id=\"text_14\">\n      <!-- 2.0 -->\n      <g transform=\"translate(20.878125 66.550413)scale(0.1 -0.1)\">\n       <use xlink:href=\"#DejaVuSans-50\"/>\n       <use x=\"63.623047\" xlink:href=\"#DejaVuSans-46\"/>\n       <use x=\"95.410156\" xlink:href=\"#DejaVuSans-48\"/>\n      </g>\n     </g>\n    </g>\n    <g id=\"ytick_8\">\n     <g id=\"line2d_14\">\n      <g>\n       <use style=\"stroke:#000000;stroke-width:0.8;\" x=\"43.78125\" xlink:href=\"#m61256823cf\" y=\"36.875207\"/>\n      </g>\n     </g>\n     <g id=\"text_15\">\n      <!-- 2.2 -->\n      <g transform=\"translate(20.878125 40.674425)scale(0.1 -0.1)\">\n       <use xlink:href=\"#DejaVuSans-50\"/>\n       <use x=\"63.623047\" xlink:href=\"#DejaVuSans-46\"/>\n       <use x=\"95.410156\" xlink:href=\"#DejaVuSans-50\"/>\n      </g>\n     </g>\n    </g>\n    <g id=\"ytick_9\">\n     <g id=\"line2d_15\">\n      <g>\n       <use style=\"stroke:#000000;stroke-width:0.8;\" x=\"43.78125\" xlink:href=\"#m61256823cf\" y=\"10.999219\"/>\n      </g>\n     </g>\n     <g id=\"text_16\">\n      <!-- 2.4 -->\n      <g transform=\"translate(20.878125 14.798437)scale(0.1 -0.1)\">\n       <use xlink:href=\"#DejaVuSans-50\"/>\n       <use x=\"63.623047\" xlink:href=\"#DejaVuSans-46\"/>\n       <use x=\"95.410156\" xlink:href=\"#DejaVuSans-52\"/>\n      </g>\n     </g>\n    </g>\n    <g id=\"text_17\">\n     <!-- Loss [entropy] -->\n     <g transform=\"translate(14.798438 153.189919)rotate(-90)scale(0.1 -0.1)\">\n      <defs>\n       <path d=\"M 9.8125 72.90625 \nL 19.671875 72.90625 \nL 19.671875 8.296875 \nL 55.171875 8.296875 \nL 55.171875 0 \nL 9.8125 0 \nz\n\" id=\"DejaVuSans-76\"/>\n       <path d=\"M 30.609375 48.390625 \nQ 23.390625 48.390625 19.1875 42.75 \nQ 14.984375 37.109375 14.984375 27.296875 \nQ 14.984375 17.484375 19.15625 11.84375 \nQ 23.34375 6.203125 30.609375 6.203125 \nQ 37.796875 6.203125 41.984375 11.859375 \nQ 46.1875 17.53125 46.1875 27.296875 \nQ 46.1875 37.015625 41.984375 42.703125 \nQ 37.796875 48.390625 30.609375 48.390625 \nz\nM 30.609375 56 \nQ 42.328125 56 49.015625 48.375 \nQ 55.71875 40.765625 55.71875 27.296875 \nQ 55.71875 13.875 49.015625 6.21875 \nQ 42.328125 -1.421875 30.609375 -1.421875 \nQ 18.84375 -1.421875 12.171875 6.21875 \nQ 5.515625 13.875 5.515625 27.296875 \nQ 5.515625 40.765625 12.171875 48.375 \nQ 18.84375 56 30.609375 56 \nz\n\" id=\"DejaVuSans-111\"/>\n       <path d=\"M 44.28125 53.078125 \nL 44.28125 44.578125 \nQ 40.484375 46.53125 36.375 47.5 \nQ 32.28125 48.484375 27.875 48.484375 \nQ 21.1875 48.484375 17.84375 46.4375 \nQ 14.5 44.390625 14.5 40.28125 \nQ 14.5 37.15625 16.890625 35.375 \nQ 19.28125 33.59375 26.515625 31.984375 \nL 29.59375 31.296875 \nQ 39.15625 29.25 43.1875 25.515625 \nQ 47.21875 21.78125 47.21875 15.09375 \nQ 47.21875 7.46875 41.1875 3.015625 \nQ 35.15625 -1.421875 24.609375 -1.421875 \nQ 20.21875 -1.421875 15.453125 -0.5625 \nQ 10.6875 0.296875 5.421875 2 \nL 5.421875 11.28125 \nQ 10.40625 8.6875 15.234375 7.390625 \nQ 20.0625 6.109375 24.8125 6.109375 \nQ 31.15625 6.109375 34.5625 8.28125 \nQ 37.984375 10.453125 37.984375 14.40625 \nQ 37.984375 18.0625 35.515625 20.015625 \nQ 33.0625 21.96875 24.703125 23.78125 \nL 21.578125 24.515625 \nQ 13.234375 26.265625 9.515625 29.90625 \nQ 5.8125 33.546875 5.8125 39.890625 \nQ 5.8125 47.609375 11.28125 51.796875 \nQ 16.75 56 26.8125 56 \nQ 31.78125 56 36.171875 55.265625 \nQ 40.578125 54.546875 44.28125 53.078125 \nz\n\" id=\"DejaVuSans-115\"/>\n       <path d=\"M 8.59375 75.984375 \nL 29.296875 75.984375 \nL 29.296875 69 \nL 17.578125 69 \nL 17.578125 -6.203125 \nL 29.296875 -6.203125 \nL 29.296875 -13.1875 \nL 8.59375 -13.1875 \nz\n\" id=\"DejaVuSans-91\"/>\n       <path d=\"M 56.203125 29.59375 \nL 56.203125 25.203125 \nL 14.890625 25.203125 \nQ 15.484375 15.921875 20.484375 11.0625 \nQ 25.484375 6.203125 34.421875 6.203125 \nQ 39.59375 6.203125 44.453125 7.46875 \nQ 49.3125 8.734375 54.109375 11.28125 \nL 54.109375 2.78125 \nQ 49.265625 0.734375 44.1875 -0.34375 \nQ 39.109375 -1.421875 33.890625 -1.421875 \nQ 20.796875 -1.421875 13.15625 6.1875 \nQ 5.515625 13.8125 5.515625 26.8125 \nQ 5.515625 40.234375 12.765625 48.109375 \nQ 20.015625 56 32.328125 56 \nQ 43.359375 56 49.78125 48.890625 \nQ 56.203125 41.796875 56.203125 29.59375 \nz\nM 47.21875 32.234375 \nQ 47.125 39.59375 43.09375 43.984375 \nQ 39.0625 48.390625 32.421875 48.390625 \nQ 24.90625 48.390625 20.390625 44.140625 \nQ 15.875 39.890625 15.1875 32.171875 \nz\n\" id=\"DejaVuSans-101\"/>\n       <path d=\"M 54.890625 33.015625 \nL 54.890625 0 \nL 45.90625 0 \nL 45.90625 32.71875 \nQ 45.90625 40.484375 42.875 44.328125 \nQ 39.84375 48.1875 33.796875 48.1875 \nQ 26.515625 48.1875 22.3125 43.546875 \nQ 18.109375 38.921875 18.109375 30.90625 \nL 18.109375 0 \nL 9.078125 0 \nL 9.078125 54.6875 \nL 18.109375 54.6875 \nL 18.109375 46.1875 \nQ 21.34375 51.125 25.703125 53.5625 \nQ 30.078125 56 35.796875 56 \nQ 45.21875 56 50.046875 50.171875 \nQ 54.890625 44.34375 54.890625 33.015625 \nz\n\" id=\"DejaVuSans-110\"/>\n       <path d=\"M 41.109375 46.296875 \nQ 39.59375 47.171875 37.8125 47.578125 \nQ 36.03125 48 33.890625 48 \nQ 26.265625 48 22.1875 43.046875 \nQ 18.109375 38.09375 18.109375 28.8125 \nL 18.109375 0 \nL 9.078125 0 \nL 9.078125 54.6875 \nL 18.109375 54.6875 \nL 18.109375 46.1875 \nQ 20.953125 51.171875 25.484375 53.578125 \nQ 30.03125 56 36.53125 56 \nQ 37.453125 56 38.578125 55.875 \nQ 39.703125 55.765625 41.0625 55.515625 \nz\n\" id=\"DejaVuSans-114\"/>\n       <path d=\"M 18.109375 8.203125 \nL 18.109375 -20.796875 \nL 9.078125 -20.796875 \nL 9.078125 54.6875 \nL 18.109375 54.6875 \nL 18.109375 46.390625 \nQ 20.953125 51.265625 25.265625 53.625 \nQ 29.59375 56 35.59375 56 \nQ 45.5625 56 51.78125 48.09375 \nQ 58.015625 40.1875 58.015625 27.296875 \nQ 58.015625 14.40625 51.78125 6.484375 \nQ 45.5625 -1.421875 35.59375 -1.421875 \nQ 29.59375 -1.421875 25.265625 0.953125 \nQ 20.953125 3.328125 18.109375 8.203125 \nz\nM 48.6875 27.296875 \nQ 48.6875 37.203125 44.609375 42.84375 \nQ 40.53125 48.484375 33.40625 48.484375 \nQ 26.265625 48.484375 22.1875 42.84375 \nQ 18.109375 37.203125 18.109375 27.296875 \nQ 18.109375 17.390625 22.1875 11.75 \nQ 26.265625 6.109375 33.40625 6.109375 \nQ 40.53125 6.109375 44.609375 11.75 \nQ 48.6875 17.390625 48.6875 27.296875 \nz\n\" id=\"DejaVuSans-112\"/>\n       <path d=\"M 32.171875 -5.078125 \nQ 28.375 -14.84375 24.75 -17.8125 \nQ 21.140625 -20.796875 15.09375 -20.796875 \nL 7.90625 -20.796875 \nL 7.90625 -13.28125 \nL 13.1875 -13.28125 \nQ 16.890625 -13.28125 18.9375 -11.515625 \nQ 21 -9.765625 23.484375 -3.21875 \nL 25.09375 0.875 \nL 2.984375 54.6875 \nL 12.5 54.6875 \nL 29.59375 11.921875 \nL 46.6875 54.6875 \nL 56.203125 54.6875 \nz\n\" id=\"DejaVuSans-121\"/>\n       <path d=\"M 30.421875 75.984375 \nL 30.421875 -13.1875 \nL 9.71875 -13.1875 \nL 9.71875 -6.203125 \nL 21.390625 -6.203125 \nL 21.390625 69 \nL 9.71875 69 \nL 9.71875 75.984375 \nz\n\" id=\"DejaVuSans-93\"/>\n      </defs>\n      <use xlink:href=\"#DejaVuSans-76\"/>\n      <use x=\"53.962891\" xlink:href=\"#DejaVuSans-111\"/>\n      <use x=\"115.144531\" xlink:href=\"#DejaVuSans-115\"/>\n      <use x=\"167.244141\" xlink:href=\"#DejaVuSans-115\"/>\n      <use x=\"219.34375\" xlink:href=\"#DejaVuSans-32\"/>\n      <use x=\"251.130859\" xlink:href=\"#DejaVuSans-91\"/>\n      <use x=\"290.144531\" xlink:href=\"#DejaVuSans-101\"/>\n      <use x=\"351.667969\" xlink:href=\"#DejaVuSans-110\"/>\n      <use x=\"415.046875\" xlink:href=\"#DejaVuSans-116\"/>\n      <use x=\"454.255859\" xlink:href=\"#DejaVuSans-114\"/>\n      <use x=\"493.119141\" xlink:href=\"#DejaVuSans-111\"/>\n      <use x=\"554.300781\" xlink:href=\"#DejaVuSans-112\"/>\n      <use x=\"617.777344\" xlink:href=\"#DejaVuSans-121\"/>\n      <use x=\"676.957031\" xlink:href=\"#DejaVuSans-93\"/>\n     </g>\n    </g>\n   </g>\n   <g id=\"line2d_16\">\n    <path clip-path=\"url(#p6e0264a973)\" d=\"M 58.999432 23.336759 \nL 59.053551 24.463739 \nL 59.107669 21.961249 \nL 59.161788 23.839034 \nL 59.215907 22.75891 \nL 59.270025 23.452588 \nL 59.324144 23.804794 \nL 59.378263 23.365107 \nL 59.648856 24.980296 \nL 59.91945 22.646289 \nL 59.973569 24.843831 \nL 60.027687 23.358167 \nL 60.081806 23.092115 \nL 60.135925 25.3284 \nL 60.190043 23.572088 \nL 60.244162 23.521314 \nL 60.3524 23.982101 \nL 60.406518 23.45265 \nL 60.568874 24.357195 \nL 60.622993 23.568232 \nL 60.677112 24.368855 \nL 60.731231 23.961187 \nL 60.785349 24.363549 \nL 60.839468 24.387486 \nL 60.893587 24.263822 \nL 60.947705 23.203163 \nL 61.001824 24.149412 \nL 61.055943 24.596657 \nL 61.110062 24.488355 \nL 61.16418 24.293589 \nL 61.272418 25.454778 \nL 61.434774 22.979062 \nL 61.543011 24.192968 \nL 61.59713 22.675655 \nL 61.651249 23.780426 \nL 61.705367 25.44392 \nL 61.759486 24.804902 \nL 61.867724 22.92616 \nL 61.975961 24.896517 \nL 62.03008 24.791885 \nL 62.084198 23.377261 \nL 62.138317 23.429484 \nL 62.192436 25.256435 \nL 62.246555 24.558191 \nL 62.300673 24.364135 \nL 62.463029 25.031686 \nL 62.517148 24.316447 \nL 62.571267 25.044889 \nL 62.679504 24.457138 \nL 62.733623 26.586632 \nL 62.787742 25.133789 \nL 62.895979 25.028972 \nL 63.058335 27.246224 \nL 63.112454 25.753496 \nL 63.166573 27.659753 \nL 63.220691 23.320688 \nL 63.27481 25.162877 \nL 63.328929 24.607237 \nL 63.383047 27.588035 \nL 63.437166 24.522872 \nL 63.653641 26.897905 \nL 63.70776 21.725365 \nL 63.870116 27.806151 \nL 63.924235 28.024977 \nL 63.978353 25.995519 \nL 64.086591 30.318883 \nL 64.248947 22.406889 \nL 64.303066 29.455024 \nL 64.357184 18.554336 \nL 64.411303 22.338595 \nL 64.465422 33.991014 \nL 64.51954 24.413459 \nL 64.573659 26.261601 \nL 64.681897 21.301471 \nL 64.844253 27.087919 \nL 64.898371 23.955079 \nL 64.95249 29.312452 \nL 65.006609 21.668052 \nL 65.060728 28.723097 \nL 65.114846 27.04202 \nL 65.168965 28.740864 \nL 65.223084 29.416898 \nL 65.277202 29.265997 \nL 65.331321 28.441159 \nL 65.493677 22.434867 \nL 65.547796 22.959598 \nL 65.601915 28.263298 \nL 65.656033 26.74725 \nL 65.710152 25.935491 \nL 65.81839 29.216025 \nL 65.980746 25.203471 \nL 66.034864 26.442979 \nL 66.088983 30.598199 \nL 66.251339 25.104546 \nL 66.413695 29.134097 \nL 66.521933 28.143304 \nL 66.63017 31.007841 \nL 66.684289 24.957655 \nL 66.738408 27.426923 \nL 66.792526 30.925172 \nL 66.846645 25.122067 \nL 66.954882 33.818458 \nL 67.009001 32.986557 \nL 67.06312 36.310677 \nL 67.117239 34.650452 \nL 67.279595 22.735004 \nL 67.49607 42.1086 \nL 67.604307 27.375903 \nL 67.658426 31.849274 \nL 67.820782 25.588313 \nL 67.983138 40.800027 \nL 68.145494 20.519541 \nL 68.199613 32.316322 \nL 68.253732 31.309151 \nL 68.361969 29.559348 \nL 68.416088 33.294683 \nL 68.470206 24.99757 \nL 68.524325 29.736715 \nL 68.686681 34.354017 \nL 68.7408 32.154285 \nL 68.794919 34.538788 \nL 68.849037 27.440434 \nL 68.903156 36.4886 \nL 68.957275 28.274526 \nL 69.119631 33.444228 \nL 69.227868 28.364135 \nL 69.281987 28.661465 \nL 69.336106 30.361667 \nL 69.390225 38.115233 \nL 69.444343 34.315952 \nL 69.552581 33.020889 \nL 69.606699 33.481583 \nL 69.660818 37.182093 \nL 69.769056 31.195327 \nL 69.823174 33.832401 \nL 69.877293 42.559022 \nL 69.931412 33.91945 \nL 69.98553 35.199645 \nL 70.039649 34.384154 \nL 70.093768 41.01401 \nL 70.147886 32.31549 \nL 70.202005 39.356438 \nL 70.256124 35.2614 \nL 70.310243 37.794058 \nL 70.364361 43.042203 \nL 70.472599 30.596718 \nL 70.580836 40.982515 \nL 70.634955 36.131397 \nL 70.689074 37.6881 \nL 70.743192 38.854841 \nL 70.797311 28.285291 \nL 70.85143 31.985863 \nL 70.905548 39.34012 \nL 70.959667 38.761901 \nL 71.013786 33.820772 \nL 71.122023 42.438721 \nL 71.284379 32.454392 \nL 71.446736 44.758846 \nL 71.500854 43.946748 \nL 71.609092 32.918355 \nL 71.771448 47.213216 \nL 71.825567 45.923706 \nL 71.879685 41.474148 \nL 71.933804 41.972752 \nL 71.987923 42.146295 \nL 72.042041 34.086423 \nL 72.204398 48.014919 \nL 72.258516 45.184436 \nL 72.312635 46.294667 \nL 72.366754 53.379386 \nL 72.420872 47.355666 \nL 72.52911 41.006051 \nL 72.583229 33.631466 \nL 72.745585 55.778664 \nL 72.907941 44.085866 \nL 72.96206 47.319884 \nL 73.124416 37.018637 \nL 73.178534 46.739228 \nL 73.232653 34.882604 \nL 73.286772 37.632206 \nL 73.449128 65.154174 \nL 73.503247 36.439739 \nL 73.557365 51.211087 \nL 73.611484 53.88601 \nL 73.665603 53.226202 \nL 73.719721 52.879517 \nL 73.77384 48.531537 \nL 73.936196 54.97073 \nL 74.044434 59.119811 \nL 74.098552 52.461145 \nL 74.152671 54.121678 \nL 74.20679 65.238262 \nL 74.260909 40.079913 \nL 74.315027 55.440616 \nL 74.423265 49.273182 \nL 74.585621 72.551955 \nL 74.856214 41.074315 \nL 75.018571 62.168502 \nL 75.072689 69.235115 \nL 75.126808 48.249538 \nL 75.180927 53.885702 \nL 75.235045 49.6976 \nL 75.397402 65.363715 \nL 75.505639 75.196849 \nL 75.722114 35.386884 \nL 75.776233 74.5545 \nL 75.88447 73.943583 \nL 75.938589 51.258159 \nL 75.992707 65.260471 \nL 76.046826 55.556784 \nL 76.209182 70.191929 \nL 76.263301 45.280123 \nL 76.31742 78.110509 \nL 76.371538 72.690333 \nL 76.425657 70.733518 \nL 76.479776 54.782474 \nL 76.533895 77.659177 \nL 76.642132 48.137626 \nL 76.750369 76.562134 \nL 76.858607 53.817377 \nL 76.912725 68.949846 \nL 76.966844 65.952746 \nL 77.020963 57.021504 \nL 77.075082 71.298011 \nL 77.1292 62.356543 \nL 77.237438 57.334226 \nL 77.399794 78.156332 \nL 77.453913 50.421569 \nL 77.508031 76.38762 \nL 77.56215 66.102552 \nL 77.670387 86.544489 \nL 77.832744 59.539078 \nL 77.886862 81.984223 \nL 77.940981 70.212211 \nL 77.9951 69.997025 \nL 78.049218 78.18195 \nL 78.103337 75.001775 \nL 78.157456 70.418606 \nL 78.211575 78.606615 \nL 78.319812 59.80658 \nL 78.373931 76.10727 \nL 78.428049 66.428199 \nL 78.482168 58.365335 \nL 78.536287 81.064285 \nL 78.590406 66.483924 \nL 78.644524 66.606554 \nL 78.698643 72.671486 \nL 78.752762 91.383053 \nL 78.860999 45.103156 \nL 78.915118 88.336212 \nL 78.969237 63.245727 \nL 79.023355 64.895124 \nL 79.077474 71.873099 \nL 79.131593 64.225029 \nL 79.185711 70.727596 \nL 79.23983 77.162223 \nL 79.293949 68.581291 \nL 79.348068 91.119715 \nL 79.402186 62.496463 \nL 79.456305 72.984409 \nL 79.510424 86.895986 \nL 79.564542 58.891701 \nL 79.618661 67.530548 \nL 79.67278 62.670685 \nL 79.835136 82.801904 \nL 79.943373 64.260579 \nL 79.997492 72.619 \nL 80.051611 51.781225 \nL 80.213967 82.297717 \nL 80.376323 63.949815 \nL 80.430442 89.113176 \nL 80.48456 78.692599 \nL 80.538679 45.223581 \nL 80.701035 96.192482 \nL 80.755154 46.486687 \nL 80.809273 68.433104 \nL 80.863391 52.412716 \nL 80.971629 92.419344 \nL 81.025748 89.565356 \nL 81.133985 66.923996 \nL 81.296341 90.270509 \nL 81.458697 49.399498 \nL 81.512816 94.375449 \nL 81.566935 55.382563 \nL 81.729291 89.141894 \nL 81.78341 90.687863 \nL 81.891647 85.285887 \nL 81.945766 61.112593 \nL 81.999884 74.615977 \nL 82.216359 88.752395 \nL 82.270478 61.827031 \nL 82.324597 101.975645 \nL 82.378715 77.882028 \nL 82.541072 66.105205 \nL 82.703428 101.946588 \nL 82.811665 64.818285 \nL 82.919903 83.894937 \nL 82.974021 78.238399 \nL 83.136377 106.337013 \nL 83.244615 85.307818 \nL 83.298734 90.977513 \nL 83.352852 90.030368 \nL 83.406971 59.536672 \nL 83.46109 98.94594 \nL 83.515208 85.819301 \nL 83.677564 53.347213 \nL 83.731683 86.289696 \nL 83.785802 65.779187 \nL 83.839921 82.548808 \nL 83.894039 80.987446 \nL 84.056395 67.857784 \nL 84.110514 98.054459 \nL 84.164633 96.656492 \nL 84.326989 72.672519 \nL 84.435226 88.239555 \nL 84.597583 68.328966 \nL 84.651701 103.068139 \nL 84.70582 102.568702 \nL 84.759939 82.519874 \nL 84.814057 84.722412 \nL 84.868176 84.188982 \nL 84.922295 121.924361 \nL 84.976414 88.306877 \nL 85.030532 69.364917 \nL 85.084651 85.243565 \nL 85.13877 101.613445 \nL 85.192888 93.929854 \nL 85.247007 69.635812 \nL 85.301126 90.446674 \nL 85.409363 70.950308 \nL 85.571719 116.896291 \nL 85.734076 73.521725 \nL 85.95055 95.472492 \nL 86.004669 83.125994 \nL 86.112907 112.639894 \nL 86.221144 83.726006 \nL 86.3835 100.721608 \nL 86.437619 80.763917 \nL 86.491738 84.51702 \nL 86.599975 100.446688 \nL 86.654094 80.057113 \nL 86.708212 86.629132 \nL 86.762331 85.158984 \nL 86.81645 55.616565 \nL 86.870569 111.404643 \nL 86.924687 87.104663 \nL 87.032925 95.545459 \nL 87.087043 88.15431 \nL 87.141162 91.537316 \nL 87.195281 92.727871 \nL 87.249399 111.483795 \nL 87.303518 92.919228 \nL 87.357637 68.10795 \nL 87.411756 91.757222 \nL 87.519993 73.118082 \nL 87.574112 92.339759 \nL 87.62823 64.478402 \nL 87.682349 76.983529 \nL 87.736468 81.289188 \nL 87.790587 71.105975 \nL 87.844705 98.225781 \nL 87.898824 82.041351 \nL 87.952943 96.462621 \nL 88.007061 78.325633 \nL 88.06118 91.023196 \nL 88.169418 110.540229 \nL 88.223536 47.910287 \nL 88.277655 91.185326 \nL 88.385892 86.445888 \nL 88.548249 115.663445 \nL 88.602367 69.552788 \nL 88.656486 88.759165 \nL 88.710605 93.270617 \nL 88.764723 78.130436 \nL 88.818842 92.824375 \nL 88.872961 86.378041 \nL 88.92708 107.02978 \nL 88.981198 98.385674 \nL 89.035317 98.63823 \nL 89.089436 65.42951 \nL 89.143554 98.346576 \nL 89.251792 129.212482 \nL 89.305911 114.63391 \nL 89.360029 94.738683 \nL 89.414148 124.506189 \nL 89.468267 78.641039 \nL 89.522385 110.995278 \nL 89.630623 70.775146 \nL 89.684742 87.202508 \nL 89.73886 98.070005 \nL 89.792979 96.963338 \nL 89.955335 88.903342 \nL 90.063573 128.248203 \nL 90.225929 88.338094 \nL 90.280047 109.857317 \nL 90.388285 75.484355 \nL 90.60476 107.773908 \nL 90.658878 60.051502 \nL 90.712997 96.910914 \nL 90.767116 98.420284 \nL 90.821234 80.381959 \nL 90.875353 85.827707 \nL 90.983591 105.640389 \nL 91.037709 68.007575 \nL 91.091828 80.609406 \nL 91.254184 84.137854 \nL 91.308303 107.801947 \nL 91.362422 102.669354 \nL 91.41654 93.629254 \nL 91.524778 132.146871 \nL 91.578896 80.289851 \nL 91.633015 86.379984 \nL 91.741253 114.779907 \nL 91.903609 75.172125 \nL 91.957727 85.541481 \nL 92.011846 68.549334 \nL 92.065965 113.029333 \nL 92.120084 69.514261 \nL 92.174202 65.558788 \nL 92.228321 126.001831 \nL 92.28244 101.68851 \nL 92.336558 107.382696 \nL 92.390677 88.655706 \nL 92.444796 101.634636 \nL 92.498915 95.087789 \nL 92.553033 100.671236 \nL 92.607152 95.881024 \nL 92.661271 96.43853 \nL 92.715389 115.26099 \nL 92.769508 101.354889 \nL 92.823627 85.725142 \nL 92.877746 129.312148 \nL 92.931864 78.820381 \nL 92.985983 95.658744 \nL 93.040102 94.197155 \nL 93.09422 95.833351 \nL 93.148339 76.380016 \nL 93.202458 92.53326 \nL 93.256577 116.176039 \nL 93.310695 82.633189 \nL 93.364814 92.647161 \nL 93.473051 110.004424 \nL 93.52717 95.829418 \nL 93.581289 121.12875 \nL 93.635408 118.176609 \nL 93.689526 88.29861 \nL 93.743645 91.706664 \nL 93.851882 112.274671 \nL 93.906001 101.49831 \nL 93.96012 88.757978 \nL 94.014238 98.591698 \nL 94.068357 102.169886 \nL 94.122476 118.175036 \nL 94.176595 86.84515 \nL 94.230713 101.283263 \nL 94.447188 77.179683 \nL 94.501307 109.687969 \nL 94.555426 79.912489 \nL 94.717782 106.241064 \nL 94.7719 99.25581 \nL 94.880138 126.69628 \nL 94.988375 100.899501 \nL 95.042494 110.483441 \nL 95.096613 110.044278 \nL 95.150731 90.252001 \nL 95.20485 128.152347 \nL 95.258969 118.428471 \nL 95.313088 84.114518 \nL 95.367206 86.48039 \nL 95.421325 108.670001 \nL 95.475444 92.524299 \nL 95.529562 106.761492 \nL 95.583681 86.83019 \nL 95.6378 113.047162 \nL 95.691919 91.120487 \nL 95.746037 104.69107 \nL 95.800156 85.364391 \nL 95.854275 113.550763 \nL 95.908393 95.488069 \nL 95.962512 93.124527 \nL 96.016631 100.359068 \nL 96.07075 89.631553 \nL 96.124868 93.652436 \nL 96.178987 103.8474 \nL 96.341343 72.173175 \nL 96.395462 110.974827 \nL 96.449581 107.37207 \nL 96.503699 103.663524 \nL 96.557818 108.631042 \nL 96.611937 60.493163 \nL 96.666055 72.586442 \nL 96.720174 114.964601 \nL 96.774293 98.734132 \nL 96.828412 90.274473 \nL 96.936649 136.438448 \nL 96.990768 125.266248 \nL 97.153124 83.787992 \nL 97.207242 136.527872 \nL 97.261361 116.88423 \nL 97.31548 83.335889 \nL 97.369599 121.94401 \nL 97.423717 75.415289 \nL 97.477836 87.983528 \nL 97.531955 117.420775 \nL 97.586073 110.100635 \nL 97.640192 113.089113 \nL 97.694311 95.08782 \nL 97.74843 111.294336 \nL 97.802548 100.170966 \nL 97.856667 64.403383 \nL 97.910786 120.126468 \nL 97.964904 100.195134 \nL 98.019023 103.145918 \nL 98.073142 92.575273 \nL 98.127261 107.834707 \nL 98.181379 107.701218 \nL 98.235498 95.481977 \nL 98.343735 113.514565 \nL 98.397854 75.746921 \nL 98.451973 84.496507 \nL 98.506092 84.998211 \nL 98.56021 95.975461 \nL 98.614329 69.821878 \nL 98.668448 111.080708 \nL 98.722566 93.091768 \nL 98.776685 71.970343 \nL 98.939041 125.846025 \nL 99.101397 42.501586 \nL 99.155516 106.44132 \nL 99.209635 79.196617 \nL 99.263754 75.309084 \nL 99.317872 124.485753 \nL 99.371991 114.648192 \nL 99.480228 72.462022 \nL 99.588466 104.746563 \nL 99.642585 68.846278 \nL 99.804941 117.156543 \nL 99.913178 111.528353 \nL 99.967297 118.411259 \nL 100.021416 141.663103 \nL 100.075534 87.93533 \nL 100.129653 122.213887 \nL 100.183772 138.783698 \nL 100.23789 90.511452 \nL 100.292009 105.02776 \nL 100.400247 66.435047 \nL 100.454365 112.533381 \nL 100.508484 111.025199 \nL 100.616721 88.196277 \nL 100.67084 96.19515 \nL 100.724959 85.228373 \nL 100.833196 129.983416 \nL 100.887315 118.014603 \nL 100.941434 102.540091 \nL 100.995552 119.834582 \nL 101.157908 84.417339 \nL 101.212027 124.414651 \nL 101.266146 92.566004 \nL 101.428502 124.746807 \nL 101.590858 84.638787 \nL 101.753214 119.686426 \nL 101.807333 114.803659 \nL 101.91557 62.95637 \nL 101.969689 128.805755 \nL 102.023808 94.625059 \nL 102.077927 105.039143 \nL 102.132045 87.534541 \nL 102.186164 92.781266 \nL 102.240283 99.380029 \nL 102.294401 130.59589 \nL 102.34852 109.28792 \nL 102.510876 73.127629 \nL 102.564995 74.080866 \nL 102.673232 117.160893 \nL 102.727351 102.789208 \nL 102.78147 102.068 \nL 102.943826 154.892739 \nL 103.160301 92.643321 \nL 103.21442 108.587903 \nL 103.268538 61.068267 \nL 103.322657 136.954095 \nL 103.376776 129.19109 \nL 103.430894 101.816816 \nL 103.539132 102.519193 \nL 103.593251 88.474313 \nL 103.647369 123.855927 \nL 103.701488 87.742601 \nL 103.863844 111.081248 \nL 103.917963 106.052329 \nL 104.0262 135.936837 \nL 104.080319 109.885434 \nL 104.134438 142.108836 \nL 104.296794 84.738884 \nL 104.45915 141.138156 \nL 104.513269 95.636457 \nL 104.567387 105.248791 \nL 104.621506 107.909787 \nL 104.729743 141.145559 \nL 104.783862 68.054755 \nL 104.837981 136.413108 \nL 104.8921 94.753304 \nL 104.946218 124.799308 \nL 105.054456 100.514689 \nL 105.162693 135.895471 \nL 105.325049 104.417522 \nL 105.379168 126.420928 \nL 105.433287 110.110583 \nL 105.487405 123.26247 \nL 105.541524 108.654686 \nL 105.595643 139.125031 \nL 105.649762 95.532411 \nL 105.70388 96.573005 \nL 105.812118 113.000429 \nL 105.866236 92.87831 \nL 105.920355 118.611515 \nL 105.974474 82.275877 \nL 106.082711 130.011532 \nL 106.13683 105.931411 \nL 106.190949 111.662521 \nL 106.245067 111.79038 \nL 106.299186 125.897817 \nL 106.353305 118.296355 \nL 106.461542 86.456067 \nL 106.56978 131.220487 \nL 106.623898 75.42152 \nL 106.678017 100.739546 \nL 106.732136 105.29446 \nL 106.786255 91.86867 \nL 106.840373 110.045743 \nL 106.894492 95.901229 \nL 107.165086 131.237314 \nL 107.273323 81.086001 \nL 107.327442 137.29023 \nL 107.38156 124.479429 \nL 107.435679 108.889505 \nL 107.489798 112.759934 \nL 107.598035 104.057928 \nL 107.706273 72.199641 \nL 107.760391 87.89142 \nL 107.81451 109.544718 \nL 107.868629 105.914646 \nL 107.922747 101.101268 \nL 107.976866 124.859197 \nL 108.030985 77.581552 \nL 108.085104 82.784969 \nL 108.139222 122.864981 \nL 108.193341 97.439224 \nL 108.24746 102.963877 \nL 108.301578 87.481114 \nL 108.355697 120.938658 \nL 108.409816 106.965697 \nL 108.463935 117.165366 \nL 108.518053 109.603928 \nL 108.680409 84.165354 \nL 108.734528 123.132112 \nL 108.788647 106.144946 \nL 108.896884 122.100448 \nL 108.951003 82.430403 \nL 109.005122 127.588009 \nL 109.05924 109.127178 \nL 109.113359 85.482719 \nL 109.167478 108.673425 \nL 109.275715 83.508568 \nL 109.329834 129.794233 \nL 109.383953 120.934031 \nL 109.438071 101.121318 \nL 109.49219 128.85767 \nL 109.546309 82.587798 \nL 109.600428 94.166864 \nL 109.654546 91.582784 \nL 109.708665 94.996298 \nL 109.762784 86.551059 \nL 109.871021 134.601827 \nL 109.979259 77.988017 \nL 110.087496 117.984327 \nL 110.141615 115.847661 \nL 110.195733 121.931178 \nL 110.249852 89.241436 \nL 110.303971 104.536621 \nL 110.35809 150.495174 \nL 110.412208 103.284558 \nL 110.466327 72.45266 \nL 110.574564 140.76192 \nL 110.736921 93.595616 \nL 110.845158 117.327834 \nL 111.007514 92.683591 \nL 111.061633 91.98925 \nL 111.115751 92.228342 \nL 111.16987 113.690668 \nL 111.223989 60.191051 \nL 111.278108 98.355275 \nL 111.332226 94.683359 \nL 111.386345 114.203137 \nL 111.440464 53.728415 \nL 111.494582 93.445116 \nL 111.548701 135.500172 \nL 111.60282 120.426636 \nL 111.656939 112.140596 \nL 111.711057 80.892501 \nL 111.765176 144.440283 \nL 111.819295 107.035749 \nL 111.927532 76.006356 \nL 111.981651 131.66241 \nL 112.03577 71.157998 \nL 112.089888 107.616467 \nL 112.198126 96.676727 \nL 112.252244 132.046558 \nL 112.306363 89.613323 \nL 112.360482 99.360781 \nL 112.522838 105.484829 \nL 112.576957 90.903666 \nL 112.631075 135.356689 \nL 112.739313 134.316743 \nL 112.84755 68.490247 \nL 112.901669 108.803968 \nL 112.955788 92.377886 \nL 113.118144 121.066332 \nL 113.172263 101.386907 \nL 113.226381 109.909972 \nL 113.2805 110.943039 \nL 113.334619 84.965113 \nL 113.388737 104.709824 \nL 113.442856 105.302356 \nL 113.496975 96.762187 \nL 113.551094 127.802716 \nL 113.605212 111.95237 \nL 113.767568 132.213084 \nL 113.929925 87.447785 \nL 113.984043 120.837898 \nL 114.038162 102.704889 \nL 114.092281 94.628653 \nL 114.254637 123.435889 \nL 114.362874 102.640975 \nL 114.416993 110.90755 \nL 114.471112 108.815998 \nL 114.52523 115.520256 \nL 114.633468 78.826952 \nL 114.687586 126.154275 \nL 114.741705 118.859367 \nL 114.795824 82.345344 \nL 114.849943 100.169701 \nL 115.012299 112.626877 \nL 115.066417 113.181036 \nL 115.120536 87.899641 \nL 115.174655 110.071947 \nL 115.228774 112.870503 \nL 115.282892 171.471389 \nL 115.337011 118.551549 \nL 115.39113 110.138036 \nL 115.553486 134.394014 \nL 115.607605 121.743029 \nL 115.661723 79.202185 \nL 115.715842 125.695216 \nL 115.769961 100.145965 \nL 115.824079 115.932921 \nL 115.878198 86.0151 \nL 115.932317 131.769124 \nL 115.986436 74.079648 \nL 116.040554 102.318289 \nL 116.094673 95.362478 \nL 116.20291 116.482869 \nL 116.257029 90.693909 \nL 116.311148 91.920739 \nL 116.365267 94.21079 \nL 116.419385 86.866589 \nL 116.581741 128.81905 \nL 116.63586 114.155557 \nL 116.689979 115.906763 \nL 116.744098 124.838391 \nL 116.906454 74.164213 \nL 116.960572 134.277198 \nL 117.014691 103.985501 \nL 117.06881 80.964928 \nL 117.122929 100.677405 \nL 117.339403 153.047589 \nL 117.50176 97.234001 \nL 117.609997 148.408665 \nL 117.772353 68.400067 \nL 117.826472 120.436306 \nL 117.934709 118.107636 \nL 117.988828 127.589474 \nL 118.042947 117.785582 \nL 118.097065 89.26434 \nL 118.151184 117.180897 \nL 118.205303 125.021959 \nL 118.31354 96.271249 \nL 118.367659 114.310422 \nL 118.421778 92.125252 \nL 118.475896 107.851209 \nL 118.530015 98.869364 \nL 118.584134 118.443216 \nL 118.692371 66.397908 \nL 118.854727 137.536664 \nL 119.071202 82.552895 \nL 119.125321 123.781001 \nL 119.17944 115.124617 \nL 119.341796 97.852815 \nL 119.504152 131.013229 \nL 119.558271 123.352789 \nL 119.612389 132.53614 \nL 119.774745 87.730787 \nL 119.882983 153.203056 \nL 119.937102 108.543869 \nL 119.99122 96.522602 \nL 120.045339 113.665574 \nL 120.153576 86.658837 \nL 120.207695 127.413525 \nL 120.261814 111.427069 \nL 120.315933 89.811635 \nL 120.370051 91.086231 \nL 120.42417 95.834183 \nL 120.586526 132.704392 \nL 120.803001 100.381972 \nL 120.965357 115.031461 \nL 121.019476 83.966023 \nL 121.073594 121.37051 \nL 121.127713 118.943949 \nL 121.181832 94.461387 \nL 121.235951 95.891157 \nL 121.290069 103.349598 \nL 121.344188 96.95996 \nL 121.398307 84.175595 \nL 121.506544 131.50992 \nL 121.560663 118.186048 \nL 121.614782 68.707823 \nL 121.777138 136.135057 \nL 121.831256 71.091601 \nL 121.885375 134.600223 \nL 121.939494 113.719401 \nL 121.993613 126.338645 \nL 122.210087 91.513086 \nL 122.372444 148.673112 \nL 122.480681 105.374445 \nL 122.643037 127.754488 \nL 122.697156 130.966789 \nL 122.751275 80.400713 \nL 122.805393 97.694279 \nL 122.859512 93.183167 \nL 122.913631 100.404598 \nL 122.967749 126.153273 \nL 123.021868 93.799173 \nL 123.075987 126.440192 \nL 123.130106 173.448809 \nL 123.184224 146.707445 \nL 123.292462 107.313338 \nL 123.400699 137.965863 \nL 123.563055 113.562146 \nL 123.671293 129.796578 \nL 123.725411 125.382247 \nL 123.77953 117.170671 \nL 123.833649 128.255267 \nL 123.887768 117.329408 \nL 123.941886 105.351372 \nL 123.996005 127.250285 \nL 124.158361 97.686258 \nL 124.266599 112.801561 \nL 124.374836 141.192832 \nL 124.428955 99.052006 \nL 124.483073 136.920611 \nL 124.537192 139.817367 \nL 124.753667 102.126377 \nL 124.807786 83.426948 \nL 124.861904 143.129581 \nL 124.916023 119.281102 \nL 124.970142 118.628542 \nL 125.02426 127.30931 \nL 125.078379 102.561576 \nL 125.132498 127.505972 \nL 125.186617 106.900641 \nL 125.240735 126.269117 \nL 125.348973 116.623175 \nL 125.511329 95.987722 \nL 125.565448 105.04067 \nL 125.619566 92.73768 \nL 125.673685 102.695975 \nL 125.727804 109.400155 \nL 125.781922 94.712047 \nL 125.836041 124.995369 \nL 125.89016 113.858519 \nL 125.944279 105.206825 \nL 126.052516 125.713447 \nL 126.106635 122.619257 \nL 126.160753 124.725323 \nL 126.214872 57.873548 \nL 126.268991 110.962272 \nL 126.32311 131.243869 \nL 126.377228 128.663645 \nL 126.539584 93.669895 \nL 126.593703 129.614275 \nL 126.647822 114.572109 \nL 126.701941 67.893165 \nL 126.756059 137.844513 \nL 126.810178 96.281212 \nL 126.864297 128.834257 \nL 126.918415 92.067847 \nL 126.972534 133.200112 \nL 127.026653 121.161478 \nL 127.13489 108.505064 \nL 127.189009 84.750976 \nL 127.243128 117.747086 \nL 127.297246 94.952526 \nL 127.351365 108.822337 \nL 127.405484 99.226397 \nL 127.459603 93.823881 \nL 127.513721 137.788649 \nL 127.56784 130.868358 \nL 127.730196 104.309698 \nL 127.784315 132.33738 \nL 127.838433 106.712631 \nL 127.892552 107.390346 \nL 128.054908 139.74423 \nL 128.163146 72.43554 \nL 128.325502 130.411674 \nL 128.379621 90.800962 \nL 128.433739 124.487079 \nL 128.541977 98.516325 \nL 128.704333 142.401601 \nL 128.920808 88.508938 \nL 128.974926 85.154326 \nL 129.029045 74.322796 \nL 129.137283 109.754567 \nL 129.191401 89.680383 \nL 129.24552 122.946077 \nL 129.299639 110.162312 \nL 129.461995 136.518603 \nL 129.570232 95.585298 \nL 129.624351 135.661886 \nL 129.67847 96.513518 \nL 129.786707 126.506574 \nL 129.840826 69.225614 \nL 129.894945 114.771948 \nL 130.057301 130.033989 \nL 130.165538 103.438051 \nL 130.219657 122.610805 \nL 130.273776 77.345946 \nL 130.327894 87.919799 \nL 130.382013 134.44269 \nL 130.436132 132.539533 \nL 130.544369 120.087061 \nL 130.706725 92.565633 \nL 130.760844 91.899147 \nL 130.9232 139.878937 \nL 131.031438 91.863056 \nL 131.085556 112.374398 \nL 131.139675 117.323485 \nL 131.193794 149.721804 \nL 131.247912 149.169804 \nL 131.464387 69.440044 \nL 131.518506 87.037679 \nL 131.572625 144.062551 \nL 131.626743 113.832948 \nL 131.680862 97.827736 \nL 131.789099 128.455461 \nL 131.843218 108.005273 \nL 131.897337 117.527211 \nL 131.951456 125.54342 \nL 132.059693 105.477118 \nL 132.16793 125.137387 \nL 132.330287 84.797986 \nL 132.384405 128.405582 \nL 132.438524 93.409781 \nL 132.546761 124.300689 \nL 132.709118 81.838627 \nL 132.763236 129.389835 \nL 132.817355 110.049892 \nL 132.871474 94.943566 \nL 133.03383 132.517616 \nL 133.087949 108.49979 \nL 133.196186 145.525558 \nL 133.358542 104.967501 \nL 133.412661 125.163838 \nL 133.46678 116.43663 \nL 133.520898 107.282352 \nL 133.575017 108.019354 \nL 133.629136 110.082312 \nL 133.683254 100.736029 \nL 133.737373 137.966603 \nL 133.791492 102.029473 \nL 133.899729 115.00083 \nL 133.953848 113.497738 \nL 134.007967 143.937607 \nL 134.062085 100.256565 \nL 134.116204 115.468094 \nL 134.170323 131.666205 \nL 134.27856 104.516386 \nL 134.386798 155.381719 \nL 134.549154 114.054272 \nL 134.603273 95.792787 \nL 134.71151 125.486894 \nL 134.819747 103.123138 \nL 134.873866 113.452085 \nL 134.927985 96.300985 \nL 134.982103 143.71508 \nL 135.036222 103.730631 \nL 135.090341 106.361551 \nL 135.14446 116.837127 \nL 135.198578 153.499523 \nL 135.252697 104.204588 \nL 135.306816 115.199636 \nL 135.360934 131.642823 \nL 135.415053 78.919646 \nL 135.469172 114.660978 \nL 135.523291 91.824251 \nL 135.685647 135.322866 \nL 135.739765 94.333837 \nL 135.793884 117.267406 \nL 135.902122 109.523927 \nL 136.010359 136.870547 \nL 136.118596 85.312954 \nL 136.280953 130.327725 \nL 136.335071 102.591713 \nL 136.38919 132.552627 \nL 136.443309 108.995926 \nL 136.551546 104.842403 \nL 136.713902 133.641728 \nL 136.876258 102.621048 \nL 136.984496 130.451482 \nL 137.038615 121.927877 \nL 137.092733 118.348424 \nL 137.146852 129.519036 \nL 137.200971 106.980565 \nL 137.255089 140.006519 \nL 137.309208 137.323298 \nL 137.363327 92.107932 \nL 137.417446 160.190701 \nL 137.471564 100.830512 \nL 137.525683 114.841801 \nL 137.579802 110.376619 \nL 137.63392 99.524113 \nL 137.688039 118.467276 \nL 137.796277 117.977386 \nL 137.958633 92.362848 \nL 138.012751 130.162171 \nL 138.06687 102.104584 \nL 138.120989 74.666797 \nL 138.175107 127.357323 \nL 138.229226 109.37062 \nL 138.337464 144.647263 \nL 138.445701 135.937546 \nL 138.553938 106.980472 \nL 138.608057 157.768474 \nL 138.662176 118.931024 \nL 138.716295 114.37321 \nL 138.770413 118.79934 \nL 138.878651 145.116995 \nL 138.932769 105.142139 \nL 138.986888 126.276937 \nL 139.041007 123.627046 \nL 139.095126 97.024861 \nL 139.149244 114.202428 \nL 139.203363 114.919889 \nL 139.257482 101.611656 \nL 139.3116 112.238303 \nL 139.365719 103.151841 \nL 139.419838 131.506404 \nL 139.473957 63.265808 \nL 139.528075 116.829816 \nL 139.582194 89.208199 \nL 139.636313 106.893855 \nL 139.690431 102.92245 \nL 139.74455 155.507111 \nL 139.798669 127.007276 \nL 139.852788 136.181219 \nL 139.961025 107.195041 \nL 140.015144 135.781771 \nL 140.069262 111.070791 \nL 140.1775 105.87453 \nL 140.231619 129.632135 \nL 140.285737 103.748167 \nL 140.339856 113.881901 \nL 140.448093 131.248203 \nL 140.502212 99.145255 \nL 140.556331 150.078467 \nL 140.61045 116.910172 \nL 140.664568 121.701324 \nL 140.718687 158.941631 \nL 140.772806 121.263689 \nL 140.826924 114.07278 \nL 140.989281 126.901009 \nL 141.043399 131.276844 \nL 141.097518 108.569889 \nL 141.151637 118.416194 \nL 141.205755 114.700338 \nL 141.259874 100.214953 \nL 141.42223 119.861511 \nL 141.476349 102.89003 \nL 141.530468 119.950766 \nL 141.584586 104.49086 \nL 141.638705 136.504167 \nL 141.692824 119.916541 \nL 141.801061 86.390657 \nL 141.909299 149.977892 \nL 141.963417 66.066091 \nL 142.017536 97.14379 \nL 142.179892 127.593253 \nL 142.234011 102.100265 \nL 142.28813 121.119589 \nL 142.342248 152.163866 \nL 142.396367 128.349087 \nL 142.450486 110.708158 \nL 142.504604 138.026939 \nL 142.666961 86.546278 \nL 142.721079 141.508439 \nL 142.775198 100.456328 \nL 142.883435 109.275967 \nL 142.937554 105.846336 \nL 143.045792 115.957444 \nL 143.09991 169.591876 \nL 143.154029 116.615294 \nL 143.208148 113.215954 \nL 143.316385 132.793832 \nL 143.370504 128.185399 \nL 143.478741 108.846135 \nL 143.53286 135.148629 \nL 143.586979 91.554899 \nL 143.641097 122.059392 \nL 143.695216 99.196862 \nL 143.749335 146.748872 \nL 143.803454 138.851407 \nL 143.857572 104.569041 \nL 143.911691 110.478968 \nL 144.074047 140.79943 \nL 144.182285 100.391118 \nL 144.290522 122.240908 \nL 144.344641 113.922464 \nL 144.398759 111.815273 \nL 144.452878 122.615648 \nL 144.506997 100.943179 \nL 144.561116 145.132758 \nL 144.615234 120.351709 \nL 144.669353 128.002232 \nL 144.831709 93.996791 \nL 144.885828 89.329118 \nL 145.102303 136.403561 \nL 145.264659 101.881224 \nL 145.318777 126.577968 \nL 145.372896 105.921201 \nL 145.535252 113.384685 \nL 145.589371 110.793634 \nL 145.697608 93.601354 \nL 145.859965 120.662643 \nL 146.022321 145.878844 \nL 146.184677 77.882399 \nL 146.238796 128.22806 \nL 146.292914 100.582459 \nL 146.401152 132.848477 \nL 146.45527 111.552043 \nL 146.509389 115.934895 \nL 146.563508 115.558906 \nL 146.617627 109.155773 \nL 146.671745 122.178305 \nL 146.725864 120.855203 \nL 146.779983 121.164285 \nL 146.834101 126.576688 \nL 146.88822 96.664805 \nL 146.942339 110.064082 \nL 146.996458 101.72952 \nL 147.050576 115.029147 \nL 147.158814 89.123818 \nL 147.212932 139.262129 \nL 147.267051 115.403949 \nL 147.375289 149.811953 \nL 147.429407 130.567465 \nL 147.483526 92.414763 \nL 147.537645 106.59216 \nL 147.591763 97.103798 \nL 147.645882 146.418952 \nL 147.700001 128.825774 \nL 147.75412 98.714498 \nL 147.808238 113.014033 \nL 147.862357 117.244179 \nL 147.970594 146.982442 \nL 148.078832 100.507163 \nL 148.132951 147.735947 \nL 148.187069 112.798939 \nL 148.295307 136.893543 \nL 148.349425 118.421654 \nL 148.403544 143.014554 \nL 148.457663 129.703884 \nL 148.620019 95.7457 \nL 148.674138 101.954454 \nL 148.728256 83.219274 \nL 148.782375 101.840537 \nL 148.836494 109.151208 \nL 148.890612 156.291077 \nL 148.944731 138.178118 \nL 148.99885 89.848543 \nL 149.052969 120.293425 \nL 149.161206 125.389804 \nL 149.215325 127.446994 \nL 149.323562 143.135472 \nL 149.485918 88.580517 \nL 149.540037 100.478229 \nL 149.648274 138.790084 \nL 149.702393 96.776809 \nL 149.756512 109.098476 \nL 149.918868 144.84226 \nL 149.972987 93.435584 \nL 150.027105 102.769806 \nL 150.135343 131.550144 \nL 150.24358 111.301801 \nL 150.405936 140.741053 \nL 150.568293 112.193822 \nL 150.622411 134.977801 \nL 150.67653 130.994073 \nL 150.730649 105.487498 \nL 150.784767 135.109886 \nL 150.838886 117.520333 \nL 150.893005 116.130925 \nL 150.947124 103.479169 \nL 151.163598 141.956208 \nL 151.217717 90.610145 \nL 151.271836 105.127225 \nL 151.325955 131.488143 \nL 151.380073 107.4885 \nL 151.488311 134.587391 \nL 151.542429 106.960684 \nL 151.596548 146.357799 \nL 151.758904 103.585528 \nL 151.813023 142.72438 \nL 151.867142 110.325661 \nL 151.92126 104.679518 \nL 151.975379 140.935047 \nL 152.029498 135.655685 \nL 152.137735 130.983508 \nL 152.300091 101.623393 \nL 152.408329 155.632996 \nL 152.516566 119.281811 \nL 152.570685 130.368273 \nL 152.624804 138.843572 \nL 152.678922 129.544993 \nL 152.733041 93.664126 \nL 152.78716 118.735225 \nL 152.895397 105.104152 \nL 153.057753 167.122823 \nL 153.165991 100.526442 \nL 153.220109 119.801052 \nL 153.274228 117.629822 \nL 153.328347 115.978667 \nL 153.382466 84.444268 \nL 153.436584 130.43612 \nL 153.490703 125.823785 \nL 153.653059 111.893068 \nL 153.761297 140.902751 \nL 153.815415 127.274423 \nL 153.869534 125.530712 \nL 153.923653 150.057013 \nL 153.977771 148.675549 \nL 154.03189 103.972005 \nL 154.086009 144.098225 \nL 154.140128 118.787772 \nL 154.194246 153.875512 \nL 154.248365 124.388432 \nL 154.302484 124.872476 \nL 154.356602 118.588812 \nL 154.410721 132.569562 \nL 154.518959 70.051686 \nL 154.681315 158.421465 \nL 154.789552 115.243731 \nL 154.843671 126.167169 \nL 154.89779 113.311394 \nL 154.951908 114.02688 \nL 155.006027 117.462233 \nL 155.060146 100.467047 \nL 155.114264 136.677417 \nL 155.168383 129.039911 \nL 155.27662 91.774218 \nL 155.330739 102.080863 \nL 155.384858 146.560723 \nL 155.438977 98.703116 \nL 155.493095 134.395001 \nL 155.547214 103.582644 \nL 155.601333 129.995261 \nL 155.655451 108.977156 \nL 155.70957 129.922802 \nL 155.763689 145.912297 \nL 155.817808 143.352463 \nL 155.871926 106.490104 \nL 155.926045 110.21762 \nL 155.980164 150.26441 \nL 156.034282 121.133485 \nL 156.088401 145.718565 \nL 156.14252 126.076434 \nL 156.304876 149.933519 \nL 156.413113 105.174868 \nL 156.521351 147.437321 \nL 156.683707 100.634498 \nL 156.846063 151.501728 \nL 156.900182 106.022038 \nL 156.954301 137.895147 \nL 157.116657 150.991017 \nL 157.170775 140.246875 \nL 157.224894 106.872016 \nL 157.333132 165.792024 \nL 157.495488 93.234434 \nL 157.549606 133.351184 \nL 157.603725 128.597432 \nL 157.657844 128.411011 \nL 157.711963 81.848421 \nL 157.766081 149.794108 \nL 157.8202 112.090208 \nL 157.982556 165.486504 \nL 158.036675 118.099955 \nL 158.090794 147.526406 \nL 158.144912 146.001845 \nL 158.199031 98.1015 \nL 158.25315 122.428563 \nL 158.415506 143.289983 \nL 158.469624 110.615865 \nL 158.523743 127.635034 \nL 158.577862 134.497751 \nL 158.631981 115.148153 \nL 158.686099 139.955082 \nL 158.740218 102.9793 \nL 158.794337 127.831342 \nL 158.848455 114.265987 \nL 159.010812 144.8151 \nL 159.06493 102.459859 \nL 159.119049 122.342933 \nL 159.173168 116.640804 \nL 159.227286 126.357462 \nL 159.281405 95.121149 \nL 159.335524 126.212005 \nL 159.389643 100.646158 \nL 159.443761 177.037222 \nL 159.49788 88.887842 \nL 159.551999 120.210956 \nL 159.606117 155.99461 \nL 159.660236 144.353002 \nL 159.768474 101.12886 \nL 159.93083 152.461134 \nL 159.984948 86.050728 \nL 160.039067 119.73959 \nL 160.147305 88.130713 \nL 160.201423 134.62999 \nL 160.255542 125.081277 \nL 160.309661 104.542729 \nL 160.363779 124.677063 \nL 160.472017 149.690587 \nL 160.580254 99.229035 \nL 160.634373 129.41243 \nL 160.688492 135.152223 \nL 160.796729 98.386769 \nL 160.850848 120.422055 \nL 160.959085 141.621723 \nL 161.121441 111.437217 \nL 161.17556 148.100461 \nL 161.229679 122.959695 \nL 161.283798 126.058497 \nL 161.337916 150.456477 \nL 161.392035 77.169349 \nL 161.446154 136.611683 \nL 161.500272 137.631486 \nL 161.554391 114.648531 \nL 161.60851 139.792983 \nL 161.662629 137.764959 \nL 161.716747 96.912996 \nL 161.770866 141.345013 \nL 161.824985 68.314468 \nL 161.879103 128.751434 \nL 161.933222 136.364648 \nL 161.987341 101.595369 \nL 162.041459 132.470853 \nL 162.095578 139.945319 \nL 162.149697 134.57806 \nL 162.203816 113.417568 \nL 162.257934 147.507204 \nL 162.312053 119.034637 \nL 162.366172 108.579451 \nL 162.42029 141.026754 \nL 162.474409 112.328606 \nL 162.636765 147.235399 \nL 162.690884 81.8278 \nL 162.745003 122.133485 \nL 162.85324 182.818334 \nL 163.015596 129.251056 \nL 163.069715 130.494513 \nL 163.123834 152.412643 \nL 163.232071 98.752023 \nL 163.28619 147.670799 \nL 163.340309 122.318426 \nL 163.394427 98.117586 \nL 163.448546 144.773102 \nL 163.502665 138.861941 \nL 163.556783 128.004145 \nL 163.610902 153.446451 \nL 163.665021 113.293595 \nL 163.71914 134.560817 \nL 163.881496 103.718076 \nL 163.989733 153.76232 \nL 164.043852 100.628529 \nL 164.097971 120.716748 \nL 164.152089 124.365698 \nL 164.206208 114.796734 \nL 164.260327 150.900791 \nL 164.314445 133.798181 \nL 164.422683 92.299535 \nL 164.476802 105.097458 \nL 164.639158 142.938548 \nL 164.693276 142.392918 \nL 164.747395 114.774848 \nL 164.801514 134.394847 \nL 164.855633 166.111394 \nL 164.909751 123.750617 \nL 164.96387 125.286993 \nL 165.072107 174.795308 \nL 165.126226 113.418246 \nL 165.180345 129.740129 \nL 165.234464 155.885274 \nL 165.39682 118.1577 \nL 165.450938 140.251656 \nL 165.505057 73.765167 \nL 165.559176 123.422687 \nL 165.613294 151.286373 \nL 165.667413 130.674533 \nL 165.775651 110.025554 \nL 165.829769 123.516121 \nL 165.883888 57.901001 \nL 165.992125 146.981301 \nL 166.046244 134.637548 \nL 166.100363 124.947835 \nL 166.154482 87.065287 \nL 166.262719 160.987762 \nL 166.370956 124.946863 \nL 166.533313 159.716975 \nL 166.64155 77.138379 \nL 166.695669 100.583138 \nL 166.803906 113.334745 \nL 166.858025 99.3899 \nL 166.912144 103.365901 \nL 166.966262 118.808563 \nL 167.020381 101.210727 \nL 167.0745 117.711967 \nL 167.290975 153.140438 \nL 167.453331 90.964372 \nL 167.615687 136.290832 \nL 167.669806 143.782896 \nL 167.723924 72.005477 \nL 167.778043 130.55198 \nL 167.832162 99.545228 \nL 167.88628 129.447533 \nL 168.102755 90.640915 \nL 168.156874 130.285851 \nL 168.210993 105.26312 \nL 168.265111 100.630935 \nL 168.31923 105.006291 \nL 168.481586 158.082831 \nL 168.589824 81.979657 \nL 168.643942 136.681967 \nL 168.698061 125.450881 \nL 168.75218 103.963044 \nL 168.806298 112.276491 \nL 168.860417 154.59925 \nL 168.914536 98.406233 \nL 168.968655 146.876021 \nL 169.022773 158.763384 \nL 169.185129 88.771982 \nL 169.239248 111.132021 \nL 169.347486 139.508624 \nL 169.401604 46.000452 \nL 169.455723 172.508096 \nL 169.509842 118.229357 \nL 169.56396 97.897357 \nL 169.672198 133.712428 \nL 169.726317 93.524792 \nL 169.780435 127.149016 \nL 169.834554 102.381 \nL 169.99691 143.536817 \nL 170.159266 86.612876 \nL 170.267504 144.047791 \nL 170.321622 113.672869 \nL 170.375741 140.025335 \nL 170.538097 88.229684 \nL 170.646335 149.511399 \nL 170.754572 129.959509 \nL 170.86281 121.275364 \nL 170.971047 149.006595 \nL 171.025166 88.298333 \nL 171.079284 92.344602 \nL 171.295759 125.129922 \nL 171.349878 126.150018 \nL 171.403997 118.771979 \nL 171.458115 135.949977 \nL 171.512234 120.020124 \nL 171.566353 122.141629 \nL 171.620472 99.547788 \nL 171.67459 121.274068 \nL 171.728709 115.37921 \nL 171.782828 121.32842 \nL 171.836946 59.628687 \nL 171.891065 124.555713 \nL 171.945184 101.107869 \nL 172.10754 136.176823 \nL 172.161659 154.266569 \nL 172.269896 101.060443 \nL 172.324015 107.205097 \nL 172.486371 120.946832 \nL 172.594608 108.689003 \nL 172.648727 116.665929 \nL 172.702846 162.454933 \nL 172.756964 133.703452 \nL 172.811083 127.909507 \nL 172.973439 148.534056 \nL 173.027558 150.706858 \nL 173.135795 99.135277 \nL 173.298152 140.25397 \nL 173.406389 88.135941 \nL 173.568745 141.918837 \nL 173.676983 125.375121 \nL 173.731101 128.999209 \nL 173.78522 101.863425 \nL 173.839339 112.765764 \nL 173.947576 104.754737 \nL 174.055814 132.477547 \nL 174.109932 106.58596 \nL 174.164051 122.735765 \nL 174.21817 132.147488 \nL 174.272288 88.595262 \nL 174.326407 102.702252 \nL 174.434645 134.964506 \nL 174.488763 110.945168 \nL 174.542882 157.45498 \nL 174.597001 109.10429 \nL 174.651119 93.52507 \nL 174.705238 142.579956 \nL 174.759357 105.391734 \nL 174.813476 81.899441 \nL 174.975832 151.000178 \nL 175.084069 119.303342 \nL 175.192307 126.688307 \nL 175.246425 134.970552 \nL 175.300544 126.876671 \nL 175.354663 103.064221 \nL 175.408781 149.758418 \nL 175.4629 134.333277 \nL 175.571137 113.179525 \nL 175.625256 148.66975 \nL 175.679375 110.982631 \nL 175.733494 133.967467 \nL 175.841731 134.141504 \nL 175.89585 120.807822 \nL 176.004087 161.815483 \nL 176.166443 96.011212 \nL 176.274681 152.492721 \nL 176.328799 76.075899 \nL 176.382918 117.950025 \nL 176.437037 118.108993 \nL 176.491156 150.486336 \nL 176.545274 138.19712 \nL 176.653512 126.994937 \nL 176.70763 135.632381 \nL 176.761749 122.740947 \nL 176.815868 160.590195 \nL 176.869987 125.390498 \nL 176.924105 145.403621 \nL 176.978224 103.442925 \nL 177.086461 169.392144 \nL 177.248818 106.946957 \nL 177.465292 161.653971 \nL 177.519411 109.938397 \nL 177.57353 145.762321 \nL 177.627649 131.438634 \nL 177.735886 159.523243 \nL 177.790005 106.396546 \nL 177.844123 164.129625 \nL 177.898242 73.158044 \nL 177.952361 128.66585 \nL 178.060598 93.261239 \nL 178.114717 137.307319 \nL 178.168836 135.951566 \nL 178.222954 87.513226 \nL 178.277073 122.926458 \nL 178.385311 166.564284 \nL 178.439429 113.128535 \nL 178.493548 139.024842 \nL 178.547667 124.521689 \nL 178.601785 158.270748 \nL 178.655904 145.110965 \nL 178.81826 95.872279 \nL 178.872379 124.757943 \nL 178.926498 76.18667 \nL 178.980616 119.320709 \nL 179.142972 158.990415 \nL 179.25121 107.616529 \nL 179.305329 153.334324 \nL 179.359447 150.069722 \nL 179.413566 119.097642 \nL 179.467685 126.434948 \nL 179.521803 137.076525 \nL 179.575922 81.264757 \nL 179.630041 105.874468 \nL 179.738278 137.634416 \nL 179.792397 85.695915 \nL 179.846516 150.320088 \nL 179.900634 111.623191 \nL 179.954753 122.616789 \nL 180.008872 94.199006 \nL 180.062991 124.111553 \nL 180.117109 135.388138 \nL 180.171228 107.035811 \nL 180.225347 133.014401 \nL 180.279465 137.597771 \nL 180.333584 73.900475 \nL 180.387703 130.174356 \nL 180.604178 101.244967 \nL 180.658296 98.480913 \nL 180.766534 139.71616 \nL 180.820653 133.572832 \nL 180.874771 78.724387 \nL 180.92889 112.418539 \nL 180.983009 115.294366 \nL 181.037127 150.146576 \nL 181.091246 126.298668 \nL 181.145365 102.692227 \nL 181.199484 120.110443 \nL 181.253602 148.198168 \nL 181.36184 95.382991 \nL 181.470077 145.506587 \nL 181.632433 111.744449 \nL 181.686552 156.166194 \nL 181.740671 131.777191 \nL 181.794789 124.151006 \nL 181.848908 131.963149 \nL 181.903027 81.871432 \nL 181.957146 125.681505 \nL 182.011264 133.055087 \nL 182.065383 109.581024 \nL 182.119502 135.413092 \nL 182.281858 104.559972 \nL 182.390095 160.940042 \nL 182.444214 129.911512 \nL 182.552451 109.942916 \nL 182.714807 150.228983 \nL 182.985401 111.832562 \nL 183.03952 129.838005 \nL 183.093638 127.912469 \nL 183.147757 127.798814 \nL 183.255995 101.798863 \nL 183.310113 125.699982 \nL 183.364232 89.211746 \nL 183.418351 122.823785 \nL 183.526588 103.796164 \nL 183.580707 109.665544 \nL 183.634826 108.872401 \nL 183.797182 123.871474 \nL 183.8513 107.170672 \nL 183.905419 152.277844 \nL 183.959538 111.823015 \nL 184.013657 91.272653 \nL 184.067775 130.029824 \nL 184.121894 82.031295 \nL 184.176013 127.222246 \nL 184.230131 136.900391 \nL 184.338369 96.838702 \nL 184.392488 108.022439 \nL 184.446606 105.938274 \nL 184.500725 85.589787 \nL 184.608962 118.754304 \nL 184.7172 84.68262 \nL 184.879556 138.406938 \nL 184.933675 103.411862 \nL 184.987793 123.594503 \nL 185.041912 131.556051 \nL 185.15015 105.029765 \nL 185.258387 153.569791 \nL 185.312506 95.866572 \nL 185.420743 97.189567 \nL 185.474862 100.541403 \nL 185.528981 129.451651 \nL 185.583099 111.670386 \nL 185.637218 111.738372 \nL 185.691337 103.88073 \nL 185.745455 167.247751 \nL 185.799574 137.834225 \nL 185.853693 148.533439 \nL 185.96193 117.206577 \nL 186.016049 123.657121 \nL 186.070168 118.848448 \nL 186.178405 144.016944 \nL 186.340761 112.067629 \nL 186.39488 154.360605 \nL 186.448999 107.762495 \nL 186.503117 135.585926 \nL 186.665473 116.140179 \nL 186.82783 138.537574 \nL 186.881948 115.226627 \nL 186.936067 176.10874 \nL 186.990186 122.842941 \nL 187.098423 139.749628 \nL 187.206661 102.431743 \nL 187.260779 116.290279 \nL 187.314898 120.003313 \nL 187.423135 178.968897 \nL 187.477254 118.034653 \nL 187.585492 120.414559 \nL 187.63961 156.551838 \nL 187.693729 155.615506 \nL 187.747848 87.839212 \nL 187.801966 126.545502 \nL 187.856085 127.977925 \nL 187.910204 139.778994 \nL 187.964323 121.06206 \nL 188.018441 172.952333 \nL 188.07256 127.885354 \nL 188.126679 166.085283 \nL 188.180797 112.748382 \nL 188.234916 139.816565 \nL 188.397272 115.979345 \nL 188.451391 133.954342 \nL 188.50551 87.179111 \nL 188.559628 130.467614 \nL 188.613747 131.575994 \nL 188.721985 161.544157 \nL 188.830222 52.456425 \nL 188.938459 134.581685 \nL 188.992578 115.775557 \nL 189.046697 128.818679 \nL 189.100815 95.061477 \nL 189.154934 147.400598 \nL 189.209053 99.367968 \nL 189.31729 104.083084 \nL 189.371409 156.158035 \nL 189.425528 116.527088 \nL 189.479646 87.32901 \nL 189.533765 131.432974 \nL 189.587884 125.216477 \nL 189.642003 88.224378 \nL 189.696121 145.875852 \nL 189.75024 91.497632 \nL 189.912596 150.235584 \nL 189.966715 115.308957 \nL 190.020834 130.984048 \nL 190.074952 122.221429 \nL 190.129071 135.456586 \nL 190.237308 115.403239 \nL 190.291427 157.349083 \nL 190.345546 131.156295 \nL 190.399665 77.321299 \nL 190.453783 118.150775 \nL 190.507902 143.936342 \nL 190.616139 96.101577 \nL 190.778496 128.014633 \nL 190.832614 121.847013 \nL 190.886733 124.130184 \nL 190.99497 177.277517 \nL 191.157327 129.814191 \nL 191.211445 100.897943 \nL 191.265564 156.726954 \nL 191.319683 129.009712 \nL 191.42792 141.692593 \nL 191.482039 82.739378 \nL 191.536158 139.598218 \nL 191.590276 130.508887 \nL 191.644395 151.165609 \nL 191.698514 87.520937 \nL 191.752632 121.002202 \nL 191.806751 109.663523 \nL 191.969107 154.74557 \nL 192.023226 114.933307 \nL 192.077345 158.59928 \nL 192.131463 121.865027 \nL 192.239701 129.416209 \nL 192.29382 87.548576 \nL 192.347938 162.176604 \nL 192.402057 119.796162 \nL 192.456176 143.573617 \nL 192.510294 125.262855 \nL 192.564413 133.055982 \nL 192.618532 132.371805 \nL 192.726769 106.079567 \nL 192.780888 113.972575 \nL 192.835007 136.547352 \nL 192.889125 94.387803 \nL 192.943244 168.894218 \nL 192.997363 131.486138 \nL 193.051481 129.350243 \nL 193.1056 157.846762 \nL 193.213838 157.878873 \nL 193.267956 113.314787 \nL 193.376194 148.925468 \nL 193.484431 135.340017 \nL 193.53855 146.661483 \nL 193.592669 75.589557 \nL 193.646787 115.132514 \nL 193.700906 151.892601 \nL 193.755025 101.69454 \nL 193.809143 139.820976 \nL 193.863262 142.212681 \nL 193.917381 112.870226 \nL 193.9715 161.756751 \nL 194.025618 141.272431 \nL 194.079737 53.618447 \nL 194.133856 136.728159 \nL 194.242093 108.978097 \nL 194.512687 144.503919 \nL 194.566805 142.385237 \nL 194.675043 108.377791 \nL 194.729162 109.121595 \nL 194.891518 149.422684 \nL 194.945636 97.760815 \nL 195.053874 99.406989 \nL 195.162111 154.712256 \nL 195.21623 144.721419 \nL 195.270349 148.075244 \nL 195.540942 121.724459 \nL 195.595061 124.373132 \nL 195.64918 92.122923 \nL 195.757417 150.041451 \nL 195.865655 134.25704 \nL 195.919773 142.82349 \nL 195.973892 130.355965 \nL 196.028011 158.194527 \nL 196.082129 120.810861 \nL 196.136248 156.473997 \nL 196.244485 101.362508 \nL 196.298604 125.41826 \nL 196.352723 130.280838 \nL 196.406842 119.819282 \nL 196.46096 131.470884 \nL 196.515079 122.96207 \nL 196.623316 119.012952 \nL 196.677435 160.75234 \nL 196.731554 84.933356 \nL 196.785673 134.263471 \nL 196.89391 110.057496 \nL 196.948029 42.521019 \nL 197.002147 175.626608 \nL 197.056266 105.813083 \nL 197.164504 128.15082 \nL 197.218622 116.865999 \nL 197.272741 100.071794 \nL 197.380978 158.75086 \nL 197.435097 106.159367 \nL 197.489216 153.614642 \nL 197.543335 127.111614 \nL 197.597453 129.024411 \nL 197.705691 136.968963 \nL 197.868047 99.953837 \nL 197.976284 136.663613 \nL 198.084522 69.526522 \nL 198.13864 154.038011 \nL 198.192759 129.84513 \nL 198.246878 102.438359 \nL 198.300997 126.300457 \nL 198.355115 127.406693 \nL 198.409234 134.404671 \nL 198.463353 164.667404 \nL 198.517471 146.639104 \nL 198.57159 84.070485 \nL 198.625709 137.094046 \nL 198.679828 133.880434 \nL 198.733946 146.840517 \nL 198.788065 135.412398 \nL 198.842184 124.120051 \nL 198.896302 130.404842 \nL 198.950421 157.393379 \nL 199.00454 130.325381 \nL 199.058659 121.785073 \nL 199.112777 135.171934 \nL 199.166896 114.535247 \nL 199.221015 153.651843 \nL 199.275133 117.910773 \nL 199.329252 98.594212 \nL 199.437489 144.26384 \nL 199.491608 122.774107 \nL 199.545727 181.150074 \nL 199.599846 131.324101 \nL 199.653964 170.438553 \nL 199.708083 148.114789 \nL 199.870439 111.784272 \nL 199.978677 148.03411 \nL 200.032795 89.451717 \nL 200.086914 138.218065 \nL 200.195151 86.455157 \nL 200.24927 148.842337 \nL 200.303389 108.287257 \nL 200.465745 178.121079 \nL 200.628101 109.166508 \nL 200.68222 140.744585 \nL 200.736339 111.586036 \nL 200.844576 132.122734 \nL 200.898695 120.960081 \nL 201.006932 135.093105 \nL 201.169288 62.658624 \nL 201.223407 138.225807 \nL 201.277526 113.196228 \nL 201.331644 111.928927 \nL 201.548119 158.931174 \nL 201.602238 87.802659 \nL 201.656357 95.964233 \nL 201.818713 133.991266 \nL 201.981069 107.951692 \nL 202.035188 155.010805 \nL 202.089306 104.354102 \nL 202.143425 151.949883 \nL 202.251663 121.434486 \nL 202.305781 156.216181 \nL 202.3599 113.085658 \nL 202.414019 132.407001 \nL 202.522256 116.639555 \nL 202.630494 145.702648 \nL 202.684612 62.998846 \nL 202.738731 134.854862 \nL 202.79285 109.90661 \nL 202.846968 127.428625 \nL 202.901087 127.649995 \nL 202.955206 173.957037 \nL 203.009324 73.446059 \nL 203.063443 165.35701 \nL 203.171681 103.327605 \nL 203.225799 116.965973 \nL 203.442274 157.498011 \nL 203.496393 154.124243 \nL 203.550512 141.206913 \nL 203.60463 151.797177 \nL 203.658749 57.431701 \nL 203.712868 120.101143 \nL 203.766986 136.819265 \nL 203.821105 89.508691 \nL 203.875224 119.753579 \nL 203.929343 159.478022 \nL 203.983461 101.809043 \nL 204.03758 121.64944 \nL 204.091699 108.446425 \nL 204.145817 153.630621 \nL 204.199936 128.277199 \nL 204.254055 128.674934 \nL 204.362292 153.382198 \nL 204.416411 118.912269 \nL 204.47053 127.279265 \nL 204.524648 124.848108 \nL 204.578767 106.997469 \nL 204.632886 176.821173 \nL 204.687005 145.320582 \nL 204.795242 119.527165 \nL 204.849361 71.538984 \nL 204.957598 152.089711 \nL 205.011717 108.560033 \nL 205.065836 131.612238 \nL 205.119954 149.104132 \nL 205.174073 142.485226 \nL 205.228192 102.22649 \nL 205.28231 115.695958 \nL 205.336429 158.000286 \nL 205.390548 132.386025 \nL 205.444667 132.212266 \nL 205.552904 155.357906 \nL 205.607023 109.520056 \nL 205.71526 110.423398 \nL 205.823498 176.018668 \nL 205.877616 130.15446 \nL 205.931735 157.783511 \nL 206.039972 121.442923 \nL 206.094091 130.573588 \nL 206.14821 160.252148 \nL 206.202328 139.083882 \nL 206.256447 134.560478 \nL 206.310566 152.258719 \nL 206.364685 104.666516 \nL 206.418803 140.69924 \nL 206.527041 125.543405 \nL 206.635278 141.626782 \nL 206.689397 139.67245 \nL 206.851753 108.453242 \nL 206.905872 124.958322 \nL 206.95999 126.871273 \nL 207.014109 122.277261 \nL 207.068228 171.618804 \nL 207.122347 123.438157 \nL 207.284703 163.454609 \nL 207.39294 104.77306 \nL 207.447059 163.571302 \nL 207.501178 151.252719 \nL 207.555296 139.316295 \nL 207.609415 77.863875 \nL 207.663534 121.11672 \nL 207.82589 151.681148 \nL 207.988246 129.70922 \nL 208.150602 106.698303 \nL 208.204721 152.675333 \nL 208.25884 115.327187 \nL 208.312958 134.483438 \nL 208.367077 102.560003 \nL 208.421196 172.457616 \nL 208.475314 132.525421 \nL 208.529433 120.149896 \nL 208.583552 163.10578 \nL 208.637671 135.960588 \nL 208.691789 122.433962 \nL 208.745908 137.547676 \nL 208.800027 122.633446 \nL 208.854145 126.843049 \nL 208.908264 145.184487 \nL 208.962383 121.952601 \nL 209.016502 134.208302 \nL 209.232976 105.804585 \nL 209.287095 165.457385 \nL 209.341214 67.362373 \nL 209.395333 125.402421 \nL 209.50357 161.573461 \nL 209.557689 124.401588 \nL 209.611807 128.43649 \nL 209.665926 128.936544 \nL 209.720045 153.274651 \nL 209.882401 85.241714 \nL 210.044757 149.181896 \nL 210.098876 152.391853 \nL 210.152994 138.170021 \nL 210.207113 140.444756 \nL 210.261232 141.672666 \nL 210.315351 138.328588 \nL 210.369469 122.517833 \nL 210.423588 70.041799 \nL 210.477707 93.021222 \nL 210.585944 126.078809 \nL 210.640063 121.854308 \nL 210.694182 84.111095 \nL 210.7483 152.68798 \nL 210.802419 128.822844 \nL 210.910656 121.427006 \nL 211.073013 145.418258 \nL 211.127131 141.251764 \nL 211.18125 104.874422 \nL 211.235369 119.385394 \nL 211.289487 110.311332 \nL 211.560081 164.675733 \nL 211.668318 120.04147 \nL 211.722437 146.114573 \nL 211.830675 116.275503 \nL 212.047149 162.388212 \nL 212.101268 163.058924 \nL 212.155387 123.910788 \nL 212.209506 136.418784 \nL 212.263624 129.423334 \nL 212.317743 24.180691 \nL 212.371862 146.031457 \nL 212.42598 130.935187 \nL 212.480099 120.797412 \nL 212.534218 138.403915 \nL 212.642455 94.337785 \nL 212.696574 100.300121 \nL 212.85893 119.988938 \nL 212.913049 120.304252 \nL 212.967167 152.302799 \nL 213.129524 51.239065 \nL 213.29188 166.582437 \nL 213.345998 117.628357 \nL 213.400117 119.847013 \nL 213.508355 155.34057 \nL 213.616592 106.31178 \nL 213.778948 139.526916 \nL 213.833067 141.846085 \nL 213.887186 85.442927 \nL 213.941304 129.112709 \nL 213.995423 138.637794 \nL 214.049542 114.469328 \nL 214.10366 131.796624 \nL 214.157779 149.587806 \nL 214.266017 78.779016 \nL 214.320135 131.407386 \nL 214.428373 129.33664 \nL 214.53661 157.497795 \nL 214.590729 157.41218 \nL 214.698966 98.480728 \nL 214.753085 122.07173 \nL 214.807204 164.189945 \nL 214.861322 138.987147 \nL 214.96956 78.278299 \nL 215.023679 131.655269 \nL 215.131916 129.275055 \nL 215.186035 123.233119 \nL 215.240153 155.918974 \nL 215.294272 124.900639 \nL 215.348391 116.726049 \nL 215.456628 144.945982 \nL 215.510747 132.297017 \nL 215.564866 124.214488 \nL 215.618984 136.75953 \nL 215.673103 93.027962 \nL 215.727222 100.818096 \nL 215.781341 116.703423 \nL 215.835459 87.732236 \nL 215.997815 136.522829 \nL 216.106053 115.22163 \nL 216.160172 119.508426 \nL 216.430765 167.070384 \nL 216.539002 106.763343 \nL 216.593121 154.380686 \nL 216.64724 104.151887 \nL 216.701359 131.236126 \nL 216.755477 149.13686 \nL 216.809596 103.214074 \nL 216.863715 130.26924 \nL 216.917833 132.594023 \nL 217.026071 145.438031 \nL 217.08019 125.469928 \nL 217.188427 177.095538 \nL 217.296664 109.079397 \nL 217.350783 127.071807 \nL 217.404902 94.701312 \nL 217.459021 122.958076 \nL 217.567258 145.321616 \nL 217.621377 126.160969 \nL 217.675495 144.915305 \nL 217.837852 77.692522 \nL 218.000208 126.817523 \nL 218.054326 113.103812 \nL 218.108445 157.027076 \nL 218.162564 138.789683 \nL 218.270801 129.374643 \nL 218.32492 149.196887 \nL 218.379039 118.083329 \nL 218.433157 131.791395 \nL 218.595514 167.955403 \nL 218.703751 121.576781 \nL 218.75787 121.962163 \nL 218.811988 122.433283 \nL 218.866107 87.667829 \nL 218.920226 113.099185 \nL 218.974345 105.371114 \nL 219.028463 147.381288 \nL 219.082582 128.401773 \nL 219.136701 130.998669 \nL 219.190819 175.185949 \nL 219.244938 86.78284 \nL 219.299057 161.740927 \nL 219.515532 121.915508 \nL 219.623769 142.635912 \nL 219.677888 133.300256 \nL 219.732006 127.758884 \nL 219.894363 175.609504 \nL 220.110837 96.0986 \nL 220.219075 149.571596 \nL 220.327312 142.831849 \nL 220.381431 121.898326 \nL 220.43555 145.096667 \nL 220.489668 126.38874 \nL 220.543787 128.752359 \nL 220.652025 156.67049 \nL 220.706143 138.297479 \nL 220.760262 161.575358 \nL 220.868499 70.391337 \nL 220.922618 114.865845 \nL 220.976737 149.553721 \nL 221.030856 126.856991 \nL 221.084974 125.613103 \nL 221.139093 104.438066 \nL 221.193212 112.698703 \nL 221.24733 138.369398 \nL 221.301449 132.266325 \nL 221.355568 123.489192 \nL 221.409687 156.312453 \nL 221.463805 148.316217 \nL 221.517924 147.136043 \nL 221.572043 168.745476 \nL 221.68028 136.1738 \nL 221.734399 139.828225 \nL 221.788518 157.87255 \nL 221.950874 95.800376 \nL 222.11323 134.052234 \nL 222.167349 139.72856 \nL 222.221467 97.718956 \nL 222.275586 120.696806 \nL 222.329705 113.822367 \nL 222.600298 159.284691 \nL 222.708536 99.351295 \nL 222.816773 144.613348 \nL 222.925011 104.608524 \nL 223.033248 155.331116 \nL 223.141485 84.03185 \nL 223.195604 154.417347 \nL 223.249723 132.965756 \nL 223.303841 138.889255 \nL 223.35796 100.844624 \nL 223.412079 131.642298 \nL 223.466198 120.22712 \nL 223.520316 77.733147 \nL 223.628554 160.617279 \nL 223.845029 99.968582 \nL 223.899147 86.413838 \nL 224.007385 159.65175 \nL 224.061503 127.003127 \nL 224.115622 144.245625 \nL 224.169741 133.569207 \nL 224.22386 190.811146 \nL 224.277978 131.382863 \nL 224.332097 119.835137 \nL 224.386216 143.732199 \nL 224.440334 110.85141 \nL 224.494453 116.267591 \nL 224.548572 138.718535 \nL 224.602691 132.468231 \nL 224.656809 92.122769 \nL 224.819165 155.165084 \nL 224.873284 77.571743 \nL 224.927403 157.152868 \nL 224.981522 123.635868 \nL 225.03564 134.231329 \nL 225.089759 138.438032 \nL 225.143878 103.560651 \nL 225.197996 138.063061 \nL 225.252115 176.579721 \nL 225.360353 112.953172 \nL 225.522709 150.117118 \nL 225.576827 152.444061 \nL 225.630946 161.503316 \nL 225.685065 95.518731 \nL 225.739184 137.393165 \nL 225.793302 151.257454 \nL 225.847421 138.296276 \nL 225.90154 145.16146 \nL 225.955658 116.172923 \nL 226.009777 139.650827 \nL 226.063896 195.150998 \nL 226.118015 159.083278 \nL 226.280371 138.707816 \nL 226.334489 168.100335 \nL 226.388608 152.707845 \nL 226.442727 150.421358 \nL 226.550964 118.908475 \nL 226.605083 158.194588 \nL 226.659202 155.522997 \nL 226.71332 142.873832 \nL 226.767439 143.045154 \nL 226.821558 152.658367 \nL 226.929795 102.794684 \nL 227.092151 146.900606 \nL 227.14627 128.596939 \nL 227.200389 162.449658 \nL 227.254507 75.642181 \nL 227.308626 138.86774 \nL 227.362745 113.55502 \nL 227.416864 124.36559 \nL 227.470982 132.753948 \nL 227.525101 97.691086 \nL 227.57922 118.635051 \nL 227.633338 105.645525 \nL 227.687457 109.270168 \nL 227.741576 132.456263 \nL 227.795695 127.657445 \nL 227.849813 118.191847 \nL 227.903932 138.493031 \nL 227.958051 128.548834 \nL 228.012169 87.103213 \nL 228.120407 164.656608 \nL 228.228644 103.496906 \nL 228.391 189.2008 \nL 228.553357 47.134465 \nL 228.715713 143.052557 \nL 228.769831 180.555198 \nL 228.82395 145.573694 \nL 228.878069 151.756166 \nL 229.040425 105.778659 \nL 229.094544 111.215245 \nL 229.148662 136.672851 \nL 229.202781 132.92803 \nL 229.2569 124.749399 \nL 229.311019 153.390279 \nL 229.365137 113.769774 \nL 229.419256 156.010203 \nL 229.473375 143.69085 \nL 229.581612 103.111571 \nL 229.635731 147.633043 \nL 229.68985 137.90838 \nL 229.743968 130.481819 \nL 229.852206 151.227826 \nL 229.906324 144.542878 \nL 229.960443 127.962039 \nL 230.014562 143.513158 \nL 230.06868 145.731551 \nL 230.122799 154.98915 \nL 230.176918 89.74769 \nL 230.231037 182.345086 \nL 230.285155 118.279421 \nL 230.339274 150.618529 \nL 230.393393 137.652122 \nL 230.447511 132.05993 \nL 230.50163 132.853212 \nL 230.555749 74.847666 \nL 230.609868 155.835349 \nL 230.663986 112.442415 \nL 230.718105 96.896941 \nL 230.772224 159.52059 \nL 230.826342 143.947786 \nL 230.93458 116.021667 \nL 230.988699 125.186741 \nL 231.042817 130.382462 \nL 231.096936 148.366867 \nL 231.151055 126.076326 \nL 231.205173 127.087693 \nL 231.313411 151.299051 \nL 231.36753 99.574578 \nL 231.421648 123.552752 \nL 231.475767 158.689861 \nL 231.584004 89.189676 \nL 231.692242 154.236016 \nL 231.908717 93.581165 \nL 231.962835 95.205453 \nL 232.016954 126.397778 \nL 232.071073 104.454893 \nL 232.125192 120.888301 \nL 232.287548 186.001301 \nL 232.341666 97.563319 \nL 232.395785 149.011222 \nL 232.558141 99.718786 \nL 232.774616 140.369552 \nL 232.828735 131.505849 \nL 232.882854 137.767859 \nL 232.936972 162.415203 \nL 232.991091 147.086827 \nL 233.04521 143.870577 \nL 233.099328 171.903673 \nL 233.153447 136.896844 \nL 233.207566 164.543509 \nL 233.315803 104.949502 \nL 233.369922 131.274407 \nL 233.424041 138.045385 \nL 233.478159 108.180435 \nL 233.532278 152.258688 \nL 233.586397 138.678234 \nL 233.640515 138.039031 \nL 233.694634 167.559333 \nL 233.748753 122.632274 \nL 233.802872 131.367347 \nL 233.85699 142.433805 \nL 233.911109 115.864473 \nL 233.965228 129.433205 \nL 234.019346 143.217108 \nL 234.073465 127.238872 \nL 234.127584 139.353203 \nL 234.181703 167.405239 \nL 234.344059 115.601768 \nL 234.506415 152.663704 \nL 234.560534 149.501266 \nL 234.72289 111.511712 \nL 234.885246 141.005038 \nL 234.993483 117.170902 \nL 235.047602 141.945072 \nL 235.101721 120.252322 \nL 235.155839 121.005163 \nL 235.209958 106.346637 \nL 235.318196 169.151494 \nL 235.372314 156.852083 \nL 235.426433 122.836479 \nL 235.480552 128.629127 \nL 235.53467 153.010573 \nL 235.588789 129.17613 \nL 235.642908 143.700335 \nL 235.697027 136.789436 \nL 235.859383 100.677097 \nL 235.96762 150.655036 \nL 236.021739 108.959172 \nL 236.075858 116.481774 \nL 236.129976 111.754073 \nL 236.238214 156.765003 \nL 236.292332 151.873383 \nL 236.346451 129.283167 \nL 236.40057 135.709991 \nL 236.508807 164.380161 \nL 236.617045 111.224576 \nL 236.725282 155.651689 \nL 236.779401 153.913916 \nL 236.833519 99.00788 \nL 236.887638 130.66275 \nL 236.941757 158.615459 \nL 236.995876 141.024271 \nL 237.049994 132.711055 \nL 237.104113 105.737879 \nL 237.266469 150.760824 \nL 237.320588 116.783207 \nL 237.374707 148.00095 \nL 237.537063 129.580559 \nL 237.591181 168.917554 \nL 237.6453 94.332819 \nL 237.699419 126.996109 \nL 237.753538 156.668037 \nL 237.807656 142.970474 \nL 237.970012 113.788837 \nL 238.024131 83.047875 \nL 238.240606 174.200463 \nL 238.402962 115.888548 \nL 238.565318 160.023359 \nL 238.619437 167.102001 \nL 238.727674 144.394105 \nL 238.781793 82.486806 \nL 238.835912 151.042932 \nL 238.890031 138.870701 \nL 238.944149 104.022424 \nL 238.998268 128.714356 \nL 239.052387 128.50952 \nL 239.106505 85.840385 \nL 239.160624 162.094969 \nL 239.214743 136.891847 \nL 239.268862 147.935694 \nL 239.32298 115.060858 \nL 239.377099 119.867727 \nL 239.539455 170.150291 \nL 239.701811 122.715591 \nL 239.75593 154.749765 \nL 239.810049 152.977938 \nL 239.972405 114.369431 \nL 240.026524 122.776405 \nL 240.080642 152.865132 \nL 240.134761 131.750215 \nL 240.18888 130.942482 \nL 240.242998 112.799649 \nL 240.297117 165.650176 \nL 240.351236 113.138437 \nL 240.405354 148.490516 \nL 240.459473 146.953199 \nL 240.567711 127.874234 \nL 240.621829 152.423285 \nL 240.675948 88.176736 \nL 240.730067 177.693113 \nL 240.784185 88.478276 \nL 240.838304 88.782285 \nL 241.00066 168.350193 \nL 241.217135 136.321802 \nL 241.271254 135.305931 \nL 241.379491 174.128482 \nL 241.43361 108.793341 \nL 241.487729 133.854507 \nL 241.541847 132.390158 \nL 241.650085 136.309695 \nL 241.704204 148.89055 \nL 241.758322 138.460272 \nL 241.812441 125.371358 \nL 241.86656 158.796606 \nL 241.920678 150.985804 \nL 242.028916 130.627245 \nL 242.083035 134.064665 \nL 242.137153 153.81152 \nL 242.245391 122.757542 \nL 242.299509 153.333691 \nL 242.353628 128.883118 \nL 242.461866 169.124951 \nL 242.515984 151.661344 \nL 242.570103 164.914146 \nL 242.624222 122.323377 \nL 242.67834 143.217601 \nL 242.732459 141.80071 \nL 242.786578 146.314521 \nL 242.840697 139.581129 \nL 242.894815 159.937821 \nL 242.948934 113.635129 \nL 243.003053 150.325949 \nL 243.057171 124.143201 \nL 243.11129 126.893544 \nL 243.165409 142.092765 \nL 243.219528 138.405488 \nL 243.273646 135.852286 \nL 243.436002 88.117911 \nL 243.490121 160.87929 \nL 243.54424 99.685441 \nL 243.598358 129.20858 \nL 243.652477 114.602847 \nL 243.706596 112.619474 \nL 243.760715 104.983171 \nL 243.814833 130.720711 \nL 243.868952 115.499157 \nL 244.085427 153.415096 \nL 244.247783 119.226904 \nL 244.301902 117.181066 \nL 244.35602 144.31665 \nL 244.410139 125.82104 \nL 244.464258 123.108576 \nL 244.572495 171.115604 \nL 244.626614 94.279022 \nL 244.680733 135.716422 \nL 244.734851 131.539225 \nL 244.78897 137.42867 \nL 244.897208 120.944164 \nL 244.951326 121.93218 \nL 245.059564 159.172209 \nL 245.113682 132.377511 \nL 245.167801 161.204659 \nL 245.22192 147.452806 \nL 245.276039 49.936106 \nL 245.330157 128.385023 \nL 245.438395 154.319949 \nL 245.600751 103.50434 \nL 245.708988 178.814541 \nL 245.817226 179.550602 \nL 245.871344 85.269738 \nL 245.925463 139.831433 \nL 245.979582 138.894623 \nL 246.033701 106.412833 \nL 246.087819 157.09244 \nL 246.141938 128.013522 \nL 246.196057 112.312736 \nL 246.304294 153.733 \nL 246.412532 127.708588 \nL 246.46665 133.115392 \nL 246.629006 174.018082 \nL 246.791363 117.256085 \nL 246.845481 123.771346 \nL 246.8996 116.711042 \nL 246.953719 166.31529 \nL 247.007837 143.525774 \nL 247.061956 134.466966 \nL 247.116075 136.691467 \nL 247.170193 143.511847 \nL 247.224312 133.441718 \nL 247.33255 70.91903 \nL 247.494906 153.081629 \nL 247.549024 129.073935 \nL 247.603143 137.338783 \nL 247.711381 158.757477 \nL 247.873737 113.668073 \nL 247.981974 154.238884 \nL 248.036093 152.268821 \nL 248.090212 151.079948 \nL 248.198449 106.71331 \nL 248.252568 141.965431 \nL 248.306686 93.094113 \nL 248.360805 112.799711 \nL 248.414924 168.543956 \nL 248.469043 110.487297 \nL 248.631399 166.355051 \nL 248.685517 84.491464 \nL 248.739636 103.922095 \nL 248.847874 174.252424 \nL 248.901992 137.961005 \nL 248.956111 137.782912 \nL 249.064348 116.940987 \nL 249.118467 117.609926 \nL 249.226705 153.510581 \nL 249.280823 147.933874 \nL 249.334942 168.430749 \nL 249.443179 120.984774 \nL 249.497298 145.413199 \nL 249.605536 100.936763 \nL 249.713773 160.68929 \nL 249.767892 112.550208 \nL 249.876129 110.028269 \nL 249.930248 175.344778 \nL 249.984367 130.774353 \nL 250.038485 161.819601 \nL 250.146723 113.107683 \nL 250.25496 158.198166 \nL 250.309079 143.572553 \nL 250.363197 157.92502 \nL 250.417316 150.690941 \nL 250.471435 124.079257 \nL 250.525554 128.83017 \nL 250.579672 126.461214 \nL 250.633791 127.34318 \nL 250.68791 161.14312 \nL 250.742028 150.207113 \nL 250.796147 123.599808 \nL 250.850266 151.169434 \nL 250.904385 128.965602 \nL 251.012622 168.431227 \nL 251.066741 128.585572 \nL 251.120859 146.393242 \nL 251.174978 148.49485 \nL 251.229097 164.491486 \nL 251.283216 120.488298 \nL 251.337334 131.87829 \nL 251.391453 146.890134 \nL 251.553809 79.619894 \nL 251.716165 163.675039 \nL 251.770284 125.620105 \nL 251.824403 176.886228 \nL 251.878521 121.227937 \nL 251.93264 153.741236 \nL 252.040878 145.883471 \nL 252.094996 124.081539 \nL 252.149115 56.061836 \nL 252.257352 154.344904 \nL 252.311471 142.265105 \nL 252.36559 134.868018 \nL 252.473827 175.596718 \nL 252.527946 139.213422 \nL 252.582065 167.517751 \nL 252.79854 123.366778 \nL 252.852658 110.423799 \nL 252.906777 159.217677 \nL 252.960896 118.396391 \nL 253.015014 137.353867 \nL 253.069133 104.565185 \nL 253.123252 150.214454 \nL 253.177371 139.567649 \nL 253.231489 118.698996 \nL 253.285608 134.293022 \nL 253.339727 149.035405 \nL 253.393845 144.3429 \nL 253.447964 130.865165 \nL 253.502083 170.408092 \nL 253.556202 150.823474 \nL 253.61032 111.250348 \nL 253.664439 122.86384 \nL 253.718558 166.004141 \nL 253.772676 148.897938 \nL 253.826795 159.10282 \nL 253.880914 158.897952 \nL 253.935032 151.451973 \nL 253.989151 168.404652 \nL 254.04327 134.38021 \nL 254.097389 146.592495 \nL 254.259745 161.535705 \nL 254.313863 156.854952 \nL 254.367982 160.81738 \nL 254.422101 170.736237 \nL 254.47622 119.470191 \nL 254.530338 190.401303 \nL 254.584457 110.772597 \nL 254.692694 114.209877 \nL 254.746813 186.203191 \nL 254.800932 149.676953 \nL 254.909169 182.934364 \nL 254.963288 168.479255 \nL 255.071525 129.901117 \nL 255.125644 102.829633 \nL 255.342119 176.083292 \nL 255.396238 131.818294 \nL 255.450356 136.561418 \nL 255.504475 134.670523 \nL 255.558594 150.905634 \nL 255.612713 145.47281 \nL 255.666831 107.408623 \nL 255.72095 160.887603 \nL 255.775069 150.642543 \nL 255.829187 132.692146 \nL 255.883306 134.611513 \nL 255.937425 163.423485 \nL 255.991544 149.275793 \nL 256.045662 131.807528 \nL 256.1539 132.597139 \nL 256.208018 116.714003 \nL 256.370375 172.254275 \nL 256.424493 117.328421 \nL 256.478612 128.275024 \nL 256.532731 166.540686 \nL 256.586849 123.660329 \nL 256.640968 164.877978 \nL 256.695087 127.906114 \nL 256.749206 159.792194 \nL 256.803324 167.832988 \nL 257.019799 115.796857 \nL 257.128036 187.521543 \nL 257.236274 136.835613 \nL 257.290393 168.255818 \nL 257.344511 135.725753 \nL 257.452749 148.665956 \nL 257.506867 174.36833 \nL 257.560986 148.13285 \nL 257.615105 144.868896 \nL 257.777461 169.192844 \nL 257.993936 128.496888 \nL 258.156292 166.202623 \nL 258.210411 150.989799 \nL 258.264529 178.821327 \nL 258.318648 90.065842 \nL 258.372767 149.444524 \nL 258.426886 169.52318 \nL 258.535123 124.964168 \nL 258.589242 175.007826 \nL 258.64336 152.910754 \nL 258.697479 129.27234 \nL 258.751598 147.706072 \nL 258.805717 145.812431 \nL 258.859835 148.361809 \nL 258.913954 121.475065 \nL 259.022191 166.207929 \nL 259.184548 148.576069 \nL 259.238666 148.847904 \nL 259.292785 149.874324 \nL 259.401022 169.702522 \nL 259.563379 137.879338 \nL 259.617497 142.494511 \nL 259.671616 141.584352 \nL 259.725735 202.950595 \nL 259.779853 84.213567 \nL 259.833972 160.122561 \nL 259.888091 151.691512 \nL 259.94221 98.177938 \nL 259.996328 168.7028 \nL 260.050447 136.939505 \nL 260.104566 159.053157 \nL 260.158684 125.248728 \nL 260.212803 185.388564 \nL 260.266922 139.033802 \nL 260.321041 124.648808 \nL 260.375159 147.243219 \nL 260.429278 130.875036 \nL 260.483397 99.096179 \nL 260.537515 141.859087 \nL 260.591634 123.506466 \nL 260.645753 119.485938 \nL 260.699871 164.627951 \nL 260.75399 81.629024 \nL 260.808109 155.719798 \nL 260.862228 162.452527 \nL 260.916346 107.007926 \nL 260.970465 119.979684 \nL 261.132821 167.807247 \nL 261.18694 124.036472 \nL 261.241059 142.710468 \nL 261.295177 130.903692 \nL 261.349296 138.770033 \nL 261.457533 161.316293 \nL 261.511652 134.84422 \nL 261.565771 143.61253 \nL 261.728127 176.119321 \nL 261.782246 168.46704 \nL 261.998721 122.267328 \nL 262.106958 153.035312 \nL 262.161077 113.484721 \nL 262.215195 185.779791 \nL 262.269314 163.428667 \nL 262.323433 121.443725 \nL 262.377552 137.826436 \nL 262.43167 181.131427 \nL 262.485789 144.387396 \nL 262.648145 112.264862 \nL 262.756383 163.362439 \nL 262.810501 137.039108 \nL 262.86462 135.950347 \nL 262.972857 129.537806 \nL 263.081095 170.750196 \nL 263.135214 155.428683 \nL 263.189332 164.115003 \nL 263.351688 121.779551 \nL 263.405807 180.418779 \nL 263.459926 153.036947 \nL 263.622282 123.590785 \nL 263.676401 139.854938 \nL 263.730519 122.581316 \nL 263.784638 131.790007 \nL 264.001113 170.878024 \nL 264.055232 168.699052 \nL 264.163469 121.857069 \nL 264.217588 137.020924 \nL 264.271706 112.164703 \nL 264.325825 169.422374 \nL 264.434063 166.500801 \nL 264.488181 158.399672 \nL 264.5423 169.21618 \nL 264.596419 105.261516 \nL 264.650537 168.726243 \nL 264.867012 121.702065 \nL 264.921131 162.595177 \nL 264.97525 129.741486 \nL 265.029368 125.91796 \nL 265.137606 124.65908 \nL 265.191725 172.045289 \nL 265.245843 74.679583 \nL 265.299962 188.162736 \nL 265.354081 151.750275 \nL 265.462318 145.4167 \nL 265.516437 161.515639 \nL 265.678793 92.737218 \nL 265.732912 189.250803 \nL 265.78703 145.746142 \nL 265.895268 167.828747 \nL 266.057624 115.387029 \nL 266.111743 129.163668 \nL 266.165861 148.344288 \nL 266.21998 114.605022 \nL 266.274099 148.285031 \nL 266.328218 129.83637 \nL 266.382336 186.731933 \nL 266.436455 155.223245 \nL 266.490574 136.780768 \nL 266.544692 149.60872 \nL 266.598811 168.815483 \nL 266.65293 160.066498 \nL 266.815286 112.525454 \nL 266.869405 159.421418 \nL 266.923523 146.765066 \nL 266.977642 131.826345 \nL 267.08588 167.266105 \nL 267.194117 129.079703 \nL 267.248236 185.990257 \nL 267.302354 159.6317 \nL 267.356473 173.885596 \nL 267.410592 172.777417 \nL 267.572948 120.349319 \nL 267.627067 166.966184 \nL 267.681185 135.955406 \nL 267.735304 158.133188 \nL 267.789423 143.180632 \nL 267.89766 162.155197 \nL 267.951779 160.316941 \nL 268.005898 107.477472 \nL 268.060016 135.151513 \nL 268.114135 140.402465 \nL 268.168254 176.261338 \nL 268.222372 164.691233 \nL 268.33061 134.2842 \nL 268.384729 158.360805 \nL 268.438847 134.874989 \nL 268.492966 129.540166 \nL 268.547085 76.867268 \nL 268.709441 154.673945 \nL 268.76356 142.422531 \nL 268.817678 162.063521 \nL 268.871797 119.266959 \nL 268.925916 143.32231 \nL 268.980034 142.867925 \nL 269.088272 106.513517 \nL 269.142391 164.840176 \nL 269.196509 124.49257 \nL 269.250628 112.040854 \nL 269.304747 176.9701 \nL 269.358865 133.516891 \nL 269.412984 131.744601 \nL 269.467103 138.217186 \nL 269.521222 117.823107 \nL 269.629459 184.680805 \nL 269.683578 145.689909 \nL 269.737696 179.156444 \nL 269.900053 86.072659 \nL 269.954171 134.444386 \nL 270.00829 137.153025 \nL 270.062409 156.210382 \nL 270.116527 146.622648 \nL 270.170646 76.675248 \nL 270.224765 171.799288 \nL 270.278884 126.744432 \nL 270.333002 142.809717 \nL 270.387121 123.494914 \nL 270.44124 155.659339 \nL 270.495358 115.003899 \nL 270.549477 120.225439 \nL 270.711833 155.475154 \nL 270.765952 146.209211 \nL 270.820071 162.318684 \nL 270.874189 145.215473 \nL 270.928308 74.998475 \nL 270.982427 179.039165 \nL 271.036545 143.061903 \nL 271.090664 152.044459 \nL 271.198902 107.226659 \nL 271.307139 165.138185 \nL 271.415376 79.158553 \nL 271.577733 154.289025 \nL 271.631851 165.352568 \nL 271.68597 142.942573 \nL 271.740089 159.907977 \nL 271.794207 155.171608 \nL 271.848326 158.79733 \nL 271.902445 126.719863 \nL 271.956564 167.576622 \nL 272.010682 152.902179 \nL 272.11892 140.730719 \nL 272.173038 167.181493 \nL 272.281276 165.951717 \nL 272.335395 158.147609 \nL 272.389513 164.971736 \nL 272.443632 111.93832 \nL 272.497751 128.082665 \nL 272.605988 121.704579 \nL 272.660107 154.002553 \nL 272.714226 141.030779 \nL 272.822463 128.118339 \nL 272.984819 143.778469 \nL 273.038938 94.664898 \nL 273.093057 108.497168 \nL 273.147175 128.56108 \nL 273.201294 108.722286 \nL 273.255413 99.467571 \nL 273.309531 60.260888 \nL 273.471888 171.694888 \nL 273.526006 125.469574 \nL 273.580125 160.334601 \nL 273.634244 130.197013 \nL 273.688362 138.444571 \nL 273.742481 134.903168 \nL 273.7966 153.831555 \nL 273.850719 105.265711 \nL 273.904837 142.243266 \nL 273.958956 143.221982 \nL 274.013075 126.428131 \nL 274.067193 147.858315 \nL 274.121312 107.423599 \nL 274.175431 118.058251 \nL 274.229549 119.479383 \nL 274.337787 155.377123 \nL 274.500143 111.631797 \nL 274.662499 165.698713 \nL 274.716618 117.443787 \nL 274.770737 135.748703 \nL 274.878974 190.488398 \nL 274.933093 137.806972 \nL 274.987211 139.836538 \nL 275.04133 173.439894 \nL 275.095449 154.376661 \nL 275.149568 142.728298 \nL 275.203686 144.865811 \nL 275.311924 154.732044 \nL 275.366042 131.673854 \nL 275.420161 145.633182 \nL 275.47428 173.41423 \nL 275.528399 94.496336 \nL 275.582517 137.134548 \nL 275.690755 110.591743 \nL 275.798992 131.367764 \nL 275.853111 91.457732 \nL 275.90723 152.069043 \nL 275.961348 134.650257 \nL 276.015467 140.193387 \nL 276.069586 118.068384 \nL 276.177823 159.291493 \nL 276.231942 113.424878 \nL 276.286061 177.80905 \nL 276.340179 153.57812 \nL 276.394298 153.266446 \nL 276.448417 92.886469 \nL 276.502535 152.845421 \nL 276.556654 140.532021 \nL 276.610773 153.670104 \nL 276.664892 152.232253 \nL 276.71901 145.782572 \nL 276.773129 105.756542 \nL 276.827248 132.015681 \nL 276.881366 158.110531 \nL 276.935485 125.740468 \nL 276.989604 165.823919 \nL 277.043723 125.70845 \nL 277.15196 159.00957 \nL 277.314316 101.720297 \nL 277.476672 175.288345 \nL 277.530791 132.280406 \nL 277.58491 135.364725 \nL 277.639028 184.797945 \nL 277.693147 131.872244 \nL 277.747266 137.55713 \nL 277.801384 169.012824 \nL 277.855503 113.526379 \nL 277.909622 136.610557 \nL 277.963741 150.431984 \nL 278.017859 141.796715 \nL 278.071978 147.838234 \nL 278.126097 176.751506 \nL 278.180215 149.66173 \nL 278.342572 181.965103 \nL 278.450809 130.991574 \nL 278.504928 147.217308 \nL 278.559046 184.045658 \nL 278.613165 160.121574 \nL 278.667284 160.477621 \nL 278.721403 172.886182 \nL 278.883759 131.416039 \nL 278.937877 156.338025 \nL 279.046115 155.7268 \nL 279.100234 115.14911 \nL 279.208471 189.830395 \nL 279.316708 118.651492 \nL 279.424946 149.583071 \nL 279.587302 108.261932 \nL 279.641421 195.795591 \nL 279.695539 54.174148 \nL 279.749658 141.318362 \nL 279.803777 155.841472 \nL 279.857896 148.836322 \nL 279.912014 144.785502 \nL 279.966133 176.891904 \nL 280.07437 136.113988 \nL 280.182608 165.919559 \nL 280.236727 118.879109 \nL 280.344964 121.27083 \nL 280.453201 163.707967 \nL 280.50732 127.059622 \nL 280.561439 174.404158 \nL 280.615558 151.932131 \nL 280.723795 141.004328 \nL 280.832032 100.911207 \nL 280.94027 159.170296 \nL 280.994388 148.905927 \nL 281.048507 111.653837 \nL 281.102626 136.667808 \nL 281.156745 161.801787 \nL 281.210863 119.734022 \nL 281.264982 150.475108 \nL 281.373219 131.401217 \nL 281.427338 154.384449 \nL 281.481457 136.098164 \nL 281.535576 131.293855 \nL 281.589694 148.014522 \nL 281.643813 116.261468 \nL 281.697932 164.30471 \nL 281.75205 132.181898 \nL 281.806169 107.229358 \nL 281.860288 131.59973 \nL 282.022644 182.247595 \nL 282.185 101.687075 \nL 282.293238 146.01207 \nL 282.401475 119.496997 \nL 282.455594 127.820854 \nL 282.509712 146.043842 \nL 282.563831 112.828275 \nL 282.61795 129.356089 \nL 282.780306 152.120819 \nL 282.888543 135.982783 \nL 282.942662 105.179124 \nL 283.105018 161.387657 \nL 283.159137 163.00903 \nL 283.213256 121.09195 \nL 283.267374 165.442825 \nL 283.321493 123.681104 \nL 283.537968 166.394319 \nL 283.592087 141.890597 \nL 283.646205 143.636575 \nL 283.700324 160.867707 \nL 283.754443 155.727294 \nL 283.916799 114.4368 \nL 283.970918 143.046511 \nL 284.025036 139.025983 \nL 284.079155 125.266973 \nL 284.241511 156.329496 \nL 284.403867 118.495686 \nL 284.566223 160.961341 \nL 284.620342 118.891725 \nL 284.674461 145.180015 \nL 284.782698 139.157991 \nL 284.836817 169.36759 \nL 284.890936 143.850805 \nL 284.945054 124.335808 \nL 284.999173 136.384235 \nL 285.053292 149.326042 \nL 285.107411 74.427211 \nL 285.161529 121.67273 \nL 285.215648 172.410359 \nL 285.269767 124.213362 \nL 285.378004 99.228819 \nL 285.54036 165.908886 \nL 285.594479 163.024885 \nL 285.648598 87.585792 \nL 285.702716 160.550527 \nL 285.865073 136.561171 \nL 285.919191 132.090515 \nL 285.97331 186.386837 \nL 286.027429 165.226498 \nL 286.081547 145.443876 \nL 286.135666 163.555524 \nL 286.189785 168.419567 \nL 286.243904 109.892019 \nL 286.298022 133.478426 \nL 286.352141 135.990556 \nL 286.40626 166.186706 \nL 286.460378 163.065988 \nL 286.568616 127.347097 \nL 286.622735 137.239719 \nL 286.676853 58.089659 \nL 286.730972 120.093431 \nL 286.785091 111.623407 \nL 286.839209 192.13559 \nL 286.893328 143.334495 \nL 286.947447 151.846855 \nL 287.055684 119.672714 \nL 287.109803 149.934522 \nL 287.163922 148.567447 \nL 287.21804 87.94116 \nL 287.272159 169.763398 \nL 287.326278 152.760562 \nL 287.380397 125.29037 \nL 287.434515 126.844498 \nL 287.488634 131.715158 \nL 287.542753 113.132807 \nL 287.596871 119.705273 \nL 287.813346 199.597217 \nL 288.029821 101.94995 \nL 288.08394 165.916351 \nL 288.138058 141.250299 \nL 288.192177 139.950563 \nL 288.246296 180.806073 \nL 288.300415 136.560153 \nL 288.354533 141.926333 \nL 288.516889 169.559101 \nL 288.571008 161.244883 \nL 288.625127 113.848278 \nL 288.679246 133.787 \nL 288.733364 164.250883 \nL 288.787483 148.292558 \nL 288.841602 140.371125 \nL 288.89572 147.598109 \nL 288.949839 166.014844 \nL 289.003958 154.088322 \nL 289.112195 125.475558 \nL 289.220433 174.496081 \nL 289.274551 169.566828 \nL 289.382789 107.018676 \nL 289.545145 151.161907 \nL 289.599264 140.361995 \nL 289.653382 145.642081 \nL 289.707501 87.972578 \nL 289.815739 187.653012 \nL 289.923976 104.88218 \nL 289.978095 119.16407 \nL 290.032213 139.384405 \nL 290.086332 116.077083 \nL 290.140451 131.860985 \nL 290.19457 124.895442 \nL 290.248688 145.666126 \nL 290.302807 142.332351 \nL 290.356926 131.769942 \nL 290.411044 167.430024 \nL 290.465163 137.942713 \nL 290.573401 166.555909 \nL 290.627519 162.667281 \nL 290.681638 95.696438 \nL 290.735757 161.036761 \nL 290.789875 149.480799 \nL 290.843994 167.089817 \nL 290.898113 139.454997 \nL 291.00635 140.251965 \nL 291.114588 174.746478 \nL 291.168706 165.415742 \nL 291.385181 119.310005 \nL 291.4393 124.842308 \nL 291.493419 142.330222 \nL 291.547537 121.175035 \nL 291.601656 156.565534 \nL 291.655775 143.245194 \nL 291.818131 164.300222 \nL 291.87225 124.235001 \nL 291.926368 138.181604 \nL 291.980487 168.888111 \nL 292.034606 135.9991 \nL 292.088724 144.779996 \nL 292.142843 152.350056 \nL 292.196962 177.274988 \nL 292.359318 123.260742 \nL 292.413437 149.853642 \nL 292.467555 87.784999 \nL 292.521674 168.533745 \nL 292.575793 149.780967 \nL 292.629912 156.101509 \nL 292.68403 132.469743 \nL 292.738149 153.836892 \nL 292.792268 152.815654 \nL 292.900505 101.718786 \nL 292.954624 158.255094 \nL 293.008743 156.094676 \nL 293.062861 131.358803 \nL 293.11698 197.065599 \nL 293.171099 158.619993 \nL 293.279336 112.869516 \nL 293.333455 157.873398 \nL 293.387574 154.738676 \nL 293.441692 139.843371 \nL 293.495811 182.003846 \nL 293.54993 143.809624 \nL 293.604048 134.60485 \nL 293.766405 171.991956 \nL 293.820523 177.985585 \nL 293.928761 132.130615 \nL 293.982879 148.462168 \nL 294.036998 126.657614 \nL 294.091117 139.193048 \nL 294.145236 183.091527 \nL 294.199354 160.916568 \nL 294.253473 146.687718 \nL 294.36171 167.767979 \nL 294.415829 109.453921 \nL 294.469948 148.160781 \nL 294.524067 145.968314 \nL 294.578185 158.140113 \nL 294.632304 122.86148 \nL 294.686423 150.214208 \nL 294.740541 170.333983 \nL 294.79466 153.816224 \nL 294.848779 157.181448 \nL 295.011135 118.766319 \nL 295.173491 189.601297 \nL 295.335847 111.734054 \nL 295.498203 180.599956 \nL 295.552322 79.943243 \nL 295.606441 176.478992 \nL 295.714678 134.120621 \nL 295.768797 165.663872 \nL 295.822916 151.055764 \nL 295.877034 150.811968 \nL 295.931153 82.710691 \nL 295.985272 107.716086 \nL 296.03939 117.257304 \nL 296.201747 165.000655 \nL 296.255865 133.20477 \nL 296.309984 134.400831 \nL 296.364103 165.446835 \nL 296.418221 161.779115 \nL 296.47234 161.989319 \nL 296.526459 155.074241 \nL 296.580578 119.458161 \nL 296.634696 166.263236 \nL 296.688815 165.370598 \nL 296.797052 96.782083 \nL 296.851171 155.348683 \nL 296.90529 145.39392 \nL 296.959409 135.022729 \nL 297.067646 175.966445 \nL 297.121765 158.909843 \nL 297.175883 132.544484 \nL 297.230002 143.997017 \nL 297.284121 145.439342 \nL 297.33824 125.527041 \nL 297.500596 182.800227 \nL 297.554714 132.310975 \nL 297.608833 161.802497 \nL 297.662952 147.269392 \nL 297.771189 147.226485 \nL 297.825308 188.302486 \nL 297.879427 143.601734 \nL 297.933545 158.552162 \nL 297.987664 162.47412 \nL 298.095901 141.026846 \nL 298.15002 157.990507 \nL 298.204139 120.872137 \nL 298.258258 157.817011 \nL 298.420614 191.172745 \nL 298.474732 156.948109 \nL 298.58297 157.690802 \nL 298.691207 122.069509 \nL 298.745326 164.421896 \nL 298.853563 162.711978 \nL 298.907682 52.350159 \nL 298.961801 154.773749 \nL 299.124157 172.94914 \nL 299.178276 173.994546 \nL 299.232394 109.925241 \nL 299.286513 178.691926 \nL 299.340632 113.284958 \nL 299.394751 171.744967 \nL 299.448869 139.4469 \nL 299.502988 158.943975 \nL 299.557107 156.174908 \nL 299.611225 152.047605 \nL 299.665344 161.035929 \nL 299.719463 101.91369 \nL 299.773582 175.205799 \nL 299.8277 148.618606 \nL 299.881819 132.208056 \nL 299.990056 167.970626 \nL 300.044175 139.789328 \nL 300.098294 184.310214 \nL 300.152413 145.204892 \nL 300.26065 137.196565 \nL 300.423006 169.556217 \nL 300.585362 122.102993 \nL 300.6936 124.613967 \nL 300.747718 135.436227 \nL 300.801837 115.613721 \nL 300.855956 144.170468 \nL 300.910075 141.593267 \nL 300.964193 127.534413 \nL 301.018312 133.769139 \nL 301.180668 153.086271 \nL 301.234787 162.4601 \nL 301.288906 147.369443 \nL 301.343024 169.036946 \nL 301.451262 98.910482 \nL 301.559499 172.350053 \nL 301.721855 73.549811 \nL 301.775974 82.816386 \nL 301.830093 180.623847 \nL 301.884211 158.017251 \nL 301.93833 158.429978 \nL 301.992449 121.794574 \nL 302.046567 138.445404 \nL 302.100686 129.193928 \nL 302.154805 168.122406 \nL 302.208924 162.94672 \nL 302.263042 160.124844 \nL 302.317161 148.428468 \nL 302.37128 109.573004 \nL 302.425398 117.100403 \nL 302.479517 146.561818 \nL 302.533636 142.972325 \nL 302.641873 120.321572 \nL 302.695992 168.074116 \nL 302.750111 134.414527 \nL 302.804229 161.110546 \nL 302.858348 140.288564 \nL 302.912467 133.500512 \nL 302.966586 138.350921 \nL 303.020704 141.842291 \nL 303.074823 160.365493 \nL 303.18306 117.74013 \nL 303.237179 183.344083 \nL 303.291298 136.726956 \nL 303.345417 146.184487 \nL 303.399535 139.830477 \nL 303.453654 121.93252 \nL 303.507773 175.308611 \nL 303.561891 107.198126 \nL 303.61601 158.884688 \nL 303.670129 167.911878 \nL 303.832485 77.557923 \nL 303.940722 160.711823 \nL 303.994841 149.591631 \nL 304.04896 167.246811 \nL 304.103079 131.288103 \nL 304.157197 140.004375 \nL 304.211316 195.411197 \nL 304.265435 150.451171 \nL 304.373672 107.907304 \nL 304.427791 177.269235 \nL 304.48191 167.320441 \nL 304.536028 171.933995 \nL 304.590147 146.955143 \nL 304.644266 161.06403 \nL 304.752503 175.250989 \nL 304.806622 134.424012 \nL 304.86074 135.213145 \nL 304.914859 181.384863 \nL 305.023097 179.909502 \nL 305.131334 140.833454 \nL 305.185453 158.593928 \nL 305.29369 166.623293 \nL 305.347809 142.863359 \nL 305.401928 151.6222 \nL 305.510165 137.95044 \nL 305.618402 189.394687 \nL 305.672521 117.904126 \nL 305.72664 188.271285 \nL 305.943115 154.362764 \nL 305.997233 160.791531 \nL 306.051352 136.2166 \nL 306.105471 149.936835 \nL 306.15959 146.236263 \nL 306.213708 117.530697 \nL 306.267827 141.232501 \nL 306.321946 154.710343 \nL 306.376064 97.162684 \nL 306.430183 158.060683 \nL 306.484302 119.931055 \nL 306.538421 125.976969 \nL 306.646658 158.422884 \nL 306.700777 40.644313 \nL 306.754895 118.279683 \nL 306.809014 161.576083 \nL 306.863133 144.831047 \nL 307.025489 162.817997 \nL 307.187845 133.028482 \nL 307.241964 183.338223 \nL 307.296083 140.745819 \nL 307.350201 180.389752 \nL 307.40432 174.275127 \nL 307.458439 132.131386 \nL 307.566676 216.227063 \nL 307.674914 135.380225 \nL 307.83727 186.883605 \nL 307.945507 117.363339 \nL 307.999626 133.733589 \nL 308.053745 145.007089 \nL 308.107863 129.752035 \nL 308.216101 190.6852 \nL 308.324338 150.467782 \nL 308.378457 175.137829 \nL 308.432575 92.716612 \nL 308.486694 167.425381 \nL 308.540813 175.955572 \nL 308.594932 143.076663 \nL 308.64905 157.554044 \nL 308.703169 156.506077 \nL 308.757288 151.462754 \nL 308.811406 177.137936 \nL 308.865525 152.017159 \nL 308.973763 172.338964 \nL 309.136119 101.297344 \nL 309.190237 193.535061 \nL 309.244356 154.189052 \nL 309.298475 134.427698 \nL 309.352594 151.442333 \nL 309.406712 163.448964 \nL 309.460831 140.251595 \nL 309.51495 146.867724 \nL 309.677306 184.838631 \nL 309.731425 181.705112 \nL 309.785543 152.093582 \nL 309.893781 152.666341 \nL 309.947899 158.42202 \nL 310.002018 64.296361 \nL 310.056137 141.669041 \nL 310.110256 175.905754 \nL 310.164374 116.207687 \nL 310.218493 133.71215 \nL 310.272612 121.13148 \nL 310.32673 167.60935 \nL 310.380849 41.905414 \nL 310.434968 135.412676 \nL 310.489087 167.969299 \nL 310.543205 105.143281 \nL 310.597324 178.925558 \nL 310.651443 118.022129 \nL 310.813799 160.252086 \nL 310.922036 125.094525 \nL 310.976155 153.60929 \nL 311.030274 147.056104 \nL 311.084392 131.117968 \nL 311.138511 161.07643 \nL 311.19263 126.825219 \nL 311.300867 186.113227 \nL 311.354986 130.249113 \nL 311.409105 180.124256 \nL 311.625579 132.273373 \nL 311.733817 147.577118 \nL 311.787936 146.094924 \nL 311.842054 137.226563 \nL 311.896173 108.32253 \nL 312.058529 189.893815 \nL 312.112648 109.888225 \nL 312.166767 143.927952 \nL 312.220885 156.523629 \nL 312.275004 144.122686 \nL 312.43736 146.386825 \nL 312.491479 165.726953 \nL 312.653835 112.967824 \nL 312.816191 183.287449 \nL 312.978547 137.441872 \nL 313.032666 179.343405 \nL 313.086785 157.707598 \nL 313.140903 159.177175 \nL 313.195022 126.211372 \nL 313.249141 137.082895 \nL 313.30326 154.333059 \nL 313.357378 128.203383 \nL 313.411497 154.845143 \nL 313.465616 166.246394 \nL 313.519734 163.72228 \nL 313.573853 84.506347 \nL 313.627972 140.079779 \nL 313.682091 122.770606 \nL 313.736209 182.679926 \nL 313.790328 113.121687 \nL 313.844447 160.996167 \nL 313.898565 169.829934 \nL 314.060922 114.993211 \nL 314.169159 166.480689 \nL 314.223278 84.336706 \nL 314.277396 124.298452 \nL 314.439753 179.581926 \nL 314.54799 143.587082 \nL 314.656227 173.155365 \nL 314.764465 133.786922 \nL 314.818584 150.350842 \nL 314.872702 158.443119 \nL 314.926821 147.832821 \nL 314.98094 171.781983 \nL 315.035058 165.120972 \nL 315.089177 134.742411 \nL 315.197414 177.775366 \nL 315.305652 131.773751 \nL 315.359771 166.124381 \nL 315.413889 161.688365 \nL 315.522127 159.4386 \nL 315.684483 128.30749 \nL 315.738602 165.113677 \nL 315.79272 143.910308 \nL 315.846839 104.715685 \nL 315.900958 108.675415 \nL 315.955076 172.174151 \nL 316.063314 169.459605 \nL 316.117433 167.977473 \nL 316.279789 141.466487 \nL 316.333907 45.578378 \nL 316.388026 107.869255 \nL 316.442145 139.841628 \nL 316.496264 138.313442 \nL 316.550382 104.062987 \nL 316.604501 154.921859 \nL 316.65862 146.881821 \nL 316.766857 105.732527 \nL 316.983332 185.255538 \nL 317.145688 135.556683 \nL 317.199807 182.0069 \nL 317.253926 149.122609 \nL 317.308044 135.189933 \nL 317.362163 148.943961 \nL 317.416282 165.307008 \nL 317.4704 96.940835 \nL 317.524519 156.063105 \nL 317.578638 135.643871 \nL 317.740994 194.444974 \nL 317.849231 123.385748 \nL 317.90335 148.205494 \nL 317.957469 111.368368 \nL 318.011588 141.355748 \nL 318.173944 183.134882 \nL 318.282181 140.203983 \nL 318.3363 141.367192 \nL 318.390418 156.436055 \nL 318.444537 155.407276 \nL 318.498656 129.347775 \nL 318.606893 197.424692 \nL 318.661012 174.494415 \nL 318.715131 173.140621 \nL 318.877487 139.283721 \nL 318.931606 127.069416 \nL 319.093962 160.308705 \nL 319.310437 139.610109 \nL 319.364555 148.046711 \nL 319.418674 142.265614 \nL 319.472793 143.541259 \nL 319.526911 132.966311 \nL 319.58103 139.314167 \nL 319.635149 144.808437 \nL 319.689268 91.055138 \nL 319.797505 187.749932 \nL 319.851624 126.581778 \nL 319.905742 137.498213 \nL 319.959861 131.136661 \nL 320.176336 172.394596 \nL 320.230455 176.17324 \nL 320.284573 158.705839 \nL 320.338692 165.765002 \nL 320.392811 167.022695 \nL 320.44693 138.457156 \nL 320.501048 177.96592 \nL 320.555167 157.454548 \nL 320.663404 160.566043 \nL 320.717523 172.865993 \nL 320.771642 130.713816 \nL 320.825761 158.576315 \nL 320.933998 171.562556 \nL 321.042235 138.268746 \nL 321.096354 186.519616 \nL 321.150473 128.39912 \nL 321.204592 172.698867 \nL 321.25871 185.247009 \nL 321.366948 132.229756 \nL 321.421066 147.549402 \nL 321.475185 166.344024 \nL 321.529304 165.570129 \nL 321.583423 140.095927 \nL 321.637541 150.806539 \nL 321.745779 145.122347 \nL 321.799897 168.21911 \nL 321.854016 166.737611 \nL 321.962253 147.016774 \nL 322.016372 101.733037 \nL 322.12461 192.9126 \nL 322.286966 118.831852 \nL 322.341084 126.768862 \nL 322.395203 53.489015 \nL 322.503441 200.583729 \nL 322.557559 160.309137 \nL 322.611678 172.282021 \nL 322.665797 131.560015 \nL 322.719915 144.751648 \nL 322.774034 184.395474 \nL 322.828153 164.594236 \nL 322.882272 134.272725 \nL 322.93639 150.667683 \nL 323.098746 111.429845 \nL 323.261103 153.434884 \nL 323.423459 105.75284 \nL 323.585815 149.700982 \nL 323.639934 139.16672 \nL 323.694052 162.621936 \nL 323.748171 146.022805 \nL 323.856408 141.210399 \nL 323.910527 144.825125 \nL 323.964646 125.156342 \nL 324.018765 140.220208 \nL 324.127002 187.599925 \nL 324.181121 131.353898 \nL 324.235239 153.131677 \nL 324.289358 149.56353 \nL 324.343477 165.220298 \nL 324.397596 123.348655 \nL 324.451714 167.941167 \nL 324.505833 133.501005 \nL 324.559952 148.638194 \nL 324.61407 143.324331 \nL 324.668189 129.279851 \nL 324.722308 154.960818 \nL 324.830545 153.754038 \nL 324.884664 156.617341 \nL 324.938783 113.52004 \nL 325.04702 173.438691 \nL 325.101139 138.714448 \nL 325.155258 160.72973 \nL 325.209376 148.331008 \nL 325.263495 176.663177 \nL 325.317614 119.926104 \nL 325.371732 145.697589 \nL 325.425851 135.620767 \nL 325.47997 164.878456 \nL 325.534088 146.225051 \nL 325.642326 95.985147 \nL 325.750563 198.471879 \nL 325.912919 147.411549 \nL 325.967038 176.466021 \nL 326.021157 145.89146 \nL 326.075276 136.073811 \nL 326.129394 167.409974 \nL 326.183513 167.143336 \nL 326.29175 159.255418 \nL 326.345869 162.608487 \nL 326.399988 146.931761 \nL 326.562344 180.415524 \nL 326.616463 148.240628 \nL 326.670581 158.41292 \nL 326.7247 161.03326 \nL 326.832938 131.652277 \nL 326.995294 175.980773 \nL 327.049412 143.416053 \nL 327.103531 165.317033 \nL 327.211769 131.428115 \nL 327.265887 184.426228 \nL 327.320006 159.915858 \nL 327.374125 161.421619 \nL 327.482362 151.883486 \nL 327.5906 137.949792 \nL 327.644718 165.335633 \nL 327.698837 149.511214 \nL 327.807074 176.826386 \nL 327.861193 115.920259 \nL 327.915312 128.290339 \nL 328.023549 172.724238 \nL 328.077668 169.070723 \nL 328.131787 158.337223 \nL 328.185905 122.946493 \nL 328.294143 188.250171 \nL 328.510618 88.473387 \nL 328.672974 172.355976 \nL 328.83533 137.107989 \nL 328.943567 178.271579 \nL 328.997686 162.12216 \nL 329.105923 125.326939 \nL 329.26828 182.204981 \nL 329.376517 126.607982 \nL 329.430636 131.607303 \nL 329.484754 173.416713 \nL 329.538873 155.183962 \nL 329.592992 140.370971 \nL 329.647111 187.286277 \nL 329.701229 167.125738 \nL 329.755348 109.984374 \nL 329.809467 166.447468 \nL 329.863585 162.980559 \nL 329.917704 145.923294 \nL 329.971823 164.632547 \nL 330.025942 162.328956 \nL 330.188298 143.357398 \nL 330.242416 145.999331 \nL 330.404773 191.513862 \nL 330.621247 119.792091 \nL 330.783604 179.803976 \nL 330.837722 166.749271 \nL 330.891841 188.861164 \nL 330.94596 144.357136 \nL 331.000078 155.012733 \nL 331.054197 178.790743 \nL 331.108316 95.81583 \nL 331.162435 122.895766 \nL 331.216553 184.476801 \nL 331.270672 169.219341 \nL 331.324791 119.870749 \nL 331.378909 202.348261 \nL 331.433028 155.083202 \nL 331.487147 137.857499 \nL 331.541266 169.518646 \nL 331.595384 113.795808 \nL 331.649503 176.901497 \nL 331.703622 163.404823 \nL 331.811859 178.389305 \nL 331.865978 112.561328 \nL 331.920097 161.364059 \nL 331.974215 155.423825 \nL 332.028334 165.840931 \nL 332.136571 129.747917 \nL 332.19069 133.390976 \nL 332.244809 189.45092 \nL 332.298927 134.023824 \nL 332.353046 141.318763 \nL 332.407165 185.96666 \nL 332.461284 170.625899 \nL 332.569521 142.626535 \nL 332.62364 155.658382 \nL 332.677758 145.439203 \nL 332.785996 167.995318 \nL 332.948352 127.606918 \nL 333.110708 177.414445 \nL 333.381302 115.642161 \nL 333.43542 156.749364 \nL 333.489539 136.041005 \nL 333.543658 115.337551 \nL 333.597777 186.740508 \nL 333.651895 131.231283 \nL 333.706014 116.287441 \nL 333.760133 156.745709 \nL 333.86837 101.267469 \nL 334.084845 169.956883 \nL 334.138964 112.151963 \nL 334.193082 163.294685 \nL 334.247201 135.662456 \nL 334.355439 190.007701 \nL 334.463676 151.68488 \nL 334.517795 177.447821 \nL 334.680151 102.176688 \nL 334.73427 155.409944 \nL 334.788388 107.795809 \nL 335.004863 171.044395 \nL 335.058982 109.474773 \nL 335.113101 163.718039 \nL 335.167219 188.638622 \nL 335.329575 136.62669 \nL 335.437813 180.301639 \nL 335.491931 156.231388 \nL 335.54605 188.445584 \nL 335.708406 116.565076 \nL 335.870762 182.259394 \nL 335.924881 159.724517 \nL 336.033119 129.931655 \nL 336.087237 188.061575 \nL 336.141356 145.65715 \nL 336.195475 170.831661 \nL 336.249593 169.962497 \nL 336.303712 118.179971 \nL 336.357831 128.678019 \nL 336.41195 139.560523 \nL 336.466068 135.604233 \nL 336.520187 88.213967 \nL 336.628424 183.234948 \nL 336.682543 98.175223 \nL 336.736662 170.428712 \nL 336.790781 184.191748 \nL 336.899018 143.976474 \nL 336.953137 171.888573 \nL 337.007255 141.233225 \nL 337.061374 158.45407 \nL 337.115493 143.285063 \nL 337.22373 178.390493 \nL 337.277849 126.221305 \nL 337.331968 153.920455 \nL 337.386086 178.668066 \nL 337.440205 145.589997 \nL 337.494324 176.375162 \nL 337.710799 139.867493 \nL 337.764917 150.720277 \nL 337.819036 185.079743 \nL 337.873155 167.449102 \nL 337.927274 170.686744 \nL 337.981392 143.107279 \nL 338.035511 160.326874 \nL 338.08963 182.15868 \nL 338.143748 131.179183 \nL 338.197867 191.366847 \nL 338.251986 114.049213 \nL 338.306105 166.747451 \nL 338.360223 130.113187 \nL 338.414342 159.855954 \nL 338.468461 136.771931 \nL 338.522579 158.730301 \nL 338.576698 173.730777 \nL 338.739054 136.933767 \nL 338.793173 129.788265 \nL 338.955529 186.038748 \nL 339.117885 77.834741 \nL 339.226123 162.239408 \nL 339.280241 146.732754 \nL 339.33436 164.991046 \nL 339.388479 149.903999 \nL 339.442597 124.348084 \nL 339.496716 142.909645 \nL 339.550835 174.380468 \nL 339.604954 154.904368 \nL 339.659072 133.227057 \nL 339.713191 202.434894 \nL 339.76731 171.514296 \nL 339.821428 124.7072 \nL 339.875547 188.971024 \nL 339.983785 186.441713 \nL 340.092022 135.115485 \nL 340.146141 150.779517 \nL 340.200259 185.011619 \nL 340.254378 159.735899 \nL 340.308497 158.63716 \nL 340.416734 191.779544 \nL 340.524972 125.285697 \nL 340.57909 141.778871 \nL 340.633209 129.85568 \nL 340.687328 137.684928 \nL 340.795565 153.332627 \nL 340.957921 208.161577 \nL 341.01204 129.135073 \nL 341.066159 131.634756 \nL 341.228515 175.963761 \nL 341.336752 118.133084 \nL 341.499109 190.941442 \nL 341.661465 132.316682 \nL 341.769702 176.203054 \nL 341.87794 153.928861 \nL 341.932058 159.849446 \nL 341.986177 129.669274 \nL 342.040296 149.403266 \nL 342.202652 172.496282 \nL 342.25677 169.210396 \nL 342.310889 134.568143 \nL 342.365008 149.612761 \nL 342.527364 178.733923 \nL 342.635601 179.483464 \nL 342.68972 131.782635 \nL 342.743839 191.493072 \nL 342.797958 134.480508 \nL 342.852076 174.675438 \nL 342.906195 166.998696 \nL 342.960314 163.170759 \nL 343.014432 146.395956 \nL 343.068551 166.754468 \nL 343.12267 117.08427 \nL 343.176789 137.647958 \nL 343.230907 187.313823 \nL 343.285026 163.042869 \nL 343.339145 138.526376 \nL 343.393263 143.732354 \nL 343.609738 181.97286 \nL 343.663857 126.578817 \nL 343.717976 140.832713 \nL 343.826213 114.248019 \nL 343.880332 158.835056 \nL 343.934451 129.609432 \nL 343.988569 129.95991 \nL 344.205044 151.435455 \nL 344.259163 189.374606 \nL 344.421519 116.443556 \nL 344.475638 118.634187 \nL 344.529756 163.537339 \nL 344.583875 160.352245 \nL 344.692113 109.452486 \nL 344.746231 166.794677 \nL 344.80035 108.599979 \nL 344.962706 198.758945 \nL 345.125062 142.877379 \nL 345.179181 138.804674 \nL 345.2333 172.263097 \nL 345.287418 149.538344 \nL 345.341537 169.026936 \nL 345.395656 154.720538 \nL 345.449775 159.398669 \nL 345.558012 117.023749 \nL 345.612131 193.502079 \nL 345.666249 175.288514 \nL 345.720368 124.677557 \nL 345.774487 160.559256 \nL 345.828605 127.62339 \nL 345.882724 148.833299 \nL 345.936843 163.662021 \nL 345.990962 144.291109 \nL 346.04508 157.852654 \nL 346.153318 192.021088 \nL 346.207436 170.09415 \nL 346.369793 122.558643 \nL 346.423911 127.136369 \nL 346.47803 106.856685 \nL 346.586267 192.928147 \nL 346.640386 184.356515 \nL 346.748624 127.676832 \nL 346.802742 142.515857 \nL 346.856861 165.219419 \nL 346.91098 148.950516 \nL 346.965098 66.284207 \nL 347.127455 175.362793 \nL 347.181573 141.910678 \nL 347.235692 143.813172 \nL 347.289811 146.985773 \nL 347.343929 175.286448 \nL 347.452167 175.002273 \nL 347.560404 183.022755 \nL 347.614523 105.121472 \nL 347.668642 167.439555 \nL 347.72276 180.75897 \nL 347.776879 119.218853 \nL 347.830998 138.090745 \nL 347.885117 149.470805 \nL 347.939235 146.803563 \nL 347.993354 133.554432 \nL 348.047473 164.227054 \nL 348.101591 145.832065 \nL 348.15571 143.876407 \nL 348.209829 152.771574 \nL 348.263948 145.019273 \nL 348.372185 130.287871 \nL 348.480422 179.325113 \nL 348.58866 151.720261 \nL 348.642779 174.133387 \nL 348.696897 133.692578 \nL 348.751016 159.703665 \nL 348.805135 179.874182 \nL 348.913372 144.92988 \nL 348.967491 153.558717 \nL 349.021609 165.359663 \nL 349.075728 140.14778 \nL 349.129847 186.157816 \nL 349.183966 179.270176 \nL 349.238084 162.140637 \nL 349.292203 165.336682 \nL 349.40044 176.247812 \nL 349.454559 143.036393 \nL 349.508678 171.866348 \nL 349.616915 135.644041 \nL 349.671034 166.047603 \nL 349.725153 147.800709 \nL 349.779271 157.261772 \nL 349.83339 133.446746 \nL 349.887509 161.17079 \nL 349.941628 149.449305 \nL 350.049865 137.247785 \nL 350.26634 180.999928 \nL 350.320459 120.55306 \nL 350.374577 142.32575 \nL 350.428696 139.682244 \nL 350.482815 114.130756 \nL 350.536933 169.325762 \nL 350.591052 142.811645 \nL 350.645171 140.367084 \nL 350.69929 163.156276 \nL 350.753408 160.025117 \nL 350.807527 156.745077 \nL 350.861646 139.966233 \nL 350.915764 184.934256 \nL 350.969883 162.419706 \nL 351.078121 143.794818 \nL 351.186358 196.523594 \nL 351.240477 149.648234 \nL 351.294595 153.24254 \nL 351.348714 173.10928 \nL 351.402833 172.770369 \nL 351.456952 122.265169 \nL 351.51107 162.269576 \nL 351.565189 179.413396 \nL 351.619308 168.217568 \nL 351.727545 145.666373 \nL 351.781664 197.31932 \nL 351.94402 122.102037 \nL 352.052257 162.993946 \nL 352.106376 148.490393 \nL 352.160495 123.003806 \nL 352.214614 186.431364 \nL 352.268732 166.84235 \nL 352.322851 161.600945 \nL 352.37697 181.519539 \nL 352.431088 181.382179 \nL 352.485207 141.738955 \nL 352.539326 182.74967 \nL 352.701682 130.591525 \nL 352.755801 187.498316 \nL 352.809919 130.550607 \nL 353.026394 193.86138 \nL 353.080513 154.186754 \nL 353.134632 157.642558 \nL 353.242869 187.385525 \nL 353.351106 148.073856 \nL 353.405225 170.404467 \nL 353.459344 177.528207 \nL 353.567581 74.212427 \nL 353.6217 179.828021 \nL 353.675819 173.993714 \nL 353.729937 139.119479 \nL 353.784056 141.819418 \nL 353.892294 200.186093 \nL 353.946412 134.805615 \nL 354.000531 163.412087 \nL 354.108768 178.173888 \nL 354.162887 157.800446 \nL 354.217006 182.049853 \nL 354.271125 173.643543 \nL 354.379362 168.349545 \nL 354.433481 179.517442 \nL 354.487599 116.114824 \nL 354.541718 140.307088 \nL 354.704074 178.513524 \nL 354.758193 171.559887 \nL 354.812312 139.727604 \nL 354.86643 145.370646 \nL 354.974668 181.699621 \nL 355.028787 178.274818 \nL 355.082905 124.052883 \nL 355.137024 181.589715 \nL 355.191143 176.643003 \nL 355.29938 153.7053 \nL 355.461736 172.056271 \nL 355.515855 165.535026 \nL 355.569974 134.433729 \nL 355.624092 152.942865 \nL 355.678211 174.744828 \nL 355.73233 113.698241 \nL 355.786448 153.176605 \nL 355.948805 171.959736 \nL 356.002923 180.606357 \nL 356.057042 86.860697 \nL 356.111161 158.981485 \nL 356.165279 168.482386 \nL 356.219398 160.325748 \nL 356.327636 170.095045 \nL 356.435873 134.992746 \nL 356.489992 187.62946 \nL 356.54411 183.004092 \nL 356.598229 158.020706 \nL 356.652348 208.005177 \nL 356.706467 181.931264 \nL 356.760585 149.3708 \nL 356.814704 181.83476 \nL 356.868823 191.081393 \nL 357.031179 140.040033 \nL 357.247654 183.551712 \nL 357.301772 187.421076 \nL 357.355891 149.741684 \nL 357.41001 189.676825 \nL 357.464129 148.896657 \nL 357.518247 127.827887 \nL 357.680603 169.435854 \nL 357.734722 172.795663 \nL 357.84296 185.495309 \nL 357.897078 121.509474 \nL 357.951197 166.554536 \nL 358.059434 133.881868 \nL 358.221791 176.775551 \nL 358.275909 186.440679 \nL 358.330028 153.234427 \nL 358.384147 182.994808 \nL 358.492384 116.038972 \nL 358.65474 195.339671 \nL 358.762978 154.205585 \nL 358.817096 183.808648 \nL 358.871215 181.502435 \nL 358.925334 152.016974 \nL 358.979453 156.146884 \nL 359.08769 188.66117 \nL 359.141809 152.538682 \nL 359.195927 173.79392 \nL 359.250046 159.091854 \nL 359.304165 194.904341 \nL 359.358283 153.021462 \nL 359.412402 154.396202 \nL 359.466521 169.722573 \nL 359.52064 138.394445 \nL 359.574758 166.247613 \nL 359.628877 201.546003 \nL 359.682996 170.434635 \nL 359.845352 142.276503 \nL 359.899471 143.499956 \nL 360.007708 168.538696 \nL 360.061827 158.123009 \nL 360.115945 161.422837 \nL 360.224183 203.9037 \nL 360.278302 185.577654 \nL 360.33242 198.302092 \nL 360.386539 214.0422 \nL 360.494776 184.561629 \nL 360.548895 191.990935 \nL 360.657133 153.393657 \nL 360.711251 175.677212 \nL 360.76537 124.463482 \nL 360.819489 178.955849 \nL 360.873607 157.317836 \nL 360.927726 175.626948 \nL 360.981845 158.888791 \nL 361.035964 142.403961 \nL 361.144201 203.398063 \nL 361.19832 196.470461 \nL 361.252438 126.488467 \nL 361.306557 199.227366 \nL 361.360676 195.032555 \nL 361.414795 200.719006 \nL 361.523032 110.889274 \nL 361.685388 177.152218 \nL 361.847744 146.382846 \nL 362.064219 172.627395 \nL 362.226575 149.428807 \nL 362.280694 166.315367 \nL 362.334813 159.967773 \nL 362.388931 160.38266 \nL 362.44305 195.941318 \nL 362.497169 159.500926 \nL 362.551288 181.303073 \nL 362.605406 135.662148 \nL 362.659525 169.5033 \nL 362.767762 146.598032 \nL 362.821881 170.5496 \nL 362.876 111.46063 \nL 362.930118 176.831167 \nL 362.984237 173.220482 \nL 363.038356 171.102464 \nL 363.092475 133.863329 \nL 363.146593 149.631546 \nL 363.254831 184.312481 \nL 363.308949 117.024736 \nL 363.363068 209.202071 \nL 363.363068 209.202071 \n\" style=\"fill:none;stroke:#1f77b4;stroke-linecap:square;stroke-width:1.5;\"/>\n   </g>\n   <g id=\"patch_3\">\n    <path d=\"M 43.78125 226.1107 \nL 43.78125 8.6707 \n\" style=\"fill:none;stroke:#000000;stroke-linecap:square;stroke-linejoin:miter;stroke-width:0.8;\"/>\n   </g>\n   <g id=\"patch_4\">\n    <path d=\"M 378.58125 226.1107 \nL 378.58125 8.6707 \n\" style=\"fill:none;stroke:#000000;stroke-linecap:square;stroke-linejoin:miter;stroke-width:0.8;\"/>\n   </g>\n   <g id=\"patch_5\">\n    <path d=\"M 43.78125 226.1107 \nL 378.58125 226.1107 \n\" style=\"fill:none;stroke:#000000;stroke-linecap:square;stroke-linejoin:miter;stroke-width:0.8;\"/>\n   </g>\n   <g id=\"patch_6\">\n    <path d=\"M 43.78125 8.6707 \nL 378.58125 8.6707 \n\" style=\"fill:none;stroke:#000000;stroke-linecap:square;stroke-linejoin:miter;stroke-width:0.8;\"/>\n   </g>\n  </g>\n </g>\n <defs>\n  <clipPath id=\"p6e0264a973\">\n   <rect height=\"217.44\" width=\"334.8\" x=\"43.78125\" y=\"8.6707\"/>\n  </clipPath>\n </defs>\n</svg>\n",
      "image/png": "[encoded data removed]"
     },
     "metadata": {
      "needs_background": "light"
     }
    }
   ],
   "source": [
    "import matplotlib.pyplot as plt\n",
    "\n",
    "plt.plot(loss_history)\n",
    "plt.xlabel('Batch #')\n",
    "plt.ylabel('Loss [entropy]')"
   ]
  },
  {
   "cell_type": "markdown",
   "metadata": {
    "id": "kKpOlHPLqEgl"
   },
   "source": [
    "### Variables and optimizers\n",
    "\n",
    "`tf.Variable` objects store mutable `tf.Tensor`-like values accessed during\n",
    "training to make automatic differentiation easier. \n",
    "\n",
    "The collections of variables can be encapsulated into layers or models, along with methods that operate on them. See [Custom Keras layers and models](./keras/custom_layers_and_models.ipynb) for details. The main difference between layers and models is that models add methods like  `Model.fit`, `Model.evaluate`, and `Model.save`.\n",
    "\n",
    "For example, the automatic differentiation example above\n",
    "can be rewritten:"
   ]
  },
  {
   "cell_type": "code",
   "execution_count": 21,
   "metadata": {
    "execution": {
     "iopub.execute_input": "2020-10-07T01:24:01.103144Z",
     "iopub.status.busy": "2020-10-07T01:24:01.102506Z",
     "iopub.status.idle": "2020-10-07T01:24:01.104878Z",
     "shell.execute_reply": "2020-10-07T01:24:01.104274Z"
    },
    "id": "2qXcPngYk8dN"
   },
   "outputs": [],
   "source": [
    "class Linear(tf.keras.Model):\n",
    "  def __init__(self):\n",
    "    super(Linear, self).__init__()\n",
    "    self.W = tf.Variable(5., name='weight')\n",
    "    self.B = tf.Variable(10., name='bias')\n",
    "  def call(self, inputs):\n",
    "    return inputs * self.W + self.B"
   ]
  },
  {
   "cell_type": "code",
   "execution_count": 22,
   "metadata": {
    "execution": {
     "iopub.execute_input": "2020-10-07T01:24:01.110742Z",
     "iopub.status.busy": "2020-10-07T01:24:01.110040Z",
     "iopub.status.idle": "2020-10-07T01:24:01.113517Z",
     "shell.execute_reply": "2020-10-07T01:24:01.113929Z"
    },
    "id": "nnQLBYmEqEgm"
   },
   "outputs": [],
   "source": [
    "# A toy dataset of points around 3 * x + 2\n",
    "NUM_EXAMPLES = 2000\n",
    "training_inputs = tf.random.normal([NUM_EXAMPLES])\n",
    "noise = tf.random.normal([NUM_EXAMPLES])\n",
    "training_outputs = training_inputs * 3 + 2 + noise\n",
    "\n",
    "# The loss function to be optimized\n",
    "def loss(model, inputs, targets):\n",
    "  error = model(inputs) - targets\n",
    "  return tf.reduce_mean(tf.square(error))\n",
    "\n",
    "def grad(model, inputs, targets):\n",
    "  with tf.GradientTape() as tape:\n",
    "    loss_value = loss(model, inputs, targets)\n",
    "  return tape.gradient(loss_value, [model.W, model.B])"
   ]
  },
  {
   "cell_type": "markdown",
   "metadata": {
    "id": "Q7x1CDurl3IG"
   },
   "source": [
    "Next:\n",
    "\n",
    "1. Create the model.\n",
    "2. The Derivatives of a loss function with respect to model parameters.\n",
    "3. A strategy for updating the variables based on the derivatives."
   ]
  },
  {
   "cell_type": "code",
   "execution_count": 23,
   "metadata": {
    "execution": {
     "iopub.execute_input": "2020-10-07T01:24:01.121019Z",
     "iopub.status.busy": "2020-10-07T01:24:01.120284Z",
     "iopub.status.idle": "2020-10-07T01:24:01.671152Z",
     "shell.execute_reply": "2020-10-07T01:24:01.671596Z"
    },
    "id": "SbXJk0f2lztg"
   },
   "outputs": [
    {
     "output_type": "stream",
     "name": "stdout",
     "text": [
      "Initial loss: 68.835\n",
      "Loss at step 000: 66.173\n",
      "Loss at step 020: 30.272\n",
      "Loss at step 040: 14.155\n",
      "Loss at step 060: 6.919\n",
      "Loss at step 080: 3.670\n",
      "Loss at step 100: 2.211\n",
      "Loss at step 120: 1.555\n",
      "Loss at step 140: 1.261\n",
      "Loss at step 160: 1.129\n",
      "Loss at step 180: 1.070\n",
      "Loss at step 200: 1.043\n",
      "Loss at step 220: 1.031\n",
      "Loss at step 240: 1.025\n",
      "Loss at step 260: 1.023\n",
      "Loss at step 280: 1.022\n"
     ]
    }
   ],
   "source": [
    "model = Linear()\n",
    "optimizer = tf.keras.optimizers.SGD(learning_rate=0.01)\n",
    "\n",
    "print(\"Initial loss: {:.3f}\".format(loss(model, training_inputs, training_outputs)))\n",
    "\n",
    "steps = 300\n",
    "for i in range(steps):\n",
    "  grads = grad(model, training_inputs, training_outputs)\n",
    "  optimizer.apply_gradients(zip(grads, [model.W, model.B]))\n",
    "  if i % 20 == 0:\n",
    "    print(\"Loss at step {:03d}: {:.3f}\".format(i, loss(model, training_inputs, training_outputs)))"
   ]
  },
  {
   "cell_type": "code",
   "execution_count": 24,
   "metadata": {
    "execution": {
     "iopub.execute_input": "2020-10-07T01:24:01.677373Z",
     "iopub.status.busy": "2020-10-07T01:24:01.676329Z",
     "iopub.status.idle": "2020-10-07T01:24:01.679719Z",
     "shell.execute_reply": "2020-10-07T01:24:01.680148Z"
    },
    "id": "PV_dqer7pzSH"
   },
   "outputs": [
    {
     "output_type": "stream",
     "name": "stdout",
     "text": [
      "Final loss: 1.022\n"
     ]
    }
   ],
   "source": [
    "print(\"Final loss: {:.3f}\".format(loss(model, training_inputs, training_outputs)))"
   ]
  },
  {
   "cell_type": "code",
   "execution_count": 25,
   "metadata": {
    "execution": {
     "iopub.execute_input": "2020-10-07T01:24:01.684260Z",
     "iopub.status.busy": "2020-10-07T01:24:01.683332Z",
     "iopub.status.idle": "2020-10-07T01:24:01.686813Z",
     "shell.execute_reply": "2020-10-07T01:24:01.687200Z"
    },
    "id": "rvt_Wj3Tp0hm"
   },
   "outputs": [
    {
     "output_type": "stream",
     "name": "stdout",
     "text": [
      "W = 2.9783151149749756, B = 1.999566674232483\n"
     ]
    }
   ],
   "source": [
    "print(\"W = {}, B = {}\".format(model.W.numpy(), model.B.numpy()))"
   ]
  },
  {
   "cell_type": "markdown",
   "metadata": {
    "id": "rPjb8nRWqEgr"
   },
   "source": [
    "Note: Variables persist until the last reference to the python object\n",
    "is removed, and is the variable is deleted."
   ]
  },
  {
   "cell_type": "markdown",
   "metadata": {
    "id": "scMjg6L6qEgv"
   },
   "source": [
    "### Object-based saving\n"
   ]
  },
  {
   "cell_type": "markdown",
   "metadata": {
    "id": "Y-0ZcCcjwkux"
   },
   "source": [
    "A `tf.keras.Model` includes a convenient `save_weights` method allowing you to easily create a checkpoint: "
   ]
  },
  {
   "cell_type": "code",
   "execution_count": 26,
   "metadata": {
    "execution": {
     "iopub.execute_input": "2020-10-07T01:24:01.692552Z",
     "iopub.status.busy": "2020-10-07T01:24:01.691940Z",
     "iopub.status.idle": "2020-10-07T01:24:01.706938Z",
     "shell.execute_reply": "2020-10-07T01:24:01.707366Z"
    },
    "id": "oJrMX94PwD9s"
   },
   "outputs": [],
   "source": [
    "model.save_weights('weights')\n",
    "status = model.load_weights('weights')"
   ]
  },
  {
   "cell_type": "markdown",
   "metadata": {
    "id": "2EfTjWV_wEng"
   },
   "source": [
    "Using `tf.train.Checkpoint` you can take full control over this process.\n",
    "\n",
    "This section is an abbreviated version of the [guide to training checkpoints](./checkpoint.ipynb).\n"
   ]
  },
  {
   "cell_type": "code",
   "execution_count": 27,
   "metadata": {
    "execution": {
     "iopub.execute_input": "2020-10-07T01:24:01.711958Z",
     "iopub.status.busy": "2020-10-07T01:24:01.711080Z",
     "iopub.status.idle": "2020-10-07T01:24:01.714216Z",
     "shell.execute_reply": "2020-10-07T01:24:01.714619Z"
    },
    "id": "7z5xRfdHzZOQ"
   },
   "outputs": [],
   "source": [
    "x = tf.Variable(10.)\n",
    "checkpoint = tf.train.Checkpoint(x=x)"
   ]
  },
  {
   "cell_type": "code",
   "execution_count": 28,
   "metadata": {
    "execution": {
     "iopub.execute_input": "2020-10-07T01:24:01.718840Z",
     "iopub.status.busy": "2020-10-07T01:24:01.718227Z",
     "iopub.status.idle": "2020-10-07T01:24:01.727444Z",
     "shell.execute_reply": "2020-10-07T01:24:01.726973Z"
    },
    "id": "IffrUVG7zyVb"
   },
   "outputs": [
    {
     "output_type": "execute_result",
     "data": {
      "text/plain": [
       "'./ckpt/-1'"
      ]
     },
     "metadata": {},
     "execution_count": 28
    }
   ],
   "source": [
    "x.assign(2.)   # Assign a new value to the variables and save.\n",
    "checkpoint_path = './ckpt/'\n",
    "checkpoint.save('./ckpt/')"
   ]
  },
  {
   "cell_type": "code",
   "execution_count": 29,
   "metadata": {
    "execution": {
     "iopub.execute_input": "2020-10-07T01:24:01.731195Z",
     "iopub.status.busy": "2020-10-07T01:24:01.730501Z",
     "iopub.status.idle": "2020-10-07T01:24:01.737526Z",
     "shell.execute_reply": "2020-10-07T01:24:01.736925Z"
    },
    "id": "eMT9koCoqEgw"
   },
   "outputs": [
    {
     "output_type": "stream",
     "name": "stdout",
     "text": [
      "<tf.Variable 'Variable:0' shape=() dtype=float32, numpy=2.0>\n"
     ]
    }
   ],
   "source": [
    "x.assign(11.)  # Change the variable after saving.\n",
    "\n",
    "# Restore values from the checkpoint\n",
    "checkpoint.restore(tf.train.latest_checkpoint(checkpoint_path))\n",
    "\n",
    "print(x)  # => 2.0"
   ]
  },
  {
   "cell_type": "markdown",
   "metadata": {
    "id": "vbFnP-yLqEgx"
   },
   "source": [
    "To save and load models, `tf.train.Checkpoint` stores the internal state of objects,\n",
    "without requiring hidden variables. To record the state of a `model`,\n",
    "an `optimizer`, and a global step, pass them to a `tf.train.Checkpoint`:"
   ]
  },
  {
   "cell_type": "code",
   "execution_count": 30,
   "metadata": {
    "execution": {
     "iopub.execute_input": "2020-10-07T01:24:01.748181Z",
     "iopub.status.busy": "2020-10-07T01:24:01.747421Z",
     "iopub.status.idle": "2020-10-07T01:24:01.760493Z",
     "shell.execute_reply": "2020-10-07T01:24:01.760882Z"
    },
    "id": "hWZHyAXMqEg0"
   },
   "outputs": [
    {
     "output_type": "execute_result",
     "data": {
      "text/plain": [
       "<tensorflow.python.training.tracking.util.CheckpointLoadStatus at 0x7f82ef922520>"
      ]
     },
     "metadata": {},
     "execution_count": 30
    }
   ],
   "source": [
    "model = tf.keras.Sequential([\n",
    "  tf.keras.layers.Conv2D(16,[3,3], activation='relu'),\n",
    "  tf.keras.layers.GlobalAveragePooling2D(),\n",
    "  tf.keras.layers.Dense(10)\n",
    "])\n",
    "optimizer = tf.keras.optimizers.Adam(learning_rate=0.001)\n",
    "checkpoint_dir = 'path/to/model_dir'\n",
    "if not os.path.exists(checkpoint_dir):\n",
    "  os.makedirs(checkpoint_dir)\n",
    "checkpoint_prefix = os.path.join(checkpoint_dir, \"ckpt\")\n",
    "root = tf.train.Checkpoint(optimizer=optimizer,\n",
    "                           model=model)\n",
    "\n",
    "root.save(checkpoint_prefix)\n",
    "root.restore(tf.train.latest_checkpoint(checkpoint_dir))"
   ]
  },
  {
   "cell_type": "markdown",
   "metadata": {
    "id": "R-ITwkBCF6GJ"
   },
   "source": [
    "Note: In many training loops, variables are created after `tf.train.Checkpoint.restore` is called. These variables will be restored as soon as they are created, and assertions are available to ensure that a checkpoint has been fully loaded. See the [guide to training checkpoints](./checkpoint.ipynb) for details."
   ]
  },
  {
   "cell_type": "markdown",
   "metadata": {
    "id": "3yoD0VJ7qEg3"
   },
   "source": [
    "### Object-oriented metrics\n",
    "\n",
    "`tf.keras.metrics` are stored as objects. Update a metric by passing the new data to\n",
    "the callable, and retrieve the result using the `tf.keras.metrics.result` method,\n",
    "for example:"
   ]
  },
  {
   "cell_type": "code",
   "execution_count": 31,
   "metadata": {
    "execution": {
     "iopub.execute_input": "2020-10-07T01:24:01.772291Z",
     "iopub.status.busy": "2020-10-07T01:24:01.771272Z",
     "iopub.status.idle": "2020-10-07T01:24:01.783866Z",
     "shell.execute_reply": "2020-10-07T01:24:01.783317Z"
    },
    "id": "9ccu0iAaqEg5"
   },
   "outputs": [
    {
     "output_type": "execute_result",
     "data": {
      "text/plain": [
       "<tf.Tensor: shape=(), dtype=float32, numpy=5.5>"
      ]
     },
     "metadata": {},
     "execution_count": 31
    }
   ],
   "source": [
    "m = tf.keras.metrics.Mean(\"loss\")\n",
    "m(0)\n",
    "m(5)\n",
    "m.result()  # => 2.5\n",
    "m([8, 9])\n",
    "m.result()  # => 5.5"
   ]
  },
  {
   "cell_type": "markdown",
   "metadata": {
    "id": "aB8qWtT955pI"
   },
   "source": [
    "### Summaries and TensorBoard\n",
    "\n",
    "[TensorBoard](https://tensorflow.org/tensorboard) is a visualization tool for\n",
    "understanding, debugging and optimizing the model training process. It uses\n",
    "summary events that are written while executing the program.\n",
    "\n",
    "You can use `tf.summary` to record summaries of variable in eager execution.\n",
    "For example, to record summaries of `loss` once every 100 training steps:"
   ]
  },
  {
   "cell_type": "code",
   "execution_count": 32,
   "metadata": {
    "execution": {
     "iopub.execute_input": "2020-10-07T01:24:01.789789Z",
     "iopub.status.busy": "2020-10-07T01:24:01.789130Z",
     "iopub.status.idle": "2020-10-07T01:24:01.798580Z",
     "shell.execute_reply": "2020-10-07T01:24:01.798081Z"
    },
    "id": "z6VInqhA6RH4"
   },
   "outputs": [],
   "source": [
    "logdir = \"./tb/\"\n",
    "writer = tf.summary.create_file_writer(logdir)\n",
    "\n",
    "steps = 1000\n",
    "with writer.as_default():  # or call writer.set_as_default() before the loop.\n",
    "  for i in range(steps):\n",
    "    step = i + 1\n",
    "    # Calculate loss with your real train function.\n",
    "    loss = 1 - 0.001 * step\n",
    "    if step % 100 == 0:\n",
    "      tf.summary.scalar('loss', loss, step=step)"
   ]
  },
  {
   "cell_type": "code",
   "execution_count": 33,
   "metadata": {
    "execution": {
     "iopub.execute_input": "2020-10-07T01:24:01.824014Z",
     "iopub.status.busy": "2020-10-07T01:24:01.823175Z",
     "iopub.status.idle": "2020-10-07T01:24:01.955689Z",
     "shell.execute_reply": "2020-10-07T01:24:01.955003Z"
    },
    "id": "08QQD2j36TaI"
   },
   "outputs": [
    {
     "output_type": "stream",
     "name": "stdout",
     "text": [
      "events.out.tfevents.1607814472.Caihaos-Mini.87299.619697.v2\n"
     ]
    }
   ],
   "source": [
    "!ls tb/"
   ]
  },
  {
   "cell_type": "markdown",
   "metadata": {
    "id": "xEL4yJe5qEhD"
   },
   "source": [
    "## Advanced automatic differentiation topics\n",
    "\n",
    "### Dynamic models\n",
    "\n",
    "`tf.GradientTape` can also be used in dynamic models. This example for a\n",
    "[backtracking line search](https://wikipedia.org/wiki/Backtracking_line_search)\n",
    "algorithm looks like normal NumPy code, except there are gradients and is\n",
    "differentiable, despite the complex control flow:"
   ]
  },
  {
   "cell_type": "code",
   "execution_count": 34,
   "metadata": {
    "execution": {
     "iopub.execute_input": "2020-10-07T01:24:01.965011Z",
     "iopub.status.busy": "2020-10-07T01:24:01.964027Z",
     "iopub.status.idle": "2020-10-07T01:24:01.966112Z",
     "shell.execute_reply": "2020-10-07T01:24:01.966498Z"
    },
    "id": "L518n5dkqEhE"
   },
   "outputs": [],
   "source": [
    "def line_search_step(fn, init_x, rate=1.0):\n",
    "  with tf.GradientTape() as tape:\n",
    "    # Variables are automatically tracked.\n",
    "    # But to calculate a gradient from a tensor, you must `watch` it.\n",
    "    tape.watch(init_x)\n",
    "    value = fn(init_x)\n",
    "  grad = tape.gradient(value, init_x)\n",
    "  grad_norm = tf.reduce_sum(grad * grad)\n",
    "  init_value = value\n",
    "  while value > init_value - rate * grad_norm:\n",
    "    x = init_x - rate * grad\n",
    "    value = fn(x)\n",
    "    rate /= 2.0\n",
    "  return x, value"
   ]
  },
  {
   "cell_type": "markdown",
   "metadata": {
    "id": "gieGOf_DqEhK"
   },
   "source": [
    "### Custom gradients\n",
    "\n",
    "Custom gradients are an easy way to override gradients. Within the forward function, define the gradient with respect to the\n",
    "inputs, outputs, or intermediate results. For example, here's an easy way to clip\n",
    "the norm of the gradients in the backward pass:"
   ]
  },
  {
   "cell_type": "code",
   "execution_count": 35,
   "metadata": {
    "execution": {
     "iopub.execute_input": "2020-10-07T01:24:01.973009Z",
     "iopub.status.busy": "2020-10-07T01:24:01.972158Z",
     "iopub.status.idle": "2020-10-07T01:24:01.974757Z",
     "shell.execute_reply": "2020-10-07T01:24:01.974247Z"
    },
    "id": "-OwwsWUAqEhK"
   },
   "outputs": [],
   "source": [
    "@tf.custom_gradient\n",
    "def clip_gradient_by_norm(x, norm):\n",
    "  y = tf.identity(x)\n",
    "  def grad_fn(dresult):\n",
    "    return [tf.clip_by_norm(dresult, norm), None]\n",
    "  return y, grad_fn"
   ]
  },
  {
   "cell_type": "markdown",
   "metadata": {
    "id": "JPLDHkF_qEhN"
   },
   "source": [
    "Custom gradients are commonly used to provide a numerically stable gradient for a\n",
    "sequence of operations:"
   ]
  },
  {
   "cell_type": "code",
   "execution_count": 36,
   "metadata": {
    "execution": {
     "iopub.execute_input": "2020-10-07T01:24:01.980794Z",
     "iopub.status.busy": "2020-10-07T01:24:01.980058Z",
     "iopub.status.idle": "2020-10-07T01:24:01.982489Z",
     "shell.execute_reply": "2020-10-07T01:24:01.981997Z"
    },
    "id": "24WiLROnqEhO"
   },
   "outputs": [],
   "source": [
    "def log1pexp(x):\n",
    "  return tf.math.log(1 + tf.exp(x))\n",
    "\n",
    "def grad_log1pexp(x):\n",
    "  with tf.GradientTape() as tape:\n",
    "    tape.watch(x)\n",
    "    value = log1pexp(x)\n",
    "  return tape.gradient(value, x)\n"
   ]
  },
  {
   "cell_type": "code",
   "execution_count": 37,
   "metadata": {
    "execution": {
     "iopub.execute_input": "2020-10-07T01:24:01.986750Z",
     "iopub.status.busy": "2020-10-07T01:24:01.986139Z",
     "iopub.status.idle": "2020-10-07T01:24:01.991488Z",
     "shell.execute_reply": "2020-10-07T01:24:01.991037Z"
    },
    "id": "n8fq69r9-B-c"
   },
   "outputs": [
    {
     "output_type": "execute_result",
     "data": {
      "text/plain": [
       "0.5"
      ]
     },
     "metadata": {},
     "execution_count": 37
    }
   ],
   "source": [
    "# The gradient computation works fine at x = 0.\n",
    "grad_log1pexp(tf.constant(0.)).numpy()"
   ]
  },
  {
   "cell_type": "code",
   "execution_count": 38,
   "metadata": {
    "execution": {
     "iopub.execute_input": "2020-10-07T01:24:01.995289Z",
     "iopub.status.busy": "2020-10-07T01:24:01.994616Z",
     "iopub.status.idle": "2020-10-07T01:24:01.998949Z",
     "shell.execute_reply": "2020-10-07T01:24:01.999363Z"
    },
    "id": "_VFSU0mG-FSp"
   },
   "outputs": [
    {
     "output_type": "execute_result",
     "data": {
      "text/plain": [
       "nan"
      ]
     },
     "metadata": {},
     "execution_count": 38
    }
   ],
   "source": [
    "# However, x = 100 fails because of numerical instability.\n",
    "grad_log1pexp(tf.constant(100.)).numpy()"
   ]
  },
  {
   "cell_type": "markdown",
   "metadata": {
    "id": "-VcTR34rqEhQ"
   },
   "source": [
    "Here, the `log1pexp` function can be analytically simplified with a custom\n",
    "gradient. The implementation below reuses the value for `tf.exp(x)` that is\n",
    "computed during the forward pass—making it more efficient by eliminating\n",
    "redundant calculations:"
   ]
  },
  {
   "cell_type": "code",
   "execution_count": 39,
   "metadata": {
    "execution": {
     "iopub.execute_input": "2020-10-07T01:24:02.005244Z",
     "iopub.status.busy": "2020-10-07T01:24:02.004475Z",
     "iopub.status.idle": "2020-10-07T01:24:02.007017Z",
     "shell.execute_reply": "2020-10-07T01:24:02.006528Z"
    },
    "id": "Q7nvfx_-qEhS"
   },
   "outputs": [],
   "source": [
    "@tf.custom_gradient\n",
    "def log1pexp(x):\n",
    "  e = tf.exp(x)\n",
    "  def grad(dy):\n",
    "    return dy * (1 - 1 / (1 + e))\n",
    "  return tf.math.log(1 + e), grad\n",
    "\n",
    "def grad_log1pexp(x):\n",
    "  with tf.GradientTape() as tape:\n",
    "    tape.watch(x)\n",
    "    value = log1pexp(x)\n",
    "  return tape.gradient(value, x)\n"
   ]
  },
  {
   "cell_type": "code",
   "execution_count": 40,
   "metadata": {
    "execution": {
     "iopub.execute_input": "2020-10-07T01:24:02.010843Z",
     "iopub.status.busy": "2020-10-07T01:24:02.010144Z",
     "iopub.status.idle": "2020-10-07T01:24:02.014736Z",
     "shell.execute_reply": "2020-10-07T01:24:02.014238Z"
    },
    "id": "5gHPKMfl-Kge"
   },
   "outputs": [
    {
     "output_type": "execute_result",
     "data": {
      "text/plain": [
       "0.5"
      ]
     },
     "metadata": {},
     "execution_count": 40
    }
   ],
   "source": [
    "# As before, the gradient computation works fine at x = 0.\n",
    "grad_log1pexp(tf.constant(0.)).numpy()"
   ]
  },
  {
   "cell_type": "code",
   "execution_count": 41,
   "metadata": {
    "execution": {
     "iopub.execute_input": "2020-10-07T01:24:02.019160Z",
     "iopub.status.busy": "2020-10-07T01:24:02.018528Z",
     "iopub.status.idle": "2020-10-07T01:24:02.022723Z",
     "shell.execute_reply": "2020-10-07T01:24:02.023094Z"
    },
    "id": "u38MOfz3-MDE"
   },
   "outputs": [
    {
     "output_type": "execute_result",
     "data": {
      "text/plain": [
       "1.0"
      ]
     },
     "metadata": {},
     "execution_count": 41
    }
   ],
   "source": [
    "# And the gradient computation also works at x = 100.\n",
    "grad_log1pexp(tf.constant(100.)).numpy()"
   ]
  },
  {
   "cell_type": "markdown",
   "metadata": {
    "id": "rnZXjfQzqEhV"
   },
   "source": [
    "## Performance\n",
    "\n",
    "Computation is automatically offloaded to GPUs during eager execution. If you\n",
    "want control over where a computation runs you can enclose it in a\n",
    "`tf.device('/gpu:0')` block (or the CPU equivalent):"
   ]
  },
  {
   "cell_type": "code",
   "execution_count": 42,
   "metadata": {
    "execution": {
     "iopub.execute_input": "2020-10-07T01:24:02.034831Z",
     "iopub.status.busy": "2020-10-07T01:24:02.033914Z",
     "iopub.status.idle": "2020-10-07T01:24:03.114510Z",
     "shell.execute_reply": "2020-10-07T01:24:03.113888Z"
    },
    "id": "Ac9Y64H-qEhX"
   },
   "outputs": [
    {
     "output_type": "stream",
     "name": "stdout",
     "text": [
      "Time to multiply a (1000, 1000) matrix by itself 200 times:\n",
      "CPU: 1.091012716293335 secs\n",
      "GPU: not found\n"
     ]
    }
   ],
   "source": [
    "import time\n",
    "\n",
    "def measure(x, steps):\n",
    "  # TensorFlow initializes a GPU the first time it's used, exclude from timing.\n",
    "  tf.matmul(x, x)\n",
    "  start = time.time()\n",
    "  for i in range(steps):\n",
    "    x = tf.matmul(x, x)\n",
    "  # tf.matmul can return before completing the matrix multiplication\n",
    "  # (e.g., can return after enqueing the operation on a CUDA stream).\n",
    "  # The x.numpy() call below will ensure that all enqueued operations\n",
    "  # have completed (and will also copy the result to host memory,\n",
    "  # so we're including a little more than just the matmul operation\n",
    "  # time).\n",
    "  _ = x.numpy()\n",
    "  end = time.time()\n",
    "  return end - start\n",
    "\n",
    "shape = (1000, 1000)\n",
    "steps = 200\n",
    "print(\"Time to multiply a {} matrix by itself {} times:\".format(shape, steps))\n",
    "\n",
    "# Run on CPU:\n",
    "with tf.device(\"/cpu:0\"):\n",
    "  print(\"CPU: {} secs\".format(measure(tf.random.normal(shape), steps)))\n",
    "\n",
    "# Run on GPU, if available:\n",
    "if tf.config.experimental.list_physical_devices(\"GPU\"):\n",
    "  with tf.device(\"/gpu:0\"):\n",
    "    print(\"GPU: {} secs\".format(measure(tf.random.normal(shape), steps)))\n",
    "else:\n",
    "  print(\"GPU: not found\")"
   ]
  },
  {
   "cell_type": "markdown",
   "metadata": {
    "id": "RLw3IS7UqEhe"
   },
   "source": [
    "A `tf.Tensor` object can be copied to a different device to execute its\n",
    "operations:"
   ]
  },
  {
   "cell_type": "code",
   "execution_count": 43,
   "metadata": {
    "execution": {
     "iopub.execute_input": "2020-10-07T01:24:03.120120Z",
     "iopub.status.busy": "2020-10-07T01:24:03.119284Z",
     "iopub.status.idle": "2020-10-07T01:24:03.124317Z",
     "shell.execute_reply": "2020-10-07T01:24:03.123771Z"
    },
    "id": "ny6LX2BVqEhf"
   },
   "outputs": [],
   "source": [
    "if tf.config.experimental.list_physical_devices(\"GPU\"):\n",
    "  x = tf.random.normal([10, 10])\n",
    "\n",
    "  x_gpu0 = x.gpu()\n",
    "  x_cpu = x.cpu()\n",
    "\n",
    "  _ = tf.matmul(x_cpu, x_cpu)    # Runs on CPU\n",
    "  _ = tf.matmul(x_gpu0, x_gpu0)  # Runs on GPU:0"
   ]
  },
  {
   "cell_type": "markdown",
   "metadata": {
    "id": "oA_qaII3-p6c"
   },
   "source": [
    "### Benchmarks\n",
    "\n",
    "For compute-heavy models, such as\n",
    "[ResNet50](https://github.com/tensorflow/tensorflow/tree/master/tensorflow/python/eager/benchmarks/resnet50)\n",
    "training on a GPU, eager execution performance is comparable to `tf.function` execution.\n",
    "But this gap grows larger for models with less computation and there is work to\n",
    "be done for optimizing hot code paths for models with lots of small operations.\n",
    "\n",
    "## Work with functions\n",
    "\n",
    "While eager execution makes development and debugging more interactive,\n",
    "TensorFlow 1.x style graph execution has advantages for distributed training, performance\n",
    "optimizations, and production deployment. To bridge this gap, TensorFlow 2.0 introduces `function`s via the `tf.function` API. For more information, see the [tf.function](./function.ipynb) guide."
   ]
  }
 ],
 "metadata": {
  "accelerator": "GPU",
  "colab": {
   "collapsed_sections": [],
   "name": "eager.ipynb",
   "toc_visible": true
  },
  "kernelspec": {
   "name": "python3",
   "display_name": "Python 3.6.9 64-bit",
   "metadata": {
    "interpreter": {
     "hash": "4cd7ab41f5fca4b9b44701077e38c5ffd31fe66a6cab21e0214b68d958d0e462"
    }
   }
  },
  "language_info": {
   "codemirror_mode": {
    "name": "ipython",
    "version": 3
   },
   "file_extension": ".py",
   "mimetype": "text/x-python",
   "name": "python",
   "nbconvert_exporter": "python",
   "pygments_lexer": "ipython3",
   "version": "3.6.9-final"
  }
 },
 "nbformat": 4,
 "nbformat_minor": 0
}