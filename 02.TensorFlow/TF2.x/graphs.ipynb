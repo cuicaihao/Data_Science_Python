{
  "cells": [
    {
      "cell_type": "markdown",
      "metadata": {
        "id": "SB93Ge748VQs"
      },
      "source": [
        "##### Copyright 2019 The TensorFlow Authors."
      ]
    },
    {
      "cell_type": "code",
      "execution_count": 1,
      "metadata": {
        "cellView": "form",
        "id": "0sK8X2O9bTlz"
      },
      "outputs": [],
      "source": [
        "#@title Licensed under the Apache License, Version 2.0 (the \"License\");\n",
        "# you may not use this file except in compliance with the License.\n",
        "# You may obtain a copy of the License at\n",
        "#\n",
        "# https://www.apache.org/licenses/LICENSE-2.0\n",
        "#\n",
        "# Unless required by applicable law or agreed to in writing, software\n",
        "# distributed under the License is distributed on an \"AS IS\" BASIS,\n",
        "# WITHOUT WARRANTIES OR CONDITIONS OF ANY KIND, either express or implied.\n",
        "# See the License for the specific language governing permissions and\n",
        "# limitations under the License."
      ]
    },
    {
      "cell_type": "markdown",
      "metadata": {
        "id": "HEYuO5NFwDK9"
      },
      "source": [
        "# Examining the TensorFlow Graph\n",
        "\n",
        "<table class=\"tfo-notebook-buttons\" align=\"left\">\n",
        "  <td>\n",
        "    <a target=\"_blank\" href=\"https://www.tensorflow.org/tensorboard/graphs\"><img src=\"https://www.tensorflow.org/images/tf_logo_32px.png\" />View on TensorFlow.org</a>\n",
        "  </td>\n",
        "  <td>\n",
        "    <a target=\"_blank\" href=\"https://colab.research.google.com/github/tensorflow/tensorboard/blob/master/docs/graphs.ipynb\"><img src=\"https://www.tensorflow.org/images/colab_logo_32px.png\" />Run in Google Colab</a>\n",
        "  </td>\n",
        "  <td>\n",
        "    <a target=\"_blank\" href=\"https://github.com/tensorflow/tensorboard/blob/master/docs/graphs.ipynb\"><img src=\"https://www.tensorflow.org/images/GitHub-Mark-32px.png\" />View source on GitHub</a>\n",
        "  </td>\n",
        "  <td>\n",
        "    <a href=\"https://storage.googleapis.com/tensorflow_docs/tensorboard/docs/graphs.ipynb\"><img src=\"https://www.tensorflow.org/images/download_logo_32px.png\" />Download notebook</a>\n",
        "  </td>\n",
        "</table>"
      ]
    },
    {
      "cell_type": "markdown",
      "metadata": {
        "id": "56V5oun18ZdZ"
      },
      "source": [
        "## Overview\n",
        "\n",
        "TensorBoard’s **Graphs dashboard** is a powerful tool for examining your TensorFlow model. You can quickly view a conceptual graph of your model’s structure and ensure it matches your intended design. You can also view a op-level graph to understand how TensorFlow understands your program. Examining the op-level graph can give you insight as to how to change your model. For example, you can redesign your model if training is progressing slower than expected."
      ]
    },
    {
      "cell_type": "markdown",
      "metadata": {
        "id": "TOSJ-4nteBYG"
      },
      "source": [
        "This tutorial presents a quick overview of how to generate graph diagnostic data and visualize it in TensorBoard’s Graphs dashboard. You’ll define and train a simple Keras Sequential model for the Fashion-MNIST dataset and learn how to log and examine your model graphs. You will also use a tracing API to generate graph data for functions created using the new `tf.function` annotation."
      ]
    },
    {
      "cell_type": "markdown",
      "metadata": {
        "id": "zNI1-dflrAo0"
      },
      "source": [
        "## Setup"
      ]
    },
    {
      "cell_type": "code",
      "execution_count": 2,
      "metadata": {
        "id": "6B95Hb6YVgPZ"
      },
      "outputs": [],
      "source": [
        "# Load the TensorBoard notebook extension.\n",
        "%load_ext tensorboard"
      ]
    },
    {
      "cell_type": "code",
      "execution_count": 3,
      "metadata": {
        "id": "_wqSAZExy6xV"
      },
      "outputs": [
        {
          "name": "stdout",
          "output_type": "stream",
          "text": [
            "TensorFlow version:  2.6.0\n"
          ]
        }
      ],
      "source": [
        "from datetime import datetime\n",
        "from packaging import version\n",
        "\n",
        "import tensorflow as tf\n",
        "from tensorflow import keras\n",
        "\n",
        "print(\"TensorFlow version: \", tf.__version__)\n",
        "assert version.parse(tf.__version__).release[0] >= 2, \\\n",
        "    \"This notebook requires TensorFlow 2.0 or above.\""
      ]
    },
    {
      "cell_type": "code",
      "execution_count": 4,
      "metadata": {
        "id": "qRZlYIEcJ56Z"
      },
      "outputs": [
        {
          "data": {
            "text/plain": [
              "'2.6.0'"
            ]
          },
          "execution_count": 4,
          "metadata": {},
          "output_type": "execute_result"
        }
      ],
      "source": [
        "import tensorboard\n",
        "tensorboard.__version__"
      ]
    },
    {
      "cell_type": "code",
      "execution_count": 5,
      "metadata": {
        "id": "Ao7fJW1Pyiza"
      },
      "outputs": [],
      "source": [
        "# Clear any logs from previous runs\n",
        "!rm -rf ./logs/ "
      ]
    },
    {
      "cell_type": "markdown",
      "metadata": {
        "id": "e25E37vd1xEW"
      },
      "source": [
        "## Define a Keras model\n",
        "\n",
        "In this example, the classifier is a simple four-layer Sequential model."
      ]
    },
    {
      "cell_type": "code",
      "execution_count": 6,
      "metadata": {
        "id": "skqORzvE3Egy"
      },
      "outputs": [
        {
          "name": "stderr",
          "output_type": "stream",
          "text": [
            "2021-12-05 10:27:41.787761: I tensorflow/core/platform/cpu_feature_guard.cc:142] This TensorFlow binary is optimized with oneAPI Deep Neural Network Library (oneDNN) to use the following CPU instructions in performance-critical operations:  AVX2 FMA\n",
            "To enable them in other operations, rebuild TensorFlow with the appropriate compiler flags.\n"
          ]
        }
      ],
      "source": [
        "# Define the model.\n",
        "model = keras.models.Sequential([\n",
        "    keras.layers.Flatten(input_shape=(28, 28)),\n",
        "    keras.layers.Dense(32, activation='relu'),\n",
        "    keras.layers.Dropout(0.2),\n",
        "    keras.layers.Dense(10, activation='softmax')\n",
        "])\n",
        "\n",
        "model.compile(\n",
        "    optimizer='adam',\n",
        "    loss='sparse_categorical_crossentropy',\n",
        "    metrics=['accuracy'])"
      ]
    },
    {
      "cell_type": "markdown",
      "metadata": {
        "id": "qbjuoz9E3VC_"
      },
      "source": [
        "Download and prepare the training data."
      ]
    },
    {
      "cell_type": "code",
      "execution_count": 7,
      "metadata": {
        "id": "6TDmc41z3g38"
      },
      "outputs": [
        {
          "name": "stdout",
          "output_type": "stream",
          "text": [
            "Downloading data from https://storage.googleapis.com/tensorflow/tf-keras-datasets/train-labels-idx1-ubyte.gz\n",
            "32768/29515 [=================================] - 0s 0us/step\n",
            "40960/29515 [=========================================] - 0s 0us/step\n",
            "Downloading data from https://storage.googleapis.com/tensorflow/tf-keras-datasets/train-images-idx3-ubyte.gz\n",
            "26427392/26421880 [==============================] - 7s 0us/step\n",
            "26435584/26421880 [==============================] - 7s 0us/step\n",
            "Downloading data from https://storage.googleapis.com/tensorflow/tf-keras-datasets/t10k-labels-idx1-ubyte.gz\n",
            "16384/5148 [===============================================================================================] - 0s 0us/step\n",
            "Downloading data from https://storage.googleapis.com/tensorflow/tf-keras-datasets/t10k-images-idx3-ubyte.gz\n",
            "4423680/4422102 [==============================] - 1s 0us/step\n",
            "4431872/4422102 [==============================] - 1s 0us/step\n"
          ]
        }
      ],
      "source": [
        "(train_images, train_labels), _ = keras.datasets.fashion_mnist.load_data()\n",
        "train_images = train_images / 255.0"
      ]
    },
    {
      "cell_type": "markdown",
      "metadata": {
        "id": "8DV0xibO3bRC"
      },
      "source": [
        "## Train the model and log data\n",
        "\n",
        "Before training, define the [Keras TensorBoard callback](https://www.tensorflow.org/api_docs/python/tf/keras/callbacks/TensorBoard), specifying the log directory. By passing this callback to Model.fit(), you ensure that graph data is logged for visualization in TensorBoard."
      ]
    },
    {
      "cell_type": "code",
      "execution_count": 8,
      "metadata": {
        "id": "TU_L_u9SqQdH"
      },
      "outputs": [
        {
          "name": "stderr",
          "output_type": "stream",
          "text": [
            "2021-12-05 10:27:53.589557: I tensorflow/core/profiler/lib/profiler_session.cc:131] Profiler session initializing.\n",
            "2021-12-05 10:27:53.589572: I tensorflow/core/profiler/lib/profiler_session.cc:146] Profiler session started.\n",
            "2021-12-05 10:27:53.589638: I tensorflow/core/profiler/lib/profiler_session.cc:164] Profiler session tear down.\n",
            "2021-12-05 10:27:53.726435: I tensorflow/compiler/mlir/mlir_graph_optimization_pass.cc:185] None of the MLIR Optimization Passes are enabled (registered 2)\n"
          ]
        },
        {
          "name": "stdout",
          "output_type": "stream",
          "text": [
            "Epoch 1/5\n",
            "276/938 [=======>......................] - ETA: 0s - loss: 0.9648 - accuracy: 0.6625"
          ]
        },
        {
          "name": "stderr",
          "output_type": "stream",
          "text": [
            "2021-12-05 10:27:54.097930: I tensorflow/core/profiler/lib/profiler_session.cc:131] Profiler session initializing.\n",
            "2021-12-05 10:27:54.097944: I tensorflow/core/profiler/lib/profiler_session.cc:146] Profiler session started.\n",
            "2021-12-05 10:27:54.100180: I tensorflow/core/profiler/lib/profiler_session.cc:66] Profiler session collecting data.\n",
            "2021-12-05 10:27:54.106223: I tensorflow/core/profiler/lib/profiler_session.cc:164] Profiler session tear down.\n",
            "2021-12-05 10:27:54.113775: I tensorflow/core/profiler/rpc/client/save_profile.cc:136] Creating directory: logs/fit/20211205-102753/train/plugins/profile/2021_12_05_10_27_54\n",
            "\n",
            "2021-12-05 10:27:54.114873: I tensorflow/core/profiler/rpc/client/save_profile.cc:142] Dumped gzipped tool data for trace.json.gz to logs/fit/20211205-102753/train/plugins/profile/2021_12_05_10_27_54/Caihaos-Mini.trace.json.gz\n",
            "2021-12-05 10:27:54.120236: I tensorflow/core/profiler/rpc/client/save_profile.cc:136] Creating directory: logs/fit/20211205-102753/train/plugins/profile/2021_12_05_10_27_54\n",
            "\n",
            "2021-12-05 10:27:54.120509: I tensorflow/core/profiler/rpc/client/save_profile.cc:142] Dumped gzipped tool data for memory_profile.json.gz to logs/fit/20211205-102753/train/plugins/profile/2021_12_05_10_27_54/Caihaos-Mini.memory_profile.json.gz\n",
            "2021-12-05 10:27:54.121380: I tensorflow/core/profiler/rpc/client/capture_profile.cc:251] Creating directory: logs/fit/20211205-102753/train/plugins/profile/2021_12_05_10_27_54\n",
            "Dumped tool data for xplane.pb to logs/fit/20211205-102753/train/plugins/profile/2021_12_05_10_27_54/Caihaos-Mini.xplane.pb\n",
            "Dumped tool data for overview_page.pb to logs/fit/20211205-102753/train/plugins/profile/2021_12_05_10_27_54/Caihaos-Mini.overview_page.pb\n",
            "Dumped tool data for input_pipeline.pb to logs/fit/20211205-102753/train/plugins/profile/2021_12_05_10_27_54/Caihaos-Mini.input_pipeline.pb\n",
            "Dumped tool data for tensorflow_stats.pb to logs/fit/20211205-102753/train/plugins/profile/2021_12_05_10_27_54/Caihaos-Mini.tensorflow_stats.pb\n",
            "Dumped tool data for kernel_stats.pb to logs/fit/20211205-102753/train/plugins/profile/2021_12_05_10_27_54/Caihaos-Mini.kernel_stats.pb\n",
            "\n"
          ]
        },
        {
          "name": "stdout",
          "output_type": "stream",
          "text": [
            "938/938 [==============================] - 1s 647us/step - loss: 0.6963 - accuracy: 0.7590\n",
            "Epoch 2/5\n",
            "938/938 [==============================] - 1s 616us/step - loss: 0.4818 - accuracy: 0.8291\n",
            "Epoch 3/5\n",
            "938/938 [==============================] - 1s 702us/step - loss: 0.4415 - accuracy: 0.8430\n",
            "Epoch 4/5\n",
            "938/938 [==============================] - 1s 657us/step - loss: 0.4207 - accuracy: 0.8501\n",
            "Epoch 5/5\n",
            "938/938 [==============================] - 1s 627us/step - loss: 0.4060 - accuracy: 0.8541\n"
          ]
        },
        {
          "data": {
            "text/plain": [
              "<keras.callbacks.History at 0x7f8272351100>"
            ]
          },
          "execution_count": 8,
          "metadata": {},
          "output_type": "execute_result"
        }
      ],
      "source": [
        "# Define the Keras TensorBoard callback.\n",
        "logdir=\"logs/fit/\" + datetime.now().strftime(\"%Y%m%d-%H%M%S\")\n",
        "tensorboard_callback = keras.callbacks.TensorBoard(log_dir=logdir)\n",
        "\n",
        "# Train the model.\n",
        "model.fit(\n",
        "    train_images,\n",
        "    train_labels, \n",
        "    batch_size=64,\n",
        "    epochs=5, \n",
        "    callbacks=[tensorboard_callback])"
      ]
    },
    {
      "cell_type": "markdown",
      "metadata": {
        "id": "IRX5OIsi4TTV"
      },
      "source": [
        "## Op-level graph\n",
        "\n",
        "Start TensorBoard and wait a few seconds for the UI to load. Select the Graphs dashboard by tapping “Graphs” at the top. "
      ]
    },
    {
      "cell_type": "code",
      "execution_count": 9,
      "metadata": {
        "id": "PFgFjlPEqXb9"
      },
      "outputs": [
        {
          "data": {
            "text/html": [
              "\n",
              "      <iframe id=\"tensorboard-frame-c2ca5d7696adfc76\" width=\"100%\" height=\"800\" frameborder=\"0\">\n",
              "      </iframe>\n",
              "      <script>\n",
              "        (function() {\n",
              "          const frame = document.getElementById(\"tensorboard-frame-c2ca5d7696adfc76\");\n",
              "          const url = new URL(\"/\", window.location);\n",
              "          const port = 6006;\n",
              "          if (port) {\n",
              "            url.port = port;\n",
              "          }\n",
              "          frame.src = url;\n",
              "        })();\n",
              "      </script>\n",
              "    "
            ],
            "text/plain": [
              "<IPython.core.display.HTML object>"
            ]
          },
          "metadata": {},
          "output_type": "display_data"
        }
      ],
      "source": [
        "%tensorboard --logdir logs"
      ]
    },
    {
      "cell_type": "markdown",
      "metadata": {
        "id": "9PFgFjlPEqXb"
      },
      "source": [
        "You can also optionally use TensorBoard.dev to create a hosted, shareable experiment. "
      ]
    },
    {
      "cell_type": "code",
      "execution_count": 10,
      "metadata": {
        "id": "b9PFgFjlPEqX"
      },
      "outputs": [
        {
          "name": "stdout",
          "output_type": "stream",
          "text": [
            "\n",
            "***** TensorBoard Uploader *****\n",
            "\n",
            "This will upload your TensorBoard logs to https://tensorboard.dev/ from\n",
            "the following directory:\n",
            "\n",
            "logs\n",
            "\n",
            "This TensorBoard will be visible to everyone. Do not upload sensitive\n",
            "data.\n",
            "\n",
            "Your use of this service is subject to Google's Terms of Service\n",
            "<https://policies.google.com/terms> and Privacy Policy\n",
            "<https://policies.google.com/privacy>, and TensorBoard.dev's Terms of Service\n",
            "<https://tensorboard.dev/policy/terms/>.\n",
            "\n",
            "This notice will not be shown again while you are logged into the uploader.\n",
            "To log out, run `tensorboard dev auth revoke`.\n",
            "\n",
            "Continue? (yes/NO) ^C\n",
            "Traceback (most recent call last):\n",
            "  File \"/Users/caihaocui/opt/miniconda3/envs/py38dl/bin/tensorboard\", line 8, in <module>\n",
            "    sys.exit(run_main())\n",
            "  File \"/Users/caihaocui/opt/miniconda3/envs/py38dl/lib/python3.8/site-packages/tensorboard/main.py\", line 46, in run_main\n",
            "    app.run(tensorboard.main, flags_parser=tensorboard.configure)\n",
            "  File \"/Users/caihaocui/opt/miniconda3/envs/py38dl/lib/python3.8/site-packages/absl/app.py\", line 312, in run\n",
            "    _run_main(main, args)\n",
            "  File \"/Users/caihaocui/opt/miniconda3/envs/py38dl/lib/python3.8/site-packages/absl/app.py\", line 258, in _run_main\n",
            "    sys.exit(main(argv))\n",
            "  File \"/Users/caihaocui/opt/miniconda3/envs/py38dl/lib/python3.8/site-packages/tensorboard/program.py\", line 276, in main\n",
            "    return runner(self.flags) or 0\n",
            "  File \"/Users/caihaocui/opt/miniconda3/envs/py38dl/lib/python3.8/site-packages/tensorboard/uploader/uploader_subcommand.py\", line 657, in run\n",
            "    return _run(flags, self._experiment_url_callback)\n",
            "  File \"/Users/caihaocui/opt/miniconda3/envs/py38dl/lib/python3.8/site-packages/tensorboard/uploader/uploader_subcommand.py\", line 94, in _run\n",
            "    _prompt_for_user_ack(intent)\n",
            "  File \"/Users/caihaocui/opt/miniconda3/envs/py38dl/lib/python3.8/site-packages/tensorboard/uploader/uploader_subcommand.py\", line 67, in _prompt_for_user_ack\n",
            "    response = input(\"Continue? (yes/NO) \")\n",
            "KeyboardInterrupt\n"
          ]
        }
      ],
      "source": [
        "!tensorboard dev upload \\\n",
        "  --logdir logs \\\n",
        "  --name \"Sample op-level graph\" \\\n",
        "  --one_shot"
      ]
    },
    {
      "cell_type": "markdown",
      "metadata": {
        "id": "EGlOqRp54ufD"
      },
      "source": [
        "By default, TensorBoard displays the **op-level graph**. (On the left, you can see the “Default” tag selected.)  Note that the graph is inverted; data flows from bottom to top, so it’s upside down compared to the code. However, you can see that the graph closely matches the Keras model definition, with extra edges to other computation nodes.\n",
        "\n",
        "Graphs are often very large, so you can manipulate the graph visualization:\n",
        "\n",
        "* Scroll to **zoom** in and out\n",
        "* Drag to **pan**\n",
        "* Double clicking toggles **node expansion** (a node can be a container for other nodes)\n",
        "\n",
        "You can also see metadata by clicking on a node. This allows you to see inputs, outputs, shapes and other details.\n"
      ]
    },
    {
      "cell_type": "markdown",
      "metadata": {
        "id": "F-2yw5qd7OpK"
      },
      "source": [
        "<!-- <img class=\"tfo-display-only-on-site\" src=\"https://github.com/tensorflow/tensorboard/blob/master/docs/images/graphs_computation.png?raw=1\"/> -->"
      ]
    },
    {
      "cell_type": "markdown",
      "metadata": {
        "id": "jDRynpVw53SJ"
      },
      "source": [
        "<!-- <img class=\"tfo-display-only-on-site\" src=\"https://github.com/tensorflow/tensorboard/blob/master/docs/images/graphs_computation_detail.png?raw=1\"/> -->"
      ]
    },
    {
      "cell_type": "markdown",
      "metadata": {
        "id": "Oj9FSPdz6SO2"
      },
      "source": [
        "## Conceptual graph\n",
        "\n",
        "In addition to the execution graph, TensorBoard also displays a **conceptual graph**. This is a view of just the Keras model. This may be useful if you’re reusing a saved model and you want to examine or validate its structure.\n",
        "\n",
        "To see the conceptual graph, select the “keras” tag. For this example, you’ll see a collapsed **Sequential** node. Double-click the node to see the model’s structure:"
      ]
    },
    {
      "cell_type": "markdown",
      "metadata": {
        "id": "Qw9rbEcE6eZB"
      },
      "source": [
        "<!-- <img class=\"tfo-display-only-on-site\" src=\"https://github.com/tensorflow/tensorboard/blob/master/docs/images/graphs_tag_selection.png?raw=1\"/> --> <br/>\n",
        "<!-- <img class=\"tfo-display-only-on-site\" src=\"https://github.com/tensorflow/tensorboard/blob/master/docs/images/graphs_conceptual.png?raw=1\"/> -->"
      ]
    },
    {
      "cell_type": "markdown",
      "metadata": {
        "id": "zVuaKBifu-qF"
      },
      "source": [
        "## Graphs of tf.functions\n",
        "\n",
        "The examples so far have described graphs of Keras models, where the graphs have been created by defining Keras layers and calling Model.fit().\n",
        "\n",
        "You may encounter a situation where you need to use the `tf.function` annotation to [\"autograph\"](https://www.tensorflow.org/guide/function), i.e., transform, a Python computation function into a high-performance TensorFlow graph. For these situations, you use **TensorFlow Summary Trace API** to log autographed functions for visualization in TensorBoard."
      ]
    },
    {
      "cell_type": "markdown",
      "metadata": {
        "id": "JIuhJnQ8w-dT"
      },
      "source": [
        "To use the Summary Trace API:\n",
        "\n",
        "*   Define and annotate a function with `tf.function`\n",
        "*   Use `tf.summary.trace_on()` immediately before your function call site.\n",
        "*    Add profile information (memory, CPU time) to graph by passing `profiler=True`\n",
        "*   With a Summary file writer, call `tf.summary.trace_export()` to save the log data\n",
        "\n",
        "You can then use TensorBoard to see how your function behaves.\n"
      ]
    },
    {
      "cell_type": "code",
      "execution_count": null,
      "metadata": {
        "id": "woI67Stgv_uY"
      },
      "outputs": [],
      "source": [
        "# The function to be traced.\n",
        "@tf.function\n",
        "def my_func(x, y):\n",
        "  # A simple hand-rolled layer.\n",
        "  return tf.nn.relu(tf.matmul(x, y))\n",
        "\n",
        "# Set up logging.\n",
        "stamp = datetime.now().strftime(\"%Y%m%d-%H%M%S\")\n",
        "logdir = 'logs/func/%s' % stamp\n",
        "writer = tf.summary.create_file_writer(logdir)\n",
        "\n",
        "# Sample data for your function.\n",
        "x = tf.random.uniform((3, 3))\n",
        "y = tf.random.uniform((3, 3))\n",
        "\n",
        "# Bracket the function call with\n",
        "# tf.summary.trace_on() and tf.summary.trace_export().\n",
        "tf.summary.trace_on(graph=True, profiler=True)\n",
        "# Call only one tf.function when tracing.\n",
        "z = my_func(x, y)\n",
        "with writer.as_default():\n",
        "  tf.summary.trace_export(\n",
        "      name=\"my_func_trace\",\n",
        "      step=0,\n",
        "      profiler_outdir=logdir)"
      ]
    },
    {
      "cell_type": "code",
      "execution_count": null,
      "metadata": {
        "id": "zCArnWzP0VuZ"
      },
      "outputs": [],
      "source": [
        "%tensorboard --logdir logs/func"
      ]
    },
    {
      "cell_type": "markdown",
      "metadata": {
        "id": "WDl1PBFQ64xi"
      },
      "source": [
        "<!-- <img class=\"tfo-display-only-on-site\" src=\"https://github.com/tensorflow/tensorboard/blob/master/docs/images/graphs_autograph.png?raw=1\"/> -->"
      ]
    },
    {
      "cell_type": "markdown",
      "metadata": {
        "id": "1pLRaf3q6Nku"
      },
      "source": [
        "You can now see the structure of your function as understood by TensorBoard. Click on the \"Profile\" radiobutton to see CPU and memory statistics."
      ]
    }
  ],
  "metadata": {
    "colab": {
      "collapsed_sections": [
        "SB93Ge748VQs"
      ],
      "name": "graphs.ipynb",
      "toc_visible": true
    },
    "kernelspec": {
      "display_name": "Python 3",
      "name": "python3"
    },
    "language_info": {
      "codemirror_mode": {
        "name": "ipython",
        "version": 3
      },
      "file_extension": ".py",
      "mimetype": "text/x-python",
      "name": "python",
      "nbconvert_exporter": "python",
      "pygments_lexer": "ipython3",
      "version": "3.8.12"
    }
  },
  "nbformat": 4,
  "nbformat_minor": 0
}
