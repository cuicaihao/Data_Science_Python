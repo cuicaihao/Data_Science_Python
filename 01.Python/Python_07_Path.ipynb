{
 "metadata": {
  "language_info": {
   "codemirror_mode": {
    "name": "ipython",
    "version": 3
   },
   "file_extension": ".py",
   "mimetype": "text/x-python",
   "name": "python",
   "nbconvert_exporter": "python",
   "pygments_lexer": "ipython3",
   "version": "3.8.10"
  },
  "orig_nbformat": 4,
  "kernelspec": {
   "name": "python3",
   "display_name": "Python 3.8.10 64-bit ('base': conda)"
  },
  "interpreter": {
   "hash": "67d32777f905cb443c7595cdac206bb322335f5bfbf8ae9544bce83f7472f717"
  }
 },
 "nbformat": 4,
 "nbformat_minor": 2,
 "cells": [
  {
   "source": [
    "# Python 3 Quick Tip: The easy way to deal with file paths on Windows, Mac and Linux\n",
    "\n",
    "One of programming’s little annoyances is that Microsoft Windows uses a backslash character between folder names while almost every other computer uses a forward slash:\n",
    "\n",
    "```\n",
    "Windows filenames:\n",
    "C:\\some_folder\\some_file.txt\n",
    "\n",
    "Most other operating systems:\n",
    "/some_folder/some_file.txt\n",
    "\n",
    "```\n",
    "\n",
    "This is an accident of early 1980’s computer history. The first version of MS-DOS used the forward slash character for specifying command-line options. When Microsoft added support for folders in MS-DOS 2.0, the forward slash character was already taken so they used a backslash instead. \n",
    "\n",
    "Thirty-five years later, we are still stuck with this incompatibility.\n",
    "If you want your Python code to work on both Windows and Mac/Linux, you’ll need to deal with these kinds of platform-specific issues. \n",
    "\n",
    "Luckily, Python 3 has a new module called `pathlib` that makes working with files nearly painless.\n",
    "\n",
    "Let’s take a quick look at the different ways of handling filename paths and see how `pathlib` can make your life better!"
   ],
   "cell_type": "markdown",
   "metadata": {}
  },
  {
   "source": [
    "## The Wrong Solution: Building File Paths by Hand\n",
    "Let’s say you have a data folder that contains a file that you want to open in your Python program:"
   ],
   "cell_type": "markdown",
   "metadata": {}
  },
  {
   "cell_type": "code",
   "execution_count": 4,
   "metadata": {},
   "outputs": [
    {
     "output_type": "stream",
     "name": "stdout",
     "text": [
      "\u001b[01;34mdata/\u001b[00m\n└── \u001b[01;34mMNIST\u001b[00m\n    ├── \u001b[01;34mprocessed\u001b[00m\n    │   ├── test.pt\n    │   └── training.pt\n    └── \u001b[01;34mraw\u001b[00m\n        ├── t10k-images-idx3-ubyte\n        ├── \u001b[01;31mt10k-images-idx3-ubyte.gz\u001b[00m\n        ├── t10k-labels-idx1-ubyte\n        ├── \u001b[01;31mt10k-labels-idx1-ubyte.gz\u001b[00m\n        ├── train-images-idx3-ubyte\n        ├── \u001b[01;31mtrain-images-idx3-ubyte.gz\u001b[00m\n        ├── train-labels-idx1-ubyte\n        └── \u001b[01;31mtrain-labels-idx1-ubyte.gz\u001b[00m\n\n3 directories, 10 files\n"
     ]
    }
   ],
   "source": [
    "!tree data/"
   ]
  },
  {
   "cell_type": "code",
   "execution_count": 9,
   "metadata": {},
   "outputs": [
    {
     "output_type": "stream",
     "name": "stdout",
     "text": [
      "/Users/caihaocui/Documents/GitHub/Data_Science_Python/01.Python/data/MNIST/readme.txt\nThis is MNIST data.\n"
     ]
    }
   ],
   "source": [
    "import os\n",
    "# get directory \n",
    "current_path =os.path.abspath(os.getcwd())\n",
    "# get the data folder\n",
    "data_folder = \"/data/MNIST/\"\n",
    "# add the file name\n",
    "file_to_open = current_path + data_folder + \"readme.txt\"\n",
    "\n",
    "print(file_to_open)\n",
    "\n",
    "# read the data\n",
    "f = open(file_to_open)\n",
    "print(f.read())\n",
    "f.close()"
   ]
  },
  {
   "source": [
    "Notice that I’ve hardcoded the path using Unix-style forward slashes since I’m on a Mac. This will make Windows users angry.\n",
    "\n",
    "Technically this code will still work on Windows because Python has a hack where it will recognize either kind of slash when you call open() on Windows. But even still, you shouldn’t depend on that. \n",
    "\n",
    "**Not all Python libraries will work if you use wrong kind of slash on the wrong operating system — especially if they interface with external programs or libraries.**\n",
    "\n",
    "And Python’s support for mixing slash types is a Windows-only hack that doesn’t work in reverse. Using backslashes in code will totally fail on a Mac:"
   ],
   "cell_type": "markdown",
   "metadata": {}
  },
  {
   "cell_type": "code",
   "execution_count": 10,
   "metadata": {},
   "outputs": [
    {
     "output_type": "stream",
     "name": "stdout",
     "text": [
      "/Users/caihaocui/Documents/GitHub/Data_Science_Python/01.Python\\data\\MNIST\\readme.txt\n"
     ]
    },
    {
     "output_type": "error",
     "ename": "FileNotFoundError",
     "evalue": "[Errno 2] No such file or directory: '/Users/caihaocui/Documents/GitHub/Data_Science_Python/01.Python\\\\data\\\\MNIST\\\\readme.txt'",
     "traceback": [
      "\u001b[0;31m---------------------------------------------------------------------------\u001b[0m",
      "\u001b[0;31mFileNotFoundError\u001b[0m                         Traceback (most recent call last)",
      "\u001b[0;32m<ipython-input-10-655f7b60661d>\u001b[0m in \u001b[0;36m<module>\u001b[0;34m\u001b[0m\n\u001b[1;32m     10\u001b[0m \u001b[0;34m\u001b[0m\u001b[0m\n\u001b[1;32m     11\u001b[0m \u001b[0;31m# read the data\u001b[0m\u001b[0;34m\u001b[0m\u001b[0;34m\u001b[0m\u001b[0;34m\u001b[0m\u001b[0m\n\u001b[0;32m---> 12\u001b[0;31m \u001b[0mf\u001b[0m \u001b[0;34m=\u001b[0m \u001b[0mopen\u001b[0m\u001b[0;34m(\u001b[0m\u001b[0mfile_to_open\u001b[0m\u001b[0;34m)\u001b[0m\u001b[0;34m\u001b[0m\u001b[0;34m\u001b[0m\u001b[0m\n\u001b[0m\u001b[1;32m     13\u001b[0m \u001b[0mprint\u001b[0m\u001b[0;34m(\u001b[0m\u001b[0mf\u001b[0m\u001b[0;34m.\u001b[0m\u001b[0mread\u001b[0m\u001b[0;34m(\u001b[0m\u001b[0;34m)\u001b[0m\u001b[0;34m)\u001b[0m\u001b[0;34m\u001b[0m\u001b[0;34m\u001b[0m\u001b[0m\n\u001b[1;32m     14\u001b[0m \u001b[0mf\u001b[0m\u001b[0;34m.\u001b[0m\u001b[0mclose\u001b[0m\u001b[0;34m(\u001b[0m\u001b[0;34m)\u001b[0m\u001b[0;34m\u001b[0m\u001b[0;34m\u001b[0m\u001b[0m\n",
      "\u001b[0;31mFileNotFoundError\u001b[0m: [Errno 2] No such file or directory: '/Users/caihaocui/Documents/GitHub/Data_Science_Python/01.Python\\\\data\\\\MNIST\\\\readme.txt'"
     ]
    }
   ],
   "source": [
    "import os\n",
    "# get directory \n",
    "current_path =os.path.abspath(os.getcwd())\n",
    "# get the data folder\n",
    "data_folder = \"\\\\data\\\\MNIST\\\\\"\n",
    "# add the file name\n",
    "file_to_open = current_path + data_folder + \"readme.txt\"\n",
    "\n",
    "print(file_to_open)\n",
    "\n",
    "# read the data\n",
    "f = open(file_to_open)\n",
    "print(f.read())\n",
    "f.close()"
   ]
  },
  {
   "source": [
    "For all these reasons and more, writing code with hardcoded path strings is the kind of thing that will make other programmers look at you with great suspicion. In general, you should try to avoid it."
   ],
   "cell_type": "markdown",
   "metadata": {}
  },
  {
   "source": [
    "## The Old Solution: Python’s os.path module\n",
    "\n",
    "Python’s `os.path` module has lots of tools for working around these kinds of operating system-specific file system issues.\n",
    "\n",
    "You can use `os.path.join()` to build a path string using the right kind of slash for the current operating system:\n"
   ],
   "cell_type": "markdown",
   "metadata": {}
  },
  {
   "cell_type": "code",
   "execution_count": 14,
   "metadata": {},
   "outputs": [
    {
     "output_type": "stream",
     "name": "stdout",
     "text": [
      "/Users/caihaocui/Documents/GitHub/Data_Science_Python/01.Python/data/MNIST/readme.txt\nThis is MNIST data.\n"
     ]
    }
   ],
   "source": [
    "\n",
    "import os.path\n",
    "\n",
    "current_path =os.path.abspath(os.getcwd())\n",
    "\n",
    "data_folder = os.path.join(current_path, \"data\", \"MNIST\")\n",
    "\n",
    "file_to_open = os.path.join(data_folder, \"readme.txt\")\n",
    "\n",
    "print(file_to_open)\n",
    "f = open(file_to_open)\n",
    "\n",
    "print(f.read())"
   ]
  },
  {
   "source": [
    "This code will work perfectly on both Windows or Mac. The problem is that it’s a pain to use. Writing out `os.path.join()` and passing in each part of the path as a separate string is wordy and unintuitive.\n",
    "\n",
    "Since most of the functions in the `os.path` module are similarly annoying to use, developers often “forget” to use them even when they know better. This leads to a lot of cross-platform bugs and angry users."
   ],
   "cell_type": "markdown",
   "metadata": {}
  },
  {
   "source": [
    "## The Better Solution: Python 3’s pathlib!\n",
    "\n",
    "Python 3.4 introduced a new standard library for dealing with files and paths called pathlib — and it’s great!\n",
    "\n",
    "To use it, you just pass a path or filename into a new Path() object using forward slashes and it handles the rest:"
   ],
   "cell_type": "markdown",
   "metadata": {}
  },
  {
   "cell_type": "code",
   "execution_count": 20,
   "metadata": {},
   "outputs": [
    {
     "output_type": "stream",
     "name": "stdout",
     "text": [
      "/Users/caihaocui/Documents/GitHub/Data_Science_Python/01.Python/data/MNIST/readme.txt\nThis is MNIST data.\n"
     ]
    }
   ],
   "source": [
    "from pathlib import Path\n",
    "\n",
    "current_path = Path().resolve()\n",
    "\n",
    "data_folder = Path(\"./data/MNIST/\")\n",
    "\n",
    "file_to_open = current_path / data_folder / \"readme.txt\"\n",
    "\n",
    "f = open(file_to_open)\n",
    "print(file_to_open)\n",
    "print(f.read())\n",
    "\n",
    "f.close()"
   ]
  },
  {
   "source": [
    "Notice two things here:\n",
    "- You should use forward slashes with pathlib functions. The Path() object will convert forward slashes into the correct kind of slash for the current operating system. Nice!\n",
    "\n",
    "- If you want to add on to the path, you can use the / operator directly in your code. Say goodbye to typing out os.path.join(a, b) over and over.\n",
    "\n",
    "And if that’s all pathlib did, it would be a nice addition to Python — but it does a lot more!\n",
    "\n",
    "For example, we can read the contents of a text file without having to mess with opening and closing the file:"
   ],
   "cell_type": "markdown",
   "metadata": {}
  },
  {
   "cell_type": "code",
   "execution_count": 21,
   "metadata": {},
   "outputs": [
    {
     "output_type": "stream",
     "name": "stdout",
     "text": [
      "This is MNIST data.\n"
     ]
    }
   ],
   "source": [
    "from pathlib import Path\n",
    "\n",
    "data_folder = Path(\"./data/MNIST/\")\n",
    "\n",
    "file_to_open = data_folder / \"readme.txt\"\n",
    "\n",
    "print(file_to_open.read_text())"
   ]
  },
  {
   "source": [
    "In fact, pathlib makes most standard file operations quick and easy:"
   ],
   "cell_type": "markdown",
   "metadata": {}
  },
  {
   "cell_type": "code",
   "execution_count": 23,
   "metadata": {},
   "outputs": [
    {
     "output_type": "stream",
     "name": "stdout",
     "text": [
      "readme.txt\n.txt\nreadme\nYay, the file exists!\n"
     ]
    }
   ],
   "source": [
    "from pathlib import Path\n",
    "\n",
    "filename = Path(\"data/MNIST/readme.txt\")\n",
    "\n",
    "print(filename.name)\n",
    "# prints \"readme.txt\"\n",
    "\n",
    "print(filename.suffix)\n",
    "# prints \"txt\"\n",
    "\n",
    "print(filename.stem)\n",
    "# prints \"raw_data\"\n",
    "\n",
    "if not filename.exists():\n",
    "    print(\"Oops, file doesn't exist!\")\n",
    "else:\n",
    "    print(\"Yay, the file exists!\")"
   ]
  },
  {
   "source": [
    "You can even use pathlib to explicitly convert a Unix path into a Windows-formatted path:"
   ],
   "cell_type": "markdown",
   "metadata": {}
  },
  {
   "cell_type": "code",
   "execution_count": 24,
   "metadata": {},
   "outputs": [
    {
     "output_type": "stream",
     "name": "stdout",
     "text": [
      "data\\MNIST\\readme.txt\n"
     ]
    }
   ],
   "source": [
    "from pathlib import Path, PureWindowsPath\n",
    "\n",
    "filename = Path(\"data/MNIST/readme.txt\")\n",
    "\n",
    "# Convert path to Windows format\n",
    "path_on_windows = PureWindowsPath(filename)\n",
    "\n",
    "print(path_on_windows)\n",
    "# prints \"source_data\\text_files\\raw_data.txt\""
   ]
  },
  {
   "source": [
    "And if you REALLY want to use backslashes in your code safely, you can declare your path as Windows-formatted and pathlib can convert it to work on the current operating system:"
   ],
   "cell_type": "markdown",
   "metadata": {}
  },
  {
   "cell_type": "code",
   "execution_count": 25,
   "metadata": {},
   "outputs": [
    {
     "output_type": "stream",
     "name": "stdout",
     "text": [
      "source_data/text_files/raw_data.txt\n"
     ]
    }
   ],
   "source": [
    "from pathlib import Path, PureWindowsPath\n",
    "\n",
    "# I've explicitly declared my path as being in Windows format, so I can use forward slashes in it.\n",
    "filename = PureWindowsPath(\"source_data\\\\text_files\\\\raw_data.txt\")\n",
    "\n",
    "# Convert path to the right format for the current operating system\n",
    "correct_path = Path(filename)\n",
    "\n",
    "print(correct_path)\n",
    "# prints \"source_data/text_files/raw_data.txt\" on Mac and Linux\n",
    "# prints \"source_data\\text_files\\raw_data.txt\" on Windows"
   ]
  },
  {
   "source": [
    "If you want to get fancy, you can even use pathlib to do things like resolve relative file paths, parse network share paths and generate file:// urls. Here’s an example that will open a local file in your web browser with just two lines a code:"
   ],
   "cell_type": "markdown",
   "metadata": {}
  },
  {
   "cell_type": "code",
   "execution_count": 26,
   "metadata": {},
   "outputs": [
    {
     "output_type": "execute_result",
     "data": {
      "text/plain": [
       "True"
      ]
     },
     "metadata": {},
     "execution_count": 26
    }
   ],
   "source": [
    "from pathlib import Path\n",
    "import webbrowser\n",
    "\n",
    "filename = Path(\"data/MNIST/readme.txt\")\n",
    "\n",
    "webbrowser.open(filename.absolute().as_uri())"
   ]
  },
  {
   "source": [
    "This was just a tiny peak at pathlib. It’s a great replacement for lots of different file-related functionality that used to be scattered around different Python modules.\n",
    "\n",
    "[Python3 pathlib](https://docs.python.org/3/library/pathlib.html)"
   ],
   "cell_type": "markdown",
   "metadata": {}
  },
  {
   "cell_type": "code",
   "execution_count": null,
   "metadata": {},
   "outputs": [],
   "source": []
  }
 ]
}