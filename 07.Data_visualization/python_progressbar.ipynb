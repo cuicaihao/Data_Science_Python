{
 "cells": [
  {
   "cell_type": "code",
   "execution_count": null,
   "metadata": {
    "tags": []
   },
   "outputs": [],
   "source": [
    "from tqdm import tqdm\n",
    "import time\n",
    "\n",
    "for i in tqdm(range(10)):\n",
    "\ttime.sleep(0.1)\n",
    "\tpass"
   ]
  },
  {
   "cell_type": "code",
   "execution_count": null,
   "metadata": {
    "tags": []
   },
   "outputs": [],
   "source": [
    "from tqdm.notebook import tqdm\n",
    "import time\n",
    "\n",
    "for i in tqdm(range(100)):\n",
    "\ttime.sleep(0.1)\n",
    "\tpass"
   ]
  },
  {
   "cell_type": "code",
   "execution_count": null,
   "metadata": {
    "tags": []
   },
   "outputs": [],
   "source": [
    "from tqdm import tqdm,trange\n",
    "import time\n",
    "\n",
    "for i in trange(10):\n",
    "\ttime.sleep(0.1)\n",
    "\tpass"
   ]
  },
  {
   "cell_type": "code",
   "execution_count": null,
   "metadata": {
    "tags": []
   },
   "outputs": [],
   "source": [
    "from tqdm import tqdm\n",
    "import time\n",
    "\n",
    "pbar = tqdm([\"a\",\"b\",\"c\",\"d\"])\n",
    "for c in pbar:\n",
    "\ttime.sleep(1)\n",
    "\tpbar.set_description(\"Processing %s\"%c)"
   ]
  },
  {
   "cell_type": "code",
   "execution_count": null,
   "metadata": {
    "tags": []
   },
   "outputs": [],
   "source": [
    "from tqdm import tqdm\n",
    "import time\n",
    "\n",
    "#total参数设置进度条的总长度\n",
    "with tqdm(total=10) as pbar:\n",
    "\tfor i in range(10):\n",
    "\t\ttime.sleep(0.05)\n",
    "\t\t#每次更新进度条的长度\n",
    "\t\tpbar.update(1)"
   ]
  },
  {
   "cell_type": "code",
   "execution_count": null,
   "metadata": {
    "tags": []
   },
   "outputs": [],
   "source": [
    "from tqdm import tqdm\n",
    "import time\n",
    "#total参数设置进度条的总长度\n",
    "pbar = tqdm(total=10)\n",
    "for i in range(10):\n",
    "\ttime.sleep(0.05)\n",
    "\t#每次更新进度条的长度\n",
    "\tpbar.update(1)\n",
    "#关闭占用的资源\n",
    "pbar.close()"
   ]
  },
  {
   "cell_type": "code",
   "execution_count": null,
   "metadata": {
    "tags": []
   },
   "outputs": [],
   "source": [
    "from tqdm import trange\n",
    "from random import random,randint\n",
    "import time\n",
    "with trange(10) as t:\n",
    "    for i in t:\n",
    "        #设置进度条左边显示的信息\n",
    "        t.set_description(\"GEN %i\"%i)#设置进度条右边显示的信息\n",
    "        t.set_postfix(loss=random(), gen=randint(1,999), str=\"h\", lst=[1,2])\n",
    "        time.sleep(0.1)"
   ]
  },
  {
   "cell_type": "code",
   "execution_count": null,
   "metadata": {
    "tags": []
   },
   "outputs": [],
   "source": [
    "from tqdm.notebook import tqdm\n",
    "import time\n",
    "for i in tqdm(range(20),  desc=\"1st loop\"):\n",
    "    for j in tqdm(range(10), desc=\"2nd loop\"):\n",
    "        time.sleep(0.01)"
   ]
  },
  {
   "cell_type": "code",
   "execution_count": null,
   "metadata": {
    "tags": []
   },
   "outputs": [],
   "source": [
    "from tqdm.notebook import tqdm\n",
    "import time\n",
    "for i in tqdm(range(10)):\n",
    "    tqdm.write(\"come on\")\n",
    "    time.sleep(0.1)"
   ]
  }
 ],
 "metadata": {
  "kernelspec": {
   "display_name": "Python 3.7.6 64-bit ('base': conda)",
   "name": "python_defaultSpec_1594604060474"
  },
  "language_info": {
   "codemirror_mode": {
    "name": "ipython",
    "version": 3
   },
   "file_extension": ".py",
   "mimetype": "text/x-python",
   "name": "python",
   "nbconvert_exporter": "python",
   "pygments_lexer": "ipython3"
  }
 },
 "nbformat": 4,
 "nbformat_minor": 2
}
