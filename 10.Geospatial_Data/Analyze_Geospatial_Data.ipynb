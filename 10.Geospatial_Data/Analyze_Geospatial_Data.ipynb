{
 "cells": [
  {
   "cell_type": "markdown",
   "metadata": {},
   "source": [
    "# Analyze Geospatial Data in Python: GeoPandas and Shapely\n",
    "\n",
    "Source: https://www.learndatasci.com/tutorials/geospatial-data-python-geopandas-shapely/ \n",
    "\n",
    "This notebook is the learning note from the article above.\n",
    "\n",
    "Geospatial data have a lot of value. Our Geospatial series will teach you how to extract this value as a data scientist.\n",
    "\n",
    "- This 1st article introduces you to the mindset and tools needed to deal with geospatial data. It also includes a reincarnation of what has become known as the first spatial data analysis ever conducted: [John Snow's investigation of the 1854 Broad Street cholera outbreak](https://en.wikipedia.org/wiki/1854_Broad_Street_cholera_outbreak).\n",
    "- The 2nd article will dive deeper into the geospatial python framework by showing you how to conduct your own spatial analysis.\n",
    "- The 3rd article will apply machine learning to geospatial data."
   ]
  },
  {
   "cell_type": "markdown",
   "metadata": {},
   "source": [
    "## Intro to Geospatial Data\n",
    "\n",
    "Geospatial data describe any object or feature on Earth's surface. Common examples include:\n",
    "\n",
    "- Where should a brand locate its next store?\n",
    "- How does the weather impact regional sales?\n",
    "- What's the best route to take in a car?\n",
    "- Which area will be hit hardest by a hurricane?\n",
    "- How does ice cap melting relate to carbon emissions?\n",
    "- Which areas will be at the highest risk of fires?\n",
    "\n",
    "Answers to these questions are valuable, making spatial data skills a great addition to any data scientist's toolset."
   ]
  },
  {
   "cell_type": "markdown",
   "metadata": {},
   "source": [
    "### The Basics\n",
    "\n",
    "Let's start by learning to speak the language of geospatial data. At the end of this section, you will know about:\n",
    "\n",
    "1. Vector vs. raster data\n",
    "2. Geographic Reference Systems (CRS)\n",
    "3. The difference between Georeferencing and Geocoding."
   ]
  },
  {
   "cell_type": "markdown",
   "metadata": {},
   "source": [
    "#### Vector\n",
    "Vector data represent geometries in the world. When you open a navigation map, you see vector data. The road network, the buildings, the restaurants, and ATMs are all vectors with their associated attributes.\n",
    "\n",
    "Note: Vectors are mathematical objects. Unlike rasters, you can zoom into vectors without losing resolution.\n",
    "\n",
    "There are three main types of vector data:\n",
    "\n",
    "Points\n",
    "Lines. Connecting points creates a line.\n",
    "Polygons. Connecting lines with an enclosed area generate a polygon."
   ]
  },
  {
   "cell_type": "markdown",
   "metadata": {},
   "source": [
    "#### Vector\n",
    "\n",
    "Vector data represent geometries in the world. When you open a navigation map, you see vector data. The road network, the buildings, the restaurants, and ATMs are all vectors with their associated attributes.\n",
    "\n",
    "*Note*: Vectors are mathematical objects. Unlike rasters, you can zoom into vectors without losing resolution.\n",
    "\n",
    "There are three main types of vector data:\n",
    "\n",
    "- Points\n",
    "- Lines. Connecting points creates a line.\n",
    "- Polygons. Connecting lines with an enclosed area generate a polygon.\n",
    "\n",
    "We can use vectors to present features and properties on the Earth’s surface. You'll most often see vectors stored in shapefiles (.shp).\n",
    "\n",
    "Specific attributes that define properties will generally accompany vectors. For example, properties of a building (e.g., its name, address, price, date built) can accompany a polygon."
   ]
  },
  {
   "cell_type": "markdown",
   "metadata": {},
   "source": [
    "#### Raster\n",
    "Raster data is a grid of pixels. Each pixel within a raster has a value, such as color, height, temperature, wind velocity, or other measurements.\n",
    "\n",
    "Whereas the default view in Google maps contains vectors, the satellite view contains raster satellite images stitched together. Each pixel in the satellite image has a value/color associated with it. Each pixel in an elevation map represents a specific height. \n",
    "`Raster == Image with Pixels`.\n",
    "\n",
    "These are not your usual images. They contain RGB data that our eyes can see, and multispectral or even hyperspectral information from outside the visible electromagnetic spectrum. Instead of being limited to only 3 channels/colors (RGB), we can get images with many channels.\n",
    "\n",
    "Things that are invisible to the naked eye, absorbing only a small part of the electromagnetic spectrum, can be revealed in other electromagnetic frequencies.\n",
    "\n",
    "Raster VS Vector Table\n",
    "\n",
    "|                 Vector                 |            Raster            |   |\n",
    "|:--------------------------------------:|:----------------------------:|---|\n",
    "| Points, Lines, Polygons                | Pixels                       |   |\n",
    "| Geometric Objects, Infinitely Scalable | Fixed Grid, Fixed Resolution |   |\n",
    "| .svg, .shp                             | .jpg, .png, .tif             |   |\n",
    "\n",
    "\n",
    "\n",
    "![](./images/raster_vs_vector.jpg)"
   ]
  },
  {
   "cell_type": "markdown",
   "metadata": {},
   "source": [
    "#### Coordinate Reference System (CRS)\n",
    "\n",
    "To identify exact locations on the surface of the Earth, we use a geographic coordinate system.\n",
    "\n",
    "Even though the Earth is a 3-dimensional sphere, we use a 2-dimensional coordinate system of longitude (vertical lines running north-south) and latitude (horizontal lines running east-west) to identify a position on the Earth's surface. Converting a 3D sphere (the globe) into a 2D coordinate system introduces some distortions. We will explore those distortions in the next section on Map Projections."
   ]
  },
  {
   "cell_type": "markdown",
   "metadata": {},
   "source": [
    "*Note: No CRS is perfect\n",
    "*\n",
    "Any choice of CRS involves a tradeoff that distorts one or all of the following:\n",
    "\n",
    "shape\n",
    "scale/distance\n",
    "area\n",
    "Very Important!!! Most mistakes in geospatial analyses come from choosing the wrong CRS for the desired operation. If you do not want to spend days and nights debugging, read this section thoroughly!\n",
    "\n",
    "\n",
    "![](./images/longitude-and-latitude-simple.width-1200.jpg)"
   ]
  },
  {
   "cell_type": "markdown",
   "metadata": {},
   "source": [
    "**Note: No CRS is perfect**\n",
    "\n",
    "Any choice of CRS involves a tradeoff that distorts one or all of the following:\n",
    "\n",
    "- shape\n",
    "- scale/distance\n",
    "- area\n",
    "\n",
    "**Very Important!!!**\n",
    "\n",
    "Most mistakes in geospatial analyses come from choosing the wrong CRS for the desired operation. If you do not want to spend days and nights debugging, read this section thoroughly!"
   ]
  },
  {
   "cell_type": "markdown",
   "metadata": {},
   "source": [
    "Common CRS pitfalls:\n",
    "\n",
    "Mixing coordinate systems: When combining datasets, the spatial objects MUST have the same reference system. Be sure to convert everything to the same CRS. We show you how to perform this conversion below.\n",
    "\n",
    "Calculating areas: Use an equal-area CRS before measuring a shape's area.\n",
    "Calculating distances: Use an equidistant CRS when calculating distances between objects.\n"
   ]
  },
  {
   "cell_type": "markdown",
   "metadata": {},
   "source": [
    "#### Map Projections\n"
   ]
  },
  {
   "cell_type": "markdown",
   "metadata": {},
   "source": [
    "A map projection flattens a globe's surface by transforming coordinates from the Earth's curved surface into a flat plane.\n",
    "Because the Earth is not flat (I hope we agree here), any projection of the Earth into a 2D plane is a mere approximation of reality.\n",
    "\n",
    "In reality, the Earth is a geoid, meaning an irregularly-shaped ball that is not quite a sphere. The most well-known projection is the Mercator projection. As shown in the above gif, the Mercator projection inflates objects that are far from the equator.\n",
    "\n",
    "These inflations lead to some surprising revelations of our ignorance, like how the USA, China, India, and Europe all fit inside Africa."
   ]
  },
  {
   "cell_type": "markdown",
   "metadata": {},
   "source": [
    "### Georeferencing\n",
    "Georeferencing is the process of assigning coordinates to vectors or rasters to project them on a model of the Earth’s surface. It is what allows us to create layers of maps.\n",
    "\n",
    "With just a click within Google Maps, you can change seamlessly from satellite view to road network view. Georeferencing makes that switch possible.\n",
    "\n",
    "\n",
    "#### Geocoding\n",
    "Geocoding is the process of converting a human-readable address into a set of geographic coordinates.\n",
    "There several libraries that handle geocoding for you. In Python, `geopandas` has a `geocoding utility` that we'll cover in the following article.\n",
    "\n",
    "In this notebook, we'll learn about `geopandas` and `shapely`, two of the most useful libraries for geospatial analysis with Python.\n",
    "\n",
    "- Shapely - a library that allows manipulation and analysis of planar geometry objects.  \n",
    "\n",
    "- Geopandas - a library that allows you to process shapefiles representing tabular data (like pandas), where every row is associated with a geometry. It provides access to many spatial functions for applying geometries, plotting maps, and geocoding. Geopandas internally uses shapely for defining geometries."
   ]
  },
  {
   "cell_type": "markdown",
   "metadata": {},
   "source": [
    "### Shapely\n",
    "\n",
    "What can you put into geometry?\n",
    "\n",
    "The basic shapely objects are points, lines, and polygons, but you can also define multiple objects in the same object. Then you have multipoints, multilines and multipolygons. These are useful for objects defined by various geometries, such as countries with islands.\n",
    "\n",
    "Let's see how that looks:"
   ]
  },
  {
   "cell_type": "code",
   "execution_count": null,
   "metadata": {},
   "outputs": [],
   "source": [
    "import shapely\n",
    "from shapely.geometry import Point, LineString, Polygon, MultiPoint, MultiLineString, MultiPolygon"
   ]
  },
  {
   "cell_type": "markdown",
   "metadata": {},
   "source": [
    "Shapely defines a point by its x, y coordinates, like so:\n",
    "\n"
   ]
  },
  {
   "cell_type": "code",
   "execution_count": null,
   "metadata": {},
   "outputs": [],
   "source": [
    "Point(0,0)"
   ]
  },
  {
   "cell_type": "markdown",
   "metadata": {},
   "source": [
    "We can calculate the distance between shapely objects, such as two points:\n"
   ]
  },
  {
   "cell_type": "code",
   "execution_count": null,
   "metadata": {},
   "outputs": [],
   "source": [
    "a = Point(0, 0)\n",
    "b = Point(1, 0)\n",
    "a.distance(b)"
   ]
  },
  {
   "cell_type": "markdown",
   "metadata": {},
   "source": [
    "Multiple points can be placed into a single object:\n",
    "\n"
   ]
  },
  {
   "cell_type": "code",
   "execution_count": null,
   "metadata": {},
   "outputs": [],
   "source": [
    "MultiPoint([(0,0), (0,1), (1,1), (1,0)])\n"
   ]
  },
  {
   "cell_type": "markdown",
   "metadata": {},
   "source": [
    "A sequence of points form a line object:\n",
    "\n"
   ]
  },
  {
   "cell_type": "code",
   "execution_count": null,
   "metadata": {},
   "outputs": [],
   "source": [
    "line = LineString([(0,0),(1,2), (0,1)])\n",
    "line"
   ]
  },
  {
   "cell_type": "markdown",
   "metadata": {},
   "source": [
    "The length and bounds of a line are available with the length and bounds attributes:\n",
    "\n"
   ]
  },
  {
   "cell_type": "code",
   "execution_count": null,
   "metadata": {},
   "outputs": [],
   "source": [
    "print(f'Length of line {line.length}')\n",
    "print(f'Bounds of line {line.bounds}')"
   ]
  },
  {
   "cell_type": "markdown",
   "metadata": {},
   "source": [
    "A polygon is also defined by a series of points:\n",
    "\n"
   ]
  },
  {
   "cell_type": "code",
   "execution_count": null,
   "metadata": {},
   "outputs": [],
   "source": [
    "pol = Polygon([(0,0), (0,1), (1,1), (1,0)])\n",
    "pol"
   ]
  },
  {
   "cell_type": "markdown",
   "metadata": {},
   "source": [
    "Polygons also have helpful attributes, such as area:\n",
    "\n"
   ]
  },
  {
   "cell_type": "code",
   "execution_count": null,
   "metadata": {},
   "outputs": [],
   "source": [
    "pol.area"
   ]
  },
  {
   "cell_type": "markdown",
   "metadata": {},
   "source": [
    "There are other useful functions where geometries interact, such as checking if the polygon `pol` intersects with the `line` from above:"
   ]
  },
  {
   "cell_type": "code",
   "execution_count": null,
   "metadata": {},
   "outputs": [],
   "source": [
    "pol.intersects(line)"
   ]
  },
  {
   "cell_type": "markdown",
   "metadata": {},
   "source": [
    "We can also calculate the intersection:"
   ]
  },
  {
   "cell_type": "code",
   "execution_count": null,
   "metadata": {},
   "outputs": [],
   "source": [
    "pol.intersection(line)"
   ]
  },
  {
   "cell_type": "markdown",
   "metadata": {},
   "source": [
    "But what is this object?\n",
    "\n"
   ]
  },
  {
   "cell_type": "code",
   "execution_count": null,
   "metadata": {},
   "outputs": [],
   "source": [
    "print(pol.intersection(line))"
   ]
  },
  {
   "cell_type": "markdown",
   "metadata": {},
   "source": [
    "It's a `GeometryCollection`, which is a collection of different types of geometries.\n",
    "\n",
    "Pretty straightforward and intuitive so far! You can do so much more with the shapely library, so be sure to check the [docs](https://shapely.readthedocs.io/en/stable/index.html)."
   ]
  },
  {
   "cell_type": "markdown",
   "metadata": {},
   "source": [
    "### Geopandas Basics\n",
    "\n",
    "Another tool for working with geospatial data is geopandas. As we know, pandas DataFrames represent tabular datasets. Similarly, geopandas DataFrames represent tabular data with two extensions:\n",
    "\n",
    "- The geometry column defines a point, line, or polygon associated with the rest of the columns. This column is a collection of shapely objects. Whatever you can do with shapely objects, you can also do with the geometry object.\n",
    "\n",
    "- The CRS is the coordinate reference system of the geometry column that tells us where a point, line, or polygon lies on the Earth's surface. Geopandas maps a geometry onto the Earth's surface (e.g., WGS84)."
   ]
  },
  {
   "cell_type": "markdown",
   "metadata": {},
   "source": [
    "The easiest way to install geopandas on Windows is to use Anaconda with the following command: \n",
    "```bash\n",
    "conda install -c conda-forge geopandas\n",
    "```"
   ]
  },
  {
   "cell_type": "code",
   "execution_count": null,
   "metadata": {},
   "outputs": [],
   "source": [
    "import matplotlib\n",
    "import geopandas as gpd"
   ]
  },
  {
   "cell_type": "markdown",
   "metadata": {},
   "source": [
    "#### Loading dataset\n",
    "\n",
    "Let's start by loading a dataset shipped with geopandas, called 'naturalearth_lowres'. This dataset includes the geometry of each country in the world, accompanied by some further details such as Population and GDP estimates."
   ]
  },
  {
   "cell_type": "code",
   "execution_count": null,
   "metadata": {},
   "outputs": [],
   "source": [
    "world_gdf = gpd.read_file(\n",
    "    gpd.datasets.get_path('naturalearth_lowres')\n",
    ")\n",
    "world_gdf"
   ]
  },
  {
   "cell_type": "markdown",
   "metadata": {},
   "source": [
    "#### CRS\n",
    "The dataframe also includes a CRS that maps the polygons defined in the geometry column to the Earth's surface."
   ]
  },
  {
   "cell_type": "code",
   "execution_count": null,
   "metadata": {},
   "outputs": [],
   "source": [
    "world_gdf.crs"
   ]
  },
  {
   "cell_type": "markdown",
   "metadata": {},
   "source": [
    "In our case, the CRS is EPSG:4326. \n",
    "\n",
    "That CRS uses Latitude and Longitude in degrees as coordinates.\n",
    "\n",
    "**Note - Components of a CRS**\n",
    "\n",
    "- Datum - The reference system, which in our case defines the starting point of measurement (Prime Meridian) and the model of the shape of the Earth (Ellipsoid). The most common Datum is WGS84, but it is not the only one.\n",
    "\n",
    "- Area of use - In our case, the are of use is the whole world, but there are many CRS that are optimized for a particular area of interest.\n",
    "\n",
    "- Axes and Units - Usually, longitude and latitude are measured in degrees. Units for x, y coordinates are often measured in meters."
   ]
  },
  {
   "cell_type": "markdown",
   "metadata": {},
   "source": [
    "Let's see an application for which we have to change the CRS.\n",
    "\n",
    "Let's measure the population density of each country! We can measure the area of each geometry but bear in mind that we need first convert to an equal-area projection that uses meters as units."
   ]
  },
  {
   "cell_type": "code",
   "execution_count": null,
   "metadata": {},
   "outputs": [],
   "source": [
    "world_gdf = world_gdf.to_crs(\"+proj=eck4 +lon_0=0 +x_0=0 +y_0=0 +datum=WGS84 +units=m +no_defs\")\n",
    "world_gdf.crs"
   ]
  },
  {
   "cell_type": "markdown",
   "metadata": {},
   "source": [
    "We can now calculate each country's population density by dividing the population estimate by the area."
   ]
  },
  {
   "cell_type": "markdown",
   "metadata": {},
   "source": [
    "Note: We can access the area of the geometries as we would regular columns. Although no column contains geometry areas, the area is an attribute of the geometry objects.?"
   ]
  },
  {
   "cell_type": "code",
   "execution_count": null,
   "metadata": {},
   "outputs": [],
   "source": [
    "world_gdf['pop_density'] = world_gdf.pop_est / world_gdf.area * 10**6\n",
    "\n",
    "world_gdf.sort_values(by='pop_density', ascending=False)"
   ]
  },
  {
   "cell_type": "markdown",
   "metadata": {},
   "source": [
    "Notice how the geometry objects now have values that are in totally different units than before.\n",
    "\n",
    "Just looking at the dataframe above, we can quickly identify the outliers. Bangladesh has a population density of around 1174 persons/km2. Antarctica has a near-zero population density, with only 810 people living in a vast space.\n",
    "\n",
    "It's always better to visualize maps, though. So let's visualize!\n",
    "\n"
   ]
  },
  {
   "cell_type": "markdown",
   "metadata": {},
   "source": [
    "#### Visualization\n",
    "\n",
    "We can call `.plot()` on `world_gdf` just like a pandas dataframe:"
   ]
  },
  {
   "cell_type": "code",
   "execution_count": null,
   "metadata": {},
   "outputs": [],
   "source": [
    "figsize = (20, 11)\n",
    "world_gdf.plot('pop_density', legend=True, figsize=figsize)"
   ]
  },
  {
   "cell_type": "markdown",
   "metadata": {},
   "source": [
    "The above map doesn't look very helpful, so let's make it better by doing the following:\n",
    "1. Change to the Mercator projection since it's more familiar.\n",
    "2. Convert the colorbar to a logscale.\n",
    "\n",
    "We can pass different arguments to the plot function as you would directly on matplotlib.\n"
   ]
  },
  {
   "cell_type": "code",
   "execution_count": null,
   "metadata": {},
   "outputs": [],
   "source": [
    "norm_color = matplotlib.colors.LogNorm(vmin=world_gdf.pop_density.min(), vmax=world_gdf.pop_density.max(), clip=True)\n",
    "\n",
    "world_gdf.to_crs('epsg:4326').plot(\"pop_density\", \n",
    "                                   figsize=figsize, \n",
    "                                   legend=False, norm=norm_color)"
   ]
  },
  {
   "cell_type": "markdown",
   "metadata": {},
   "source": [
    "\n",
    "Up until now, we've gone over the basics of shapely and geopandas, but now it's time we move to a complete case study.\n",
    "\n",
    "**End**"
   ]
  },
  {
   "cell_type": "markdown",
   "metadata": {},
   "source": [
    "norm_color"
   ]
  }
 ],
 "metadata": {
  "interpreter": {
   "hash": "263242964ee6925045f10ce61685538743104eac51916b0fc1e277c1829e9fbc"
  },
  "kernelspec": {
   "display_name": "Python 3.7.10 64-bit ('py37geo': conda)",
   "name": "python3"
  },
  "language_info": {
   "codemirror_mode": {
    "name": "ipython",
    "version": 3
   },
   "file_extension": ".py",
   "mimetype": "text/x-python",
   "name": "python",
   "nbconvert_exporter": "python",
   "pygments_lexer": "ipython3"
  }
 },
 "nbformat": 4,
 "nbformat_minor": 2
}
