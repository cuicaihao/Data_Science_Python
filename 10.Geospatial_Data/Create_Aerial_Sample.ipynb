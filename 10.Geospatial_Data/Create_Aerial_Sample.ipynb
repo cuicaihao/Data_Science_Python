{
 "cells": [
  {
   "cell_type": "code",
   "execution_count": null,
   "id": "d69e6bd8",
   "metadata": {},
   "outputs": [],
   "source": [
    "import os\n",
    "# from osgeo import gdal\n",
    "import numpy as np\n",
    "from skimage.io import imread, imsave\n",
    "from pathlib import Path\n",
    "import random\n",
    "  "
   ]
  },
  {
   "cell_type": "code",
   "execution_count": null,
   "id": "0f69ebf6",
   "metadata": {},
   "outputs": [],
   "source": [
    "def readImage(fileName):\n",
    "    if not Path(fileName).is_file():\n",
    "        print(fileName + \"文件无法打开\")\n",
    "    img = imread(fileName)\n",
    "    # #     The different color bands/channels are stored in the third dimension, \n",
    "    # such that a gray-image is MxN, \n",
    "    # an RGB-image MxNx3 and \n",
    "    # an RGBA-image MxNx4.\n",
    "    return img\n",
    "\n",
    "def saveImage(img_arr, fileName):\n",
    "    imsave(fileName, img_arr)\n",
    "#     return Path(fileName).is_file()\n"
   ]
  },
  {
   "cell_type": "code",
   "execution_count": null,
   "id": "3ae97b70",
   "metadata": {},
   "outputs": [],
   "source": [
    "# Test read file\n",
    "\n",
    "input_image_path = \"Data/Aerial/RGB/0.tif\"\n",
    "gt_image_path = \"Data/Aerial/GT/0.tif\"\n",
    "\n",
    "input_image_path = \"Data/Aerial/RGB.png\"\n",
    "gt_image_path = \"Data/Aerial/GT.png\"\n",
    "\n",
    "img_rgb = readImage(input_image_path)\n",
    "img_gt = readImage(gt_image_path)\n",
    "\n",
    "saveImage(img_rgb, 'Data/Aerial/RGB.Copy.png')\n",
    "saveImage(img_gt, 'Data/Aerial/GT.Copy.png')\n"
   ]
  },
  {
   "cell_type": "code",
   "execution_count": null,
   "id": "4917c1d9",
   "metadata": {},
   "outputs": [],
   "source": [
    "img_rgb.shape, img_gt.shape"
   ]
  },
  {
   "cell_type": "code",
   "execution_count": null,
   "id": "4df2a173",
   "metadata": {},
   "outputs": [],
   "source": [
    "import matplotlib.pyplot as plt\n",
    "\n",
    "plt.subplot(1, 2, 1)\n",
    "plt.imshow(img_rgb)\n",
    "plt.subplot(1, 2, 2)\n",
    "plt.imshow(img_gt, cmap='gray')\n",
    "plt.show()"
   ]
  },
  {
   "cell_type": "code",
   "execution_count": null,
   "id": "1f4aa405",
   "metadata": {},
   "outputs": [],
   "source": [
    "# save image."
   ]
  },
  {
   "cell_type": "code",
   "execution_count": null,
   "id": "51d3f490",
   "metadata": {},
   "outputs": [],
   "source": [
    "def ImgCrop(ImgPath, SavePath, CropSize, RepetitionRate, extension='.png'):\n",
    "    \n",
    "    Path(SavePath).mkdir(parents=True, exist_ok=True)\n",
    "    \n",
    "    img = readImage(ImgPath)\n",
    "    width = img.shape[1]\n",
    "    height = img.shape[0]\n",
    "    print(f\"Image Size (H, W):{height, width}\")\n",
    " \n",
    "    #  获取当前文件夹的文件个数len,并以len+1命名即将裁剪得到的图像\n",
    "    #  new_name = len(os.listdir(SavePath)) + 1\n",
    "    #  裁剪图片,重复率为RepetitionRate\n",
    "    new_name = 0\n",
    "    for i in range(int((height - CropSize * RepetitionRate) / (CropSize * (1 - RepetitionRate)))):\n",
    "        for j in range(int((width - CropSize * RepetitionRate) / (CropSize * (1 - RepetitionRate)))):\n",
    "            #  如果图像是单波段\n",
    "            if(len(img.shape) == 2):\n",
    "                cropped = img[int(i * CropSize * (1 - RepetitionRate)): int(i * CropSize * (1 - RepetitionRate)) + CropSize,\n",
    "                              int(j * CropSize * (1 - RepetitionRate)): int(j * CropSize * (1 - RepetitionRate)) + CropSize]\n",
    "            #  如果图像是多波段\n",
    "            else:\n",
    "                cropped = img[int(i * CropSize * (1 - RepetitionRate)): int(i * CropSize * (1 - RepetitionRate)) + CropSize,\n",
    "                              int(j * CropSize * (1 - RepetitionRate)): int(j * CropSize * (1 - RepetitionRate)) + CropSize, :]\n",
    "            #  写图像\n",
    "            saveImage(cropped, f\"{SavePath}/{str(new_name)}{extension}\")\n",
    "            #  文件名 + 1\n",
    "            new_name = new_name + 1\n",
    "    #  向前裁剪最后一列\n",
    "    for i in range(int((height-CropSize*RepetitionRate)/(CropSize*(1-RepetitionRate)))):\n",
    "        if(len(img.shape) == 2):\n",
    "            cropped = img[int(i * CropSize * (1 - RepetitionRate)): int(i * CropSize * (1 - RepetitionRate)) + CropSize,\n",
    "                          (width - CropSize): width]\n",
    "        else:\n",
    "            cropped = img[int(i * CropSize * (1 - RepetitionRate)): int(i * CropSize * (1 - RepetitionRate)) + CropSize,\n",
    "                          (width - CropSize): width, :]\n",
    "        #  写图像\n",
    "        saveImage(cropped, f\"{SavePath}/{str(new_name)}{extension}\")\n",
    "        new_name = new_name + 1\n",
    "    #  向前裁剪最后一行\n",
    "    for j in range(int((width - CropSize * RepetitionRate) / (CropSize * (1 - RepetitionRate)))):\n",
    "        if(len(img.shape) == 2):\n",
    "            cropped = img[(height - CropSize): height,\n",
    "                          int(j * CropSize * (1 - RepetitionRate)): int(j * CropSize * (1 - RepetitionRate)) + CropSize]\n",
    "        else:\n",
    "            cropped = img[(height - CropSize): height,\n",
    "                          int(j * CropSize * (1 - RepetitionRate)): int(j * CropSize * (1 - RepetitionRate)) + CropSize, :]\n",
    "        saveImage(cropped, f\"{SavePath}/{str(new_name)}{extension}\")\n",
    "        #  文件名 + 1\n",
    "        new_name = new_name + 1\n",
    "    #  裁剪右下角\n",
    "    if(len(img.shape) == 2):\n",
    "        cropped = img[(height - CropSize): height,\n",
    "                      (width - CropSize): width]\n",
    "    else:\n",
    "        cropped = img[(height - CropSize): height,\n",
    "                      (width - CropSize): width, : \n",
    "                      ]\n",
    "    saveImage(cropped, f\"{SavePath}/{str(new_name)}{extension}\")\n",
    "    new_name = new_name + 1"
   ]
  },
  {
   "cell_type": "code",
   "execution_count": null,
   "id": "a3981189",
   "metadata": {},
   "outputs": [],
   "source": [
    "def RandomCrop(ImagePath, LabelPath, ImgSavePath, LabelSavePath, CropSize, CutNum, extension='.png'):\n",
    "    \n",
    "    Path(ImgSavePath).mkdir(parents=True, exist_ok=True)\n",
    "    Path(LabelSavePath).mkdir(parents=True, exist_ok=True)\n",
    "    \n",
    "    img = readImage(ImagePath)\n",
    "    width = img.shape[1]\n",
    "    height = img.shape[0]\n",
    "    label = readImage(LabelPath)\n",
    "#  获取当前文件夹的文件个数len,并以len+1命名即将裁剪得到的图像\n",
    "#     fileNum = len(os.listdir(IamgeSavePath))\n",
    "    fileNum = 0\n",
    "    new_name = fileNum + 1\n",
    "    while(new_name < CutNum + fileNum + 1):\n",
    "        #  生成剪切图像的左上角XY坐标\n",
    "        UpperLeftX = random.randint(0, height - CropSize)\n",
    "        UpperLeftY = random.randint(0, width - CropSize)\n",
    "        if(len(img.shape) == 2):\n",
    "            imgCrop = img[UpperLeftX: UpperLeftX + CropSize,\n",
    "                          UpperLeftY: UpperLeftY + CropSize]\n",
    "        else:\n",
    "            imgCrop = img[UpperLeftX: UpperLeftX + CropSize,\n",
    "                          UpperLeftY: UpperLeftY + CropSize, :]\n",
    "        if(len(label.shape) == 2):\n",
    "            labelCrop = label[UpperLeftX: UpperLeftX + CropSize,\n",
    "                              UpperLeftY: UpperLeftY + CropSize]\n",
    "        else:\n",
    "            labelCrop = label[UpperLeftX: UpperLeftX + CropSize,\n",
    "                              UpperLeftY: UpperLeftY + CropSize, :]\n",
    "        saveImage(imgCrop, f\"{ImgSavePath}/{str(new_name)}{extension}\" )\n",
    "        saveImage(labelCrop,f\"{LabelSavePath}/{str(new_name)}{extension}\")\n",
    "        new_name = new_name + 1"
   ]
  },
  {
   "cell_type": "code",
   "execution_count": null,
   "id": "e3d8aa16",
   "metadata": {},
   "outputs": [],
   "source": [
    "RGB_Path = \"Data/Aerial/RGB.png\"\n",
    "RGB_SavePath = \"Data/Aerial/RGBPNG\"\n",
    "\n",
    "GT_Path = \"Data/Aerial/GT.png\"\n",
    "GT_SavePath = \"Data/Aerial/GTPNG\"\n",
    "\n",
    "CropSize = 200 # 128\n",
    "RepetitionRate = 0\n",
    "\n",
    "ImgCrop(RGB_Path, RGB_SavePath, CropSize, RepetitionRate)\n",
    "ImgCrop(GT_Path, GT_SavePath, CropSize, RepetitionRate)"
   ]
  },
  {
   "cell_type": "code",
   "execution_count": null,
   "id": "2e192d98",
   "metadata": {},
   "outputs": [],
   "source": [
    " "
   ]
  },
  {
   "cell_type": "code",
   "execution_count": null,
   "id": "6dfad87d",
   "metadata": {},
   "outputs": [],
   "source": [
    "ImagePath = \"Data/Aerial/RGB.png\"\n",
    "LabelPath = \"Data/Aerial/GT.png\"\n",
    "ImgSavePath = \"Data/Aerial/RGBRandom\"\n",
    "LabelSavePath = \"Data/Aerial/GTRandom\"\n",
    "CropSize = 200\n",
    "CutNum = 100\n",
    "\n",
    "RandomCrop(ImagePath, LabelPath, ImgSavePath, LabelSavePath, CropSize, CutNum)"
   ]
  }
 ],
 "metadata": {
  "kernelspec": {
   "display_name": "rs",
   "language": "python",
   "name": "rs"
  },
  "language_info": {
   "codemirror_mode": {
    "name": "ipython",
    "version": 3
   },
   "file_extension": ".py",
   "mimetype": "text/x-python",
   "name": "python",
   "nbconvert_exporter": "python",
   "pygments_lexer": "ipython3"
  }
 },
 "nbformat": 4,
 "nbformat_minor": 5
}
