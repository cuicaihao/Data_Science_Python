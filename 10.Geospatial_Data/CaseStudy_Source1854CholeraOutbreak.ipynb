{
 "cells": [
  {
   "cell_type": "markdown",
   "metadata": {},
   "source": [
    "# Case Study: The source of the 1854 cholera outbreak\n",
    "\n",
    "We'll use modern Python tools to redo John Snow's analysis identifying the source of the 1854 cholera outbreak on London's Broad Street. \n",
    "\n",
    "In contrast to his Game of Thrones counterpart, London's John Snow did know something: the source of cholera. He learned it doing the first-ever geospatial analysis!\n"
   ]
  },
  {
   "cell_type": "markdown",
   "metadata": {},
   "source": [
    "For this example, we'll use the data from Robin's blog. Robin did the work to digitize Snow's original map and data.\n",
    "\n",
    "Let's first retrieve the data and unzip it in our current directory:\n"
   ]
  },
  {
   "cell_type": "code",
   "execution_count": null,
   "metadata": {},
   "outputs": [],
   "source": [
    "# !wget http://www.rtwilson.com/downloads/SnowGIS_v2.zip  \n",
    "# !unzip  SnowGIS_v2.zip"
   ]
  },
  {
   "cell_type": "markdown",
   "metadata": {},
   "source": [
    "Let's see what's inside:"
   ]
  },
  {
   "cell_type": "code",
   "execution_count": null,
   "metadata": {},
   "outputs": [],
   "source": [
    "!ls ./SnowGIS/"
   ]
  },
  {
   "cell_type": "markdown",
   "metadata": {},
   "source": [
    "Ignore the file extensions for a moment, and let's see what we have here."
   ]
  },
  {
   "cell_type": "markdown",
   "metadata": {},
   "source": [
    "### Vector Data\n",
    "\n",
    "- Cholera_Deaths : number of deaths at a given spatial coordinate\n",
    "- Pumps : location of water pumps\n",
    "\n",
    "\n",
    "### Raster Data\n",
    "\n",
    "- OSMap_Grayscale : raster - georeferenced grayscale map of the area from OpenStreet Maps (OSM)\n",
    "- OSMap : raster - georeferenced map of the area from OpenStreet Maps (OSM)\n",
    "- SnowMap : raster - digitized and georeferenced John Snow's original map\n",
    "\n",
    "\n",
    "We can ignore the other files for the raster data and only deal with the '.tif' files. '.tif' is the most common format for storing raster and image data."
   ]
  },
  {
   "cell_type": "code",
   "execution_count": null,
   "metadata": {},
   "outputs": [],
   "source": [
    "# !pip install rasterio\n",
    "# !pip install contextily"
   ]
  },
  {
   "cell_type": "code",
   "execution_count": null,
   "metadata": {},
   "outputs": [],
   "source": [
    "import matplotlib\n",
    "import geopandas as gpd\n",
    "import contextily as ctx"
   ]
  },
  {
   "cell_type": "markdown",
   "metadata": {},
   "source": [
    "## Reading in data\n",
    "\n",
    "Let's read in the Cholera_Death.shp and Pumps.shp files into geopandas:"
   ]
  },
  {
   "cell_type": "code",
   "execution_count": null,
   "metadata": {},
   "outputs": [],
   "source": [
    "deaths_df = gpd.read_file('SnowGIS/Cholera_Deaths.shp')\n",
    "pumps_df = gpd.read_file('SnowGIS/Pumps.shp')"
   ]
  },
  {
   "cell_type": "code",
   "execution_count": null,
   "metadata": {},
   "outputs": [],
   "source": [
    "deaths_df.head()"
   ]
  },
  {
   "cell_type": "markdown",
   "metadata": {},
   "source": [
    "The output looks exactly like a pandas dataframe. The only difference with geopandas' dataframes is the geometry column, which is our vector dataset's essence. In our case, it includes the point coordinates of the deaths as John Snow logged them.\n",
    "\n",
    "Let's see what the CRS data looks like:"
   ]
  },
  {
   "cell_type": "code",
   "execution_count": null,
   "metadata": {},
   "outputs": [],
   "source": [
    "deaths_df.crs"
   ]
  },
  {
   "cell_type": "markdown",
   "metadata": {},
   "source": [
    "The other difference is that correctly defined shapefiles include metadata articulating their Coordinate Reference System (CRS). In this case, it is EPSG:27700.\n",
    "\n",
    "Let's now briefly look at the pumps data:"
   ]
  },
  {
   "cell_type": "code",
   "execution_count": null,
   "metadata": {},
   "outputs": [],
   "source": [
    "pumps_df"
   ]
  },
  {
   "cell_type": "markdown",
   "metadata": {},
   "source": [
    "Similarly, pumps_df holds the positions of the water pumps near Broad Street.\n",
    "\n",
    "Here are the pumps CRS data:"
   ]
  },
  {
   "cell_type": "code",
   "execution_count": null,
   "metadata": {},
   "outputs": [],
   "source": [
    "pumps_df.crs"
   ]
  },
  {
   "cell_type": "markdown",
   "metadata": {},
   "source": [
    "**Note** \n",
    "\n",
    "When dealing with geospatial data, you should make sure all your sources have the same CRS. I cannot stress this enough. It is probably the most common source of all mistakes when dealing with geospatial data."
   ]
  },
  {
   "cell_type": "markdown",
   "metadata": {},
   "source": [
    "#### Plotting the outbreak\n",
    "\n",
    "We can now plot the deaths and pumps data on a map of London's Broad Street.\n",
    "\n",
    "We'll start building the plot by first charting deaths:"
   ]
  },
  {
   "cell_type": "code",
   "execution_count": null,
   "metadata": {},
   "outputs": [],
   "source": [
    "ax = deaths_df.plot(column='Count', alpha=0.5, edgecolor='k', legend=True)\n"
   ]
  },
  {
   "cell_type": "markdown",
   "metadata": {},
   "source": [
    "With a reference to `ax`, we can then plot the pumps in their locations, marking them with a red X. Let's also make the figure larger."
   ]
  },
  {
   "cell_type": "code",
   "execution_count": null,
   "metadata": {},
   "outputs": [],
   "source": [
    "ax = deaths_df.plot(column='Count', figsize=(15, 15), alpha=0.5, edgecolor='k', legend=True)\n",
    "pumps_df.plot(ax=ax, marker='x', color='red', markersize=50)"
   ]
  },
  {
   "cell_type": "markdown",
   "metadata": {},
   "source": [
    "We would now like to show a map of London's Broad Street underneath the data. This is where we can use contextily to read the CRS data:"
   ]
  },
  {
   "cell_type": "code",
   "execution_count": null,
   "metadata": {},
   "outputs": [],
   "source": [
    "ax = deaths_df.plot(column='Count', figsize=(15, 15), alpha=0.5, edgecolor='k', legend=True)\n",
    "pumps_df.plot(ax=ax, marker='x', color='red', markersize=50)\n",
    "\n",
    "ctx.add_basemap(\n",
    "    ax,\n",
    "    # CRS definition. Without the line below, the map stops making sense\n",
    "    crs=deaths_df.crs.to_string(),\n",
    ")"
   ]
  },
  {
   "cell_type": "markdown",
   "metadata": {},
   "source": [
    "Now let's look at the same data, but on John Snow's original map. We can do this by changing the source parameter to `SnowMap.tif`, like so:"
   ]
  },
  {
   "cell_type": "code",
   "execution_count": null,
   "metadata": {},
   "outputs": [],
   "source": [
    "ax = deaths_df.plot(column='Count', figsize=(15, 15), alpha=0.5, edgecolor='k', legend=True)\n",
    "pumps_df.plot(ax=ax, marker='x', color='red', markersize=50);\n",
    "\n",
    "ctx.add_basemap(ax,\n",
    "    crs=deaths_df.crs.to_string(),\n",
    "    # Using the original map, hand-drawn by Snow\n",
    "    source=\"SnowGIS/SnowMap.tif\"\n",
    ")"
   ]
  },
  {
   "cell_type": "markdown",
   "metadata": {},
   "source": [
    "John Snow understood that most cholera deaths were clustered around a specific water pump at the intersection of Broad Street and Lexington Street (red X near the middle of the map). He attributed the outbreak to an infected water supply at that pump.\n",
    "\n",
    "It's interesting to see how little the area has changed since 1854.\n",
    "\n"
   ]
  },
  {
   "cell_type": "markdown",
   "metadata": {},
   "source": [
    "##  Conclusion\n",
    "\n",
    "In this notebook, we have had a small glimpse of what you can do with geospatial data:\n",
    "\n",
    "- We covered the basic notions that you need to understand to work with geospatial data. You should know the difference between a vector vs. raster and between geocoding vs. georeferencing. You also learned about projections, CRSs, and that Africa is HUGE!\n",
    "- We covered the basics of shapely and geopandas, allowing us to work with geospatial vectors.\n",
    "- Lastly, we reincarnated the first geospatial analysis. We found the infected water pump that was the source of the 1854 cholera outbreak in London.\n",
    "\n",
    "\n",
    "Follow us for the following articles where we:\n",
    "\n",
    "1. dive deeper into geopandas, preparing and analyzing a geospatial dataset\n",
    "2. do machine learning with geospatial data!\n",
    "\n",
    "\n",
    "After this series, you'll be ready to carry out your own spatial analysis and identify patterns in our world!"
   ]
  },
  {
   "cell_type": "markdown",
   "metadata": {},
   "source": [
    "## More Resources\n",
    "A good place to find free spatial datasets is rtwilson's list of free spatial data sources https://freegisdata.rtwilson.com/ .\n",
    "\n",
    "\n",
    "You can download free satellite imagery from NASA's portal or Copernicus https://earthdata.nasa.gov/ and https://scihub.copernicus.eu/."
   ]
  }
 ],
 "metadata": {
  "interpreter": {
   "hash": "263242964ee6925045f10ce61685538743104eac51916b0fc1e277c1829e9fbc"
  },
  "kernelspec": {
   "display_name": "Python 3.7.10 64-bit ('py37geo': conda)",
   "name": "python3"
  },
  "language_info": {
   "codemirror_mode": {
    "name": "ipython",
    "version": 3
   },
   "file_extension": ".py",
   "mimetype": "text/x-python",
   "name": "python",
   "nbconvert_exporter": "python",
   "pygments_lexer": "ipython3"
  }
 },
 "nbformat": 4,
 "nbformat_minor": 2
}
