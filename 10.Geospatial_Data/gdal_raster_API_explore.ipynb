{
 "cells": [
  {
   "cell_type": "markdown",
   "id": "2e7c5a8c",
   "metadata": {},
   "source": [
    "# Raster API tutorial\n",
    "## opening the File"
   ]
  },
  {
   "cell_type": "code",
   "execution_count": null,
   "id": "b6e0ed70",
   "metadata": {},
   "outputs": [],
   "source": [
    "from osgeo import gdal\n",
    "import numpy as np\n",
    "import matplotlib.pyplot as plt\n",
    "import matplotlib.colors as colors\n",
    "import matplotlib\n",
    "import pandas as pd"
   ]
  },
  {
   "cell_type": "code",
   "execution_count": null,
   "id": "e0d0642c",
   "metadata": {},
   "outputs": [],
   "source": [
    "font = {'family':'Times New Roman', 'weight':'bold', 'size':14}\n",
    "plt.rcParams['font.sans-serif'] = 'Times New Roman'\n",
    "plt.rcParams['axes.unicode_minus'] = False\n",
    "matplotlib.rc('font', **font)"
   ]
  },
  {
   "cell_type": "code",
   "execution_count": null,
   "id": "5d2eccca",
   "metadata": {},
   "outputs": [],
   "source": [
    "cdict = np.array([(255,0,0), (85,255,0), (255,255,0), (115,223,255),(38,115,0),\n",
    "             (255,190,232),(128,222,153),(0,92,230)])/255 \n",
    "cdict"
   ]
  },
  {
   "cell_type": "code",
   "execution_count": null,
   "id": "5c685c41",
   "metadata": {},
   "outputs": [],
   "source": [
    "def colormap():\n",
    "    # color\n",
    "    cdict = np.array([(255,0,0), (85,255,0), (255,255,0), (115,223,255),(38,115,0),\n",
    "             (255,190,232),(128,222,153),(0,92,230)])/255 \n",
    "    return colors.ListedColormap(cdict, 'indexed',8)"
   ]
  },
  {
   "cell_type": "code",
   "execution_count": null,
   "id": "3143773b",
   "metadata": {},
   "outputs": [],
   "source": [
    "my_cmap = colormap()"
   ]
  },
  {
   "cell_type": "code",
   "execution_count": null,
   "id": "98d78f33",
   "metadata": {},
   "outputs": [],
   "source": [
    "# read tif\n",
    "file = \"Data/hongkong/imgs_1/S2A_OPER_MSI_L1C_TL_SGS__20160927T081713_A006607_T49QHE_B01.tif\"\n",
    "# file = \"Data/AerialImageDataset/train/austin1.tif\"\n",
    "dataset = gdal.Open(file, gdal.GA_ReadOnly) \n",
    "rasterArray = dataset.ReadAsArray()"
   ]
  },
  {
   "cell_type": "code",
   "execution_count": null,
   "id": "ceeb1c58",
   "metadata": {},
   "outputs": [],
   "source": [
    "# rasterArray = np.moveaxis(rasterArray, 0, -1) \n",
    "rasterArray.shape, type(rasterArray)"
   ]
  },
  {
   "cell_type": "code",
   "execution_count": null,
   "id": "6bcf5801",
   "metadata": {},
   "outputs": [],
   "source": [
    "# plt.figure(figsize = (10,10))\n",
    "plt.imshow(rasterArray)\n",
    "plt.show()"
   ]
  },
  {
   "cell_type": "code",
   "execution_count": null,
   "id": "09c887a0",
   "metadata": {},
   "outputs": [],
   "source": [
    "plt.imshow(rasterArray, cmap= 'gray')"
   ]
  },
  {
   "cell_type": "markdown",
   "id": "add56b2f",
   "metadata": {},
   "source": [
    "# Getting Dataset Information\n",
    "\n",
    "As described in the Raster Data Model, a GDALDataset contains a list of raster bands, all pertaining to the same area, and having the same resolution. It also has metadata, a coordinate system, a georeferencing transform, size of raster and various other information.\n",
    "\n",
    "In the particular, but common, case of a “north up” image without any rotation or shearing, the georeferencing transform Geotransform Tutorial takes the following form :\n",
    "\n",
    "```python\n",
    "adfGeoTransform[0] /* top left x */\n",
    "adfGeoTransform[1] /* w-e pixel resolution */\n",
    "adfGeoTransform[2] /* 0 */\n",
    "adfGeoTransform[3] /* top left y */\n",
    "adfGeoTransform[4] /* 0 */\n",
    "adfGeoTransform[5] /* n-s pixel resolution (negative value) */\n",
    "```"
   ]
  },
  {
   "cell_type": "code",
   "execution_count": null,
   "id": "7fe25c4c",
   "metadata": {},
   "outputs": [],
   "source": [
    "print(\"Driver: {}/{}\\n\".format(dataset.GetDriver().ShortName,\n",
    "                            dataset.GetDriver().LongName))\n",
    "print(\"Size is (W, H, D): {} x {} x {}\\n\".format(dataset.RasterXSize,\n",
    "                                    dataset.RasterYSize,\n",
    "                                    dataset.RasterCount))\n",
    "print(\"Projection is {}\\n\".format(dataset.GetProjection()))\n",
    "\n",
    "geotransform = dataset.GetGeoTransform()\n",
    "if geotransform:\n",
    "    print(\"Origin = ({}, {})\".format(geotransform[0], geotransform[3]))\n",
    "    print(\"Pixel Size = ({}, {})\".format(geotransform[1], geotransform[5]))"
   ]
  },
  {
   "cell_type": "markdown",
   "id": "bf7f31f2",
   "metadata": {},
   "source": [
    "# Fetching a Raster Band\n",
    "At this time access to raster data via GDAL is done one band at a time. Also, there is metadata, block sizes, color tables, and various other information available on a band by band basis. The following codes fetches a GDALRasterBand object from the dataset (numbered 1 through GDALRasterBand::GetRasterCount()) and displays a little information about it."
   ]
  },
  {
   "cell_type": "code",
   "execution_count": null,
   "id": "095c5ab5",
   "metadata": {},
   "outputs": [],
   "source": [
    "band = dataset.GetRasterBand(1)\n",
    "print(\"Band Count={}\".format(dataset.RasterCount))\n",
    "print(\"Band Type={}\".format(gdal.GetDataTypeName(band.DataType)))\n",
    "\n",
    "min = band.GetMinimum()\n",
    "max = band.GetMaximum()\n",
    "\n",
    "if not min or not max:\n",
    "    (min,max) = band.ComputeRasterMinMax(True)\n",
    "print(\"Min={:.3f}, Max={:.3f}\".format(min,max))\n",
    "\n",
    "if band.GetOverviewCount() > 0:\n",
    "    print(\"Band has {} overviews\".format(band.GetOverviewCount()))\n",
    "\n",
    "if band.GetRasterColorTable():\n",
    "    print(\"Band has a color table with {} entries\".format(band.GetRasterColorTable().GetCount()))\n",
    "\n",
    "  \n",
    "    \n",
    "    "
   ]
  },
  {
   "cell_type": "markdown",
   "id": "fcb01a6f",
   "metadata": {},
   "source": [
    "# Reading Raster Data\n",
    "\n",
    "There are a few ways to read raster data, but the most common is via the GDALRasterBand::RasterIO() method. This method will automatically take care of data type conversion, up/down sampling and windowing. \n",
    "\n",
    "The following code will read the first scanline of data into a similarly sized buffer, converting it to floating point as part of the operation."
   ]
  },
  {
   "cell_type": "code",
   "execution_count": null,
   "id": "6e78bd7a",
   "metadata": {},
   "outputs": [],
   "source": [
    "scanline = band.ReadRaster(xoff=0, yoff=0,\n",
    "                        xsize=band.XSize, ysize=1,\n",
    "                        buf_xsize=band.XSize, buf_ysize=1,\n",
    "                        buf_type=gdal.GDT_Float32)\n",
    "# scanline"
   ]
  },
  {
   "cell_type": "code",
   "execution_count": null,
   "id": "24f80362",
   "metadata": {},
   "outputs": [],
   "source": [
    "rasterArray = dataset.ReadAsArray()\n",
    "print(\"Size is (Row:Height Column:Width) : {} x {}\\n\".format(rasterArray.shape[0], rasterArray.shape[1]))\n"
   ]
  },
  {
   "cell_type": "markdown",
   "id": "3b3bc57a",
   "metadata": {},
   "source": [
    "# Techniques for Creating Files\n",
    "New files in GDAL supported formats may be created if the format driver supports creation. There are two general techniques for creating files, using CreateCopy() and Create(). \n",
    "\n",
    "The CreateCopy method involves calling the CreateCopy() method on the format driver, and passing in a source dataset that should be copied. \n",
    "\n",
    "The Create method involves calling the Create() method on the driver, and then explicitly writing all the metadata, and raster data with separate calls. All drivers that support creating new files support the CreateCopy() method, but only a few support the Create() method."
   ]
  },
  {
   "cell_type": "code",
   "execution_count": null,
   "id": "bef7aed3",
   "metadata": {},
   "outputs": [],
   "source": [
    "fileformat = \"GTiff\"\n",
    "driver = gdal.GetDriverByName(fileformat)\n",
    "metadata = driver.GetMetadata()\n",
    "\n",
    "if metadata.get(gdal.DCAP_CREATE) == \"YES\":\n",
    "    print(\"Driver {} supports Create() method.\".format(fileformat))\n",
    "\n",
    "if metadata.get(gdal.DCAP_CREATECOPY) == \"YES\":\n",
    "    print(\"Driver {} supports CreateCopy() method.\".format(fileformat))"
   ]
  },
  {
   "cell_type": "markdown",
   "id": "0d0307a5",
   "metadata": {},
   "source": [
    "# Using CreateCopy()\n",
    "The GDALDriver::CreateCopy() method can be used fairly simply as most information is collected from the source dataset. However, it includes options for passing format specific creation options, and for reporting progress to the user as a long dataset copy takes place. A simple copy from the a file named pszSrcFilename, to a new file named pszDstFilename using default options on a format whose driver was previously fetched might look like this:"
   ]
  },
  {
   "cell_type": "code",
   "execution_count": null,
   "id": "f31d5bf4",
   "metadata": {},
   "outputs": [],
   "source": [
    "src_filename = file\n",
    "dst_filename = \"copy.tif\"\n",
    "src_ds = gdal.Open(src_filename)\n",
    "dst_ds = driver.CreateCopy(dst_filename, src_ds, strict=0)\n",
    "# Once we're done, close properly the dataset\n",
    "dst_ds = None\n",
    "src_ds = None\n",
    "dataset = None"
   ]
  },
  {
   "cell_type": "code",
   "execution_count": null,
   "id": "54860fd8",
   "metadata": {},
   "outputs": [],
   "source": [
    "!ls | grep copy"
   ]
  },
  {
   "cell_type": "code",
   "execution_count": null,
   "id": "618f4067",
   "metadata": {},
   "outputs": [],
   "source": [
    "save_img_path = \"copy2.tif\"\n",
    "# convert array\n",
    "from osgeo import gdal_array\n",
    "output = gdal_array.SaveArray(rasterArray,\n",
    "                              save_img_path,\n",
    "                              format=\"GTiff\",\n",
    "                              prototype=file) # save image with prototype "
   ]
  },
  {
   "cell_type": "code",
   "execution_count": null,
   "id": "8054e10a",
   "metadata": {},
   "outputs": [],
   "source": [
    "!ls | grep copy"
   ]
  },
  {
   "cell_type": "code",
   "execution_count": null,
   "id": "d34f6945",
   "metadata": {},
   "outputs": [],
   "source": [
    "dataset = gdal.Open(save_img_path, gdal.GA_ReadOnly) # same geo-reference\n",
    "\n",
    "print(\"Driver: {}/{}\".format(dataset.GetDriver().ShortName,\n",
    "                            dataset.GetDriver().LongName))\n",
    "print(\"Size is {} x {} x {}\".format(dataset.RasterXSize,\n",
    "                                    dataset.RasterYSize,\n",
    "                                    dataset.RasterCount))\n",
    "print(\"Projection is {}\".format(dataset.GetProjection()))\n",
    "\n",
    "geotransform = dataset.GetGeoTransform()\n",
    "if geotransform:\n",
    "    print(\"Origin = ({}, {})\".format(geotransform[0], geotransform[3]))\n",
    "    print(\"Pixel Size = ({}, {})\".format(geotransform[1], geotransform[5]))"
   ]
  },
  {
   "cell_type": "code",
   "execution_count": null,
   "id": "dbac4aca",
   "metadata": {},
   "outputs": [],
   "source": [
    "!ls"
   ]
  },
  {
   "cell_type": "markdown",
   "id": "9545d034",
   "metadata": {},
   "source": [
    "# Using Create()\n",
    "For situations in which you are not just exporting an existing file to a new file, it is generally necessary to use the GDALDriver::Create() method (though some interesting options are possible through use of virtual files or in-memory files). The Create() method takes an options list much like CreateCopy(), but the image size, number of bands and band type must be provided explicitly.\n",
    "\n"
   ]
  },
  {
   "cell_type": "code",
   "execution_count": null,
   "id": "e290f880",
   "metadata": {},
   "outputs": [],
   "source": [
    "dst_filename = \"new.tif\"\n",
    "\n",
    "dst_ds = driver.Create(dst_filename, xsize=512, ysize=512,\n",
    "                    bands=1, eType=gdal.GDT_Byte)"
   ]
  },
  {
   "cell_type": "code",
   "execution_count": null,
   "id": "080d8671",
   "metadata": {},
   "outputs": [],
   "source": [
    "from osgeo import osr\n",
    "import numpy\n",
    "\n",
    "dst_ds.SetGeoTransform([444720, 30, 0, 3751320, 0, -30])\n",
    "srs = osr.SpatialReference()\n",
    "srs.SetUTM(11, 1)\n",
    "srs.SetWellKnownGeogCS(\"NAD27\")\n",
    "dst_ds.SetProjection(srs.ExportToWkt())\n",
    "\n",
    "\n",
    "# define normalized 2D gaussian\n",
    "def gaus2d(x=0, y=0, mx=0, my=0, sx=1, sy=1):\n",
    "    return 1. / (2. * np.pi * sx * sy) * np.exp(-((x - mx)**2. / (2. * sx**2.) + (y - my)**2. / (2. * sy**2.)))\n",
    "\n",
    "x = np.linspace(-5, 5, 512)\n",
    "y = np.linspace(-5, 5, 512)\n",
    "x, y = np.meshgrid(x, y) # get 2D variables instead of 1D\n",
    "z = gaus2d(x, y)*255\n",
    "\n",
    "# raster = numpy.eye(512, dtype=numpy.uint8)*255\n",
    "\n",
    "raster = z.astype(numpy.uint8)\n",
    "\n",
    "dst_ds.GetRasterBand(1).WriteArray(raster)\n",
    "# Once we're done, close properly the dataset\n",
    "dst_ds = None"
   ]
  },
  {
   "cell_type": "code",
   "execution_count": null,
   "id": "690c6e74",
   "metadata": {},
   "outputs": [],
   "source": [
    "z.max(), z.min(), raster.max(), raster.min()"
   ]
  },
  {
   "cell_type": "code",
   "execution_count": null,
   "id": "731804b9",
   "metadata": {},
   "outputs": [],
   "source": [
    "# read the created gaus2d images\n",
    "dataset = gdal.Open(dst_filename, gdal.GA_ReadOnly) \n",
    "rasterArray = dataset.ReadAsArray()\n",
    "plt.imshow(rasterArray, cmap='gray')\n",
    "plt.show()\n"
   ]
  },
  {
   "cell_type": "code",
   "execution_count": null,
   "id": "b47da5dd",
   "metadata": {},
   "outputs": [],
   "source": [
    "rasterArray.shape, rasterArray.dtype"
   ]
  },
  {
   "cell_type": "code",
   "execution_count": null,
   "id": "f730b3b0",
   "metadata": {},
   "outputs": [],
   "source": [
    "print(\"Driver: {}/{}\".format(dataset.GetDriver().ShortName,\n",
    "                            dataset.GetDriver().LongName))\n",
    "print(\"Size is {} x {} x {}\".format(dataset.RasterXSize,\n",
    "                                    dataset.RasterYSize,\n",
    "                                    dataset.RasterCount))\n",
    "print(\"Projection is {}\".format(dataset.GetProjection()))\n",
    "\n",
    "geotransform = dataset.GetGeoTransform()\n",
    "if geotransform:\n",
    "    print(\"Origin = ({}, {})\".format(geotransform[0], geotransform[3]))\n",
    "    print(\"Pixel Size = ({}, {})\".format(geotransform[1], geotransform[5]))\n",
    "dataset = None"
   ]
  },
  {
   "cell_type": "markdown",
   "id": "3dcdf08f",
   "metadata": {},
   "source": [
    "## The END\n"
   ]
  }
 ],
 "metadata": {
  "kernelspec": {
   "display_name": "rs",
   "language": "python",
   "name": "rs"
  },
  "language_info": {
   "codemirror_mode": {
    "name": "ipython",
    "version": 3
   },
   "file_extension": ".py",
   "mimetype": "text/x-python",
   "name": "python",
   "nbconvert_exporter": "python",
   "pygments_lexer": "ipython3"
  }
 },
 "nbformat": 4,
 "nbformat_minor": 5
}
