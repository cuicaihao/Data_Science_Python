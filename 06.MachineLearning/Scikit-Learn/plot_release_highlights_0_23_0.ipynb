{
  "cells": [
    {
      "cell_type": "code",
      "execution_count": 1,
      "source": [
        "%matplotlib inline"
      ],
      "outputs": [],
      "metadata": {
        "collapsed": false
      }
    },
    {
      "cell_type": "markdown",
      "source": [
        "\n",
        "========================================\n",
        "\n",
        "# Release Highlights for scikit-learn 0.23\n",
        "\n",
        "========================================\n",
        "\n",
        ".. currentmodule:: sklearn\n",
        "\n",
        "We are pleased to announce the release of scikit-learn 0.23! Many bug fixes\n",
        "and improvements were added, as well as some new key features. We detail\n",
        "below a few of the major features of this release. **For an exhaustive list of\n",
        "all the changes**, please refer to the `release notes <changes_0_23>`.\n",
        "\n",
        "To install the latest version (with pip)::\n",
        "\n",
        "    pip install --upgrade scikit-learn\n",
        "\n",
        "or with conda::\n",
        "\n",
        "    conda install scikit-learn\n"
      ],
      "metadata": {}
    },
    {
      "cell_type": "markdown",
      "source": [
        "Generalized Linear Models, and Poisson loss for gradient boosting\n",
        "-----------------------------------------------------------------\n",
        "Long-awaited Generalized Linear Models with non-normal loss functions are now\n",
        "available. In particular, three new regressors were implemented:\n",
        ":class:`~sklearn.linear_model.PoissonRegressor`,\n",
        ":class:`~sklearn.linear_model.GammaRegressor`, and\n",
        ":class:`~sklearn.linear_model.TweedieRegressor`. The Poisson regressor can be\n",
        "used to model positive integer counts, or relative frequencies. Read more in\n",
        "the `User Guide <Generalized_linear_regression>`. Additionally,\n",
        ":class:`~sklearn.ensemble.HistGradientBoostingRegressor` supports a new\n",
        "'poisson' loss as well.\n",
        "\n"
      ],
      "metadata": {}
    },
    {
      "cell_type": "code",
      "execution_count": 2,
      "source": [
        "import numpy as np\n",
        "from sklearn.model_selection import train_test_split\n",
        "from sklearn.linear_model import PoissonRegressor\n",
        "from sklearn.experimental import enable_hist_gradient_boosting  # noqa\n",
        "from sklearn.ensemble import HistGradientBoostingRegressor\n",
        "\n",
        "n_samples, n_features = 1000, 20\n",
        "rng = np.random.RandomState(0)\n",
        "X = rng.randn(n_samples, n_features)\n",
        "# positive integer target correlated with X[:, 5] with many zeros:\n",
        "y = rng.poisson(lam=np.exp(X[:, 5]) / 2)\n",
        "X_train, X_test, y_train, y_test = train_test_split(X, y, random_state=rng)\n",
        "glm = PoissonRegressor()\n",
        "gbdt = HistGradientBoostingRegressor(loss='poisson', learning_rate=.01)\n",
        "glm.fit(X_train, y_train)\n",
        "gbdt.fit(X_train, y_train)\n",
        "print(glm.score(X_test, y_test))\n",
        "print(gbdt.score(X_test, y_test))"
      ],
      "outputs": [
        {
          "output_type": "stream",
          "name": "stdout",
          "text": [
            "0.35776189065725783\n",
            "0.42425183539869415\n"
          ]
        }
      ],
      "metadata": {
        "collapsed": false
      }
    },
    {
      "cell_type": "markdown",
      "source": [
        "Rich visual representation of estimators\n",
        "-----------------------------------------\n",
        "Estimators can now be visualized in notebooks by enabling the\n",
        "`display='diagram'` option. This is particularly useful to summarise the\n",
        "structure of pipelines and other composite estimators, with interactivity to\n",
        "provide detail.  Click on the example image below to expand Pipeline\n",
        "elements.  See `visualizing_composite_estimators` for how you can use\n",
        "this feature.\n",
        "\n"
      ],
      "metadata": {}
    },
    {
      "cell_type": "code",
      "execution_count": 3,
      "source": [
        "from sklearn import set_config\n",
        "from sklearn.pipeline import make_pipeline\n",
        "from sklearn.preprocessing import OneHotEncoder, StandardScaler\n",
        "from sklearn.impute import SimpleImputer\n",
        "from sklearn.compose import make_column_transformer\n",
        "from sklearn.linear_model import LogisticRegression\n",
        "set_config(display='diagram')\n",
        "\n",
        "num_proc = make_pipeline(SimpleImputer(strategy='median'), StandardScaler())\n",
        "\n",
        "cat_proc = make_pipeline(\n",
        "    SimpleImputer(strategy='constant', fill_value='missing'),\n",
        "    OneHotEncoder(handle_unknown='ignore'))\n",
        "\n",
        "preprocessor = make_column_transformer((num_proc, ('feat1', 'feat3')),\n",
        "                                       (cat_proc, ('feat0', 'feat2')))\n",
        "\n",
        "clf = make_pipeline(preprocessor, LogisticRegression())\n",
        "clf"
      ],
      "outputs": [
        {
          "output_type": "execute_result",
          "data": {
            "text/html": [
              "<style>#sk-e9ef9ef7-f7b2-454f-a037-288ef82f2fd9 {color: black;background-color: white;}#sk-e9ef9ef7-f7b2-454f-a037-288ef82f2fd9 pre{padding: 0;}#sk-e9ef9ef7-f7b2-454f-a037-288ef82f2fd9 div.sk-toggleable {background-color: white;}#sk-e9ef9ef7-f7b2-454f-a037-288ef82f2fd9 label.sk-toggleable__label {cursor: pointer;display: block;width: 100%;margin-bottom: 0;padding: 0.2em 0.3em;box-sizing: border-box;text-align: center;}#sk-e9ef9ef7-f7b2-454f-a037-288ef82f2fd9 div.sk-toggleable__content {max-height: 0;max-width: 0;overflow: hidden;text-align: left;background-color: #f0f8ff;}#sk-e9ef9ef7-f7b2-454f-a037-288ef82f2fd9 div.sk-toggleable__content pre {margin: 0.2em;color: black;border-radius: 0.25em;background-color: #f0f8ff;}#sk-e9ef9ef7-f7b2-454f-a037-288ef82f2fd9 input.sk-toggleable__control:checked~div.sk-toggleable__content {max-height: 200px;max-width: 100%;overflow: auto;}#sk-e9ef9ef7-f7b2-454f-a037-288ef82f2fd9 div.sk-estimator input.sk-toggleable__control:checked~label.sk-toggleable__label {background-color: #d4ebff;}#sk-e9ef9ef7-f7b2-454f-a037-288ef82f2fd9 div.sk-label input.sk-toggleable__control:checked~label.sk-toggleable__label {background-color: #d4ebff;}#sk-e9ef9ef7-f7b2-454f-a037-288ef82f2fd9 input.sk-hidden--visually {border: 0;clip: rect(1px 1px 1px 1px);clip: rect(1px, 1px, 1px, 1px);height: 1px;margin: -1px;overflow: hidden;padding: 0;position: absolute;width: 1px;}#sk-e9ef9ef7-f7b2-454f-a037-288ef82f2fd9 div.sk-estimator {font-family: monospace;background-color: #f0f8ff;margin: 0.25em 0.25em;border: 1px dotted black;border-radius: 0.25em;box-sizing: border-box;}#sk-e9ef9ef7-f7b2-454f-a037-288ef82f2fd9 div.sk-estimator:hover {background-color: #d4ebff;}#sk-e9ef9ef7-f7b2-454f-a037-288ef82f2fd9 div.sk-parallel-item::after {content: \"\";width: 100%;border-bottom: 1px solid gray;flex-grow: 1;}#sk-e9ef9ef7-f7b2-454f-a037-288ef82f2fd9 div.sk-label:hover label.sk-toggleable__label {background-color: #d4ebff;}#sk-e9ef9ef7-f7b2-454f-a037-288ef82f2fd9 div.sk-serial::before {content: \"\";position: absolute;border-left: 1px solid gray;box-sizing: border-box;top: 2em;bottom: 0;left: 50%;}#sk-e9ef9ef7-f7b2-454f-a037-288ef82f2fd9 div.sk-serial {display: flex;flex-direction: column;align-items: center;background-color: white;}#sk-e9ef9ef7-f7b2-454f-a037-288ef82f2fd9 div.sk-item {z-index: 1;}#sk-e9ef9ef7-f7b2-454f-a037-288ef82f2fd9 div.sk-parallel {display: flex;align-items: stretch;justify-content: center;background-color: white;}#sk-e9ef9ef7-f7b2-454f-a037-288ef82f2fd9 div.sk-parallel-item {display: flex;flex-direction: column;position: relative;background-color: white;}#sk-e9ef9ef7-f7b2-454f-a037-288ef82f2fd9 div.sk-parallel-item:first-child::after {align-self: flex-end;width: 50%;}#sk-e9ef9ef7-f7b2-454f-a037-288ef82f2fd9 div.sk-parallel-item:last-child::after {align-self: flex-start;width: 50%;}#sk-e9ef9ef7-f7b2-454f-a037-288ef82f2fd9 div.sk-parallel-item:only-child::after {width: 0;}#sk-e9ef9ef7-f7b2-454f-a037-288ef82f2fd9 div.sk-dashed-wrapped {border: 1px dashed gray;margin: 0.2em;box-sizing: border-box;padding-bottom: 0.1em;background-color: white;position: relative;}#sk-e9ef9ef7-f7b2-454f-a037-288ef82f2fd9 div.sk-label label {font-family: monospace;font-weight: bold;background-color: white;display: inline-block;line-height: 1.2em;}#sk-e9ef9ef7-f7b2-454f-a037-288ef82f2fd9 div.sk-label-container {position: relative;z-index: 2;text-align: center;}#sk-e9ef9ef7-f7b2-454f-a037-288ef82f2fd9 div.sk-container {display: inline-block;position: relative;}</style><div id=\"sk-e9ef9ef7-f7b2-454f-a037-288ef82f2fd9\" class\"sk-top-container\"><div class=\"sk-container\"><div class=\"sk-item sk-dashed-wrapped\"><div class=\"sk-label-container\"><div class=\"sk-label sk-toggleable\"><input class=\"sk-toggleable__control sk-hidden--visually\" id=\"3e805ee7-1b5f-4037-bad5-cf9f2404fbe1\" type=\"checkbox\" ><label class=\"sk-toggleable__label\" for=\"3e805ee7-1b5f-4037-bad5-cf9f2404fbe1\">Pipeline</label><div class=\"sk-toggleable__content\"><pre>Pipeline(steps=[('columntransformer',\n",
              "                 ColumnTransformer(transformers=[('pipeline-1',\n",
              "                                                  Pipeline(steps=[('simpleimputer',\n",
              "                                                                   SimpleImputer(strategy='median')),\n",
              "                                                                  ('standardscaler',\n",
              "                                                                   StandardScaler())]),\n",
              "                                                  ('feat1', 'feat3')),\n",
              "                                                 ('pipeline-2',\n",
              "                                                  Pipeline(steps=[('simpleimputer',\n",
              "                                                                   SimpleImputer(fill_value='missing',\n",
              "                                                                                 strategy='constant')),\n",
              "                                                                  ('onehotencoder',\n",
              "                                                                   OneHotEncoder(handle_unknown='ignore'))]),\n",
              "                                                  ('feat0', 'feat2'))])),\n",
              "                ('logisticregression', LogisticRegression())])</pre></div></div></div><div class=\"sk-serial\"><div class=\"sk-item sk-dashed-wrapped\"><div class=\"sk-label-container\"><div class=\"sk-label sk-toggleable\"><input class=\"sk-toggleable__control sk-hidden--visually\" id=\"c639f7dd-6c34-4cf2-aa5c-d3c3dddf8104\" type=\"checkbox\" ><label class=\"sk-toggleable__label\" for=\"c639f7dd-6c34-4cf2-aa5c-d3c3dddf8104\">columntransformer: ColumnTransformer</label><div class=\"sk-toggleable__content\"><pre>ColumnTransformer(transformers=[('pipeline-1',\n",
              "                                 Pipeline(steps=[('simpleimputer',\n",
              "                                                  SimpleImputer(strategy='median')),\n",
              "                                                 ('standardscaler',\n",
              "                                                  StandardScaler())]),\n",
              "                                 ('feat1', 'feat3')),\n",
              "                                ('pipeline-2',\n",
              "                                 Pipeline(steps=[('simpleimputer',\n",
              "                                                  SimpleImputer(fill_value='missing',\n",
              "                                                                strategy='constant')),\n",
              "                                                 ('onehotencoder',\n",
              "                                                  OneHotEncoder(handle_unknown='ignore'))]),\n",
              "                                 ('feat0', 'feat2'))])</pre></div></div></div><div class=\"sk-parallel\"><div class=\"sk-parallel-item\"><div class=\"sk-item\"><div class=\"sk-label-container\"><div class=\"sk-label sk-toggleable\"><input class=\"sk-toggleable__control sk-hidden--visually\" id=\"7fb0eed8-7c53-4e36-ab32-33d098e227a6\" type=\"checkbox\" ><label class=\"sk-toggleable__label\" for=\"7fb0eed8-7c53-4e36-ab32-33d098e227a6\">pipeline-1</label><div class=\"sk-toggleable__content\"><pre>('feat1', 'feat3')</pre></div></div></div><div class=\"sk-serial\"><div class=\"sk-item\"><div class=\"sk-serial\"><div class=\"sk-item\"><div class=\"sk-estimator sk-toggleable\"><input class=\"sk-toggleable__control sk-hidden--visually\" id=\"9831d23b-190e-45b8-9426-a5d39113b453\" type=\"checkbox\" ><label class=\"sk-toggleable__label\" for=\"9831d23b-190e-45b8-9426-a5d39113b453\">SimpleImputer</label><div class=\"sk-toggleable__content\"><pre>SimpleImputer(strategy='median')</pre></div></div></div><div class=\"sk-item\"><div class=\"sk-estimator sk-toggleable\"><input class=\"sk-toggleable__control sk-hidden--visually\" id=\"1760379c-a773-47a5-93d2-59599e8c621b\" type=\"checkbox\" ><label class=\"sk-toggleable__label\" for=\"1760379c-a773-47a5-93d2-59599e8c621b\">StandardScaler</label><div class=\"sk-toggleable__content\"><pre>StandardScaler()</pre></div></div></div></div></div></div></div></div><div class=\"sk-parallel-item\"><div class=\"sk-item\"><div class=\"sk-label-container\"><div class=\"sk-label sk-toggleable\"><input class=\"sk-toggleable__control sk-hidden--visually\" id=\"332f0f8b-7ee5-477f-a6be-d41396869da8\" type=\"checkbox\" ><label class=\"sk-toggleable__label\" for=\"332f0f8b-7ee5-477f-a6be-d41396869da8\">pipeline-2</label><div class=\"sk-toggleable__content\"><pre>('feat0', 'feat2')</pre></div></div></div><div class=\"sk-serial\"><div class=\"sk-item\"><div class=\"sk-serial\"><div class=\"sk-item\"><div class=\"sk-estimator sk-toggleable\"><input class=\"sk-toggleable__control sk-hidden--visually\" id=\"e9fbb51c-440a-4143-a23c-84b169fa20a9\" type=\"checkbox\" ><label class=\"sk-toggleable__label\" for=\"e9fbb51c-440a-4143-a23c-84b169fa20a9\">SimpleImputer</label><div class=\"sk-toggleable__content\"><pre>SimpleImputer(fill_value='missing', strategy='constant')</pre></div></div></div><div class=\"sk-item\"><div class=\"sk-estimator sk-toggleable\"><input class=\"sk-toggleable__control sk-hidden--visually\" id=\"b24de837-9598-403f-b400-d044ab10df56\" type=\"checkbox\" ><label class=\"sk-toggleable__label\" for=\"b24de837-9598-403f-b400-d044ab10df56\">OneHotEncoder</label><div class=\"sk-toggleable__content\"><pre>OneHotEncoder(handle_unknown='ignore')</pre></div></div></div></div></div></div></div></div></div></div><div class=\"sk-item\"><div class=\"sk-estimator sk-toggleable\"><input class=\"sk-toggleable__control sk-hidden--visually\" id=\"a3ecd403-9855-4618-b1c6-37d060ce152f\" type=\"checkbox\" ><label class=\"sk-toggleable__label\" for=\"a3ecd403-9855-4618-b1c6-37d060ce152f\">LogisticRegression</label><div class=\"sk-toggleable__content\"><pre>LogisticRegression()</pre></div></div></div></div></div></div></div>"
            ],
            "text/plain": [
              "Pipeline(steps=[('columntransformer',\n",
              "                 ColumnTransformer(transformers=[('pipeline-1',\n",
              "                                                  Pipeline(steps=[('simpleimputer',\n",
              "                                                                   SimpleImputer(strategy='median')),\n",
              "                                                                  ('standardscaler',\n",
              "                                                                   StandardScaler())]),\n",
              "                                                  ('feat1', 'feat3')),\n",
              "                                                 ('pipeline-2',\n",
              "                                                  Pipeline(steps=[('simpleimputer',\n",
              "                                                                   SimpleImputer(fill_value='missing',\n",
              "                                                                                 strategy='constant')),\n",
              "                                                                  ('onehotencoder',\n",
              "                                                                   OneHotEncoder(handle_unknown='ignore'))]),\n",
              "                                                  ('feat0', 'feat2'))])),\n",
              "                ('logisticregression', LogisticRegression())])"
            ]
          },
          "metadata": {},
          "execution_count": 3
        }
      ],
      "metadata": {
        "collapsed": false
      }
    },
    {
      "cell_type": "markdown",
      "source": [
        "Scalability and stability improvements to KMeans\n",
        "------------------------------------------------\n",
        "The :class:`~sklearn.cluster.KMeans` estimator was entirely re-worked, and it\n",
        "is now significantly faster and more stable. In addition, the Elkan algorithm\n",
        "is now compatible with sparse matrices. The estimator uses OpenMP based\n",
        "parallelism instead of relying on joblib, so the `n_jobs` parameter has no\n",
        "effect anymore. For more details on how to control the number of threads,\n",
        "please refer to our `parallelism` notes.\n",
        "\n"
      ],
      "metadata": {}
    },
    {
      "cell_type": "code",
      "execution_count": 4,
      "source": [
        "import scipy\n",
        "import numpy as np\n",
        "from sklearn.model_selection import train_test_split\n",
        "from sklearn.cluster import KMeans\n",
        "from sklearn.datasets import make_blobs\n",
        "from sklearn.metrics import completeness_score\n",
        "\n",
        "rng = np.random.RandomState(0)\n",
        "X, y = make_blobs(random_state=rng)\n",
        "X = scipy.sparse.csr_matrix(X)\n",
        "X_train, X_test, _, y_test = train_test_split(X, y, random_state=rng)\n",
        "kmeans = KMeans(algorithm='elkan').fit(X_train)\n",
        "print(completeness_score(kmeans.predict(X_test), y_test))"
      ],
      "outputs": [
        {
          "output_type": "stream",
          "name": "stdout",
          "text": [
            "0.7571304089239169\n"
          ]
        }
      ],
      "metadata": {
        "collapsed": false
      }
    },
    {
      "cell_type": "markdown",
      "source": [
        "Improvements to the histogram-based Gradient Boosting estimators\n",
        "----------------------------------------------------------------\n",
        "Various improvements were made to\n",
        ":class:`~sklearn.ensemble.HistGradientBoostingClassifier` and\n",
        ":class:`~sklearn.ensemble.HistGradientBoostingRegressor`. On top of the\n",
        "Poisson loss mentionned above, these estimators now support `sample\n",
        "weights <sw_hgbdt>`. Also, an automatic early-stopping criterion was added:\n",
        "early-stopping is enabled by default when the number of samples exceeds 10k.\n",
        "Finally, users can now define `monotonic constraints\n",
        "<monotonic_cst_gbdt>` to constrain the predictions based on the variations of\n",
        "specific features. In the following example, we construct a target that is\n",
        "generally positively correlated with the first feature, with some noise.\n",
        "Applying monotoinc constraints allows the prediction to capture the global\n",
        "effect of the first feature, instead of fitting the noise.\n",
        "\n"
      ],
      "metadata": {}
    },
    {
      "cell_type": "code",
      "execution_count": 5,
      "source": [
        "import numpy as np\n",
        "from matplotlib import pyplot as plt\n",
        "from sklearn.model_selection import train_test_split\n",
        "from sklearn.inspection import plot_partial_dependence\n",
        "from sklearn.experimental import enable_hist_gradient_boosting  # noqa\n",
        "from sklearn.ensemble import HistGradientBoostingRegressor\n",
        "\n",
        "n_samples = 500\n",
        "rng = np.random.RandomState(0)\n",
        "X = rng.randn(n_samples, 2)\n",
        "noise = rng.normal(loc=0.0, scale=0.01, size=n_samples)\n",
        "y = (5 * X[:, 0] + np.sin(10 * np.pi * X[:, 0]) - noise)\n",
        "\n",
        "gbdt_no_cst = HistGradientBoostingRegressor().fit(X, y)\n",
        "gbdt_cst = HistGradientBoostingRegressor(monotonic_cst=[1, 0]).fit(X, y)\n",
        "\n",
        "disp = plot_partial_dependence(\n",
        "    gbdt_no_cst, X, features=[0], feature_names=['feature 0'],\n",
        "    line_kw={'linewidth': 4, 'label': 'unconstrained'})\n",
        "plot_partial_dependence(gbdt_cst, X, features=[0],\n",
        "    line_kw={'linewidth': 4, 'label': 'constrained'}, ax=disp.axes_)\n",
        "disp.axes_[0, 0].plot(X[:, 0], y, 'o', alpha=.5, zorder=-1, label='samples')\n",
        "disp.axes_[0, 0].set_ylim(-3, 3); disp.axes_[0, 0].set_xlim(-1, 1)\n",
        "plt.legend()\n",
        "plt.show()"
      ],
      "outputs": [
        {
          "output_type": "display_data",
          "data": {
            "image/png": "[encoded data removed]",
            "text/plain": [
              "<Figure size 432x288 with 2 Axes>"
            ]
          },
          "metadata": {
            "needs_background": "light"
          }
        }
      ],
      "metadata": {
        "collapsed": false
      }
    },
    {
      "cell_type": "markdown",
      "source": [
        "Sample-weight support for Lasso and ElasticNet\n",
        "----------------------------------------------\n",
        "The two linear regressors :class:`~sklearn.linear_model.Lasso` and\n",
        ":class:`~sklearn.linear_model.ElasticNet` now support sample weights.\n",
        "\n"
      ],
      "metadata": {}
    },
    {
      "cell_type": "code",
      "execution_count": 6,
      "source": [
        "from sklearn.model_selection import train_test_split\n",
        "from sklearn.datasets import make_regression\n",
        "from sklearn.linear_model import Lasso\n",
        "import numpy as np\n",
        "\n",
        "n_samples, n_features = 1000, 20\n",
        "rng = np.random.RandomState(0)\n",
        "X, y = make_regression(n_samples, n_features, random_state=rng)\n",
        "sample_weight = rng.rand(n_samples)\n",
        "X_train, X_test, y_train, y_test, sw_train, sw_test = train_test_split(\n",
        "    X, y, sample_weight, random_state=rng)\n",
        "reg = Lasso()\n",
        "reg.fit(X_train, y_train, sample_weight=sw_train)\n",
        "print(reg.score(X_test, y_test, sw_test))"
      ],
      "outputs": [
        {
          "output_type": "stream",
          "name": "stdout",
          "text": [
            "0.999791942438998\n"
          ]
        }
      ],
      "metadata": {
        "collapsed": false
      }
    }
  ],
  "metadata": {
    "kernelspec": {
      "name": "python3",
      "display_name": "Python 3.7.10 64-bit ('py37automl': conda)"
    },
    "language_info": {
      "codemirror_mode": {
        "name": "ipython",
        "version": 3
      },
      "file_extension": ".py",
      "mimetype": "text/x-python",
      "name": "python",
      "nbconvert_exporter": "python",
      "pygments_lexer": "ipython3",
      "version": "3.7.10"
    },
    "interpreter": {
      "hash": "b4c8cc877dfaaf169ac8b8c232703907b2186a0f11d6917571021133971a8d95"
    }
  },
  "nbformat": 4,
  "nbformat_minor": 2
}