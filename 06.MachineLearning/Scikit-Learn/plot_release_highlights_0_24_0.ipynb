{
  "cells": [
    {
      "cell_type": "code",
      "execution_count": 1,
      "source": [
        "%matplotlib inline"
      ],
      "outputs": [],
      "metadata": {
        "collapsed": false
      }
    },
    {
      "cell_type": "markdown",
      "source": [
        "\n",
        "# Release Highlights for scikit-learn 0.24\n",
        "\n",
        ".. currentmodule:: sklearn\n",
        "\n",
        "We are pleased to announce the release of scikit-learn 0.24! Many bug fixes\n",
        "and improvements were added, as well as some new key features. We detail\n",
        "below a few of the major features of this release. **For an exhaustive list of\n",
        "all the changes**, please refer to the `release notes <changes_0_24>`.\n",
        "\n",
        "To install the latest version (with pip)::\n",
        "\n",
        "    pip install --upgrade scikit-learn\n",
        "\n",
        "or with conda::\n",
        "\n",
        "    conda install -c conda-forge scikit-learn\n"
      ],
      "metadata": {}
    },
    {
      "cell_type": "markdown",
      "source": [
        "## Successive Halving estimators for tuning hyper-parameters\n",
        "Successive Halving, a state of the art method, is now available to\n",
        "explore the space of the parameters and identify their best combination.\n",
        ":class:`~sklearn.model_selection.HalvingGridSearchCV` and\n",
        ":class:`~sklearn.model_selection.HalvingRandomSearchCV` can be\n",
        "used as drop-in replacement for\n",
        ":class:`~sklearn.model_selection.GridSearchCV` and\n",
        ":class:`~sklearn.model_selection.RandomizedSearchCV`.\n",
        "Successive Halving is an iterative selection process illustrated in the\n",
        "figure below. The first iteration is run with a small amount of resources,\n",
        "where the resource typically corresponds to the number of training samples,\n",
        "but can also be an arbitrary integer parameter such as `n_estimators` in a\n",
        "random forest. Only a subset of the parameter candidates are selected for the\n",
        "next iteration, which will be run with an increasing amount of allocated\n",
        "resources. Only a subset of candidates will last until the end of the\n",
        "iteration process, and the best parameter candidate is the one that has the\n",
        "highest score on the last iteration.\n",
        "\n",
        "Read more in the `User Guide <successive_halving_user_guide>` (note:\n",
        "the Successive Halving estimators are still :term:`experimental\n",
        "<experimental>`).\n",
        "\n",
        ".. figure:: ../model_selection/images/sphx_glr_plot_successive_halving_iterations_001.png\n",
        "  :target: ../model_selection/plot_successive_halving_iterations.html\n",
        "  :align: center\n",
        "\n"
      ],
      "metadata": {}
    },
    {
      "cell_type": "code",
      "execution_count": 2,
      "source": [
        "import numpy as np\n",
        "from scipy.stats import randint\n",
        "from sklearn.experimental import enable_halving_search_cv  # noqa\n",
        "from sklearn.model_selection import HalvingRandomSearchCV\n",
        "from sklearn.ensemble import RandomForestClassifier\n",
        "from sklearn.datasets import make_classification\n",
        "\n",
        "rng = np.random.RandomState(0)\n",
        "\n",
        "X, y = make_classification(n_samples=700, random_state=rng)\n",
        "\n",
        "clf = RandomForestClassifier(n_estimators=10, random_state=rng)\n",
        "\n",
        "param_dist = {\"max_depth\": [3, None],\n",
        "              \"max_features\": randint(1, 11),\n",
        "              \"min_samples_split\": randint(2, 11),\n",
        "              \"bootstrap\": [True, False],\n",
        "              \"criterion\": [\"gini\", \"entropy\"]}\n",
        "\n",
        "rsh = HalvingRandomSearchCV(estimator=clf, param_distributions=param_dist,\n",
        "                            factor=2, random_state=rng)\n",
        "rsh.fit(X, y)\n",
        "rsh.best_params_"
      ],
      "outputs": [
        {
          "output_type": "execute_result",
          "data": {
            "text/plain": [
              "{'bootstrap': True,\n",
              " 'criterion': 'gini',\n",
              " 'max_depth': None,\n",
              " 'max_features': 10,\n",
              " 'min_samples_split': 10}"
            ]
          },
          "metadata": {},
          "execution_count": 2
        }
      ],
      "metadata": {
        "collapsed": false
      }
    },
    {
      "cell_type": "markdown",
      "source": [
        "## Native support for categorical features in HistGradientBoosting estimators\n",
        ":class:`~sklearn.ensemble.HistGradientBoostingClassifier` and\n",
        ":class:`~sklearn.ensemble.HistGradientBoostingRegressor` now have native\n",
        "support for categorical features: they can consider splits on non-ordered,\n",
        "categorical data. Read more in the `User Guide\n",
        "<categorical_support_gbdt>`.\n",
        "\n",
        ".. figure:: ../ensemble/images/sphx_glr_plot_gradient_boosting_categorical_001.png\n",
        "  :target: ../ensemble/plot_gradient_boosting_categorical.html\n",
        "  :align: center\n",
        "\n",
        "The plot shows that the new native support for categorical features leads to\n",
        "fitting times that are comparable to models where the categories are treated\n",
        "as ordered quantities, i.e. simply ordinal-encoded. Native support is also\n",
        "more expressive than both one-hot encoding and ordinal encoding. However, to\n",
        "use the new `categorical_features` parameter, it is still required to\n",
        "preprocess the data within a pipeline as demonstrated in this `example\n",
        "<sphx_glr_auto_examples_ensemble_plot_gradient_boosting_categorical.py>`.\n",
        "\n"
      ],
      "metadata": {}
    },
    {
      "cell_type": "markdown",
      "source": [
        "## Improved performances of HistGradientBoosting estimators\n",
        "The memory footprint of :class:`ensemble.HistGradientBoostingRegressor` and\n",
        ":class:`ensemble.HistGradientBoostingClassifier` has been significantly\n",
        "improved during calls to `fit`. In addition, histogram initialization is now\n",
        "done in parallel which results in slight speed improvements.\n",
        "See more in the `Benchmark page\n",
        "<https://scikit-learn.org/scikit-learn-benchmarks/>`_.\n",
        "\n"
      ],
      "metadata": {}
    },
    {
      "cell_type": "markdown",
      "source": [
        "## New self-training meta-estimator\n",
        "A new self-training implementation, based on `Yarowski's algorithm\n",
        "<https://doi.org/10.3115/981658.981684>`_ can now be used with any\n",
        "classifier that implements :term:`predict_proba`. The sub-classifier\n",
        "will behave as a\n",
        "semi-supervised classifier, allowing it to learn from unlabeled data.\n",
        "Read more in the `User guide <self_training>`.\n",
        "\n"
      ],
      "metadata": {}
    },
    {
      "cell_type": "code",
      "execution_count": 3,
      "source": [
        "import numpy as np\n",
        "from sklearn import datasets\n",
        "from sklearn.semi_supervised import SelfTrainingClassifier\n",
        "from sklearn.svm import SVC\n",
        "\n",
        "rng = np.random.RandomState(42)\n",
        "iris = datasets.load_iris()\n",
        "random_unlabeled_points = rng.rand(iris.target.shape[0]) < 0.3\n",
        "iris.target[random_unlabeled_points] = -1\n",
        "svc = SVC(probability=True, gamma=\"auto\")\n",
        "self_training_model = SelfTrainingClassifier(svc)\n",
        "self_training_model.fit(iris.data, iris.target)"
      ],
      "outputs": [
        {
          "output_type": "execute_result",
          "data": {
            "text/plain": [
              "SelfTrainingClassifier(base_estimator=SVC(gamma='auto', probability=True))"
            ]
          },
          "metadata": {},
          "execution_count": 3
        }
      ],
      "metadata": {
        "collapsed": false
      }
    },
    {
      "cell_type": "markdown",
      "source": [
        "## New SequentialFeatureSelector transformer\n",
        "A new iterative transformer to select features is available:\n",
        ":class:`~sklearn.feature_selection.SequentialFeatureSelector`.\n",
        "Sequential Feature Selection can add features one at a time (forward\n",
        "selection) or remove features from the list of the available features\n",
        "(backward selection), based on a cross-validated score maximization.\n",
        "See the `User Guide <sequential_feature_selection>`.\n",
        "\n"
      ],
      "metadata": {}
    },
    {
      "cell_type": "code",
      "execution_count": 4,
      "source": [
        "from sklearn.feature_selection import SequentialFeatureSelector\n",
        "from sklearn.neighbors import KNeighborsClassifier\n",
        "from sklearn.datasets import load_iris\n",
        "\n",
        "X, y = load_iris(return_X_y=True, as_frame=True)\n",
        "feature_names = X.columns\n",
        "knn = KNeighborsClassifier(n_neighbors=3)\n",
        "sfs = SequentialFeatureSelector(knn, n_features_to_select=2)\n",
        "sfs.fit(X, y)\n",
        "print(\"Features selected by forward sequential selection: \"\n",
        "      f\"{feature_names[sfs.get_support()].tolist()}\")"
      ],
      "outputs": [
        {
          "output_type": "stream",
          "name": "stdout",
          "text": [
            "Features selected by forward sequential selection: ['petal length (cm)', 'petal width (cm)']\n"
          ]
        }
      ],
      "metadata": {
        "collapsed": false
      }
    },
    {
      "cell_type": "markdown",
      "source": [
        "## New PolynomialCountSketch kernel approximation function\n",
        "The new :class:`~sklearn.kernel_approximation.PolynomialCountSketch`\n",
        "approximates a polynomial expansion of a feature space when used with linear\n",
        "models, but uses much less memory than\n",
        ":class:`~sklearn.preprocessing.PolynomialFeatures`.\n",
        "\n"
      ],
      "metadata": {}
    },
    {
      "cell_type": "code",
      "execution_count": 5,
      "source": [
        "from sklearn.datasets import fetch_covtype\n",
        "from sklearn.pipeline import make_pipeline\n",
        "from sklearn.model_selection import train_test_split\n",
        "from sklearn.preprocessing import MinMaxScaler\n",
        "from sklearn.kernel_approximation import PolynomialCountSketch\n",
        "from sklearn.linear_model import LogisticRegression\n",
        "\n",
        "X, y = fetch_covtype(return_X_y=True)\n",
        "pipe = make_pipeline(MinMaxScaler(),\n",
        "                     PolynomialCountSketch(degree=2, n_components=300),\n",
        "                     LogisticRegression(max_iter=1000))\n",
        "X_train, X_test, y_train, y_test = train_test_split(X, y, train_size=5000,\n",
        "                                                    test_size=10000,\n",
        "                                                    random_state=42)\n",
        "pipe.fit(X_train, y_train).score(X_test, y_test)"
      ],
      "outputs": [
        {
          "output_type": "execute_result",
          "data": {
            "text/plain": [
              "0.7345"
            ]
          },
          "metadata": {},
          "execution_count": 5
        }
      ],
      "metadata": {
        "collapsed": false
      }
    },
    {
      "cell_type": "markdown",
      "source": [
        "For comparison, here is the score of a linear baseline for the same data:\n",
        "\n"
      ],
      "metadata": {}
    },
    {
      "cell_type": "code",
      "execution_count": 6,
      "source": [
        "linear_baseline = make_pipeline(MinMaxScaler(),\n",
        "                                LogisticRegression(max_iter=1000))\n",
        "linear_baseline.fit(X_train, y_train).score(X_test, y_test)"
      ],
      "outputs": [
        {
          "output_type": "execute_result",
          "data": {
            "text/plain": [
              "0.7137"
            ]
          },
          "metadata": {},
          "execution_count": 6
        }
      ],
      "metadata": {
        "collapsed": false
      }
    },
    {
      "cell_type": "markdown",
      "source": [
        "## Individual Conditional Expectation plots\n",
        "A new kind of partial dependence plot is available: the Individual\n",
        "Conditional Expectation (ICE) plot. ICE plots visualize the dependence of the\n",
        "prediction on a feature for each sample separately, with one line per sample.\n",
        "See the `User Guide <individual_conditional>`\n",
        "\n"
      ],
      "metadata": {}
    },
    {
      "cell_type": "code",
      "execution_count": 7,
      "source": [
        "from sklearn.ensemble import RandomForestRegressor\n",
        "from sklearn.datasets import fetch_california_housing\n",
        "from sklearn.inspection import plot_partial_dependence\n",
        "\n",
        "X, y = fetch_california_housing(return_X_y=True, as_frame=True)\n",
        "features = ['MedInc', 'AveOccup', 'HouseAge', 'AveRooms']\n",
        "est = RandomForestRegressor(n_estimators=10)\n",
        "est.fit(X, y)\n",
        "display = plot_partial_dependence(\n",
        "       est, X, features, kind=\"individual\", subsample=50,\n",
        "       n_jobs=3, grid_resolution=20, random_state=0\n",
        ")\n",
        "display.figure_.suptitle(\n",
        "    'Partial dependence of house value on non-location features\\n'\n",
        "    'for the California housing dataset, with BayesianRidge'\n",
        ")\n",
        "display.figure_.subplots_adjust(hspace=0.3)"
      ],
      "outputs": [
        {
          "output_type": "display_data",
          "data": {
            "image/png": "[encoded data removed]",
            "text/plain": [
              "<Figure size 432x288 with 5 Axes>"
            ]
          },
          "metadata": {
            "needs_background": "light"
          }
        }
      ],
      "metadata": {
        "collapsed": false
      }
    },
    {
      "cell_type": "markdown",
      "source": [
        "## New Poisson splitting criterion for DecisionTreeRegressor\n",
        "The integration of Poisson regression estimation continues from version 0.23.\n",
        ":class:`~sklearn.tree.DecisionTreeRegressor` now supports a new `'poisson'`\n",
        "splitting criterion. Setting `criterion=\"poisson\"` might be a good choice\n",
        "if your target is a count or a frequency.\n",
        "\n"
      ],
      "metadata": {}
    },
    {
      "cell_type": "code",
      "execution_count": 8,
      "source": [
        "from sklearn.tree import DecisionTreeRegressor\n",
        "from sklearn.model_selection import train_test_split\n",
        "import numpy as np\n",
        "\n",
        "n_samples, n_features = 1000, 20\n",
        "rng = np.random.RandomState(0)\n",
        "X = rng.randn(n_samples, n_features)\n",
        "# positive integer target correlated with X[:, 5] with many zeros:\n",
        "y = rng.poisson(lam=np.exp(X[:, 5]) / 2)\n",
        "X_train, X_test, y_train, y_test = train_test_split(X, y, random_state=rng)\n",
        "regressor = DecisionTreeRegressor(criterion='poisson', random_state=0)\n",
        "regressor.fit(X_train, y_train)"
      ],
      "outputs": [
        {
          "output_type": "execute_result",
          "data": {
            "text/plain": [
              "DecisionTreeRegressor(criterion='poisson', random_state=0)"
            ]
          },
          "metadata": {},
          "execution_count": 8
        }
      ],
      "metadata": {
        "collapsed": false
      }
    },
    {
      "cell_type": "markdown",
      "source": [
        "## New documentation improvements\n",
        "\n",
        "New examples and documentation pages have been added, in a continuous effort\n",
        "to improve the understanding of machine learning practices:\n",
        "\n",
        "- a new section about `common pitfalls and recommended\n",
        "  practices <common_pitfalls>`,\n",
        "- an example illustrating how to `statistically compare the performance of\n",
        "  models <sphx_glr_auto_examples_model_selection_plot_grid_search_stats.py>`\n",
        "  evaluated using :class:`~sklearn.model_selection.GridSearchCV`,\n",
        "- an example on how to `interpret coefficients of linear models\n",
        "  <sphx_glr_auto_examples_inspection_plot_linear_model_coefficient_interpretation.py>`,\n",
        "- an `example\n",
        "  <sphx_glr_auto_examples_cross_decomposition_plot_pcr_vs_pls.py>`\n",
        "  comparing Principal Component Regression and Partial Least Squares.\n",
        "\n"
      ],
      "metadata": {}
    }
  ],
  "metadata": {
    "kernelspec": {
      "name": "python3",
      "display_name": "Python 3.7.10 64-bit ('py37automl': conda)"
    },
    "language_info": {
      "codemirror_mode": {
        "name": "ipython",
        "version": 3
      },
      "file_extension": ".py",
      "mimetype": "text/x-python",
      "name": "python",
      "nbconvert_exporter": "python",
      "pygments_lexer": "ipython3",
      "version": "3.7.10"
    },
    "interpreter": {
      "hash": "b4c8cc877dfaaf169ac8b8c232703907b2186a0f11d6917571021133971a8d95"
    }
  },
  "nbformat": 4,
  "nbformat_minor": 2
}