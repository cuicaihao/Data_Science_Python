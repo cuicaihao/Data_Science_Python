{
  "cells": [
    {
      "cell_type": "code",
      "execution_count": 1,
      "source": [
        "%matplotlib inline"
      ],
      "outputs": [],
      "metadata": {
        "collapsed": false
      }
    },
    {
      "cell_type": "markdown",
      "source": [
        "\n",
        "# Gradient Boosting regression\n",
        "\n",
        "This example demonstrates Gradient Boosting to produce a predictive\n",
        "model from an ensemble of weak predictive models. Gradient boosting can be used\n",
        "for regression and classification problems. Here, we will train a model to\n",
        "tackle a diabetes regression task. We will obtain the results from\n",
        ":class:`~sklearn.ensemble.GradientBoostingRegressor` with least squares loss\n",
        "and 500 regression trees of depth 4.\n",
        "\n",
        "Note: For larger datasets (n_samples >= 10000), please refer to\n",
        ":class:`~sklearn.ensemble.HistGradientBoostingRegressor`.\n"
      ],
      "metadata": {}
    },
    {
      "cell_type": "code",
      "execution_count": 2,
      "source": [
        "print(__doc__)\n",
        "\n",
        "# Author: Peter Prettenhofer <peter.prettenhofer@gmail.com>\n",
        "#         Maria Telenczuk <https://github.com/maikia>\n",
        "#         Katrina Ni <https://github.com/nilichen>\n",
        "#\n",
        "# License: BSD 3 clause\n",
        "\n",
        "import matplotlib.pyplot as plt\n",
        "import numpy as np\n",
        "from sklearn import datasets, ensemble\n",
        "from sklearn.inspection import permutation_importance\n",
        "from sklearn.metrics import mean_squared_error\n",
        "from sklearn.model_selection import train_test_split"
      ],
      "outputs": [
        {
          "output_type": "stream",
          "name": "stdout",
          "text": [
            "Automatically created module for IPython interactive environment\n"
          ]
        }
      ],
      "metadata": {
        "collapsed": false
      }
    },
    {
      "cell_type": "markdown",
      "source": [
        "## Load the data\n",
        "\n",
        "First we need to load the data.\n",
        "\n"
      ],
      "metadata": {}
    },
    {
      "cell_type": "code",
      "execution_count": 3,
      "source": [
        "diabetes = datasets.load_diabetes()\n",
        "X, y = diabetes.data, diabetes.target"
      ],
      "outputs": [],
      "metadata": {
        "collapsed": false
      }
    },
    {
      "cell_type": "markdown",
      "source": [
        "## Data preprocessing\n",
        "\n",
        "Next, we will split our dataset to use 90% for training and leave the rest\n",
        "for testing. We will also set the regression model parameters. You can play\n",
        "with these parameters to see how the results change.\n",
        "\n",
        "n_estimators : the number of boosting stages that will be performed.\n",
        "Later, we will plot deviance against boosting iterations.\n",
        "\n",
        "max_depth : limits the number of nodes in the tree.\n",
        "The best value depends on the interaction of the input variables.\n",
        "\n",
        "min_samples_split : the minimum number of samples required to split an\n",
        "internal node.\n",
        "\n",
        "learning_rate : how much the contribution of each tree will shrink.\n",
        "\n",
        "loss : loss function to optimize. The least squares function is  used in this\n",
        "case however, there are many other options (see\n",
        ":class:`~sklearn.ensemble.GradientBoostingRegressor` ).\n",
        "\n"
      ],
      "metadata": {}
    },
    {
      "cell_type": "code",
      "execution_count": 4,
      "source": [
        "X_train, X_test, y_train, y_test = train_test_split(\n",
        "    X, y, test_size=0.1, random_state=13)\n",
        "\n",
        "params = {'n_estimators': 500,\n",
        "          'max_depth': 4,\n",
        "          'min_samples_split': 5,\n",
        "          'learning_rate': 0.01,\n",
        "          'loss': 'ls'}"
      ],
      "outputs": [],
      "metadata": {
        "collapsed": false
      }
    },
    {
      "cell_type": "markdown",
      "source": [
        "## Fit regression model\n",
        "\n",
        "Now we will initiate the gradient boosting regressors and fit it with our\n",
        "training data. Let's also look and the mean squared error on the test data.\n",
        "\n"
      ],
      "metadata": {}
    },
    {
      "cell_type": "code",
      "execution_count": 5,
      "source": [
        "reg = ensemble.GradientBoostingRegressor(**params)\n",
        "reg.fit(X_train, y_train)\n",
        "\n",
        "mse = mean_squared_error(y_test, reg.predict(X_test))\n",
        "print(\"The mean squared error (MSE) on test set: {:.4f}\".format(mse))"
      ],
      "outputs": [
        {
          "output_type": "stream",
          "name": "stdout",
          "text": [
            "The mean squared error (MSE) on test set: 3015.6691\n"
          ]
        }
      ],
      "metadata": {
        "collapsed": false
      }
    },
    {
      "cell_type": "markdown",
      "source": [
        "## Plot training deviance\n",
        "\n",
        "Finally, we will visualize the results. To do that we will first compute the\n",
        "test set deviance and then plot it against boosting iterations.\n",
        "\n"
      ],
      "metadata": {}
    },
    {
      "cell_type": "code",
      "execution_count": 6,
      "source": [
        "test_score = np.zeros((params['n_estimators'],), dtype=np.float64)\n",
        "for i, y_pred in enumerate(reg.staged_predict(X_test)):\n",
        "    test_score[i] = reg.loss_(y_test, y_pred)\n",
        "\n",
        "fig = plt.figure(figsize=(6, 6))\n",
        "plt.subplot(1, 1, 1)\n",
        "plt.title('Deviance')\n",
        "plt.plot(np.arange(params['n_estimators']) + 1, reg.train_score_, 'b-',\n",
        "         label='Training Set Deviance')\n",
        "plt.plot(np.arange(params['n_estimators']) + 1, test_score, 'r-',\n",
        "         label='Test Set Deviance')\n",
        "plt.legend(loc='upper right')\n",
        "plt.xlabel('Boosting Iterations')\n",
        "plt.ylabel('Deviance')\n",
        "fig.tight_layout()\n",
        "plt.show()"
      ],
      "outputs": [
        {
          "output_type": "display_data",
          "data": {
            "image/png": "[encoded data removed]",
            "text/plain": [
              "<Figure size 432x432 with 1 Axes>"
            ]
          },
          "metadata": {
            "needs_background": "light"
          }
        }
      ],
      "metadata": {
        "collapsed": false
      }
    },
    {
      "cell_type": "markdown",
      "source": [
        "## Plot feature importance\n",
        "\n",
        "Careful, impurity-based feature importances can be misleading for\n",
        "high cardinality features (many unique values). As an alternative,\n",
        "the permutation importances of ``reg`` can be computed on a\n",
        "held out test set. See `permutation_importance` for more details.\n",
        "\n",
        "For this example, the impurity-based and permutation methods identify the\n",
        "same 2 strongly predictive features but not in the same order. The third most\n",
        "predictive feature, \"bp\", is also the same for the 2 methods. The remaining\n",
        "features are less predictive and the error bars of the permutation plot\n",
        "show that they overlap with 0.\n",
        "\n"
      ],
      "metadata": {}
    },
    {
      "cell_type": "code",
      "execution_count": 7,
      "source": [
        "feature_importance = reg.feature_importances_\n",
        "sorted_idx = np.argsort(feature_importance)\n",
        "pos = np.arange(sorted_idx.shape[0]) + .5\n",
        "fig = plt.figure(figsize=(12, 6))\n",
        "plt.subplot(1, 2, 1)\n",
        "plt.barh(pos, feature_importance[sorted_idx], align='center')\n",
        "plt.yticks(pos, np.array(diabetes.feature_names)[sorted_idx])\n",
        "plt.title('Feature Importance (MDI)')\n",
        "\n",
        "result = permutation_importance(reg, X_test, y_test, n_repeats=10,\n",
        "                                random_state=42, n_jobs=2)\n",
        "sorted_idx = result.importances_mean.argsort()\n",
        "plt.subplot(1, 2, 2)\n",
        "plt.boxplot(result.importances[sorted_idx].T,\n",
        "            vert=False, labels=np.array(diabetes.feature_names)[sorted_idx])\n",
        "plt.title(\"Permutation Importance (test set)\")\n",
        "fig.tight_layout()\n",
        "plt.show()"
      ],
      "outputs": [
        {
          "output_type": "display_data",
          "data": {
            "image/png": "[encoded data removed]",
            "text/plain": [
              "<Figure size 864x432 with 2 Axes>"
            ]
          },
          "metadata": {
            "needs_background": "light"
          }
        }
      ],
      "metadata": {
        "collapsed": false
      }
    }
  ],
  "metadata": {
    "kernelspec": {
      "name": "python3",
      "display_name": "Python 3.7.10 64-bit ('py37automl': conda)"
    },
    "language_info": {
      "codemirror_mode": {
        "name": "ipython",
        "version": 3
      },
      "file_extension": ".py",
      "mimetype": "text/x-python",
      "name": "python",
      "nbconvert_exporter": "python",
      "pygments_lexer": "ipython3",
      "version": "3.7.10"
    },
    "interpreter": {
      "hash": "b4c8cc877dfaaf169ac8b8c232703907b2186a0f11d6917571021133971a8d95"
    }
  },
  "nbformat": 4,
  "nbformat_minor": 2
}