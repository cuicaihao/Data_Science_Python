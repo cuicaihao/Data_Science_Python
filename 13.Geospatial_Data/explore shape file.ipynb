{
 "cells": [
  {
   "cell_type": "markdown",
   "id": "439e2f88",
   "metadata": {},
   "source": [
    "# Examples\n",
    "Before doing anything you must import the library."
   ]
  },
  {
   "cell_type": "code",
   "execution_count": null,
   "id": "2883faa0",
   "metadata": {},
   "outputs": [],
   "source": [
    "import shapefile"
   ]
  },
  {
   "cell_type": "markdown",
   "id": "ba55a440",
   "metadata": {},
   "source": [
    "## Reading Shapefiles\n",
    "###  The Reader Class\n",
    "To read a shapefile create a new \"Reader\" object and pass it the name of an existing shapefile. The shapefile format is actually a collection of three files. You specify the base filename of the shapefile or the complete filename of any of the shapefile component files."
   ]
  },
  {
   "cell_type": "code",
   "execution_count": null,
   "id": "a50caa04",
   "metadata": {},
   "outputs": [],
   "source": [
    "shape_file = \"Data/Shape_NYC/taxi_zones.shp\"\n",
    "sf = shapefile.Reader(shape_file)"
   ]
  },
  {
   "cell_type": "markdown",
   "id": "97057338",
   "metadata": {},
   "source": [
    "### Reading Shapefiles Using the Context Manager\n",
    "The \"Reader\" class can be used as a context manager, to ensure open file objects are properly closed when done reading the data:\n",
    "\n"
   ]
  },
  {
   "cell_type": "code",
   "execution_count": null,
   "id": "71ad2f08",
   "metadata": {},
   "outputs": [],
   "source": [
    "with shapefile.Reader(shape_file) as shp:\n",
    "    print(shp)"
   ]
  },
  {
   "cell_type": "markdown",
   "id": "59995aac",
   "metadata": {},
   "source": [
    "## Reading Shapefile Meta-Data\n",
    "Shapefiles have a number of attributes for inspecting the file contents. A shapefile is a container for a specific type of geometry, and this can be checked using the shapeType attribute.\n",
    "\n",
    "Shape types are represented by numbers between 0 and 31 as defined by the shapefile specification and listed below. It is important to note that the numbering system has several reserved numbers that have not been used yet, therefore the numbers of the existing shape types are not sequential:\n",
    "\n",
    "- NULL = 0\n",
    "- POINT = 1\n",
    "- POLYLINE = 3\n",
    "- POLYGON = 5\n",
    "- MULTIPOINT = 8\n",
    "- POINTZ = 11\n",
    "- POLYLINEZ = 13\n",
    "- POLYGONZ = 15\n",
    "- MULTIPOINTZ = 18\n",
    "- POINTM = 21\n",
    "- POLYLINEM = 23\n",
    "- POLYGONM = 25\n",
    "- MULTIPOINTM = 28\n",
    "- MULTIPATCH = 31\n",
    "\n",
    "Based on this we can see that our blockgroups shapefile contains Polygon type shapes. The shape types are also defined as constants in the shapefile module, so that we can compare types more intuitively:"
   ]
  },
  {
   "cell_type": "code",
   "execution_count": null,
   "id": "54114877",
   "metadata": {},
   "outputs": [],
   "source": [
    "sf.shapeType, sf.shapeType == shapefile.POLYGON, sf.shapeTypeName == 'POLYGON'"
   ]
  },
  {
   "cell_type": "code",
   "execution_count": null,
   "id": "d89e37f6",
   "metadata": {},
   "outputs": [],
   "source": [
    "len(sf), sf.bbox"
   ]
  },
  {
   "cell_type": "markdown",
   "id": "ca142816",
   "metadata": {},
   "source": [
    "Finally, if you would prefer to work with the entire shapefile in a different format, you can convert all of it to a GeoJSON dictionary, although you may lose some information in the process, such as z- and m-values:"
   ]
  },
  {
   "cell_type": "code",
   "execution_count": null,
   "id": "47aafbe0",
   "metadata": {},
   "outputs": [],
   "source": [
    "sf.__geo_interface__['type']"
   ]
  },
  {
   "cell_type": "markdown",
   "id": "765f7516",
   "metadata": {},
   "source": [
    "## Reading Geometry\n",
    "A shapefile's geometry is the collection of points or shapes made from vertices and implied arcs representing physical locations. All types of shapefiles just store points. The metadata about the points determine how they are handled by software.\n",
    "\n",
    "You can get a list of the shapefile's geometry by calling the shapes() method."
   ]
  },
  {
   "cell_type": "code",
   "execution_count": null,
   "id": "d9ce18ad",
   "metadata": {},
   "outputs": [],
   "source": [
    "shapes = sf.shapes()"
   ]
  },
  {
   "cell_type": "code",
   "execution_count": null,
   "id": "ff058aa3",
   "metadata": {},
   "outputs": [],
   "source": [
    "len(shapes)"
   ]
  },
  {
   "cell_type": "code",
   "execution_count": null,
   "id": "7eeb7b00",
   "metadata": {},
   "outputs": [],
   "source": [
    "s = sf.shape(7)\n",
    "['%.3f' % coord for coord in s.bbox]"
   ]
  },
  {
   "cell_type": "markdown",
   "id": "947b4149",
   "metadata": {},
   "source": [
    "Each shape record (except Points) contains the following attributes. Records of shapeType Point do not have a bounding box 'bbox'."
   ]
  },
  {
   "cell_type": "code",
   "execution_count": null,
   "id": "2e40b9fe",
   "metadata": {},
   "outputs": [],
   "source": [
    "for name in dir(shapes[3]):\n",
    "    if not name.startswith('_'):\n",
    "        print(name)"
   ]
  },
  {
   "cell_type": "code",
   "execution_count": null,
   "id": "649bb126",
   "metadata": {},
   "outputs": [],
   "source": [
    "shapes[3].shapeType, shapes[3].shapeTypeName"
   ]
  },
  {
   "cell_type": "code",
   "execution_count": null,
   "id": "8efbf6a4",
   "metadata": {},
   "outputs": [],
   "source": [
    "bbox = shapes[3].bbox\n",
    "['%.3f' % coord for coord in bbox]"
   ]
  },
  {
   "cell_type": "code",
   "execution_count": null,
   "id": "5e01d100",
   "metadata": {},
   "outputs": [],
   "source": [
    "shapes[3].parts,  len(shapes[3].points)"
   ]
  },
  {
   "cell_type": "code",
   "execution_count": null,
   "id": "f305963f",
   "metadata": {},
   "outputs": [],
   "source": [
    "shape = shapes[3].points[7]\n",
    "['%.3f' % coord for coord in shape]"
   ]
  },
  {
   "cell_type": "markdown",
   "id": "96cda2dd",
   "metadata": {},
   "source": [
    "In most cases, however, if you need to do more than just type or bounds checking, you may want to convert the geometry to the more human-readable GeoJSON format, where lines and polygons are grouped for you:"
   ]
  },
  {
   "cell_type": "code",
   "execution_count": null,
   "id": "4193ba77",
   "metadata": {},
   "outputs": [],
   "source": [
    "s = sf.shape(0)\n",
    "geoj = s.__geo_interface__\n",
    "geoj[\"type\"]\n",
    "shapes.__geo_interface__['type']"
   ]
  },
  {
   "cell_type": "markdown",
   "id": "841384f7",
   "metadata": {},
   "source": [
    "## Reading Records\n",
    "A record in a shapefile contains the attributes for each shape in the collection of geometries. Records are stored in the dbf file. The link between geometry and attributes is the foundation of all geographic information systems. This critical link is implied by the order of shapes and corresponding records in the shp geometry file and the dbf attribute file.\n",
    "\n",
    "\n",
    "The field names of a shapefile are available as soon as you read a shapefile. You can call the \"fields\" attribute of the shapefile as a Python list. Each field is a Python list with the following information:\n",
    "\n",
    "- Field name: the name describing the data at this column index.\n",
    "- Field type: the type of data at this column index. Types can be:\n",
    "    - \"C\": Characters, text.\n",
    "    - \"N\": Numbers, with or without decimals.\n",
    "    - \"F\": Floats (same as \"N\").\n",
    "    - \"L\": Logical, for boolean True/False values.\n",
    "    - \"D\": Dates.\n",
    "    - \"M\": Memo, has no meaning within a GIS and is part of the xbase spec instead.\n",
    "- Field length: the length of the data found at this column index. Older GIS software may truncate this length to 8 or 11 characters for \"Character\" fields.\n",
    "- Decimal length: the number of decimal places found in \"Number\" fields.\n",
    "\n",
    "To see the fields for the Reader object above (sf) call the \"fields\" attribute:"
   ]
  },
  {
   "cell_type": "code",
   "execution_count": null,
   "id": "fe6c8619",
   "metadata": {},
   "outputs": [],
   "source": [
    "fields = sf.fields\n",
    "fields"
   ]
  },
  {
   "cell_type": "code",
   "execution_count": null,
   "id": "a8cd184a",
   "metadata": {},
   "outputs": [],
   "source": [
    "import pandas as pd\n",
    "import numpy as np\n",
    "# sf = shapefile.Reader(\"../data/raw/shape/taxi_zones.shp\")\n",
    "fields_name = [field[0] for field in sf.fields[1:]]\n",
    "shp_dic = dict(zip(fields_name, list(range(len(fields_name)))))\n",
    "attributes = sf.records()\n",
    "shp_attr = [dict(zip(fields_name, attr)) for attr in attributes]\n",
    "\n",
    "def get_lat_lon(sf):\n",
    "    content = []\n",
    "    for sr in sf.shapeRecords():\n",
    "        shape = sr.shape\n",
    "        rec = sr.record\n",
    "        loc_id = rec[shp_dic['LocationID']]\n",
    "        \n",
    "        x = (shape.bbox[0]+shape.bbox[2])/2\n",
    "        y = (shape.bbox[1]+shape.bbox[3])/2\n",
    "        \n",
    "        content.append((loc_id, x, y))\n",
    "    return pd.DataFrame(content, columns=[\"LocationID\", \"longitude\", \"latitude\"])\n",
    "\n",
    "df_loc = pd.DataFrame(shp_attr).join(get_lat_lon(sf).set_index(\"LocationID\"), on=\"LocationID\")\n",
    "df_loc"
   ]
  },
  {
   "cell_type": "code",
   "execution_count": null,
   "id": "54a743e6",
   "metadata": {},
   "outputs": [],
   "source": [
    "import matplotlib as mpl\n",
    "import matplotlib.pyplot as plt\n",
    "from shapely.geometry import Polygon\n",
    "from descartes.patch import PolygonPatch\n",
    "\n",
    "def get_boundaries(sf):\n",
    "    lat, lon = [], []\n",
    "    for shape in list(sf.iterShapes()):\n",
    "        lat.extend([shape.bbox[0], shape.bbox[2]])\n",
    "        lon.extend([shape.bbox[1], shape.bbox[3]])\n",
    "    margin = 0.01 # buffer to add to the range\n",
    "    lat_min = min(lat) - margin\n",
    "    lat_max = max(lat) + margin\n",
    "    lon_min = min(lon) - margin\n",
    "    lon_max = max(lon) + margin\n",
    "    return lat_min, lat_max, lon_min, lon_max\n",
    "\n",
    "def draw_zone_map(ax, sf, heat={}, text=[], arrows=[]):\n",
    "    continent = [235/256, 151/256, 78/256]\n",
    "    ocean = (89/256, 171/256, 227/256)\n",
    "    theta = np.linspace(0, 2*np.pi, len(text)+1).tolist()\n",
    "    ax.set_facecolor(ocean)\n",
    "    # colorbar\n",
    "    if len(heat) != 0:\n",
    "        norm = mpl.colors.Normalize(vmin=min(heat.values()),vmax=max(heat.values())) #norm = mpl.colors.LogNorm(vmin=1,vmax=max(heat))\n",
    "        cm=plt.get_cmap('Reds')\n",
    "        sm = plt.cm.ScalarMappable(cmap=cm, norm=norm)\n",
    "        sm.set_array([])\n",
    "        plt.colorbar(sm, ticks=np.linspace(min(heat.values()),max(heat.values()),8),\n",
    "                     boundaries=np.arange(min(heat.values())-10,max(heat.values())+10,.1))\n",
    "    \n",
    "    for sr in sf.shapeRecords():\n",
    "        shape = sr.shape\n",
    "        rec = sr.record\n",
    "        loc_id = rec[shp_dic['LocationID']]\n",
    "        zone = rec[shp_dic['zone']]\n",
    "        \n",
    "        if len(heat) == 0:\n",
    "            col = continent\n",
    "        else:\n",
    "            if loc_id not in heat:\n",
    "                R,G,B,A = cm(norm(0))\n",
    "            else:\n",
    "                R,G,B,A = cm(norm(heat[loc_id]))\n",
    "            col = [R,G,B]\n",
    "\n",
    "        # check number of parts (could use MultiPolygon class of shapely?)\n",
    "        nparts = len(shape.parts) # total parts\n",
    "        if nparts == 1:\n",
    "            polygon = Polygon(shape.points)\n",
    "            patch = PolygonPatch(polygon, facecolor=col, alpha=1.0, zorder=2)\n",
    "            ax.add_patch(patch)\n",
    "        else: # loop over parts of each shape, plot separately\n",
    "            for ip in range(nparts): # loop over parts, plot separately\n",
    "                i0 = shape.parts[ip]\n",
    "                if ip < nparts-1:\n",
    "                    i1 = shape.parts[ip+1]-1\n",
    "                else:\n",
    "                    i1 = len(shape.points)\n",
    "\n",
    "                polygon = Polygon(shape.points[i0:i1+1])\n",
    "                patch = PolygonPatch(polygon, facecolor=col, alpha=1.0, zorder=2)\n",
    "                ax.add_patch(patch)\n",
    "        \n",
    "        x = (shape.bbox[0]+shape.bbox[2])/2\n",
    "        y = (shape.bbox[1]+shape.bbox[3])/2\n",
    "        if (len(text) == 0 and rec[shp_dic['Shape_Area']] > 0.0001):\n",
    "            plt.text(x, y, str(loc_id), horizontalalignment='center', verticalalignment='center')            \n",
    "        elif len(text) != 0 and loc_id in text:\n",
    "            #plt.text(x+0.01, y-0.01, str(loc_id), fontsize=12, color=\"white\", bbox=dict(facecolor='black', alpha=0.5))\n",
    "            eta_x = 0.05*np.cos(theta[text.index(loc_id)])\n",
    "            eta_y = 0.05*np.sin(theta[text.index(loc_id)])\n",
    "            ax.annotate(\"[{}] {}\".format(loc_id, zone), xy=(x, y), xytext=(x+eta_x, y+eta_y),\n",
    "                        bbox=dict(facecolor='black', alpha=0.5), color=\"white\", fontsize=12,\n",
    "                        arrowprops=dict(facecolor='black', width=3, shrink=0.05))\n",
    "    if len(arrows)!=0:\n",
    "        for arr in arrows:\n",
    "            ax.annotate('', xy = arr['dest'], xytext = arr['src'], size = arr['cnt'],\n",
    "                    arrowprops=dict(arrowstyle=\"fancy\", fc=\"0.6\", ec=\"none\"))\n",
    "    \n",
    "    # display\n",
    "    limits = get_boundaries(sf)\n",
    "    plt.xlim(limits[0], limits[1])\n",
    "    plt.ylim(limits[2], limits[3])\n",
    "\n",
    "def draw_region_map(ax, sf, heat={}):\n",
    "    continent = [235/256, 151/256, 78/256]\n",
    "    ocean = (89/256, 171/256, 227/256)    \n",
    "    \n",
    "    reg_list={'Staten Island':1, 'Queens':2, 'Bronx':3, 'Manhattan':4, 'EWR':5, 'Brooklyn':6}\n",
    "    reg_x = {'Staten Island':[], 'Queens':[], 'Bronx':[], 'Manhattan':[], 'EWR':[], 'Brooklyn':[]}\n",
    "    reg_y = {'Staten Island':[], 'Queens':[], 'Bronx':[], 'Manhattan':[], 'EWR':[], 'Brooklyn':[]}\n",
    "    \n",
    "    # colorbar\n",
    "    if len(heat) != 0:\n",
    "        norm = mpl.colors.Normalize(vmin=math.sqrt(min(heat.values())), vmax=math.sqrt(max(heat.values()))) #norm = mpl.colors.LogNorm(vmin=1,vmax=max(heat))\n",
    "        cm=plt.get_cmap('Reds')\n",
    "    \n",
    "    ax.set_facecolor(ocean)\n",
    "    for sr in sf.shapeRecords():\n",
    "        shape = sr.shape\n",
    "        rec = sr.record\n",
    "        reg_name = rec[shp_dic['borough']]\n",
    "        \n",
    "        if len(heat) == 0:\n",
    "            norm = mpl.colors.Normalize(vmin=1,vmax=6) #norm = mpl.colors.LogNorm(vmin=1,vmax=max(heat))\n",
    "            cm=plt.get_cmap('Pastel1')\n",
    "            R,G,B,A = cm(norm(reg_list[reg_name]))\n",
    "            col = [R,G,B]\n",
    "        else:\n",
    "            R,G,B,A = cm(norm(math.sqrt(heat[reg_name])))\n",
    "            col = [R,G,B]\n",
    "            \n",
    "        # check number of parts (could use MultiPolygon class of shapely?)\n",
    "        nparts = len(shape.parts) # total parts\n",
    "        if nparts == 1:\n",
    "            polygon = Polygon(shape.points)\n",
    "            patch = PolygonPatch(polygon, facecolor=col, alpha=1.0, zorder=2)\n",
    "            ax.add_patch(patch)\n",
    "        else: # loop over parts of each shape, plot separately\n",
    "            for ip in range(nparts): # loop over parts, plot separately\n",
    "                i0 = shape.parts[ip]\n",
    "                if ip < nparts-1:\n",
    "                    i1 = shape.parts[ip+1]-1\n",
    "                else:\n",
    "                    i1 = len(shape.points)\n",
    "\n",
    "                polygon = Polygon(shape.points[i0:i1+1])\n",
    "                patch = PolygonPatch(polygon, facecolor=col, alpha=1.0, zorder=2)\n",
    "                ax.add_patch(patch)\n",
    "                \n",
    "        reg_x[reg_name].append((shape.bbox[0]+shape.bbox[2])/2)\n",
    "        reg_y[reg_name].append((shape.bbox[1]+shape.bbox[3])/2)\n",
    "        \n",
    "    for k in reg_list:\n",
    "        if len(heat)==0:\n",
    "            plt.text(np.mean(reg_x[k]), np.mean(reg_y[k]), k, horizontalalignment='center', verticalalignment='center',\n",
    "                        bbox=dict(facecolor='black', alpha=0.5), color=\"white\", fontsize=12)     \n",
    "        else:\n",
    "            plt.text(np.mean(reg_x[k]), np.mean(reg_y[k]), \"{}\\n({}K)\".format(k, heat[k]/1000), horizontalalignment='center', \n",
    "                     verticalalignment='center',bbox=dict(facecolor='black', alpha=0.5), color=\"white\", fontsize=12)       \n",
    "\n",
    "    # display\n",
    "    limits = get_boundaries(sf)\n",
    "    plt.xlim(limits[0], limits[1])\n",
    "    plt.ylim(limits[2], limits[3])\n",
    "\n",
    "fig, ax = plt.subplots(nrows=1, ncols=2, figsize=(15,8))\n",
    "ax = plt.subplot(1, 2, 1)\n",
    "ax.set_title(\"Boroughs in NYC\")\n",
    "draw_region_map(ax, sf)\n",
    "ax = plt.subplot(1, 2, 2)\n",
    "ax.set_title(\"Zones in NYC\")\n",
    "draw_zone_map(ax, sf)"
   ]
  }
 ],
 "metadata": {
  "kernelspec": {
   "display_name": "rs",
   "language": "python",
   "name": "rs"
  },
  "language_info": {
   "codemirror_mode": {
    "name": "ipython",
    "version": 3
   },
   "file_extension": ".py",
   "mimetype": "text/x-python",
   "name": "python",
   "nbconvert_exporter": "python",
   "pygments_lexer": "ipython3"
  }
 },
 "nbformat": 4,
 "nbformat_minor": 5
}
