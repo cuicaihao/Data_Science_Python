{
 "cells": [
  {
   "cell_type": "markdown",
   "metadata": {},
   "source": [
    "# Binary Indexed Tree or Fenwick Tree\n",
    "\n",
    "[Source: Binary Indexed Tree or Fenwick Tree](https://www.geeksforgeeks.org/binary-indexed-tree-or-fenwick-tree-2/)"
   ]
  },
  {
   "cell_type": "markdown",
   "metadata": {},
   "source": [
    "Let us consider the following problem to understand Binary Indexed Tree.\n",
    "We have an array `arr[0 . . . n-1]`. We would like to\n",
    "1 Compute the sum of the first i elements.\n",
    "2 Modify the value of a specified element of the `array arr[i] = x` where `0 <= i <= n-1`.\n",
    "\n",
    "A simple solution is to run a loop from 0 to i-1 and calculate the sum of the elements. To update a value, simply do `arr[i] = x`. The first operation takes `O(n)` time and the second operation takes `O(1)` time. Another simple solution is to create an extra array and store the sum of the first i-th elements at the i-th index in this new array. The sum of a given range can now be calculated in O(1) time, but the update operation takes `O(n)` time now. This works well if there are a large number of query operations but a very few number of update operations.\n",
    "\n",
    "**Could we perform both the query and update operations in `O(log n)` time?**\n",
    "\n",
    "One efficient solution is to use Segment Tree that performs both operations in O(Logn) time.\n",
    "\n",
    "An alternative solution is Binary Indexed Tree, which also achieves `O(Logn)` time complexity for both operations. Compared with Segment Tree, Binary Indexed Tree requires less space and is easier to implement.."
   ]
  }
 ],
 "metadata": {
  "language_info": {
   "codemirror_mode": {
    "name": "ipython",
    "version": 3
   },
   "file_extension": ".py",
   "mimetype": "text/x-python",
   "name": "python",
   "nbconvert_exporter": "python",
   "pygments_lexer": "ipython3"
  }
 },
 "nbformat": 4,
 "nbformat_minor": 2
}
