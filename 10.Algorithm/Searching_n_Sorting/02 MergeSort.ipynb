{
 "cells": [
  {
   "cell_type": "markdown",
   "metadata": {},
   "source": [
    "# Merge Sort\n",
    "\n",
    "Like QuickSort, Merge Sort is a Divide and Conquer algorithm. It divides input array in two halves, calls itself for the two halves and then merges the two sorted halves. The merge() function is used for merging two halves. The merge(arr, l, m, r) is key process that assumes that `arr[l..m]` and `arr[m+1..r]` are sorted and merges the two sorted sub-arrays into one. See following C implementation for details.\n",
    "\n",
    "```bash\n",
    "MergeSort(arr[], l,  r)\n",
    "If r > l\n",
    "     1. Find the middle point to divide the array into two halves:  \n",
    "             middle m = (l+r)/2\n",
    "     2. Call mergeSort for first half:   \n",
    "             Call mergeSort(arr, l, m)\n",
    "     3. Call mergeSort for second half:\n",
    "             Call mergeSort(arr, m+1, r)\n",
    "     4. Merge the two halves sorted in step 2 and 3:\n",
    "             Call merge(arr, l, m, r)\n",
    "```           "
   ]
  },
  {
   "cell_type": "markdown",
   "metadata": {},
   "source": [
    "The following diagram from wikipedia shows the complete merge sort process for an example array {38, 27, 43, 3, 9, 82, 10}. If we take a closer look at the diagram, we can see that the array is recursively divided in two halves till the size becomes 1. Once the size becomes 1, the merge processes comes into action and starts merging arrays back till the complete array is merged.\n",
    "\n",
    "<img src= https://upload.wikimedia.org/wikipedia/commons/e/e6/Merge_sort_algorithm_diagram.svg\n",
    "     alt=\"wikipedia merge sort\"\n",
    "     style=\"width:400px\" />"
   ]
  },
  {
   "cell_type": "code",
   "execution_count": 2,
   "metadata": {
    "ExecuteTime": {
     "end_time": "2020-07-20T04:31:22.423749Z",
     "start_time": "2020-07-20T04:31:22.418438Z"
    }
   },
   "outputs": [],
   "source": [
    "# Python program for implementation of MergeSort \n",
    "def mergeSort(arr): \n",
    "    if len(arr) >1: \n",
    "        mid = len(arr)//2 # Finding the mid of the array \n",
    "        L = arr[:mid] # Dividing the array elements  \n",
    "        R = arr[mid:] # into 2 halves \n",
    "          \n",
    "        L = mergeSort(L) # Sorting the first half \n",
    "        R = mergeSort(R) # Sorting the second half \n",
    "  \n",
    "        i = j = k = 0\n",
    "        # Copy data to temp arrays L[] and R[] \n",
    "        while i < len(L) and j < len(R): \n",
    "            if L[i] < R[j]: \n",
    "                arr[k] = L[i] \n",
    "                i += 1\n",
    "            else: \n",
    "                arr[k] = R[j] \n",
    "                j += 1\n",
    "            k += 1\n",
    "\n",
    "        # Checking if any element was left \n",
    "        while i < len(L): \n",
    "            arr[k] = L[i] \n",
    "            i+= 1\n",
    "            k+= 1\n",
    "        while j < len(R): \n",
    "            arr[k] = R[j] \n",
    "            j+= 1\n",
    "            k+= 1\n",
    "    return arr"
   ]
  },
  {
   "cell_type": "code",
   "execution_count": 3,
   "metadata": {
    "ExecuteTime": {
     "end_time": "2020-07-20T04:31:23.008861Z",
     "start_time": "2020-07-20T04:31:23.005639Z"
    }
   },
   "outputs": [
    {
     "name": "stdout",
     "output_type": "stream",
     "text": [
      "Given array is : [38, 27, 43, 3, 9, 82, 10]\n",
      "Sorted array is: [3, 9, 10, 27, 38, 43, 82]\n"
     ]
    }
   ],
   "source": [
    " # driver code to test the above code \n",
    "if __name__ == '__main__': \n",
    "    arr = [38, 27, 43, 3, 9, 82, 10]  \n",
    "    print(f\"Given array is : {arr}\")  \n",
    "  \n",
    "    arr = mergeSort(arr) \n",
    "    print(f\"Sorted array is: {arr}\") \n",
    " "
   ]
  },
  {
   "cell_type": "code",
   "execution_count": 4,
   "metadata": {
    "ExecuteTime": {
     "end_time": "2020-07-20T04:31:23.737332Z",
     "start_time": "2020-07-20T04:31:23.730753Z"
    }
   },
   "outputs": [
    {
     "name": "stdout",
     "output_type": "stream",
     "text": [
      "Given array is : [38, 27, 43, 3, 9, 82, 10, 10, 10]\n",
      "Sorted array is: [3, 9, 10, 10, 10, 27, 38, 43, 82]\n"
     ]
    }
   ],
   "source": [
    "# Python program for implementation of \n",
    "# MergeSort (Alternative) \n",
    "\n",
    "# Using Lists as Stacks \n",
    "\n",
    "def merge_sort(values): \n",
    "    if len(values)>1: \n",
    "        m     = len(values)//2\n",
    "        left  = values[:m] \n",
    "        right = values[m:] \n",
    "        \n",
    "        left  = merge_sort(left) \n",
    "        right = merge_sort(right) \n",
    "        \n",
    "        # Copy data to values from arrays L[] and R[] \n",
    "        values =[] \n",
    "        while len(left)>0 and len(right)>0: \n",
    "            if left[0]<right[0]: \n",
    "                values.append(left[0]) \n",
    "                left.pop(0) \n",
    "            else: \n",
    "                values.append(right[0]) \n",
    "                right.pop(0) \n",
    "                \n",
    "        # add the rest   \n",
    "        for item in left: \n",
    "            values.append(item) \n",
    "        for item in right: \n",
    "            values.append(item) \n",
    "                  \n",
    "    return values \n",
    "  \n",
    "\n",
    "arr = [38, 27, 43, 3, 9, 82, 10, 10, 10]  \n",
    "print(f\"Given array is : {arr}\")  \n",
    "\n",
    "arr = mergeSort(arr) \n",
    "print(f\"Sorted array is: {arr}\") "
   ]
  },
  {
   "cell_type": "markdown",
   "metadata": {},
   "source": [
    "## Time Complexity: \n",
    "\n",
    "Sorting arrays on different machines. Merge Sort is a recursive algorithm and time complexity can be expressed as following recurrence relation.\n",
    "\n",
    "$T(n) = 2T(n/2) + \\Theta(n)$\n",
    "\n",
    "The above recurrence can be solved either using Recurrence Tree method or Master method. \n",
    "\n",
    "It falls in case II of Master Method and solution of the recurrence is $\\Theta(nLogn)$.\n",
    "\n",
    "Time complexity of Merge Sort is $\\Theta(nLogn)$ in all 3 cases (worst, average and best) as merge sort always divides the array into two halves and take linear time to merge two halves.\n",
    "\n",
    "- Auxiliary Space: O(n)\n",
    "- Algorithmic Paradigm: Divide and Conquer\n",
    "- Sorting In Place: No in a typical implementation\n",
    "- Stable: Yes"
   ]
  },
  {
   "cell_type": "code",
   "execution_count": null,
   "metadata": {},
   "outputs": [],
   "source": []
  }
 ],
 "metadata": {
  "kernelspec": {
   "display_name": "Python 3",
   "language": "python",
   "name": "python3"
  },
  "language_info": {
   "codemirror_mode": {
    "name": "ipython",
    "version": 3
   },
   "file_extension": ".py",
   "mimetype": "text/x-python",
   "name": "python",
   "nbconvert_exporter": "python",
   "pygments_lexer": "ipython3",
   "version": "3.7.6"
  },
  "varInspector": {
   "cols": {
    "lenName": 16,
    "lenType": 16,
    "lenVar": 40
   },
   "kernels_config": {
    "python": {
     "delete_cmd_postfix": "",
     "delete_cmd_prefix": "del ",
     "library": "var_list.py",
     "varRefreshCmd": "print(var_dic_list())"
    },
    "r": {
     "delete_cmd_postfix": ") ",
     "delete_cmd_prefix": "rm(",
     "library": "var_list.r",
     "varRefreshCmd": "cat(var_dic_list()) "
    }
   },
   "types_to_exclude": [
    "module",
    "function",
    "builtin_function_or_method",
    "instance",
    "_Feature"
   ],
   "window_display": false
  }
 },
 "nbformat": 4,
 "nbformat_minor": 4
}
