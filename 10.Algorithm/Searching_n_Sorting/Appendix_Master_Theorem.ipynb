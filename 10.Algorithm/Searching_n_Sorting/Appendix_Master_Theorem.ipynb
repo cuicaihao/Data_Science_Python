{
 "cells": [
  {
   "cell_type": "markdown",
   "metadata": {},
   "source": [
    "# Master theorem (analysis of algorithms)\n",
    "\n",
    "In the analysis of algorithms, the master theorem for divide-and-conquer recurrences provides an asymptotic analysis (using Big O notation) for recurrence relations of types that occur in the analysis of many divide and conquer algorithms. \n",
    "\n",
    "The approach was first presented by Jon Bentley, Dorothea Haken, and James B. Saxe in 1980, where it was described as a \"unifying method\" for solving such recurrences. The name \"master theorem\" was popularized by the widely used algorithms textbook Introduction to Algorithms by Cormen, Leiserson, Rivest, and Stein.\n",
    "\n",
    "<img src = https://images-na.ssl-images-amazon.com/images/I/61uRpcdPhNL.jpg style=\"width:400px\" />\n",
    "\n",
    "\n",
    "Not all recurrence relations can be solved with the use of this theorem; its generalizations include the Akra–Bazzi method."
   ]
  },
  {
   "cell_type": "markdown",
   "metadata": {},
   "source": [
    "##  Introduction\n",
    "\n",
    "Consider a problem that can be solved using a recursive algorithm such as the following:\n",
    "\n",
    "```bash\n",
    "procedure p( input x of size n ):\n",
    "    if n < some constant k:\n",
    "        Solve x directly without recursion\n",
    "    else:\n",
    "        Create a subproblems of x, each having size n/b\n",
    "        Call procedure p recursively on each subproblem\n",
    "        Combine the results from the subproblems\n",
    "```\n",
    "\n",
    "The above algorithm divides the problem into a number of subproblems recursively, each subproblem being of size n/b. \n",
    "\n",
    "Its solution tree has a node for each recursive call, with the children of that node being the other calls made from that call. The leaves of the tree are the base cases of the recursion, the subproblems (of size less than k) that do not recurse. \n",
    "\n",
    "\n",
    "<img src=https://upload.wikimedia.org/wikipedia/commons/thumb/1/1a/Recursive_problem_solving.svg/1920px-Recursive_problem_solving.svg.png style=\"width:400px\" alt = \"solution tree\"/>\n",
    "\n",
    "The above example would have a child nodes at each non-leaf node. Each node does an amount of work that corresponds to the size of the sub problem n passed to that instance of the recursive call and given by $f(n)$. \n",
    "\n",
    "The total amount of work done by the entire algorithm is the sum of the work performed by all the nodes in the tree.\n",
    "\n",
    "The runtime of an algorithm such as the 'p' above on an input of size 'n', usually denoted $T(n)$, can be expressed by the recurrence relation\n",
    "\n",
    "${\\displaystyle T(n)=a\\;T\\left({\\frac {n}{b}}\\right)+f(n),}$\n",
    "\n",
    "where ${\\displaystyle f(n)}$ is the time to create the subproblems and combine their results in the above procedure. \n",
    "\n",
    "This equation can be successively substituted into itself and expanded to obtain an expression for the total amount of work done.\n",
    "\n",
    "\n",
    "The master theorem allows many recurrence relations of this form to be converted to **Big O notation** directly, without doing an expansion of the recursive relation."
   ]
  },
  {
   "cell_type": "markdown",
   "metadata": {},
   "source": [
    "## Generic form\n",
    "\n",
    "Here $n$ is the size of an input problem, $a$ is the number of subproblems in the recursion, and $b$ is the factor by which the subproblem size is reduced in each recursive call. \n",
    "\n",
    "The theorem below also assumes that, as a base case for the recurrence, ${\\displaystyle T(n)=\\Theta(1)}$ when ${\\displaystyle n}$ is less than some bound ${\\displaystyle \\kappa >0}$, the smallest input size that will lead to a recursive call.\n",
    "\n",
    "Recurrences of this form often satisfy one of the three following regimes, based on how the work to split/recombine the problem $f(n)$ relates to the critical exponent ${\\displaystyle c_{\\operatorname {crit} }=\\log _{b}a}$. \n",
    "\n",
    "\\[\n",
    "c_{crit} = log(#subproblems) / log(#relative subproblem size)\n",
    "\\]\n"
   ]
  },
  {
   "cell_type": "markdown",
   "metadata": {},
   "source": [
    "### Case 1 \n",
    "Description: Work to split/recombine a problem is dwarfed by subproblems.\n",
    "i.e. the recursion tree is leaf-heavy\n",
    "\n",
    "Condition on $f(n)$ in relation to $c_{crit}$, i.e. $\\log _{b}a$: \n",
    "When $f(n)=O(n^{c})$ \n",
    "\n",
    "where $c<c_{ crit}$ (upper-bounded by a lesser exponent polynomial)\n",
    "\n",
    "**Master Theorem bound**:\n",
    "then $T(n)=\\Theta  \\left(n^{c_{\\operatorname {crit} }}\\right)$ \n",
    "(The splitting term does not appear; the recursive tree structure dominates.)\n",
    "\n",
    "\n",
    "**Example**: \n",
    "\n",
    "$T(n)=8T\\left({\\frac {n}{2}}\\right)+1000n^{2}$\n",
    "\n",
    "As one can see from the formula above:\n",
    "\n",
    "$a=8,\\,b=2,\\,f(n)=1000n^{2}$, so\n",
    "$f(n) = O\\left(n^c\\right)$, where $c=2$\n",
    "Next, we see if we satisfy the case 1 condition:\n",
    "\n",
    "$\\log _{b}a=\\log _{2}8=3>c$.\n",
    "It follows from the first case of the master theorem that\n",
    "\n",
    "$T(n) = \\Theta\\left( n^{\\log_b a} \\right) = \\Theta\\left( n^{3} \\right)$.\n"
   ]
  },
  {
   "cell_type": "markdown",
   "metadata": {},
   "source": [
    "### Case 2 \n",
    "Work to split/recombine a problem is comparable to subproblems.\n",
    "\n",
    "Condition on $f(n)$ in relation to $c_{crit}$, i.e. $\\log _{b}a$: \n",
    " \n",
    "When $f(n)=\\Theta (n^{c_{crit}} \\log^{k}n)$ \n",
    "\n",
    "for any  $k\\geq 0$ (rangebound by the critical-exponent polynomial, times zero or more optional $\\log$ s)\n",
    "\n",
    "\n",
    "**Master Theorem bound**:\n",
    "then $T(n)=\\Theta  (n^{c_{crit}} \\log^{k+1}n)$ \n",
    "(The bound is the splitting term, where the log is augmented by a single power.)\n",
    "\n",
    "**Example**:  \n",
    "\n",
    "$T(n)=2T\\left(\\frac{n}{2}\\right)+10n$\n",
    "\n",
    "As we can see in the formula above the variables get the following values:\n",
    "\n",
    "$a=2, b=2, f(n)=10n$,  \n",
    "\n",
    "$f(n) = \\Theta\\left(n^c log^k n\\right)$, where $c=1, k=0$\n",
    "Next, we see if we satisfy the case 2 condition:\n",
    "\n",
    "$\\log _{b}a=\\log _{2}2=1 = c$.\n",
    "\n",
    "It follows from the second case of the master theorem that\n",
    "\n",
    "$T(n) = \\Theta\\left( n^{\\log_b a} log^{k+1} n\\right) = \\Theta\\left( n\\log n\\right)$.\n"
   ]
  },
  {
   "cell_type": "markdown",
   "metadata": {},
   "source": [
    "### Case 3\n",
    "\n",
    "Work to split/recombine a problem dominates subproblems.\n",
    "i.e. the recursion tree is root-heavy.\n",
    "\n",
    "When $f(n)=\\Omega (n^{c})$ \n",
    "\n",
    "where $c>c_{\\operatorname {crit} }$\n",
    "(lower-bounded by a greater-exponent polynomial)\n",
    "\n",
    "**Master Theorem bound**:\n",
    " \n",
    "this doesn't necessarily yield anything. \n",
    "\n",
    "If it is furthermore known that\n",
    "$a f\\left({\\frac {n}{b}}\\right)\\leq kf(n)$ for some constant $k<1$ and sufficiently large $n$ (often called the regularity condition)\n",
    "then the total is dominated by the splitting term $f(n)$:\n",
    "\n",
    "$T\\left(n\\right)=\\Theta \\left(f(n)\\right)$\n",
    "\n",
    "\n",
    "**Example**: \n",
    "\n",
    "$T(n)=2T\\left(\\frac{n}{2}\\right)+ n^2$\n",
    "\n",
    "As we can see in the formula above the variables get the following values:\n",
    "\n",
    "$a=2, b=2, f(n)=n^2$,  \n",
    "\n",
    "$f(n) = \\Omega\\left(n^c \\right)$, where $c=2$\n",
    "Next, we see if we satisfy the case 3 condition:\n",
    "\n",
    "$\\log _{b}a=\\log _{2}2=1 < c = 2$.\n",
    "\n",
    "The regularity condition also holds:\n",
    " \n",
    "\n",
    "$2\\left({\\frac {n^{2}}{4}}\\right)\\leq kn^{2}$, choosing $k=1/2$\n",
    "\n",
    "It follows from the third case of the master theorem that\n",
    "\n",
    "$T(n) = \\Theta\\left(f(n) \\right) = \\Theta\\left( n^2\\right)$.\n"
   ]
  }
 ],
 "metadata": {
  "kernelspec": {
   "display_name": "Python 3",
   "language": "python",
   "name": "python3"
  },
  "language_info": {
   "codemirror_mode": {
    "name": "ipython",
    "version": 3
   },
   "file_extension": ".py",
   "mimetype": "text/x-python",
   "name": "python",
   "nbconvert_exporter": "python",
   "pygments_lexer": "ipython3"
  },
  "varInspector": {
   "cols": {
    "lenName": 16,
    "lenType": 16,
    "lenVar": 40
   },
   "kernels_config": {
    "python": {
     "delete_cmd_postfix": "",
     "delete_cmd_prefix": "del ",
     "library": "var_list.py",
     "varRefreshCmd": "print(var_dic_list())"
    },
    "r": {
     "delete_cmd_postfix": ") ",
     "delete_cmd_prefix": "rm(",
     "library": "var_list.r",
     "varRefreshCmd": "cat(var_dic_list()) "
    }
   },
   "types_to_exclude": [
    "module",
    "function",
    "builtin_function_or_method",
    "instance",
    "_Feature"
   ],
   "window_display": false
  }
 },
 "nbformat": 4,
 "nbformat_minor": 4
}
